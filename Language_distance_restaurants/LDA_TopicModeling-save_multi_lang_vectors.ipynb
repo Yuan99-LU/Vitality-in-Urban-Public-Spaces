{
 "cells": [
  {
   "cell_type": "code",
   "execution_count": 1,
   "metadata": {},
   "outputs": [],
   "source": [
    "from sklearn.feature_extraction.text import TfidfVectorizer, CountVectorizer\n",
    "from sklearn.decomposition import NMF, LatentDirichletAllocation\n",
    "import pyLDAvis\n",
    "import pyLDAvis.sklearn\n",
    "import pyLDAvis.gensim\n",
    "import numpy as np\n",
    "from datetime import datetime, date, time\n",
    "import csv\n",
    "import sys\n",
    "import importlib\n",
    "import pandas as pd"
   ]
  },
  {
   "cell_type": "code",
   "execution_count": null,
   "metadata": {},
   "outputs": [],
   "source": []
  },
  {
   "cell_type": "code",
   "execution_count": 2,
   "metadata": {},
   "outputs": [],
   "source": [
    "#LANGUAGE = '[English]'"
   ]
  },
  {
   "cell_type": "code",
   "execution_count": 27,
   "metadata": {},
   "outputs": [],
   "source": [
    "def tf_vctorize(n_max_features, text):\n",
    "    #n_features = 1000\n",
    "    tf_vectorizer = CountVectorizer(strip_accents = 'unicode',\n",
    "                                max_features=n_max_features,\n",
    "                                stop_words='english',\n",
    "                                max_df = 0.95,\n",
    "                                min_df = 2)\n",
    "    tf = tf_vectorizer.fit_transform(text)\n",
    "    tf_feature_names = tf_vectorizer.get_feature_names()\n",
    "    return tf, tf_vectorizer, tf_feature_names\n",
    "    \n",
    "\n",
    "def LDA_analyze(tf_vector, n_topics):\n",
    "    lda = LatentDirichletAllocation(n_topics=n_topics,doc_topic_prior =1/(n_topics*10), max_iter=50,\n",
    "                                learning_method='online',\n",
    "                                learning_offset=50.,\n",
    "                                evaluate_every = 1,\n",
    "                                random_state=0)\n",
    "    lda.fit(tf_vector)\n",
    "    print(lda)\n",
    "    return lda\n",
    "\n",
    "def tf_idf(n_max_features, text):\n",
    "    tfidf_vectorizer = TfidfVectorizer(max_df=0.95,\n",
    "                                       min_df=2,\n",
    "                                       max_features=n_max_features,\n",
    "                                       stop_words='english')\n",
    "    tfidf = tfidf_vectorizer.fit_transform(text)\n",
    "    tfidf_feature_names = tfidf_vectorizer.get_feature_names()\n",
    "    return tfidf, tfidf_feature_names\n"
   ]
  },
  {
   "cell_type": "code",
   "execution_count": 28,
   "metadata": {},
   "outputs": [],
   "source": [
    "data = pd.read_csv('all_184_rebasic_senti_analysis.csv')"
   ]
  },
  {
   "cell_type": "code",
   "execution_count": 29,
   "metadata": {},
   "outputs": [
    {
     "name": "stdout",
     "output_type": "stream",
     "text": [
      "9858\n"
     ]
    }
   ],
   "source": [
    "print(len(data))"
   ]
  },
  {
   "cell_type": "code",
   "execution_count": 30,
   "metadata": {},
   "outputs": [],
   "source": [
    "#print(data.head(5))"
   ]
  },
  {
   "cell_type": "code",
   "execution_count": 31,
   "metadata": {},
   "outputs": [],
   "source": [
    "#data = pd.read_csv('sort_by_group.csv')\n",
    "data_language = data[data['review language'] == LANGUAGE]\n",
    "text_all = data_language['eng_text'].tolist()\n",
    "\n",
    "n_max_features=3000\n",
    "n_topics = 10\n",
    "n_top_words = 10\n",
    "\n",
    "#tf_vector, tf_vectorizer, tf_feature_names = tf_vctorize(n_max_features, text_all)\n",
    "#lda = LDA_analyze(tf_vector, n_topics)"
   ]
  },
  {
   "cell_type": "code",
   "execution_count": 32,
   "metadata": {},
   "outputs": [
    {
     "name": "stdout",
     "output_type": "stream",
     "text": [
      "(3354, 3000)\n"
     ]
    }
   ],
   "source": [
    "print(tf_vector.toarray().shape)"
   ]
  },
  {
   "cell_type": "code",
   "execution_count": 33,
   "metadata": {},
   "outputs": [],
   "source": [
    "LANGUAGES = ['[Arabic]','[Chinese, (Sim.)]','[Chinese, (Trad.)]','[Danish]','[Dutch]','[English]', '[Finnish]',\n",
    "'[French]',\n",
    "'[German]',\n",
    "'[Greek]',\n",
    "'[Italian]',\n",
    "'[Japanese]',\n",
    "'[Norwegian]',\n",
    "'[Polish]',\n",
    "'[Portuguese]',\n",
    "'[Russian]',\n",
    "'[Serbian]',\n",
    "'[Spanish]',\n",
    "'[Swedish]',\n",
    "'[Turkish]',\n",
    "'[]']"
   ]
  },
  {
   "cell_type": "code",
   "execution_count": 37,
   "metadata": {},
   "outputs": [
    {
     "name": "stdout",
     "output_type": "stream",
     "text": [
      "[Arabic]\n",
      "[Chinese, (Sim.)]\n"
     ]
    },
    {
     "name": "stderr",
     "output_type": "stream",
     "text": [
      "/Library/Frameworks/Python.framework/Versions/3.6/lib/python3.6/site-packages/sklearn/decomposition/online_lda.py:314: DeprecationWarning: n_topics has been renamed to n_components in version 0.19 and will be removed in 0.21\n",
      "  DeprecationWarning)\n"
     ]
    },
    {
     "name": "stdout",
     "output_type": "stream",
     "text": [
      "LatentDirichletAllocation(batch_size=128, doc_topic_prior=0.01,\n",
      "             evaluate_every=1, learning_decay=0.7,\n",
      "             learning_method='online', learning_offset=50.0,\n",
      "             max_doc_update_iter=100, max_iter=50, mean_change_tol=0.001,\n",
      "             n_components=10, n_jobs=None, n_topics=10, perp_tol=0.1,\n",
      "             random_state=0, topic_word_prior=None,\n",
      "             total_samples=1000000.0, verbose=0)\n",
      "[Chinese, (Trad.)]\n",
      "[Danish]\n"
     ]
    },
    {
     "name": "stderr",
     "output_type": "stream",
     "text": [
      "/Library/Frameworks/Python.framework/Versions/3.6/lib/python3.6/site-packages/sklearn/decomposition/online_lda.py:314: DeprecationWarning: n_topics has been renamed to n_components in version 0.19 and will be removed in 0.21\n",
      "  DeprecationWarning)\n"
     ]
    },
    {
     "name": "stdout",
     "output_type": "stream",
     "text": [
      "LatentDirichletAllocation(batch_size=128, doc_topic_prior=0.01,\n",
      "             evaluate_every=1, learning_decay=0.7,\n",
      "             learning_method='online', learning_offset=50.0,\n",
      "             max_doc_update_iter=100, max_iter=50, mean_change_tol=0.001,\n",
      "             n_components=10, n_jobs=None, n_topics=10, perp_tol=0.1,\n",
      "             random_state=0, topic_word_prior=None,\n",
      "             total_samples=1000000.0, verbose=0)\n",
      "[Dutch]\n"
     ]
    },
    {
     "name": "stderr",
     "output_type": "stream",
     "text": [
      "/Library/Frameworks/Python.framework/Versions/3.6/lib/python3.6/site-packages/sklearn/decomposition/online_lda.py:314: DeprecationWarning: n_topics has been renamed to n_components in version 0.19 and will be removed in 0.21\n",
      "  DeprecationWarning)\n"
     ]
    },
    {
     "name": "stdout",
     "output_type": "stream",
     "text": [
      "LatentDirichletAllocation(batch_size=128, doc_topic_prior=0.01,\n",
      "             evaluate_every=1, learning_decay=0.7,\n",
      "             learning_method='online', learning_offset=50.0,\n",
      "             max_doc_update_iter=100, max_iter=50, mean_change_tol=0.001,\n",
      "             n_components=10, n_jobs=None, n_topics=10, perp_tol=0.1,\n",
      "             random_state=0, topic_word_prior=None,\n",
      "             total_samples=1000000.0, verbose=0)\n",
      "[English]\n"
     ]
    },
    {
     "name": "stderr",
     "output_type": "stream",
     "text": [
      "/Library/Frameworks/Python.framework/Versions/3.6/lib/python3.6/site-packages/sklearn/decomposition/online_lda.py:314: DeprecationWarning: n_topics has been renamed to n_components in version 0.19 and will be removed in 0.21\n",
      "  DeprecationWarning)\n"
     ]
    },
    {
     "name": "stdout",
     "output_type": "stream",
     "text": [
      "LatentDirichletAllocation(batch_size=128, doc_topic_prior=0.01,\n",
      "             evaluate_every=1, learning_decay=0.7,\n",
      "             learning_method='online', learning_offset=50.0,\n",
      "             max_doc_update_iter=100, max_iter=50, mean_change_tol=0.001,\n",
      "             n_components=10, n_jobs=None, n_topics=10, perp_tol=0.1,\n",
      "             random_state=0, topic_word_prior=None,\n",
      "             total_samples=1000000.0, verbose=0)\n",
      "[Finnish]\n",
      "LatentDirichletAllocation(batch_size=128, doc_topic_prior=0.01,\n",
      "             evaluate_every=1, learning_decay=0.7,\n",
      "             learning_method='online', learning_offset=50.0,\n",
      "             max_doc_update_iter=100, max_iter=50, mean_change_tol=0.001,\n",
      "             n_components=10, n_jobs=None, n_topics=10, perp_tol=0.1,\n",
      "             random_state=0, topic_word_prior=None,\n",
      "             total_samples=1000000.0, verbose=0)\n"
     ]
    },
    {
     "name": "stderr",
     "output_type": "stream",
     "text": [
      "/Library/Frameworks/Python.framework/Versions/3.6/lib/python3.6/site-packages/sklearn/decomposition/online_lda.py:314: DeprecationWarning: n_topics has been renamed to n_components in version 0.19 and will be removed in 0.21\n",
      "  DeprecationWarning)\n"
     ]
    },
    {
     "name": "stdout",
     "output_type": "stream",
     "text": [
      "[French]\n"
     ]
    },
    {
     "name": "stderr",
     "output_type": "stream",
     "text": [
      "/Library/Frameworks/Python.framework/Versions/3.6/lib/python3.6/site-packages/sklearn/decomposition/online_lda.py:314: DeprecationWarning: n_topics has been renamed to n_components in version 0.19 and will be removed in 0.21\n",
      "  DeprecationWarning)\n"
     ]
    },
    {
     "name": "stdout",
     "output_type": "stream",
     "text": [
      "LatentDirichletAllocation(batch_size=128, doc_topic_prior=0.01,\n",
      "             evaluate_every=1, learning_decay=0.7,\n",
      "             learning_method='online', learning_offset=50.0,\n",
      "             max_doc_update_iter=100, max_iter=50, mean_change_tol=0.001,\n",
      "             n_components=10, n_jobs=None, n_topics=10, perp_tol=0.1,\n",
      "             random_state=0, topic_word_prior=None,\n",
      "             total_samples=1000000.0, verbose=0)\n",
      "[German]\n"
     ]
    },
    {
     "name": "stderr",
     "output_type": "stream",
     "text": [
      "/Library/Frameworks/Python.framework/Versions/3.6/lib/python3.6/site-packages/sklearn/decomposition/online_lda.py:314: DeprecationWarning: n_topics has been renamed to n_components in version 0.19 and will be removed in 0.21\n",
      "  DeprecationWarning)\n"
     ]
    },
    {
     "name": "stdout",
     "output_type": "stream",
     "text": [
      "LatentDirichletAllocation(batch_size=128, doc_topic_prior=0.01,\n",
      "             evaluate_every=1, learning_decay=0.7,\n",
      "             learning_method='online', learning_offset=50.0,\n",
      "             max_doc_update_iter=100, max_iter=50, mean_change_tol=0.001,\n",
      "             n_components=10, n_jobs=None, n_topics=10, perp_tol=0.1,\n",
      "             random_state=0, topic_word_prior=None,\n",
      "             total_samples=1000000.0, verbose=0)\n",
      "[Greek]\n",
      "[Italian]\n"
     ]
    },
    {
     "name": "stderr",
     "output_type": "stream",
     "text": [
      "/Library/Frameworks/Python.framework/Versions/3.6/lib/python3.6/site-packages/sklearn/decomposition/online_lda.py:314: DeprecationWarning: n_topics has been renamed to n_components in version 0.19 and will be removed in 0.21\n",
      "  DeprecationWarning)\n"
     ]
    },
    {
     "name": "stdout",
     "output_type": "stream",
     "text": [
      "LatentDirichletAllocation(batch_size=128, doc_topic_prior=0.01,\n",
      "             evaluate_every=1, learning_decay=0.7,\n",
      "             learning_method='online', learning_offset=50.0,\n",
      "             max_doc_update_iter=100, max_iter=50, mean_change_tol=0.001,\n",
      "             n_components=10, n_jobs=None, n_topics=10, perp_tol=0.1,\n",
      "             random_state=0, topic_word_prior=None,\n",
      "             total_samples=1000000.0, verbose=0)\n",
      "[Japanese]\n"
     ]
    },
    {
     "name": "stderr",
     "output_type": "stream",
     "text": [
      "/Library/Frameworks/Python.framework/Versions/3.6/lib/python3.6/site-packages/sklearn/decomposition/online_lda.py:314: DeprecationWarning: n_topics has been renamed to n_components in version 0.19 and will be removed in 0.21\n",
      "  DeprecationWarning)\n"
     ]
    },
    {
     "name": "stdout",
     "output_type": "stream",
     "text": [
      "LatentDirichletAllocation(batch_size=128, doc_topic_prior=0.01,\n",
      "             evaluate_every=1, learning_decay=0.7,\n",
      "             learning_method='online', learning_offset=50.0,\n",
      "             max_doc_update_iter=100, max_iter=50, mean_change_tol=0.001,\n",
      "             n_components=10, n_jobs=None, n_topics=10, perp_tol=0.1,\n",
      "             random_state=0, topic_word_prior=None,\n",
      "             total_samples=1000000.0, verbose=0)\n",
      "[Norwegian]\n"
     ]
    },
    {
     "name": "stderr",
     "output_type": "stream",
     "text": [
      "/Library/Frameworks/Python.framework/Versions/3.6/lib/python3.6/site-packages/sklearn/decomposition/online_lda.py:314: DeprecationWarning: n_topics has been renamed to n_components in version 0.19 and will be removed in 0.21\n",
      "  DeprecationWarning)\n"
     ]
    },
    {
     "name": "stdout",
     "output_type": "stream",
     "text": [
      "LatentDirichletAllocation(batch_size=128, doc_topic_prior=0.01,\n",
      "             evaluate_every=1, learning_decay=0.7,\n",
      "             learning_method='online', learning_offset=50.0,\n",
      "             max_doc_update_iter=100, max_iter=50, mean_change_tol=0.001,\n",
      "             n_components=10, n_jobs=None, n_topics=10, perp_tol=0.1,\n",
      "             random_state=0, topic_word_prior=None,\n",
      "             total_samples=1000000.0, verbose=0)\n",
      "[Polish]\n",
      "LatentDirichletAllocation(batch_size=128, doc_topic_prior=0.01,\n",
      "             evaluate_every=1, learning_decay=0.7,\n",
      "             learning_method='online', learning_offset=50.0,\n",
      "             max_doc_update_iter=100, max_iter=50, mean_change_tol=0.001,\n",
      "             n_components=10, n_jobs=None, n_topics=10, perp_tol=0.1,\n",
      "             random_state=0, topic_word_prior=None,\n",
      "             total_samples=1000000.0, verbose=0)\n"
     ]
    },
    {
     "name": "stderr",
     "output_type": "stream",
     "text": [
      "/Library/Frameworks/Python.framework/Versions/3.6/lib/python3.6/site-packages/sklearn/decomposition/online_lda.py:314: DeprecationWarning: n_topics has been renamed to n_components in version 0.19 and will be removed in 0.21\n",
      "  DeprecationWarning)\n"
     ]
    },
    {
     "name": "stdout",
     "output_type": "stream",
     "text": [
      "[Portuguese]\n"
     ]
    },
    {
     "name": "stderr",
     "output_type": "stream",
     "text": [
      "/Library/Frameworks/Python.framework/Versions/3.6/lib/python3.6/site-packages/sklearn/decomposition/online_lda.py:314: DeprecationWarning: n_topics has been renamed to n_components in version 0.19 and will be removed in 0.21\n",
      "  DeprecationWarning)\n"
     ]
    },
    {
     "name": "stdout",
     "output_type": "stream",
     "text": [
      "LatentDirichletAllocation(batch_size=128, doc_topic_prior=0.01,\n",
      "             evaluate_every=1, learning_decay=0.7,\n",
      "             learning_method='online', learning_offset=50.0,\n",
      "             max_doc_update_iter=100, max_iter=50, mean_change_tol=0.001,\n",
      "             n_components=10, n_jobs=None, n_topics=10, perp_tol=0.1,\n",
      "             random_state=0, topic_word_prior=None,\n",
      "             total_samples=1000000.0, verbose=0)\n",
      "[Russian]\n"
     ]
    },
    {
     "name": "stderr",
     "output_type": "stream",
     "text": [
      "/Library/Frameworks/Python.framework/Versions/3.6/lib/python3.6/site-packages/sklearn/decomposition/online_lda.py:314: DeprecationWarning: n_topics has been renamed to n_components in version 0.19 and will be removed in 0.21\n",
      "  DeprecationWarning)\n"
     ]
    },
    {
     "name": "stdout",
     "output_type": "stream",
     "text": [
      "LatentDirichletAllocation(batch_size=128, doc_topic_prior=0.01,\n",
      "             evaluate_every=1, learning_decay=0.7,\n",
      "             learning_method='online', learning_offset=50.0,\n",
      "             max_doc_update_iter=100, max_iter=50, mean_change_tol=0.001,\n",
      "             n_components=10, n_jobs=None, n_topics=10, perp_tol=0.1,\n",
      "             random_state=0, topic_word_prior=None,\n",
      "             total_samples=1000000.0, verbose=0)\n",
      "[Serbian]\n",
      "[Spanish]\n"
     ]
    },
    {
     "name": "stderr",
     "output_type": "stream",
     "text": [
      "/Library/Frameworks/Python.framework/Versions/3.6/lib/python3.6/site-packages/sklearn/decomposition/online_lda.py:314: DeprecationWarning: n_topics has been renamed to n_components in version 0.19 and will be removed in 0.21\n",
      "  DeprecationWarning)\n"
     ]
    },
    {
     "name": "stdout",
     "output_type": "stream",
     "text": [
      "LatentDirichletAllocation(batch_size=128, doc_topic_prior=0.01,\n",
      "             evaluate_every=1, learning_decay=0.7,\n",
      "             learning_method='online', learning_offset=50.0,\n",
      "             max_doc_update_iter=100, max_iter=50, mean_change_tol=0.001,\n",
      "             n_components=10, n_jobs=None, n_topics=10, perp_tol=0.1,\n",
      "             random_state=0, topic_word_prior=None,\n",
      "             total_samples=1000000.0, verbose=0)\n",
      "[Swedish]\n"
     ]
    },
    {
     "name": "stderr",
     "output_type": "stream",
     "text": [
      "/Library/Frameworks/Python.framework/Versions/3.6/lib/python3.6/site-packages/sklearn/decomposition/online_lda.py:314: DeprecationWarning: n_topics has been renamed to n_components in version 0.19 and will be removed in 0.21\n",
      "  DeprecationWarning)\n"
     ]
    },
    {
     "name": "stdout",
     "output_type": "stream",
     "text": [
      "LatentDirichletAllocation(batch_size=128, doc_topic_prior=0.01,\n",
      "             evaluate_every=1, learning_decay=0.7,\n",
      "             learning_method='online', learning_offset=50.0,\n",
      "             max_doc_update_iter=100, max_iter=50, mean_change_tol=0.001,\n",
      "             n_components=10, n_jobs=None, n_topics=10, perp_tol=0.1,\n",
      "             random_state=0, topic_word_prior=None,\n",
      "             total_samples=1000000.0, verbose=0)\n",
      "[Turkish]\n",
      "LatentDirichletAllocation(batch_size=128, doc_topic_prior=0.01,\n",
      "             evaluate_every=1, learning_decay=0.7,\n",
      "             learning_method='online', learning_offset=50.0,\n",
      "             max_doc_update_iter=100, max_iter=50, mean_change_tol=0.001,\n",
      "             n_components=10, n_jobs=None, n_topics=10, perp_tol=0.1,\n",
      "             random_state=0, topic_word_prior=None,\n",
      "             total_samples=1000000.0, verbose=0)\n"
     ]
    },
    {
     "name": "stderr",
     "output_type": "stream",
     "text": [
      "/Library/Frameworks/Python.framework/Versions/3.6/lib/python3.6/site-packages/sklearn/decomposition/online_lda.py:314: DeprecationWarning: n_topics has been renamed to n_components in version 0.19 and will be removed in 0.21\n",
      "  DeprecationWarning)\n"
     ]
    },
    {
     "name": "stdout",
     "output_type": "stream",
     "text": [
      "[]\n"
     ]
    }
   ],
   "source": [
    "for lang in LANGUAGES:\n",
    "    print(lang)\n",
    "    #print(data['string'].head(1))\n",
    "    data_language = data[data['review language'] == lang]\n",
    "    text_all = data_language['eng_text'].tolist()\n",
    "    N_length = len(text_all)\n",
    "    if(N_length >= 5):\n",
    "    \n",
    "        \n",
    "        tf_vector, tf_vectorizer, tf_feature_names = tf_vctorize(n_max_features, text_all)\n",
    "        lda = LDA_analyze(tf_vector, n_topics)\n",
    "        #tf_feature_names_array = np.array(tf_feature_names)\n",
    "        '''\n",
    "        MyFile=open(\"LDA_by_languages/restaurants_before_/output_\"+ lang + \"_orgi_lda_feature_names\"  +'.csv', 'w')\n",
    "\n",
    "        for element in tf_feature_names:\n",
    "            MyFile.write(element)\n",
    "            MyFile.write(',')\n",
    "        MyFile.write('\\n')\n",
    "\n",
    "        for feature_list in lda.components_:\n",
    "            for elem in feature_list:\n",
    "                MyFile.write(str(elem))\n",
    "                MyFile.write(',')\n",
    "            MyFile.write('\\n')\n",
    "\n",
    "        MyFile.close()\n",
    "        '''\n",
    "  \n",
    "        lda_prepared = pyLDAvis.sklearn.prepare(lda, tf_vector, tf_vectorizer)\n",
    "\n",
    "        N=0\n",
    "        for i in lda_prepared[0:3]:\n",
    "            #i.shape()\n",
    "            #print(i)\n",
    "            N+=1\n",
    "            i.to_csv(\"LDA_by_languages/restaurants_lda_after_pyLDAvis/output_\"+ lang+ \"_\" + str(N) +'.csv')\n",
    "    "
   ]
  },
  {
   "cell_type": "code",
   "execution_count": 8,
   "metadata": {},
   "outputs": [
    {
     "name": "stdout",
     "output_type": "stream",
     "text": [
      "\n",
      "Note: if you're in the IPython notebook, pyLDAvis.show() is not the best command\n",
      "      to use. Consider using pyLDAvis.display(), or pyLDAvis.enable_notebook().\n",
      "      See more information at http://pyLDAvis.github.io/quickstart.html .\n",
      "\n",
      "You must interrupt the kernel to end this command\n",
      "\n",
      "Serving to http://127.0.0.1:8891/    [Ctrl-C to exit]\n"
     ]
    },
    {
     "name": "stderr",
     "output_type": "stream",
     "text": [
      "127.0.0.1 - - [03/Jun/2019 02:12:04] \"GET / HTTP/1.1\" 200 -\n",
      "127.0.0.1 - - [03/Jun/2019 02:12:04] \"GET /LDAvis.css HTTP/1.1\" 200 -\n",
      "127.0.0.1 - - [03/Jun/2019 02:12:04] \"GET /d3.js HTTP/1.1\" 200 -\n",
      "127.0.0.1 - - [03/Jun/2019 02:12:04] \"GET /LDAvis.js HTTP/1.1\" 200 -\n",
      "127.0.0.1 - - [03/Jun/2019 02:12:04] code 404, message Not Found\n",
      "127.0.0.1 - - [03/Jun/2019 02:12:04] \"GET /favicon.ico HTTP/1.1\" 404 -\n"
     ]
    },
    {
     "name": "stdout",
     "output_type": "stream",
     "text": [
      "\n",
      "stopping Server...\n"
     ]
    }
   ],
   "source": [
    "tfidf, tfidf_feature_names = tf_idf(n_max_features, text_all)\n",
    "pyLDAvis.enable_notebook()\n",
    "lda_prepared = pyLDAvis.sklearn.prepare(lda, tf_vector, tf_vectorizer,R=20)\n",
    "pyLDAvis.show(lda_prepared)"
   ]
  },
  {
   "cell_type": "code",
   "execution_count": null,
   "metadata": {},
   "outputs": [],
   "source": []
  },
  {
   "cell_type": "code",
   "execution_count": null,
   "metadata": {},
   "outputs": [],
   "source": []
  }
 ],
 "metadata": {
  "kernelspec": {
   "display_name": "Python 3",
   "language": "python",
   "name": "python3"
  },
  "language_info": {
   "codemirror_mode": {
    "name": "ipython",
    "version": 3
   },
   "file_extension": ".py",
   "mimetype": "text/x-python",
   "name": "python",
   "nbconvert_exporter": "python",
   "pygments_lexer": "ipython3",
   "version": "3.6.6"
  }
 },
 "nbformat": 4,
 "nbformat_minor": 2
}
