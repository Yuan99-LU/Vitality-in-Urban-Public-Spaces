{
 "cells": [
  {
   "cell_type": "code",
   "execution_count": null,
   "metadata": {},
   "outputs": [],
   "source": [
    "restaurants_lda_after_pyLDAvis"
   ]
  },
  {
   "cell_type": "code",
   "execution_count": 1,
   "metadata": {},
   "outputs": [],
   "source": [
    "import pandas as pd\n",
    "import os"
   ]
  },
  {
   "cell_type": "code",
   "execution_count": 2,
   "metadata": {},
   "outputs": [],
   "source": [
    "LANGUAGES = ['[Arabic]','[Chinese, (Sim.)]','[Chinese, (Trad.)]','[Danish]','[Dutch]','[English]', '[Finnish]',\n",
    "'[French]',\n",
    "'[German]',\n",
    "'[Greek]',\n",
    "'[Italian]',\n",
    "'[Japanese]',\n",
    "'[Norwegian]',\n",
    "'[Polish]',\n",
    "'[Portuguese]',\n",
    "'[Russian]',\n",
    "'[Serbian]',\n",
    "'[Spanish]',\n",
    "'[Swedish]',\n",
    "'[Turkish]',\n",
    "'[]']"
   ]
  },
  {
   "cell_type": "code",
   "execution_count": 3,
   "metadata": {},
   "outputs": [],
   "source": [
    "filenames = os.listdir('LDA_by_languages/restaurants_lda_after_pyLDAvis')"
   ]
  },
  {
   "cell_type": "code",
   "execution_count": 4,
   "metadata": {},
   "outputs": [
    {
     "name": "stdout",
     "output_type": "stream",
     "text": [
      "['output_[Polish]_3.csv', 'output_[Polish]_2.csv', 'output_[Portuguese]_1.csv', 'output_[Portuguese]_3.csv', 'output_[Portuguese]_2.csv', 'output_[Polish]_1.csv', 'output_[Chinese, (Sim.)]_2.csv', 'output_[Russian]_1.csv', 'output_[Chinese, (Sim.)]_3.csv', 'output_[Chinese, (Sim.)]_1.csv', 'output_[Russian]_2.csv', 'output_[Russian]_3.csv', 'output_[Turkish]_2.csv', 'output_[Japanese]_2.csv', 'output_[Japanese]_3.csv', 'output_[Dutch]_1.csv', 'output_[Turkish]_3.csv', 'output_[Turkish]_1.csv', 'output_[Dutch]_3.csv', 'output_[Japanese]_1.csv', 'output_[Dutch]_2.csv', 'output_[Norwegian]_1.csv', 'output_[Italian]_1.csv', 'output_[Italian]_3.csv', 'output_[Norwegian]_2.csv', 'output_[Norwegian]_3.csv', 'output_[Italian]_2.csv', 'output_[Danish]_2.csv', 'output_[Swedish]_1.csv', 'output_[Spanish]_3.csv', 'output_[Spanish]_2.csv', 'output_[Danish]_3.csv', 'output_[Danish]_1.csv', 'output_[Swedish]_2.csv', 'output_[Spanish]_1.csv', 'output_[Swedish]_3.csv', 'output_[French]_1.csv', 'output_[Finnish]_1.csv', 'output_[Finnish]_3.csv', 'output_[French]_3.csv', 'output_[French]_2.csv', 'output_[Finnish]_2.csv', 'output_[German]_2.csv', 'output_[English]_3.csv', 'output_[English]_2.csv', 'output_[German]_3.csv', 'output_[German]_1.csv', 'output_[English]_1.csv']\n"
     ]
    }
   ],
   "source": [
    "print(filenames)"
   ]
  },
  {
   "cell_type": "code",
   "execution_count": 5,
   "metadata": {},
   "outputs": [
    {
     "name": "stdout",
     "output_type": "stream",
     "text": [
      "output_[Arabic]_2.csv\n",
      "output_[Chinese, (Sim.)]_2.csv\n",
      "output_[Chinese, (Trad.)]_2.csv\n",
      "output_[Danish]_2.csv\n",
      "output_[Dutch]_2.csv\n",
      "output_[English]_2.csv\n",
      "output_[Finnish]_2.csv\n",
      "output_[French]_2.csv\n",
      "output_[German]_2.csv\n",
      "output_[Greek]_2.csv\n",
      "output_[Italian]_2.csv\n",
      "output_[Japanese]_2.csv\n",
      "output_[Norwegian]_2.csv\n",
      "output_[Polish]_2.csv\n",
      "output_[Portuguese]_2.csv\n",
      "output_[Russian]_2.csv\n",
      "output_[Serbian]_2.csv\n",
      "output_[Spanish]_2.csv\n",
      "output_[Swedish]_2.csv\n",
      "output_[Turkish]_2.csv\n",
      "output_[]_2.csv\n",
      "output_[Arabic]_2.csv\n",
      "output_[Chinese, (Sim.)]_2.csv\n",
      "output_[Chinese, (Trad.)]_2.csv\n",
      "output_[Danish]_2.csv\n",
      "output_[Dutch]_2.csv\n",
      "output_[English]_2.csv\n",
      "output_[Finnish]_2.csv\n",
      "output_[French]_2.csv\n",
      "output_[German]_2.csv\n",
      "output_[Greek]_2.csv\n",
      "output_[Italian]_2.csv\n",
      "output_[Japanese]_2.csv\n",
      "output_[Norwegian]_2.csv\n",
      "output_[Polish]_2.csv\n",
      "output_[Portuguese]_2.csv\n",
      "output_[Russian]_2.csv\n",
      "output_[Serbian]_2.csv\n",
      "output_[Spanish]_2.csv\n",
      "output_[Swedish]_2.csv\n",
      "output_[Turkish]_2.csv\n",
      "output_[]_2.csv\n",
      "output_[Arabic]_2.csv\n",
      "output_[Chinese, (Sim.)]_2.csv\n",
      "output_[Chinese, (Trad.)]_2.csv\n",
      "output_[Danish]_2.csv\n",
      "output_[Dutch]_2.csv\n",
      "output_[English]_2.csv\n",
      "output_[Finnish]_2.csv\n",
      "output_[French]_2.csv\n",
      "output_[German]_2.csv\n",
      "output_[Greek]_2.csv\n",
      "output_[Italian]_2.csv\n",
      "output_[Japanese]_2.csv\n",
      "output_[Norwegian]_2.csv\n",
      "output_[Polish]_2.csv\n",
      "output_[Portuguese]_2.csv\n",
      "output_[Russian]_2.csv\n",
      "output_[Serbian]_2.csv\n",
      "output_[Spanish]_2.csv\n",
      "output_[Swedish]_2.csv\n",
      "output_[Turkish]_2.csv\n",
      "output_[]_2.csv\n"
     ]
    },
    {
     "ename": "FileNotFoundError",
     "evalue": "[Errno 2] No such file or directory: 'top20_each_month_features_all_top3_topics/Topic_all_top3_features.csv'",
     "output_type": "error",
     "traceback": [
      "\u001b[0;31m---------------------------------------------------------------------------\u001b[0m",
      "\u001b[0;31mFileNotFoundError\u001b[0m                         Traceback (most recent call last)",
      "\u001b[0;32m<ipython-input-5-4d4994bb98dc>\u001b[0m in \u001b[0;36m<module>\u001b[0;34m()\u001b[0m\n\u001b[1;32m     15\u001b[0m \u001b[0mfeatures\u001b[0m \u001b[0;34m=\u001b[0m \u001b[0mpd\u001b[0m\u001b[0;34m.\u001b[0m\u001b[0mconcat\u001b[0m\u001b[0;34m(\u001b[0m\u001b[0mfeatures_pre\u001b[0m\u001b[0;34m)\u001b[0m\u001b[0;34m.\u001b[0m\u001b[0mdrop_duplicates\u001b[0m\u001b[0;34m(\u001b[0m\u001b[0;34m)\u001b[0m\u001b[0;34m.\u001b[0m\u001b[0mreset_index\u001b[0m\u001b[0;34m(\u001b[0m\u001b[0mdrop\u001b[0m\u001b[0;34m=\u001b[0m\u001b[0;32mTrue\u001b[0m\u001b[0;34m)\u001b[0m\u001b[0;34m\u001b[0m\u001b[0m\n\u001b[1;32m     16\u001b[0m \u001b[0;31m#print(features)\u001b[0m\u001b[0;34m\u001b[0m\u001b[0;34m\u001b[0m\u001b[0m\n\u001b[0;32m---> 17\u001b[0;31m \u001b[0mfeatures\u001b[0m\u001b[0;34m.\u001b[0m\u001b[0mto_csv\u001b[0m\u001b[0;34m(\u001b[0m\u001b[0;34m'top20_each_month_features_all_top3_topics/Topic_'\u001b[0m\u001b[0;34m+\u001b[0m\u001b[0;34m'all_top3'\u001b[0m\u001b[0;34m+\u001b[0m\u001b[0;34m'_features.csv'\u001b[0m\u001b[0;34m)\u001b[0m\u001b[0;34m\u001b[0m\u001b[0m\n\u001b[0m\u001b[1;32m     18\u001b[0m \u001b[0;34m\u001b[0m\u001b[0m\n",
      "\u001b[0;32m/Library/Frameworks/Python.framework/Versions/3.6/lib/python3.6/site-packages/pandas/core/series.py\u001b[0m in \u001b[0;36mto_csv\u001b[0;34m(self, path, index, sep, na_rep, float_format, header, index_label, mode, encoding, date_format, decimal)\u001b[0m\n\u001b[1;32m   2686\u001b[0m                            \u001b[0mindex_label\u001b[0m\u001b[0;34m=\u001b[0m\u001b[0mindex_label\u001b[0m\u001b[0;34m,\u001b[0m \u001b[0mmode\u001b[0m\u001b[0;34m=\u001b[0m\u001b[0mmode\u001b[0m\u001b[0;34m,\u001b[0m\u001b[0;34m\u001b[0m\u001b[0m\n\u001b[1;32m   2687\u001b[0m                            \u001b[0mencoding\u001b[0m\u001b[0;34m=\u001b[0m\u001b[0mencoding\u001b[0m\u001b[0;34m,\u001b[0m \u001b[0mdate_format\u001b[0m\u001b[0;34m=\u001b[0m\u001b[0mdate_format\u001b[0m\u001b[0;34m,\u001b[0m\u001b[0;34m\u001b[0m\u001b[0m\n\u001b[0;32m-> 2688\u001b[0;31m                            decimal=decimal)\n\u001b[0m\u001b[1;32m   2689\u001b[0m         \u001b[0;32mif\u001b[0m \u001b[0mpath\u001b[0m \u001b[0;32mis\u001b[0m \u001b[0;32mNone\u001b[0m\u001b[0;34m:\u001b[0m\u001b[0;34m\u001b[0m\u001b[0m\n\u001b[1;32m   2690\u001b[0m             \u001b[0;32mreturn\u001b[0m \u001b[0mresult\u001b[0m\u001b[0;34m\u001b[0m\u001b[0m\n",
      "\u001b[0;32m/Library/Frameworks/Python.framework/Versions/3.6/lib/python3.6/site-packages/pandas/core/frame.py\u001b[0m in \u001b[0;36mto_csv\u001b[0;34m(self, path_or_buf, sep, na_rep, float_format, columns, header, index, index_label, mode, encoding, compression, quoting, quotechar, line_terminator, chunksize, tupleize_cols, date_format, doublequote, escapechar, decimal)\u001b[0m\n\u001b[1;32m   1401\u001b[0m                                      \u001b[0mdoublequote\u001b[0m\u001b[0;34m=\u001b[0m\u001b[0mdoublequote\u001b[0m\u001b[0;34m,\u001b[0m\u001b[0;34m\u001b[0m\u001b[0m\n\u001b[1;32m   1402\u001b[0m                                      escapechar=escapechar, decimal=decimal)\n\u001b[0;32m-> 1403\u001b[0;31m         \u001b[0mformatter\u001b[0m\u001b[0;34m.\u001b[0m\u001b[0msave\u001b[0m\u001b[0;34m(\u001b[0m\u001b[0;34m)\u001b[0m\u001b[0;34m\u001b[0m\u001b[0m\n\u001b[0m\u001b[1;32m   1404\u001b[0m \u001b[0;34m\u001b[0m\u001b[0m\n\u001b[1;32m   1405\u001b[0m         \u001b[0;32mif\u001b[0m \u001b[0mpath_or_buf\u001b[0m \u001b[0;32mis\u001b[0m \u001b[0;32mNone\u001b[0m\u001b[0;34m:\u001b[0m\u001b[0;34m\u001b[0m\u001b[0m\n",
      "\u001b[0;32m/Library/Frameworks/Python.framework/Versions/3.6/lib/python3.6/site-packages/pandas/io/formats/format.py\u001b[0m in \u001b[0;36msave\u001b[0;34m(self)\u001b[0m\n\u001b[1;32m   1575\u001b[0m             f, handles = _get_handle(self.path_or_buf, self.mode,\n\u001b[1;32m   1576\u001b[0m                                      \u001b[0mencoding\u001b[0m\u001b[0;34m=\u001b[0m\u001b[0mself\u001b[0m\u001b[0;34m.\u001b[0m\u001b[0mencoding\u001b[0m\u001b[0;34m,\u001b[0m\u001b[0;34m\u001b[0m\u001b[0m\n\u001b[0;32m-> 1577\u001b[0;31m                                      compression=self.compression)\n\u001b[0m\u001b[1;32m   1578\u001b[0m             \u001b[0mclose\u001b[0m \u001b[0;34m=\u001b[0m \u001b[0;32mTrue\u001b[0m\u001b[0;34m\u001b[0m\u001b[0m\n\u001b[1;32m   1579\u001b[0m \u001b[0;34m\u001b[0m\u001b[0m\n",
      "\u001b[0;32m/Library/Frameworks/Python.framework/Versions/3.6/lib/python3.6/site-packages/pandas/io/common.py\u001b[0m in \u001b[0;36m_get_handle\u001b[0;34m(path_or_buf, mode, encoding, compression, memory_map, is_text)\u001b[0m\n\u001b[1;32m    383\u001b[0m         \u001b[0;32melif\u001b[0m \u001b[0mis_text\u001b[0m\u001b[0;34m:\u001b[0m\u001b[0;34m\u001b[0m\u001b[0m\n\u001b[1;32m    384\u001b[0m             \u001b[0;31m# Python 3 and no explicit encoding\u001b[0m\u001b[0;34m\u001b[0m\u001b[0;34m\u001b[0m\u001b[0m\n\u001b[0;32m--> 385\u001b[0;31m             \u001b[0mf\u001b[0m \u001b[0;34m=\u001b[0m \u001b[0mopen\u001b[0m\u001b[0;34m(\u001b[0m\u001b[0mpath_or_buf\u001b[0m\u001b[0;34m,\u001b[0m \u001b[0mmode\u001b[0m\u001b[0;34m,\u001b[0m \u001b[0merrors\u001b[0m\u001b[0;34m=\u001b[0m\u001b[0;34m'replace'\u001b[0m\u001b[0;34m)\u001b[0m\u001b[0;34m\u001b[0m\u001b[0m\n\u001b[0m\u001b[1;32m    386\u001b[0m         \u001b[0;32melse\u001b[0m\u001b[0;34m:\u001b[0m\u001b[0;34m\u001b[0m\u001b[0m\n\u001b[1;32m    387\u001b[0m             \u001b[0;31m# Python 3 and binary mode\u001b[0m\u001b[0;34m\u001b[0m\u001b[0;34m\u001b[0m\u001b[0m\n",
      "\u001b[0;31mFileNotFoundError\u001b[0m: [Errno 2] No such file or directory: 'top20_each_month_features_all_top3_topics/Topic_all_top3_features.csv'"
     ]
    }
   ],
   "source": [
    "N1 = 1\n",
    "N2 = 2\n",
    "\n",
    "features_pre = []\n",
    "for N in range(1, 6):  \n",
    "    for lang in LANGUAGES:\n",
    "        file_name = 'output_'+lang+'_'+str(N2)+\".csv\"\n",
    "        print(file_name)\n",
    "        if file_name in filenames:\n",
    "            data2 = pd.read_csv('LDA_by_languages/restaurants_lda_after_pyLDAvis/output_'+lang+'_'+str(N2)+\".csv\")\n",
    "            data2 = data2[data2['Category']=='Topic'+str(N)][0:20]\n",
    "            #data2 = data2.reset_index(drop = True, inplace = True)\n",
    "            features_pre.append(data2['Term'])\n",
    "        #print(features_pre)\n",
    "features = pd.concat(features_pre).drop_duplicates().reset_index(drop=True)\n",
    "#print(features)\n",
    "features.to_csv('top20_each_language_features_all_top5_topics/Topic_'+'all_top5'+'_features.csv')\n",
    "   "
   ]
  },
  {
   "cell_type": "code",
   "execution_count": null,
   "metadata": {},
   "outputs": [],
   "source": []
  },
  {
   "cell_type": "code",
   "execution_count": 6,
   "metadata": {},
   "outputs": [],
   "source": [
    "features.to_csv('top20_each_language_features_all_top5_topics/Topic_'+'all_top5'+'_features.csv')"
   ]
  },
  {
   "cell_type": "code",
   "execution_count": null,
   "metadata": {},
   "outputs": [],
   "source": []
  }
 ],
 "metadata": {
  "kernelspec": {
   "display_name": "Python 3",
   "language": "python",
   "name": "python3"
  },
  "language_info": {
   "codemirror_mode": {
    "name": "ipython",
    "version": 3
   },
   "file_extension": ".py",
   "mimetype": "text/x-python",
   "name": "python",
   "nbconvert_exporter": "python",
   "pygments_lexer": "ipython3",
   "version": "3.6.6"
  }
 },
 "nbformat": 4,
 "nbformat_minor": 2
}
