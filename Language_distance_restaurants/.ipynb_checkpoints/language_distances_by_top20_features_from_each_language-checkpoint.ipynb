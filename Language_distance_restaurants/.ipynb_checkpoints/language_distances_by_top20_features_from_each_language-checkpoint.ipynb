{
 "cells": [
  {
   "cell_type": "code",
   "execution_count": 1,
   "metadata": {},
   "outputs": [],
   "source": [
    "import pandas as pd"
   ]
  },
  {
   "cell_type": "code",
   "execution_count": 2,
   "metadata": {},
   "outputs": [],
   "source": [
    "N = 1"
   ]
  },
  {
   "cell_type": "code",
   "execution_count": 4,
   "metadata": {},
   "outputs": [],
   "source": [
    "data = pd.read_csv('vectors_topic_by_languages_top20_features_each_language_all_top5_topics/vectors_topic_'+\n",
    "                           str(N)+'_by_languages.csv')"
   ]
  },
  {
   "cell_type": "code",
   "execution_count": 6,
   "metadata": {},
   "outputs": [],
   "source": [
    "#print(data)"
   ]
  },
  {
   "cell_type": "code",
   "execution_count": 7,
   "metadata": {},
   "outputs": [],
   "source": [
    "import numpy as np"
   ]
  },
  {
   "cell_type": "code",
   "execution_count": 8,
   "metadata": {},
   "outputs": [
    {
     "name": "stdout",
     "output_type": "stream",
     "text": [
      "Index(['Unnamed: 0', 'index_original', 'features', '[Chinese, (Sim.)]_Freq',\n",
      "       '[Danish]_Freq', '[Dutch]_Freq', '[English]_Freq', '[Finnish]_Freq',\n",
      "       '[French]_Freq', '[German]_Freq', '[Italian]_Freq', '[Japanese]_Freq',\n",
      "       '[Norwegian]_Freq', '[Polish]_Freq', '[Portuguese]_Freq',\n",
      "       '[Russian]_Freq', '[Spanish]_Freq', '[Swedish]_Freq', '[Turkish]_Freq'],\n",
      "      dtype='object')\n"
     ]
    }
   ],
   "source": [
    "print(data.columns)"
   ]
  },
  {
   "cell_type": "code",
   "execution_count": 14,
   "metadata": {},
   "outputs": [],
   "source": [
    "languages = data.columns.tolist()[3:]"
   ]
  },
  {
   "cell_type": "code",
   "execution_count": 21,
   "metadata": {},
   "outputs": [
    {
     "name": "stdout",
     "output_type": "stream",
     "text": [
      "['[Chinese, (Sim.)]_Freq', '[Danish]_Freq', '[Dutch]_Freq', '[English]_Freq', '[Finnish]_Freq', '[French]_Freq', '[German]_Freq', '[Italian]_Freq', '[Japanese]_Freq', '[Norwegian]_Freq', '[Polish]_Freq', '[Portuguese]_Freq', '[Russian]_Freq', '[Spanish]_Freq', '[Swedish]_Freq', '[Turkish]_Freq']\n"
     ]
    }
   ],
   "source": [
    "print(languages)"
   ]
  },
  {
   "cell_type": "code",
   "execution_count": 15,
   "metadata": {},
   "outputs": [],
   "source": [
    "Chinese_Freq = np.array(data['[Chinese, (Sim.)]_Freq'])"
   ]
  },
  {
   "cell_type": "code",
   "execution_count": 16,
   "metadata": {},
   "outputs": [],
   "source": [
    "#print(Chinese_Freq)"
   ]
  },
  {
   "cell_type": "code",
   "execution_count": 17,
   "metadata": {},
   "outputs": [],
   "source": [
    "def cos_similar(a,b):  \n",
    "# manually compute cosine similarity\n",
    "    dot = np.dot(a, b)\n",
    "    norma = np.linalg.norm(a)\n",
    "    normb = np.linalg.norm(b)\n",
    "    cos = dot / (norma * normb)\n",
    "    \n",
    "    return cos"
   ]
  },
  {
   "cell_type": "code",
   "execution_count": 29,
   "metadata": {},
   "outputs": [
    {
     "name": "stdout",
     "output_type": "stream",
     "text": [
      "[Chinese, (Sim.)]_Freq vs [Chinese, (Sim.)]_Freq\n",
      "1.0\n",
      "[Chinese, (Sim.)]_Freq vs [Danish]_Freq\n",
      "0.0\n",
      "[Chinese, (Sim.)]_Freq vs [Dutch]_Freq\n",
      "0.03418559364298467\n",
      "[Chinese, (Sim.)]_Freq vs [English]_Freq\n",
      "0.0\n",
      "[Chinese, (Sim.)]_Freq vs [Finnish]_Freq\n",
      "0.0\n",
      "[Chinese, (Sim.)]_Freq vs [French]_Freq\n",
      "0.10308182893962681\n",
      "[Chinese, (Sim.)]_Freq vs [German]_Freq\n",
      "0.0\n",
      "[Chinese, (Sim.)]_Freq vs [Italian]_Freq\n",
      "0.1069652031291912\n",
      "[Chinese, (Sim.)]_Freq vs [Japanese]_Freq\n",
      "0.11756247295794844\n",
      "[Chinese, (Sim.)]_Freq vs [Norwegian]_Freq\n",
      "0.011531512151587646\n",
      "[Chinese, (Sim.)]_Freq vs [Polish]_Freq\n",
      "0.029976327085715408\n",
      "[Chinese, (Sim.)]_Freq vs [Portuguese]_Freq\n",
      "0.013944730660789285\n",
      "[Chinese, (Sim.)]_Freq vs [Russian]_Freq\n",
      "0.022652004766421385\n",
      "[Chinese, (Sim.)]_Freq vs [Spanish]_Freq\n",
      "0.0\n",
      "[Chinese, (Sim.)]_Freq vs [Swedish]_Freq\n",
      "0.0\n",
      "[Chinese, (Sim.)]_Freq vs [Turkish]_Freq\n",
      "0.10310629867020533\n",
      "[Danish]_Freq vs [Chinese, (Sim.)]_Freq\n",
      "0.0\n",
      "[Danish]_Freq vs [Danish]_Freq\n",
      "1.0\n",
      "[Danish]_Freq vs [Dutch]_Freq\n",
      "0.0\n",
      "[Danish]_Freq vs [English]_Freq\n",
      "0.535384656402497\n",
      "[Danish]_Freq vs [Finnish]_Freq\n",
      "0.3317791901553103\n",
      "[Danish]_Freq vs [French]_Freq\n",
      "0.33034919380775685\n",
      "[Danish]_Freq vs [German]_Freq\n",
      "0.011775465646767777\n",
      "[Danish]_Freq vs [Italian]_Freq\n",
      "0.3299941234261824\n",
      "[Danish]_Freq vs [Japanese]_Freq\n",
      "0.18692893703011643\n",
      "[Danish]_Freq vs [Norwegian]_Freq\n",
      "0.011043304685211312\n",
      "[Danish]_Freq vs [Polish]_Freq\n",
      "0.21448032122072516\n",
      "[Danish]_Freq vs [Portuguese]_Freq\n",
      "0.6387267490665076\n",
      "[Danish]_Freq vs [Russian]_Freq\n",
      "0.019036878083850583\n",
      "[Danish]_Freq vs [Spanish]_Freq\n",
      "0.4275290398769915\n",
      "[Danish]_Freq vs [Swedish]_Freq\n",
      "0.045800553271843784\n",
      "[Danish]_Freq vs [Turkish]_Freq\n",
      "0.03656566250101194\n",
      "[Dutch]_Freq vs [Chinese, (Sim.)]_Freq\n",
      "0.03418559364298467\n",
      "[Dutch]_Freq vs [Danish]_Freq\n",
      "0.0\n",
      "[Dutch]_Freq vs [Dutch]_Freq\n",
      "1.0000000000000002\n",
      "[Dutch]_Freq vs [English]_Freq\n",
      "0.2320319669701324\n",
      "[Dutch]_Freq vs [Finnish]_Freq\n",
      "0.3470033460557519\n",
      "[Dutch]_Freq vs [French]_Freq\n",
      "0.056445974614453186\n",
      "[Dutch]_Freq vs [German]_Freq\n",
      "0.5681298458187652\n",
      "[Dutch]_Freq vs [Italian]_Freq\n",
      "0.13306017908516218\n",
      "[Dutch]_Freq vs [Japanese]_Freq\n",
      "0.14114408601351797\n",
      "[Dutch]_Freq vs [Norwegian]_Freq\n",
      "0.28555155933473214\n",
      "[Dutch]_Freq vs [Polish]_Freq\n",
      "0.14405693644370518\n",
      "[Dutch]_Freq vs [Portuguese]_Freq\n",
      "0.10547603486971605\n",
      "[Dutch]_Freq vs [Russian]_Freq\n",
      "0.14364196629963272\n",
      "[Dutch]_Freq vs [Spanish]_Freq\n",
      "0.13067422595754188\n",
      "[Dutch]_Freq vs [Swedish]_Freq\n",
      "0.3894955690987237\n",
      "[Dutch]_Freq vs [Turkish]_Freq\n",
      "0.2915940329927118\n"
     ]
    }
   ],
   "source": [
    "for lang in languages[0:3]:\n",
    "    for lang_another in languages:\n",
    "        freq1 = np.array(data[lang])\n",
    "        freq2 = np.array(data[lang_another])\n",
    "        print('%s vs %s' %(lang, lang_another))\n",
    "        print(cos_similar(freq1, freq2))"
   ]
  },
  {
   "cell_type": "code",
   "execution_count": null,
   "metadata": {},
   "outputs": [],
   "source": [
    "Chinese_Freq = np.array(data['[Chinese, (Sim.)]_Freq'])"
   ]
  }
 ],
 "metadata": {
  "kernelspec": {
   "display_name": "Python 3",
   "language": "python",
   "name": "python3"
  },
  "language_info": {
   "codemirror_mode": {
    "name": "ipython",
    "version": 3
   },
   "file_extension": ".py",
   "mimetype": "text/x-python",
   "name": "python",
   "nbconvert_exporter": "python",
   "pygments_lexer": "ipython3",
   "version": "3.6.6"
  }
 },
 "nbformat": 4,
 "nbformat_minor": 2
}
