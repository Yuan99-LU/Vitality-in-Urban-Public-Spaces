{
 "cells": [
  {
   "cell_type": "code",
   "execution_count": 32,
   "metadata": {},
   "outputs": [],
   "source": [
    "import pandas as pd"
   ]
  },
  {
   "cell_type": "code",
   "execution_count": 33,
   "metadata": {},
   "outputs": [],
   "source": [
    "data_normalized  = pd.read_csv('normlize_exl_zero_add_sum.csv')"
   ]
  },
  {
   "cell_type": "code",
   "execution_count": 34,
   "metadata": {},
   "outputs": [],
   "source": [
    "density_building = data_normalized['bu_den_N']"
   ]
  },
  {
   "cell_type": "code",
   "execution_count": 35,
   "metadata": {},
   "outputs": [],
   "source": [
    "data_pic = pd.read_csv('trad_sum_pic.csv')"
   ]
  },
  {
   "cell_type": "code",
   "execution_count": 36,
   "metadata": {},
   "outputs": [],
   "source": [
    "#data_pic['ID_count_N'] = data_pic['ID_count_N']/3"
   ]
  },
  {
   "cell_type": "code",
   "execution_count": 37,
   "metadata": {},
   "outputs": [],
   "source": [
    "data_new = data_normalized[['fishnet-ID', 'bu_den_N']]"
   ]
  },
  {
   "cell_type": "code",
   "execution_count": 38,
   "metadata": {},
   "outputs": [
    {
     "name": "stderr",
     "output_type": "stream",
     "text": [
      "/Library/Frameworks/Python.framework/Versions/3.6/lib/python3.6/site-packages/ipykernel_launcher.py:1: SettingWithCopyWarning: \n",
      "A value is trying to be set on a copy of a slice from a DataFrame.\n",
      "Try using .loc[row_indexer,col_indexer] = value instead\n",
      "\n",
      "See the caveats in the documentation: http://pandas.pydata.org/pandas-docs/stable/indexing.html#indexing-view-versus-copy\n",
      "  \"\"\"Entry point for launching an IPython kernel.\n"
     ]
    }
   ],
   "source": [
    "data_new ['ID_count_N'] = data_pic['ID_count_N']/3"
   ]
  },
  {
   "cell_type": "code",
   "execution_count": 39,
   "metadata": {},
   "outputs": [
    {
     "data": {
      "text/plain": [
       "100         NaN\n",
       "101         NaN\n",
       "102    0.000000\n",
       "103    0.000000\n",
       "104    0.000000\n",
       "105         NaN\n",
       "106         NaN\n",
       "107         NaN\n",
       "108         NaN\n",
       "109         NaN\n",
       "110         NaN\n",
       "111         NaN\n",
       "112         NaN\n",
       "113         NaN\n",
       "114         NaN\n",
       "115         NaN\n",
       "116         NaN\n",
       "117         NaN\n",
       "118         NaN\n",
       "119         NaN\n",
       "120         NaN\n",
       "121         NaN\n",
       "122         NaN\n",
       "123         NaN\n",
       "124         NaN\n",
       "125         NaN\n",
       "126         NaN\n",
       "127         NaN\n",
       "128         NaN\n",
       "129         NaN\n",
       "         ...   \n",
       "170         NaN\n",
       "171         NaN\n",
       "172    0.001549\n",
       "173         NaN\n",
       "174    0.000000\n",
       "175    0.000000\n",
       "176         NaN\n",
       "177         NaN\n",
       "178         NaN\n",
       "179         NaN\n",
       "180    0.000000\n",
       "181         NaN\n",
       "182         NaN\n",
       "183         NaN\n",
       "184         NaN\n",
       "185         NaN\n",
       "186         NaN\n",
       "187         NaN\n",
       "188         NaN\n",
       "189         NaN\n",
       "190         NaN\n",
       "191         NaN\n",
       "192         NaN\n",
       "193         NaN\n",
       "194         NaN\n",
       "195         NaN\n",
       "196    0.001549\n",
       "197         NaN\n",
       "198         NaN\n",
       "199         NaN\n",
       "Name: ID_count_N, Length: 100, dtype: float64"
      ]
     },
     "execution_count": 39,
     "metadata": {},
     "output_type": "execute_result"
    }
   ],
   "source": [
    "data_new['ID_count_N'][100:200]"
   ]
  },
  {
   "cell_type": "code",
   "execution_count": 40,
   "metadata": {},
   "outputs": [],
   "source": [
    "data_new_20 = data_new[data_new['ID_count_N']>0.8]"
   ]
  },
  {
   "cell_type": "code",
   "execution_count": 41,
   "metadata": {},
   "outputs": [
    {
     "data": {
      "text/plain": [
       "1"
      ]
     },
     "execution_count": 41,
     "metadata": {},
     "output_type": "execute_result"
    }
   ],
   "source": [
    "len(data_new_20)"
   ]
  },
  {
   "cell_type": "code",
   "execution_count": null,
   "metadata": {},
   "outputs": [],
   "source": []
  }
 ],
 "metadata": {
  "kernelspec": {
   "display_name": "Python 3",
   "language": "python",
   "name": "python3"
  },
  "language_info": {
   "codemirror_mode": {
    "name": "ipython",
    "version": 3
   },
   "file_extension": ".py",
   "mimetype": "text/x-python",
   "name": "python",
   "nbconvert_exporter": "python",
   "pygments_lexer": "ipython3",
   "version": "3.6.6"
  }
 },
 "nbformat": 4,
 "nbformat_minor": 2
}
