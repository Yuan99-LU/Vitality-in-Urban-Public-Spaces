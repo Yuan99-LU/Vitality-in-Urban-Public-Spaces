{
 "cells": [
  {
   "cell_type": "code",
   "execution_count": 1,
   "metadata": {},
   "outputs": [],
   "source": [
    "import pandas as pd"
   ]
  },
  {
   "cell_type": "code",
   "execution_count": 2,
   "metadata": {},
   "outputs": [
    {
     "name": "stderr",
     "output_type": "stream",
     "text": [
      "/Library/Frameworks/Python.framework/Versions/3.6/lib/python3.6/site-packages/IPython/core/interactiveshell.py:2683: DtypeWarning: Columns (5,11,14,15,19,20,23,24,25,28,29,31,34,35,36,38,39,40,42,43,44,45,46,47,48,50,51,52,53,54,55,56,59,61,62,63,65,66,67,68,69,70,72,73,74,75,76,77,78,79,80,81,82,83,84,85,86,87,88,89,90,91,92,94,95,96,97,98,99,100,101,102,103,104,105,106,107,108,109,110,112,113,115,116,117,119,120,121,122,123,124,125,127,128,129,130,131,132,133,134,135,136,137,138,139,140,142,143,144,145,146,147,148,149,150,151,152,153,154) have mixed types. Specify dtype option on import or set low_memory=False.\n",
      "  interactivity=interactivity, compiler=compiler, result=result)\n"
     ]
    }
   ],
   "source": [
    "data = pd.read_csv('building-net.csv')"
   ]
  },
  {
   "cell_type": "code",
   "execution_count": 35,
   "metadata": {},
   "outputs": [
    {
     "data": {
      "text/html": [
       "<div>\n",
       "<style>\n",
       "    .dataframe thead tr:only-child th {\n",
       "        text-align: right;\n",
       "    }\n",
       "\n",
       "    .dataframe thead th {\n",
       "        text-align: left;\n",
       "    }\n",
       "\n",
       "    .dataframe tbody tr th {\n",
       "        vertical-align: top;\n",
       "    }\n",
       "</style>\n",
       "<table border=\"1\" class=\"dataframe\">\n",
       "  <thead>\n",
       "    <tr style=\"text-align: right;\">\n",
       "      <th></th>\n",
       "      <th>full_id</th>\n",
       "      <th>osm_id</th>\n",
       "      <th>osm_type</th>\n",
       "      <th>building</th>\n",
       "      <th>building_l</th>\n",
       "      <th>type</th>\n",
       "      <th>addr_city</th>\n",
       "      <th>addr_count</th>\n",
       "      <th>addr_house</th>\n",
       "      <th>addr_stree</th>\n",
       "      <th>...</th>\n",
       "      <th>construc_1</th>\n",
       "      <th>opening_da</th>\n",
       "      <th>bu-area</th>\n",
       "      <th>left</th>\n",
       "      <th>top</th>\n",
       "      <th>right</th>\n",
       "      <th>bottom</th>\n",
       "      <th>id</th>\n",
       "      <th>fishnet-area</th>\n",
       "      <th>fishnet-ID</th>\n",
       "    </tr>\n",
       "  </thead>\n",
       "  <tbody>\n",
       "    <tr>\n",
       "      <th>0</th>\n",
       "      <td>r357491</td>\n",
       "      <td>357491.0</td>\n",
       "      <td>relation</td>\n",
       "      <td>yes</td>\n",
       "      <td>4.0</td>\n",
       "      <td>multipolygon</td>\n",
       "      <td>NaN</td>\n",
       "      <td>NaN</td>\n",
       "      <td>NaN</td>\n",
       "      <td>NaN</td>\n",
       "      <td>...</td>\n",
       "      <td>NaN</td>\n",
       "      <td>NaN</td>\n",
       "      <td>13616.0</td>\n",
       "      <td>861063.075076</td>\n",
       "      <td>-3.667929e+06</td>\n",
       "      <td>861263.075076</td>\n",
       "      <td>-3.668129e+06</td>\n",
       "      <td>812</td>\n",
       "      <td>40000.026171</td>\n",
       "      <td>812</td>\n",
       "    </tr>\n",
       "    <tr>\n",
       "      <th>1</th>\n",
       "      <td>r357491</td>\n",
       "      <td>357491.0</td>\n",
       "      <td>relation</td>\n",
       "      <td>yes</td>\n",
       "      <td>4.0</td>\n",
       "      <td>multipolygon</td>\n",
       "      <td>NaN</td>\n",
       "      <td>NaN</td>\n",
       "      <td>NaN</td>\n",
       "      <td>NaN</td>\n",
       "      <td>...</td>\n",
       "      <td>NaN</td>\n",
       "      <td>NaN</td>\n",
       "      <td>13616.0</td>\n",
       "      <td>861063.075076</td>\n",
       "      <td>-3.667729e+06</td>\n",
       "      <td>861263.075076</td>\n",
       "      <td>-3.667929e+06</td>\n",
       "      <td>811</td>\n",
       "      <td>40000.007587</td>\n",
       "      <td>811</td>\n",
       "    </tr>\n",
       "  </tbody>\n",
       "</table>\n",
       "<p>2 rows × 163 columns</p>\n",
       "</div>"
      ],
      "text/plain": [
       "   full_id    osm_id  osm_type building  building_l          type addr_city  \\\n",
       "0  r357491  357491.0  relation      yes         4.0  multipolygon       NaN   \n",
       "1  r357491  357491.0  relation      yes         4.0  multipolygon       NaN   \n",
       "\n",
       "  addr_count addr_house addr_stree    ...     construc_1 opening_da  bu-area  \\\n",
       "0        NaN        NaN        NaN    ...            NaN        NaN  13616.0   \n",
       "1        NaN        NaN        NaN    ...            NaN        NaN  13616.0   \n",
       "\n",
       "            left           top          right        bottom   id  \\\n",
       "0  861063.075076 -3.667929e+06  861263.075076 -3.668129e+06  812   \n",
       "1  861063.075076 -3.667729e+06  861263.075076 -3.667929e+06  811   \n",
       "\n",
       "   fishnet-area fishnet-ID  \n",
       "0  40000.026171        812  \n",
       "1  40000.007587        811  \n",
       "\n",
       "[2 rows x 163 columns]"
      ]
     },
     "execution_count": 35,
     "metadata": {},
     "output_type": "execute_result"
    }
   ],
   "source": [
    "data.head(2)"
   ]
  },
  {
   "cell_type": "code",
   "execution_count": 36,
   "metadata": {},
   "outputs": [
    {
     "data": {
      "text/plain": [
       "(22379, 163)"
      ]
     },
     "execution_count": 36,
     "metadata": {},
     "output_type": "execute_result"
    }
   ],
   "source": [
    "data.shape"
   ]
  },
  {
   "cell_type": "code",
   "execution_count": 37,
   "metadata": {},
   "outputs": [],
   "source": [
    "#data_city_block = data[data['place']=='city_block']"
   ]
  },
  {
   "cell_type": "code",
   "execution_count": 38,
   "metadata": {},
   "outputs": [],
   "source": [
    "#data_city_block.shape"
   ]
  },
  {
   "cell_type": "code",
   "execution_count": 51,
   "metadata": {},
   "outputs": [],
   "source": [
    "data_fishnet = data.groupby(['fishnet-ID'])['building'].value_counts()"
   ]
  },
  {
   "cell_type": "code",
   "execution_count": 53,
   "metadata": {},
   "outputs": [],
   "source": [
    "#data_fishnet = data_fishnet.reset_index()"
   ]
  },
  {
   "cell_type": "code",
   "execution_count": 54,
   "metadata": {},
   "outputs": [],
   "source": [
    "#data_fishnet"
   ]
  },
  {
   "cell_type": "code",
   "execution_count": 45,
   "metadata": {},
   "outputs": [],
   "source": [
    "#data_fishnet.read_csv(\"building_type_counts.csv\")"
   ]
  },
  {
   "cell_type": "code",
   "execution_count": 41,
   "metadata": {},
   "outputs": [
    {
     "data": {
      "text/plain": [
       "fishnet-ID  building\n",
       "52          yes         1\n",
       "54          yes         2\n",
       "dtype: int64"
      ]
     },
     "execution_count": 41,
     "metadata": {},
     "output_type": "execute_result"
    }
   ],
   "source": [
    "#data_fishnet.head(2)"
   ]
  },
  {
   "cell_type": "code",
   "execution_count": 56,
   "metadata": {},
   "outputs": [],
   "source": [
    "data_building_type = pd.read_csv('building_type_counts.csv', names = ['fishnet-ID', \n",
    "                                                                      'building_type', 'builing_type_counts'])"
   ]
  },
  {
   "cell_type": "code",
   "execution_count": 65,
   "metadata": {},
   "outputs": [],
   "source": [
    "data_building_type_number = data_building_type.groupby(['fishnet-ID']).count()"
   ]
  },
  {
   "cell_type": "code",
   "execution_count": 67,
   "metadata": {},
   "outputs": [],
   "source": [
    "data_building_type_number = data_building_type_number.reset_index()"
   ]
  },
  {
   "cell_type": "code",
   "execution_count": 69,
   "metadata": {},
   "outputs": [],
   "source": [
    "data_building_type_number = data_building_type_number.drop(['builing_type_counts'], axis=1)"
   ]
  },
  {
   "cell_type": "code",
   "execution_count": 71,
   "metadata": {},
   "outputs": [],
   "source": [
    "data_building_type_number.to_csv('bulding_type_number_by_fishnet.csv')"
   ]
  },
  {
   "cell_type": "code",
   "execution_count": null,
   "metadata": {},
   "outputs": [],
   "source": []
  }
 ],
 "metadata": {
  "kernelspec": {
   "display_name": "Python 3",
   "language": "python",
   "name": "python3"
  },
  "language_info": {
   "codemirror_mode": {
    "name": "ipython",
    "version": 3
   },
   "file_extension": ".py",
   "mimetype": "text/x-python",
   "name": "python",
   "nbconvert_exporter": "python",
   "pygments_lexer": "ipython3",
   "version": "3.6.6"
  }
 },
 "nbformat": 4,
 "nbformat_minor": 2
}
