{
 "cells": [
  {
   "cell_type": "code",
   "execution_count": 9,
   "metadata": {},
   "outputs": [],
   "source": [
    "from sklearn.feature_extraction.text import TfidfVectorizer, CountVectorizer\n",
    "from sklearn.decomposition import NMF, LatentDirichletAllocation\n",
    "import pyLDAvis\n",
    "import pyLDAvis.sklearn\n",
    "import pyLDAvis.gensim\n",
    "import numpy as np\n",
    "from datetime import datetime, date, time\n",
    "import csv\n",
    "import sys\n",
    "import importlib\n",
    "import pandas as pd"
   ]
  },
  {
   "cell_type": "code",
   "execution_count": 67,
   "metadata": {},
   "outputs": [],
   "source": [
    "LANGUAGE = '[German]'"
   ]
  },
  {
   "cell_type": "code",
   "execution_count": 68,
   "metadata": {},
   "outputs": [],
   "source": [
    "def tf_vctorize(n_max_features, text):\n",
    "    #n_features = 1000\n",
    "    tf_vectorizer = CountVectorizer(strip_accents = 'unicode',\n",
    "                                max_features=n_max_features,\n",
    "                                stop_words='english',\n",
    "                                max_df = 0.95,\n",
    "                                min_df = 2)\n",
    "    tf = tf_vectorizer.fit_transform(text)\n",
    "    tf_feature_names = tf_vectorizer.get_feature_names()\n",
    "    return tf, tf_vectorizer, tf_feature_names\n",
    "    \n",
    "\n",
    "def LDA_analyze(tf_vector, n_topics):\n",
    "    lda = LatentDirichletAllocation(n_topics=n_topics,doc_topic_prior =1/(n_topics*10), max_iter=50,\n",
    "                                learning_method='online',\n",
    "                                learning_offset=50.,\n",
    "                                evaluate_every = 1,\n",
    "                                random_state=0)\n",
    "    lda.fit(tf_vector)\n",
    "    print(lda)\n",
    "    return lda\n",
    "\n",
    "def tf_idf(n_max_features, text):\n",
    "    tfidf_vectorizer = TfidfVectorizer(max_df=0.95,\n",
    "                                       min_df=2,\n",
    "                                       max_features=n_max_features,\n",
    "                                       stop_words='english')\n",
    "    tfidf = tfidf_vectorizer.fit_transform(text)\n",
    "    tfidf_feature_names = tfidf_vectorizer.get_feature_names()\n",
    "    return tfidf, tfidf_feature_names\n"
   ]
  },
  {
   "cell_type": "code",
   "execution_count": 69,
   "metadata": {},
   "outputs": [],
   "source": [
    "data = pd.read_csv('all_184_rebasic_senti_analysis.csv')"
   ]
  },
  {
   "cell_type": "code",
   "execution_count": 70,
   "metadata": {},
   "outputs": [
    {
     "name": "stdout",
     "output_type": "stream",
     "text": [
      "9858\n"
     ]
    }
   ],
   "source": [
    "print(len(data))"
   ]
  },
  {
   "cell_type": "code",
   "execution_count": 71,
   "metadata": {},
   "outputs": [
    {
     "name": "stdout",
     "output_type": "stream",
     "text": [
      "            poi_name    poi_id total review count average rating score  \\\n",
      "0  Restaurang_Sandra  d1043211               65.0                  4.5   \n",
      "1  Restaurang_Sandra  d1043211               65.0                  4.5   \n",
      "2  Restaurang_Sandra  d1043211               65.0                  4.5   \n",
      "3  Restaurang_Sandra  d1043211               65.0                  4.5   \n",
      "4  Restaurang_Sandra  d1043211               65.0                  4.5   \n",
      "\n",
      "      price              address postcode           category review language  \\\n",
      "0  $$ - $$$  Stora Sodergatan 42   222 23  FoodEstablishment       [English]   \n",
      "1  $$ - $$$  Stora Sodergatan 42   222 23  FoodEstablishment       [English]   \n",
      "2  $$ - $$$  Stora Sodergatan 42   222 23  FoodEstablishment       [English]   \n",
      "3  $$ - $$$  Stora Sodergatan 42   222 23  FoodEstablishment       [English]   \n",
      "4  $$ - $$$  Stora Sodergatan 42   222 23  FoodEstablishment       [English]   \n",
      "\n",
      "  review count by language          ...            author_votes  rating score  \\\n",
      "0                       11          ...                    40.0             5   \n",
      "1                       11          ...                    23.0             3   \n",
      "2                       11          ...                     NaN             5   \n",
      "3                       11          ...                     1.0             5   \n",
      "4                       11          ...                    15.0             4   \n",
      "\n",
      "          rating date                  rating title             rating place  \\\n",
      "0     April 12, 2017                     great lamb  Glasgow, United Kingdom   \n",
      "1     April 13, 2016            Nothing exceptional     Vuadens, Switzerland   \n",
      "2  December 13, 2017               Excellent food!            Drosia, Greece   \n",
      "3   December 3, 2016   Comfortable and tasty dinner              st paul, mn   \n",
      "4   January 25, 2018                     Great meze             Lund, Sweden   \n",
      "\n",
      "                                                text  \\\n",
      "0  Really enjoyed the lamb on a skewer, the meat ...   \n",
      "1  The restaurant is ok and the food was also goo...   \n",
      "2  All meze and main dishes were great, in partic...   \n",
      "3  We were taken here by our cousin who lives up ...   \n",
      "4  A lovely selection of meze dishes. 6 or 7 for ...   \n",
      "\n",
      "                      eng_title  \\\n",
      "0                    great lamb   \n",
      "1           Nothing exceptional   \n",
      "2              Excellent food!    \n",
      "3  Comfortable and tasty dinner   \n",
      "4                    Great meze   \n",
      "\n",
      "                                            eng_text basic_sentiment_text  \\\n",
      "0  Really enjoyed the lamb on a skewer, the meat ...             0.536111   \n",
      "1  The restaurant is ok and the food was also goo...             0.315000   \n",
      "2  All meze and main dishes were great, in partic...             0.523333   \n",
      "3  We were taken here by our cousin who lives up ...             0.668000   \n",
      "4  A lovely selection of meze dishes. 6 or 7 for ...             0.775000   \n",
      "\n",
      "   basic_sentiment_title  \n",
      "0               0.800000  \n",
      "1               0.666667  \n",
      "2               1.000000  \n",
      "3               0.400000  \n",
      "4               0.800000  \n",
      "\n",
      "[5 rows x 21 columns]\n"
     ]
    }
   ],
   "source": [
    "print(data.head(5))"
   ]
  },
  {
   "cell_type": "code",
   "execution_count": 72,
   "metadata": {},
   "outputs": [
    {
     "name": "stderr",
     "output_type": "stream",
     "text": [
      "/Library/Frameworks/Python.framework/Versions/3.6/lib/python3.6/site-packages/sklearn/decomposition/online_lda.py:314: DeprecationWarning: n_topics has been renamed to n_components in version 0.19 and will be removed in 0.21\n",
      "  DeprecationWarning)\n"
     ]
    },
    {
     "name": "stdout",
     "output_type": "stream",
     "text": [
      "LatentDirichletAllocation(batch_size=128, doc_topic_prior=0.01,\n",
      "             evaluate_every=1, learning_decay=0.7,\n",
      "             learning_method='online', learning_offset=50.0,\n",
      "             max_doc_update_iter=100, max_iter=50, mean_change_tol=0.001,\n",
      "             n_components=10, n_jobs=None, n_topics=10, perp_tol=0.1,\n",
      "             random_state=0, topic_word_prior=None,\n",
      "             total_samples=1000000.0, verbose=0)\n"
     ]
    }
   ],
   "source": [
    "#data = pd.read_csv('sort_by_group.csv')\n",
    "data_language = data[data['review language'] == LANGUAGE]\n",
    "text_all = data_language['eng_text'].tolist()\n",
    "\n",
    "n_max_features=300\n",
    "n_topics = 10\n",
    "n_top_words = 10\n",
    "\n",
    "tf_vector, tf_vectorizer, tf_feature_names = tf_vctorize(n_max_features, text_all)\n",
    "lda = LDA_analyze(tf_vector, n_topics)"
   ]
  },
  {
   "cell_type": "code",
   "execution_count": 73,
   "metadata": {},
   "outputs": [],
   "source": [
    "#print(len(text_all))"
   ]
  },
  {
   "cell_type": "code",
   "execution_count": 74,
   "metadata": {},
   "outputs": [],
   "source": [
    "#print(tf_vectorizer)"
   ]
  },
  {
   "cell_type": "code",
   "execution_count": 75,
   "metadata": {},
   "outputs": [
    {
     "name": "stdout",
     "output_type": "stream",
     "text": [
      "(125, 230)\n"
     ]
    }
   ],
   "source": [
    "print(tf_vector.toarray().shape)"
   ]
  },
  {
   "cell_type": "code",
   "execution_count": null,
   "metadata": {},
   "outputs": [
    {
     "name": "stdout",
     "output_type": "stream",
     "text": [
      "\n",
      "Note: if you're in the IPython notebook, pyLDAvis.show() is not the best command\n",
      "      to use. Consider using pyLDAvis.display(), or pyLDAvis.enable_notebook().\n",
      "      See more information at http://pyLDAvis.github.io/quickstart.html .\n",
      "\n",
      "You must interrupt the kernel to end this command\n",
      "\n",
      "Serving to http://127.0.0.1:8889/    [Ctrl-C to exit]\n"
     ]
    },
    {
     "name": "stderr",
     "output_type": "stream",
     "text": [
      "127.0.0.1 - - [06/Jun/2019 22:22:50] \"GET / HTTP/1.1\" 200 -\n",
      "127.0.0.1 - - [06/Jun/2019 22:22:50] \"GET /LDAvis.css HTTP/1.1\" 200 -\n",
      "127.0.0.1 - - [06/Jun/2019 22:22:50] \"GET /d3.js HTTP/1.1\" 200 -\n",
      "127.0.0.1 - - [06/Jun/2019 22:22:51] \"GET /LDAvis.js HTTP/1.1\" 200 -\n"
     ]
    }
   ],
   "source": [
    "tfidf, tfidf_feature_names = tf_idf(n_max_features, text_all)\n",
    "pyLDAvis.enable_notebook()\n",
    "lda_prepared = pyLDAvis.sklearn.prepare(lda, tf_vector, tf_vectorizer,R=20)\n",
    "pyLDAvis.show(lda_prepared)"
   ]
  },
  {
   "cell_type": "code",
   "execution_count": 48,
   "metadata": {},
   "outputs": [
    {
     "name": "stdout",
     "output_type": "stream",
     "text": [
      "PreparedData(topic_coordinates=            Freq  cluster  topics         x         y\n",
      "topic                                                \n",
      "0      69.365181        1       1 -0.070366  0.066713\n",
      "3       6.409739        1       2  0.187127  0.038995\n",
      "1       5.533894        1       3  0.010687  0.125553\n",
      "9       4.264809        1       4  0.022262 -0.014952\n",
      "7       4.057569        1       5 -0.136990  0.085108\n",
      "6       3.049714        1       6  0.091538 -0.013308\n",
      "5       2.909547        1       7 -0.017467 -0.063726\n",
      "8       2.677468        1       8 -0.042985 -0.164203\n",
      "4       1.213867        1       9 -0.043932 -0.025005\n",
      "2       0.518213        1      10  0.000128 -0.035176, topic_info=     Category       Freq        Term      Total  loglift  logprob\n",
      "term                                                             \n",
      "108   Default  75.000000        food  75.000000  30.0000  30.0000\n",
      "228   Default  46.000000     service  46.000000  29.0000  29.0000\n",
      "212   Default  35.000000  restaurant  35.000000  28.0000  28.0000\n",
      "149   Default  17.000000        lund  17.000000  27.0000  27.0000\n",
      "112   Default  19.000000    friendly  19.000000  26.0000  26.0000\n",
      "119   Default  34.000000         got  34.000000  25.0000  25.0000\n",
      "161   Default  46.000000        nice  46.000000  24.0000  24.0000\n",
      "183   Default  31.000000       place  31.000000  23.0000  23.0000\n",
      "146   Default  13.000000      lovely  13.000000  22.0000  22.0000\n",
      "118   Default  70.000000        good  70.000000  21.0000  21.0000\n",
      "155   Default  12.000000        menu  12.000000  20.0000  20.0000\n",
      "122   Default  11.000000       great  11.000000  19.0000  19.0000\n",
      "251   Default  10.000000       sushi  10.000000  18.0000  18.0000\n",
      "249   Default  12.000000       super  12.000000  17.0000  17.0000\n",
      "237   Default  12.000000       small  12.000000  16.0000  16.0000\n",
      "181   Default   9.000000       pizza   9.000000  15.0000  15.0000\n",
      "1     Default  31.000000          39  31.000000  14.0000  14.0000\n",
      "190   Default  14.000000       price  14.000000  13.0000  13.0000\n",
      "148   Default  10.000000       lunch  10.000000  12.0000  12.0000\n",
      "191   Default   8.000000      prices   8.000000  11.0000  11.0000\n",
      "143   Default   9.000000     located   9.000000  10.0000  10.0000\n",
      "221   Default   9.000000      salmon   9.000000   9.0000   9.0000\n",
      "207   Default  40.000000      really  40.000000   8.0000   8.0000\n",
      "208   Default  12.000000  reasonable  12.000000   7.0000   7.0000\n",
      "66    Default  21.000000        cozy  21.000000   6.0000   6.0000\n",
      "25    Default   7.000000        beer   7.000000   5.0000   5.0000\n",
      "134   Default   8.000000        just   8.000000   4.0000   4.0000\n",
      "75    Default  23.000000   delicious  23.000000   3.0000   3.0000\n",
      "81    Default  18.000000      dishes  18.000000   2.0000   2.0000\n",
      "110   Default   9.000000       fresh   9.000000   1.0000   1.0000\n",
      "...       ...        ...         ...        ...      ...      ...\n",
      "198   Topic10   0.023444      prompt   1.955029   0.8390  -5.9213\n",
      "202   Topic10   0.023568       quiet   1.999176   0.8219  -5.9160\n",
      "67    Topic10   0.023555      cucina   2.002000   0.8200  -5.9166\n",
      "58    Topic10   0.023174     company   1.953309   0.8283  -5.9329\n",
      "286   Topic10   0.023494     waiters   2.201923   0.7222  -5.9192\n",
      "297   Topic10   0.023727       world   2.648942   0.5472  -5.9093\n",
      "219   Topic10   0.023709      rustic   2.672532   0.5376  -5.9101\n",
      "50    Topic10   0.023441       cheat   2.387559   0.6390  -5.9215\n",
      "115   Topic10   0.023624  girlfriend   2.851876   0.4691  -5.9136\n",
      "194   Topic10   0.023698    problems   3.160984   0.3693  -5.9105\n",
      "113   Topic10   0.023559      garlic   2.970412   0.4256  -5.9164\n",
      "117   Topic10   0.023527      gluten   3.006262   0.4122  -5.9178\n",
      "216   Topic10   0.023491       rolls   2.862344   0.4598  -5.9193\n",
      "268   Topic10   0.023470       today   3.055106   0.3937  -5.9202\n",
      "63    Topic10   0.023240     couples   2.213700   0.7060  -5.9301\n",
      "183   Topic10   0.024753       place  31.973424  -1.9012  -5.8670\n",
      "95    Topic10   0.023765   excellent   4.791992  -0.0440  -5.9077\n",
      "261   Topic10   0.023486     tasting   3.320354   0.3111  -5.9195\n",
      "72    Topic10   0.023658       decor   5.063773  -0.1036  -5.9122\n",
      "40    Topic10   0.023468        busy   3.431381   0.2775  -5.9203\n",
      "66    Topic10   0.024186        cozy  21.248928  -1.5157  -5.8901\n",
      "222   Topic10   0.023476   satisfied   3.681639   0.2074  -5.9199\n",
      "255   Topic10   0.023616       table   7.282449  -0.4687  -5.9140\n",
      "165   Topic10   0.023645          ok   8.510929  -0.6234  -5.9128\n",
      "118   Topic10   0.024024        good  70.480621  -2.7215  -5.8969\n",
      "212   Topic10   0.023586  restaurant  35.534388  -2.0551  -5.9153\n",
      "228   Topic10   0.023535     service  46.730821  -2.3311  -5.9175\n",
      "60    Topic10   0.023495      cooked   4.992286  -0.0963  -5.9191\n",
      "162   Topic10   0.023488       night   5.146996  -0.1271  -5.9194\n",
      "177   Topic10   0.023471      people  10.204463  -0.8123  -5.9201\n",
      "\n",
      "[456 rows x 6 columns], token_table=      Topic      Freq          Term\n",
      "term                               \n",
      "0         1  0.697184           1st\n",
      "1         1  0.915870            39\n",
      "1         3  0.031582            39\n",
      "1         4  0.031582            39\n",
      "1         5  0.031582            39\n",
      "3         1  0.411183   accessories\n",
      "3         2  0.411183   accessories\n",
      "4         2  0.499957  accidentally\n",
      "6         5  0.467232       advance\n",
      "7         8  0.612317          ages\n",
      "8         1  0.599593       amazing\n",
      "8         6  0.299796       amazing\n",
      "9         7  0.474537      ambience\n",
      "11        1  0.700097     appetizer\n",
      "12        2  0.541266        arrive\n",
      "12        5  0.541266        arrive\n",
      "13        2  0.623373       arrived\n",
      "13        3  0.311687       arrived\n",
      "15        1  0.493299         asked\n",
      "15        2  0.246650         asked\n",
      "17        1  0.915912    atmosphere\n",
      "18        1  0.482555      attended\n",
      "18        9  0.482555      attended\n",
      "19        1  0.907042     attentive\n",
      "20        1  0.953265     authentic\n",
      "21        1  0.787944          away\n",
      "22        8  0.612232         baked\n",
      "23        1  0.907717      basement\n",
      "25        1  0.753591          beer\n",
      "25        8  0.125598          beer\n",
      "...     ...       ...           ...\n",
      "276       7  0.585100        varied\n",
      "277       1  0.467285            ve\n",
      "280       1  0.967996         visit\n",
      "282       2  0.441143      visiting\n",
      "282       6  0.441143      visiting\n",
      "283       1  0.657628          wait\n",
      "283       5  0.328814          wait\n",
      "285       5  0.467438        waiter\n",
      "286       1  0.908297       waiters\n",
      "287       1  0.722844          want\n",
      "287       9  0.240948          want\n",
      "288       1  0.788746         water\n",
      "289       1  0.501009          went\n",
      "289       2  0.501009          went\n",
      "290       2  0.433837         wheel\n",
      "290       7  0.433837         wheel\n",
      "291       1  0.639619         white\n",
      "291       5  0.319809         white\n",
      "292       6  0.595241          wife\n",
      "293       1  0.858848          wine\n",
      "293       5  0.085885          wine\n",
      "295       1  0.454169     wonderful\n",
      "295       7  0.227084     wonderful\n",
      "295       8  0.227084     wonderful\n",
      "297       1  0.377509         world\n",
      "297       3  0.377509         world\n",
      "298       1  0.488413         worth\n",
      "298       6  0.488413         worth\n",
      "299       1  0.703308          year\n",
      "299       2  0.351654          year\n",
      "\n",
      "[426 rows x 3 columns], R=30, lambda_step=0.01, plot_opts={'xlab': 'PC1', 'ylab': 'PC2'}, topic_order=[1, 4, 2, 10, 8, 7, 6, 9, 5, 3])\n"
     ]
    }
   ],
   "source": [
    "print(lda_prepared)"
   ]
  },
  {
   "cell_type": "code",
   "execution_count": 37,
   "metadata": {},
   "outputs": [
    {
     "name": "stdout",
     "output_type": "stream",
     "text": [
      "30\n",
      "0.01\n",
      "{'xlab': 'PC1', 'ylab': 'PC2'}\n",
      "[10, 9, 7, 8, 4, 6, 2, 1, 3, 5]\n"
     ]
    }
   ],
   "source": [
    "N=10\n",
    "for i in lda_prepared[3:]:\n",
    "    #i.shape()\n",
    "    print(i)\n",
    "    N+=1\n",
    "    #i.to_csv(\"output\"+ str(N) +'.csv')"
   ]
  },
  {
   "cell_type": "code",
   "execution_count": 237,
   "metadata": {},
   "outputs": [
    {
     "name": "stdout",
     "output_type": "stream",
     "text": [
      "Topic #0:\n",
      "[279 126 122 258  73 257 174 182  36]\n",
      "Topic #1:\n",
      "[ 30 277 105 210 193 149  52 201 197]\n",
      "Topic #2:\n",
      "[169  76  68  13  52  12 194  16  17]\n",
      "Topic #3:\n",
      "[ 39  80 283  57 205  59 197 111 179]\n",
      "Topic #4:\n",
      "[216 187 262 209  55  19  42 133 129]\n",
      "Topic #5:\n",
      "[279 126 122 258  73 257 174 182  36]\n",
      "Topic #6:\n",
      "[ 30 277 105 210 193 149  52 201 197]\n",
      "Topic #7:\n",
      "[ 57 133 137  42 274  35 197 179  24]\n",
      "Topic #8:\n",
      "[237 163  36 122 241 124 257  10 184]\n",
      "Topic #9:\n",
      "[135  19  24  66 297 163 279  55  58]\n"
     ]
    }
   ],
   "source": [
    "for topic_idx, topic in enumerate(lda.components_):\n",
    "    print(\"Topic #%d:\" % topic_idx)\n",
    "    #print(topic)\n",
    "    print(topic.argsort()[-10:-1])\n",
    "    #print(topic.argsort()[:-n_top_words - 1:-1])\n",
    "    #print(tf_feature_names)\n",
    "    "
   ]
  },
  {
   "cell_type": "code",
   "execution_count": 183,
   "metadata": {},
   "outputs": [
    {
     "name": "stdout",
     "output_type": "stream",
     "text": [
      "['00', '000', '10', '1000', '1080', '1085', '10th', '11', '1100', '1145', '11th', '12', '12th', '14th', '15', '15th', '17th', '19th', '1st', '20', '20th', '30', '3pm', '900', 'able', 'absolute', 'absolutely', 'access', 'accessible', 'according', 'acoustics', 'action', 'activities', 'actually', 'addition', 'adjacent', 'admire', 'admission', 'adults', 'afternoon', 'age', 'ages', 'ago', 'air', 'alike', 'alive', 'allow', 'allowed', 'altar', 'alter', 'amazing', 'amazingly', 'ambience', 'ancient', 'anytime', 'app', 'appreciate', 'april', 'arch', 'architectural', 'architecture', 'area', 'areas', 'array', 'arrived', 'art', 'artifacts', 'ask', 'asked', 'aspects', 'assembled', 'astrological', 'astronomic', 'astronomical', 'atmosphere', 'attached', 'attended', 'attraction', 'attractions', 'attractive', 'august', 'aula', 'austere', 'authentic', 'autumn', 'available', 'away', 'awe', 'awesome', 'baby', 'bar', 'basement', 'basic', 'basis', 'bathrooms', 'beatiful', 'beautiful', 'beautifull', 'beautifully', 'beauty', 'beds', 'believe', 'belonged', 'bench', 'benches', 'best', 'better', 'big', 'bigger', 'biggest', 'bird', 'birds', 'bit', 'blocks', 'bloom', 'blooming', 'blooms', 'boasts', 'book', 'boring', 'born', 'botan', 'botanic', 'botanical', 'break', 'bright', 'bring', 'brought', 'build', 'building', 'buildings', 'built', 'bushes', 'business', 'busy', 'buy', 'caf', 'cafe', 'cafes', 'calculate', 'calendar', 'called', 'calm', 'calming', 'came', 'campus', 'candle', 'candles', 'care', 'cared', 'carved', 'carvings', 'catacombs', 'catch', 'cathedral', 'cathedrals', 'catholic', 'caught', 'celebrate', 'celebrating', 'celebrations', 'cellar', 'center', 'central', 'centre', 'centuries', 'century', 'ceramics', 'certainly', 'chance', 'characters', 'charge', 'charming', 'check', 'child', 'children', 'chimes', 'choir', 'chose', 'christian', 'christianity', 'christmas', 'church', 'churches', 'city', 'classes', 'clean', 'clear', 'climate', 'climates', 'climbing', 'clock', 'close', 'closed', 'closes', 'cobbled', 'coffee', 'cold', 'collected', 'collection', 'color', 'colorful', 'colours', 'come', 'comes', 'compared', 'complete', 'concert', 'concerts', 'conservatory', 'constructed', 'contain', 'contains', 'cool', 'copenhagen', 'corner', 'cost', 'cosy', 'cottages', 'couldn', 'countryside', 'couple', 'couples', 'course', 'creepy', 'crowd', 'crowded', 'crypt', 'crypts', 'cultural', 'culture', 'cup', 'curious', 'cute', 'daily', 'danish', 'dark', 'date', 'dates', 'dating', 'day', 'days', 'decided', 'decorated', 'decoration', 'decorations', 'definitely', 'delightful', 'denmark', 'design', 'designed', 'details', 'detour', 'did', 'didn', 'different', 'disappointed', 'discover', 'display', 'displayed', 'displays', 'distance', 'diverse', 'does', 'doesn', 'doing', 'dominates', 'dominating', 'domkyrkan', 'don', 'door', 'doors', 'downstairs', 'downtown', 'drink', 'drinking', 'drinks', 'ducks', 'dwellings', 'early', 'earth', 'easily', 'east', 'easy', 'eat', 'eating', 'elements', 'end', 'ended', 'english', 'enjoy', 'enjoyable', 'enjoyed', 'enjoying', 'enormous', 'enter', 'entering', 'entire', 'entrance', 'entry', 'environment', 'equipment', 'era', 'especially', 'europe', 'european', 'evening', 'event', 'events', 'everybody', 'example', 'excellent', 'exception', 'exercise', 'exhibit', 'exhibition', 'exhibitions', 'exhibits', 'exotic', 'expect', 'expected', 'expensive', 'experience', 'experiencing', 'explanation', 'explanations', 'explore', 'exploring', 'extensive', 'exterior', 'externally', 'extremely', 'eyes', 'fabulous', 'facing', 'fact', 'facts', 'fairly', 'fall', 'families', 'family', 'famous', 'fantastic', 'far', 'fascinating', 'favorite', 'features', 'fee', 'feed', 'feel', 'feeling', 'feels', 'felt', 'festival', 'figure', 'figures', 'fika', 'filled', 'final', 'fine', 'finest', 'finn', 'floor', 'flower', 'flowers', 'focal', 'follow', 'food', 'forest', 'forget', 'form', 'formal', 'forum', 'founded', 'fountain', 'free', 'friendly', 'friends', 'fully', 'fun', 'furnished', 'furniture', 'gallery', 'garden', 'gardeners', 'gardens', 'gem', 'getting', 'giant', 'given', 'gives', 'giving', 'glass', 'glasshouse', 'glasshouses', 'goes', 'going', 'gone', 'good', 'gorgeous', 'got', 'gothic', 'grand', 'grandchildren', 'grass', 'graves', 'graveyard', 'great', 'green', 'greenery', 'greenhouse', 'greenhouses', 'grounds', 'group', 'groups', 'grown', 'guide', 'guided', 'gym', 'half', 'hall', 'hand', 'hang', 'hanging', 'happen', 'happened', 'hard', 'having', 'head', 'hear', 'heart', 'help', 'helps', 'high', 'highlight', 'highlights', 'highly', 'historic', 'historical', 'historically', 'history', 'holding', 'home', 'homes', 'horologium', 'hosts', 'hot', 'hothouses', 'hour', 'hours', 'house', 'houses', 'huge', 'husband', 'idea', 'ideal', 'important', 'imposing', 'impressed', 'impressive', 'included', 'includes', 'including', 'incredible', 'indoor', 'indoors', 'info', 'information', 'informative', 'inside', 'insight', 'inspiring', 'interactive', 'interested', 'interesting', 'interior', 'intriguing', 'introduction', 'inviting', 'isn', 'items', 'joined', 'journey', 'joy', 'joyful', 'june', 'just', 'kept', 'kids', 'kind', 'kinds', 'knights', 'know', 'kulturen', 'lady', 'laid', 'lake', 'landmark', 'large', 'late', 'lawns', 'leaflet', 'learn', 'learning', 'leave', 'left', 'legend', 'let', 'level', 'life', 'light', 'like', 'liked', 'listen', 'little', 'live', 'lived', 'living', 'll', 'loads', 'local', 'locals', 'located', 'location', 'long', 'look', 'looked', 'looking', 'looks', 'lot', 'lots', 'love', 'loved', 'lovely', 'lower', 'lucky', 'lunch', 'lunches', 'lund', 'lundag', 'lundense', 'lunds', 'lush', 'lutheran', 'magical', 'magnificent', 'main', 'maintained', 'majestic', 'major', 'make', 'makes', 'malm', 'malmo', 'managed', 'mary', 'mass', 'massive', 'masterpiece', 'matter', 'maybe', 'medieval', 'meet', 'meeting', 'men', 'meter', 'mid', 'midday', 'middle', 'mighty', 'mind', 'minutes', 'miss', 'missed', 'mixture', 'model', 'modern', 'moment', 'mon', 'money', 'months', 'monument', 'moon', 'morning', 'mornings', 'moved', 'moving', 'museum', 'museums', 'music', 'musical', 'natural', 'nature', 'ne', 'near', 'nearby', 'need', 'new', 'nice', 'night', 'noon', 'nordic', 'north', 'northern', 'note', 'notice', 'number', 'oasis', 'object', 'objects', 'october', 'offer', 'offers', 'office', 'old', 'older', 'oldest', 'ones', 'open', 'orchids', 'organ', 'organized', 'original', 'ornate', 'outdoor', 'outdoors', 'outside', 'outstanding', 'overall', 'painted', 'park', 'particular', 'particularly', 'partly', 'parts', 'party', 'passed', 'passing', 'past', 'pastor', 'paths', 'pay', 'peace', 'peaceful', 'pedestrian', 'people', 'perfect', 'perfectly', 'period', 'periods', 'permanent', 'person', 'photograph', 'photos', 'pick', 'picknick', 'picnic', 'picnics', 'picture', 'piece', 'pillar', 'pillars', 'place', 'places', 'plain', 'plant', 'plants', 'play', 'playground', 'playing', 'plays', 'pleasant', 'pleasure', 'plenty', 'plus', 'pm', 'point', 'pond', 'poor', 'pop', 'pope', 'popular', 'possible', 'power', 'prague', 'present', 'presentation', 'preserved', 'pretty', 'price', 'prices', 'probably', 'procession', 'provided', 'provides', 'public', 'purposes', 'quail', 'quails', 'quick', 'quiet', 'quirky', 'quite', 'rain', 'rainy', 'range', 'rare', 'rd', 'read', 'reading', 'real', 'really', 'reason', 'rebuilt', 'recently', 'recommend', 'recommended', 'region', 'regular', 'relatively', 'relax', 'relaxed', 'relaxing', 'religious', 'remains', 'remember', 'represented', 'research', 'rest', 'restaurant', 'restaurants', 'restored', 'rich', 'right', 'roam', 'rock', 'role', 'roman', 'romanesque', 'roof', 'room', 'rooms', 'round', 'run', 'running', 'sadly', 'said', 'sandstone', 'sat', 'saturday', 'saw', 'say', 'says', 'scandinavia', 'scandinavian', 'scania', 'scenery', 'school', 'season', 'seat', 'seating', 'seats', 'second', 'sections', 'seeing', 'seen', 'selection', 'sense', 'september', 'serenity', 'served', 'serves', 'service', 'services', 'set', 'setting', 'shop', 'shops', 'short', 'shouldn', 'showing', 'shows', 'shrubs', 'sight', 'sights', 'signs', 'silence', 'similar', 'simple', 'simply', 'singing', 'sit', 'site', 'sites', 'sitting', 'situated', 'size', 'sk', 'skane', 'skansen', 'slightly', 'small', 'smaller', 'smells', 'snacks', 'solo', 'somewhat', 'son', 'sorts', 'sound', 'south', 'southern', 'space', 'spacious', 'special', 'specially', 'species', 'spectacular', 'spend', 'spending', 'spent', 'spiritual', 'spot', 'spread', 'spring', 'square', 'stadsparken', 'staff', 'stalls', 'standing', 'stands', 'start', 'started', 'starting', 'starts', 'station', 'statue', 'stay', 'stayed', 'staying', 'stocked', 'stockholm', 'stone', 'stones', 'stop', 'stopped', 'stops', 'stories', 'story', 'strange', 'street', 'streets', 'strike', 'striking', 'stroll', 'strolling', 'structure', 'student', 'students', 'study', 'stuff', 'stunning', 'style', 'summer', 'sun', 'sunday', 'sunny', 'super', 'sure', 'surprised', 'surrounded', 'surrounding', 'surroundings', 'sweden', 'swedes', 'swedish', 'sweet', 'taken', 'taking', 'tale', 'talk', 'tea', 'tell', 'temperature', 'temporary', 'text', 'thing', 'things', 'think', 'thought', 'thousand', 'thousands', 'till', 'time', 'times', 'timing', 'tiny', 'today', 'told', 'tombs', 'took', 'totally', 'touching', 'tour', 'tourist', 'tourists', 'tours', 'towers', 'town', 'traditional', 'train', 'tranquility', 'travel', 'traveling', 'treat', 'tree', 'trees', 'trip', 'tropical', 'true', 'truly', 'try', 'trying', 'twice', 'type', 'types', 'typical', 'underground', 'understand', 'understanding', 'unexpected', 'unfortunately', 'unique', 'university', 'unlike', 'unusual', 'use', 'used', 'usually', 'varieties', 'variety', 'various', 've', 'view', 'vikings', 'village', 'visit', 'visited', 'visiting', 'visitor', 'visitors', 'visually', 'wait', 'walk', 'walked', 'walking', 'wall', 'wander', 'wandering', 'want', 'warm', 'warmth', 'wasn', 'watch', 'watching', 'way', 'ways', 'weather', 'week', 'welcome', 'welcoming', 'went', 'white', 'wich', 'wide', 'wife', 'wild', 'windows', 'wine', 'winter', 'wish', 'witness', 'woman', 'wonder', 'wonderful', 'wood', 'wooden', 'word', 'work', 'working', 'works', 'world', 'worth', 'wow', 'year', 'years', 'yes', 'young', 'youngsters', 'zones']\n"
     ]
    }
   ],
   "source": [
    "print(tf_feature_names)"
   ]
  },
  {
   "cell_type": "code",
   "execution_count": 239,
   "metadata": {},
   "outputs": [
    {
     "name": "stdout",
     "output_type": "stream",
     "text": [
      "Topic #0:\n",
      "lund buildings old museum sweden different swedish history houses visit time place interesting kulturen day trip really cathedral people outside went house exhibits times life culture small visited lived exhibitions\n",
      "Topic #1:\n",
      "kids place playground children liked peaceful really fun various bit enjoyed exhibits denmark great area going especially love caf outdoor old set fantastic perfect took season beauty summer amazing way\n",
      "Topic #2:\n",
      "exhibition art areas people april children architectural dating early medieval religious noon different lund day crypt visited huge beautiful visit nice center church old fascinating cathedral interesting museum small century\n",
      "Topic #3:\n",
      "park nice good place close pond city walk enjoy cafe recommended people lund children little birds relax students coffee located miss day town outdoor play weather stadsparken look easily sunny\n",
      "Topic #4:\n",
      "clock impressive inside cathedral astronomical church read time outside religious giant town basement visit walking want small early recommend learn sun large quite little took loved built main attraction highly\n",
      "Topic #5:\n",
      "lund buildings old museum sweden different swedish history houses visit time place interesting kulturen day trip really cathedral people outside went house exhibits times life culture small visited lived exhibitions\n",
      "Topic #6:\n",
      "kids place playground children liked peaceful really fun various bit enjoyed exhibits denmark great area going especially love caf outdoor old set fantastic perfect took season beauty summer amazing way\n",
      "Topic #7:\n",
      "lund beautiful nice place building university cathedral just inside city year day recommend quiet famous spring walk town walking main great look center want garden students area like time huge\n",
      "Topic #8:\n",
      "museum open air sweden hours spent history buildings lund southern people houses enjoyed great building kulturen city entrance exhibitions culture really way showing walking fantastic interested nice swedish friendly visiting\n",
      "Topic #9:\n",
      "cathedral clock church visit lund worth crypt beautiful astronomical interesting inside history old impressive time giant miss amazing don free tour architecture visiting finn english building century town sweden visited\n",
      "\n"
     ]
    }
   ],
   "source": [
    "def print_top_words(model, feature_names, n_top_words):\n",
    "    for topic_idx, topic in enumerate(model.components_):\n",
    "        print(\"Topic #%d:\" % topic_idx)\n",
    "        print(\" \".join([feature_names[i]\n",
    "                        for i in topic.argsort()[:-30 - 1:-1]]))\n",
    "    print()\n",
    "print_top_words(lda, tf_feature_names, n_top_words)"
   ]
  },
  {
   "cell_type": "code",
   "execution_count": null,
   "metadata": {},
   "outputs": [],
   "source": []
  },
  {
   "cell_type": "code",
   "execution_count": null,
   "metadata": {},
   "outputs": [],
   "source": []
  }
 ],
 "metadata": {
  "kernelspec": {
   "display_name": "Python 3",
   "language": "python",
   "name": "python3"
  },
  "language_info": {
   "codemirror_mode": {
    "name": "ipython",
    "version": 3
   },
   "file_extension": ".py",
   "mimetype": "text/x-python",
   "name": "python",
   "nbconvert_exporter": "python",
   "pygments_lexer": "ipython3",
   "version": "3.6.6"
  }
 },
 "nbformat": 4,
 "nbformat_minor": 2
}
