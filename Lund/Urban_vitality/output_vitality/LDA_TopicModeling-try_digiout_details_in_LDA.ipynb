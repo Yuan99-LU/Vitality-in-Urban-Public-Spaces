{
 "cells": [
  {
   "cell_type": "code",
   "execution_count": 1,
   "metadata": {},
   "outputs": [],
   "source": [
    "from sklearn.feature_extraction.text import TfidfVectorizer, CountVectorizer\n",
    "from sklearn.decomposition import NMF, LatentDirichletAllocation\n",
    "import pyLDAvis\n",
    "import pyLDAvis.sklearn\n",
    "import pyLDAvis.gensim\n",
    "import numpy as np\n",
    "from datetime import datetime, date, time\n",
    "import csv\n",
    "import sys\n",
    "import importlib\n",
    "import pandas as pd"
   ]
  },
  {
   "cell_type": "code",
   "execution_count": 2,
   "metadata": {},
   "outputs": [],
   "source": [
    "LANGUAGE = '[English]'"
   ]
  },
  {
   "cell_type": "code",
   "execution_count": 3,
   "metadata": {},
   "outputs": [],
   "source": [
    "def tf_vctorize(n_max_features, text):\n",
    "    #n_features = 1000\n",
    "    tf_vectorizer = CountVectorizer(strip_accents = 'unicode',\n",
    "                                max_features=n_max_features,\n",
    "                                stop_words='english',\n",
    "                                max_df = 0.95,\n",
    "                                min_df = 2)\n",
    "    tf = tf_vectorizer.fit_transform(text)\n",
    "    tf_feature_names = tf_vectorizer.get_feature_names()\n",
    "    return tf, tf_vectorizer, tf_feature_names\n",
    "    \n",
    "\n",
    "def LDA_analyze(tf_vector, n_topics):\n",
    "    lda = LatentDirichletAllocation(n_topics=n_topics,doc_topic_prior =1/(n_topics*10), max_iter=50,\n",
    "                                learning_method='online',\n",
    "                                learning_offset=50.,\n",
    "                                evaluate_every = 1,\n",
    "                                random_state=0)\n",
    "    lda.fit(tf_vector)\n",
    "    print(lda)\n",
    "    return lda\n",
    "\n",
    "def tf_idf(n_max_features, text):\n",
    "    tfidf_vectorizer = TfidfVectorizer(max_df=0.95,\n",
    "                                       min_df=2,\n",
    "                                       max_features=n_max_features,\n",
    "                                       stop_words='english')\n",
    "    tfidf = tfidf_vectorizer.fit_transform(text)\n",
    "    tfidf_feature_names = tfidf_vectorizer.get_feature_names()\n",
    "    return tfidf, tfidf_feature_names\n"
   ]
  },
  {
   "cell_type": "code",
   "execution_count": 29,
   "metadata": {},
   "outputs": [],
   "source": [
    "data = pd.read_csv('\"city vitality\".csv', names = 'abcdef')"
   ]
  },
  {
   "cell_type": "code",
   "execution_count": 30,
   "metadata": {},
   "outputs": [
    {
     "data": {
      "text/html": [
       "<div>\n",
       "<style>\n",
       "    .dataframe thead tr:only-child th {\n",
       "        text-align: right;\n",
       "    }\n",
       "\n",
       "    .dataframe thead th {\n",
       "        text-align: left;\n",
       "    }\n",
       "\n",
       "    .dataframe tbody tr th {\n",
       "        vertical-align: top;\n",
       "    }\n",
       "</style>\n",
       "<table border=\"1\" class=\"dataframe\">\n",
       "  <thead>\n",
       "    <tr style=\"text-align: right;\">\n",
       "      <th></th>\n",
       "      <th>a</th>\n",
       "      <th>b</th>\n",
       "      <th>c</th>\n",
       "      <th>d</th>\n",
       "      <th>e</th>\n",
       "      <th>f</th>\n",
       "    </tr>\n",
       "  </thead>\n",
       "  <tbody>\n",
       "    <tr>\n",
       "      <th>0</th>\n",
       "      <td>1949</td>\n",
       "      <td>1</td>\n",
       "      <td>Correlation and integration: A study in city b...</td>\n",
       "      <td>AJ Dickson - New Zealand Engineering, 1949 - s...</td>\n",
       "      <td>… They contained slums or advanced decadence, ...</td>\n",
       "      <td></td>\n",
       "    </tr>\n",
       "    <tr>\n",
       "      <th>1</th>\n",
       "      <td>1957</td>\n",
       "      <td>1</td>\n",
       "      <td>The Reconstruction of Warsaw</td>\n",
       "      <td>S Dziewulski, S Jankowski - Town …, 1957 - onl...</td>\n",
       "      <td>… Copyright (c) Liverpool University Press Pag...</td>\n",
       "      <td>Cited by 4 Related articles All 3 versions</td>\n",
       "    </tr>\n",
       "    <tr>\n",
       "      <th>2</th>\n",
       "      <td>1962</td>\n",
       "      <td>2</td>\n",
       "      <td>Panning the Planners</td>\n",
       "      <td>PA Pfretzschner - 1962 - JSTOR</td>\n",
       "      <td>… Why, through plan- ning, of course. The sobe...</td>\n",
       "      <td>Cited by 2 Related articles</td>\n",
       "    </tr>\n",
       "    <tr>\n",
       "      <th>3</th>\n",
       "      <td>1962</td>\n",
       "      <td>2</td>\n",
       "      <td>The amplitude of design</td>\n",
       "      <td>EW Strong - Journal of the American Institute ...</td>\n",
       "      <td>… metropolitan areas. Today we are not compete...</td>\n",
       "      <td>Cited by 3 Related articles  Library Search</td>\n",
       "    </tr>\n",
       "    <tr>\n",
       "      <th>4</th>\n",
       "      <td>1964</td>\n",
       "      <td>1</td>\n",
       "      <td>[PDF][PDF] The relationship of traffic attract...</td>\n",
       "      <td>PH Wright - 1964 - smartech.gatech.edu</td>\n",
       "      <td>Page 1. \"In presenting the dissertation as a p...</td>\n",
       "      <td>Cited by 2 Related articles All 2 versions  ...</td>\n",
       "    </tr>\n",
       "  </tbody>\n",
       "</table>\n",
       "</div>"
      ],
      "text/plain": [
       "      a  b                                                  c  \\\n",
       "0  1949  1  Correlation and integration: A study in city b...   \n",
       "1  1957  1                       The Reconstruction of Warsaw   \n",
       "2  1962  2                               Panning the Planners   \n",
       "3  1962  2                            The amplitude of design   \n",
       "4  1964  1  [PDF][PDF] The relationship of traffic attract...   \n",
       "\n",
       "                                                   d  \\\n",
       "0  AJ Dickson - New Zealand Engineering, 1949 - s...   \n",
       "1  S Dziewulski, S Jankowski - Town …, 1957 - onl...   \n",
       "2                     PA Pfretzschner - 1962 - JSTOR   \n",
       "3  EW Strong - Journal of the American Institute ...   \n",
       "4             PH Wright - 1964 - smartech.gatech.edu   \n",
       "\n",
       "                                                   e  \\\n",
       "0  … They contained slums or advanced decadence, ...   \n",
       "1  … Copyright (c) Liverpool University Press Pag...   \n",
       "2  … Why, through plan- ning, of course. The sobe...   \n",
       "3  … metropolitan areas. Today we are not compete...   \n",
       "4  Page 1. \"In presenting the dissertation as a p...   \n",
       "\n",
       "                                                   f  \n",
       "0                                                     \n",
       "1       Cited by 4 Related articles All 3 versions    \n",
       "2                      Cited by 2 Related articles    \n",
       "3       Cited by 3 Related articles  Library Search   \n",
       "4    Cited by 2 Related articles All 2 versions  ...  "
      ]
     },
     "execution_count": 30,
     "metadata": {},
     "output_type": "execute_result"
    }
   ],
   "source": [
    "data.head()"
   ]
  },
  {
   "cell_type": "code",
   "execution_count": 31,
   "metadata": {},
   "outputs": [],
   "source": [
    "#data_language = data['e']\n",
    "#text_all = data_language.tolist()\n",
    "#print(text_all[0:2])"
   ]
  },
  {
   "cell_type": "code",
   "execution_count": 32,
   "metadata": {},
   "outputs": [],
   "source": [
    "data_new = data['e'].replace(np.nan, '', regex=True)\n",
    "data_new = data_new.apply(str)"
   ]
  },
  {
   "cell_type": "code",
   "execution_count": 33,
   "metadata": {},
   "outputs": [
    {
     "name": "stdout",
     "output_type": "stream",
     "text": [
      "[\"… They contained slums or advanced decadence, and over wide areas obsolescence was rife.\\nOn main traffic routes congestion frequently was so great as to sap the city's vitality by strangulation.\\nAuthorities seemed to be fighting a losing battle with dis- integrating forces\\xa0… \\n\", '… Copyright (c) Liverpool University Press Page 2. 210 THE RECONSTRUCTION OF WARSAW\\nOCTOBI R of the former population remained. However, the city\\'s vitality gave impetus to\\nreconstruction. The National Assembly of 165\"9 appointed a commission\\xa0… \\n', '… Why, through plan- ning, of course. The sober truth is that Jane Jacobs is a city planner after all.\\nOnly she would do it differently. \"Consider,\" she asks us, \"the kind of goals at which city planning\\nmust begin to aim, if the object is to plan for city vitality.\" What are the goals\\xa0… \\n']\n"
     ]
    }
   ],
   "source": [
    "text_all = data_new.tolist()\n",
    "print(text_all[0:3])"
   ]
  },
  {
   "cell_type": "code",
   "execution_count": 34,
   "metadata": {},
   "outputs": [
    {
     "name": "stderr",
     "output_type": "stream",
     "text": [
      "/Library/Frameworks/Python.framework/Versions/3.6/lib/python3.6/site-packages/sklearn/decomposition/online_lda.py:314: DeprecationWarning: n_topics has been renamed to n_components in version 0.19 and will be removed in 0.21\n",
      "  DeprecationWarning)\n"
     ]
    },
    {
     "name": "stdout",
     "output_type": "stream",
     "text": [
      "LatentDirichletAllocation(batch_size=128, doc_topic_prior=0.01,\n",
      "             evaluate_every=1, learning_decay=0.7,\n",
      "             learning_method='online', learning_offset=50.0,\n",
      "             max_doc_update_iter=100, max_iter=50, mean_change_tol=0.001,\n",
      "             n_components=10, n_jobs=None, n_topics=10, perp_tol=0.1,\n",
      "             random_state=0, topic_word_prior=None,\n",
      "             total_samples=1000000.0, verbose=0)\n"
     ]
    }
   ],
   "source": [
    "n_max_features=3000\n",
    "n_topics = 10\n",
    "n_top_words = 10\n",
    "\n",
    "tf_vector, tf_vectorizer, tf_feature_names = tf_vctorize(n_max_features, text_all)\n",
    "lda = LDA_analyze(tf_vector, n_topics)"
   ]
  },
  {
   "cell_type": "code",
   "execution_count": null,
   "metadata": {},
   "outputs": [
    {
     "name": "stdout",
     "output_type": "stream",
     "text": [
      "\n",
      "Note: if you're in the IPython notebook, pyLDAvis.show() is not the best command\n",
      "      to use. Consider using pyLDAvis.display(), or pyLDAvis.enable_notebook().\n",
      "      See more information at http://pyLDAvis.github.io/quickstart.html .\n",
      "\n",
      "You must interrupt the kernel to end this command\n",
      "\n",
      "Serving to http://127.0.0.1:8889/    [Ctrl-C to exit]\n"
     ]
    },
    {
     "name": "stderr",
     "output_type": "stream",
     "text": [
      "127.0.0.1 - - [14/Jul/2019 11:02:48] \"GET / HTTP/1.1\" 200 -\n",
      "127.0.0.1 - - [14/Jul/2019 11:02:48] \"GET /LDAvis.css HTTP/1.1\" 200 -\n",
      "127.0.0.1 - - [14/Jul/2019 11:02:48] \"GET /d3.js HTTP/1.1\" 200 -\n",
      "127.0.0.1 - - [14/Jul/2019 11:02:48] \"GET /LDAvis.js HTTP/1.1\" 200 -\n"
     ]
    }
   ],
   "source": [
    "#tfidf, tfidf_feature_names = tf_idf(n_max_features, text_all)\n",
    "pyLDAvis.enable_notebook()\n",
    "lda_prepared = pyLDAvis.sklearn.prepare(lda, tf_vector, tf_vectorizer, R=20)\n",
    "pyLDAvis.show(lda_prepared)"
   ]
  },
  {
   "cell_type": "code",
   "execution_count": 240,
   "metadata": {},
   "outputs": [
    {
     "name": "stdout",
     "output_type": "stream",
     "text": [
      "PreparedData(topic_coordinates=            Freq  cluster  topics         x         y\n",
      "topic                                                \n",
      "9      34.416216        1       1  0.107060  0.036155\n",
      "5      23.640975        1       2  0.141462 -0.072641\n",
      "0      14.211574        1       3  0.141462 -0.072641\n",
      "7      12.682552        1       4  0.015045  0.172638\n",
      "3       6.937734        1       5 -0.097264  0.237869\n",
      "8       4.700521        1       6  0.173647 -0.107607\n",
      "6       1.688222        1       7 -0.231094 -0.121963\n",
      "1       1.270062        1       8 -0.231094 -0.121963\n",
      "2       0.360067        1       9 -0.019476  0.024162\n",
      "4       0.092077        1      10  0.000250  0.025989, topic_info=     Category        Freq          Term       Total  loglift  logprob\n",
      "term                                                                 \n",
      "197   Default  205.000000         place  205.000000  30.0000  30.0000\n",
      "174   Default  185.000000        museum  185.000000  29.0000  29.0000\n",
      "139   Default   60.000000          kids   60.000000  28.0000  28.0000\n",
      "58    Default  216.000000         clock  216.000000  27.0000  27.0000\n",
      "210   Default   95.000000        really   95.000000  26.0000  26.0000\n",
      "188   Default   71.000000          park   71.000000  25.0000  25.0000\n",
      "36    Default  167.000000     buildings  167.000000  24.0000  24.0000\n",
      "24    Default  166.000000     beautiful  166.000000  23.0000  23.0000\n",
      "179   Default  133.000000          nice  133.000000  22.0000  22.0000\n",
      "184   Default   49.000000          open   49.000000  21.0000  21.0000\n",
      "257   Default  157.000000        sweden  157.000000  20.0000  20.0000\n",
      "35    Default   90.000000      building   90.000000  19.0000  19.0000\n",
      "73    Default  112.000000     different  112.000000  18.0000  18.0000\n",
      "194   Default   73.000000        people   73.000000  17.0000  17.0000\n",
      "111   Default   78.000000          good   78.000000  16.0000  16.0000\n",
      "19    Default   82.000000  astronomical   82.000000  15.0000  15.0000\n",
      "66    Default   83.000000         crypt   83.000000  14.0000  14.0000\n",
      "182   Default  183.000000           old  183.000000  13.0000  13.0000\n",
      "42    Default  334.000000     cathedral  334.000000  12.0000  12.0000\n",
      "10    Default   34.000000           air   34.000000  11.0000  11.0000\n",
      "52    Default   34.000000      children   34.000000  10.0000  10.0000\n",
      "126   Default  107.000000        houses  107.000000   9.0000   9.0000\n",
      "55    Default  145.000000        church  145.000000   8.0000   8.0000\n",
      "201   Default   28.000000    playground   28.000000   7.0000   7.0000\n",
      "274   Default   53.000000    university   53.000000   6.0000   6.0000\n",
      "163   Default  395.000000          lund  395.000000   5.0000   5.0000\n",
      "279   Default  213.000000         visit  213.000000   4.0000   4.0000\n",
      "258   Default  132.000000       swedish  132.000000   3.0000   3.0000\n",
      "277   Default   31.000000       various   31.000000   2.0000   2.0000\n",
      "141   Default   75.000000      kulturen   75.000000   1.0000   1.0000\n",
      "...       ...         ...           ...         ...      ...      ...\n",
      "254   Topic10    0.032126           sun    9.842488   1.2655  -5.6840\n",
      "216   Topic10    0.032677     religious   12.626397   1.0334  -5.6670\n",
      "129   Topic10    0.035122    impressive   57.296682  -0.4069  -5.5948\n",
      "58    Topic10    0.036105         clock  216.370844  -1.7080  -5.5672\n",
      "286   Topic10    0.032226          want   14.201418   0.9020  -5.6809\n",
      "133   Topic10    0.034038        inside  103.916997  -1.0336  -5.6262\n",
      "19    Topic10    0.033702  astronomical   82.452141  -0.8121  -5.6361\n",
      "55    Topic10    0.033670        church  145.225361  -1.3791  -5.6370\n",
      "262   Topic10    0.033549          time  135.947490  -1.3167  -5.6407\n",
      "113   Topic10    0.031826         green   10.115657   1.2287  -5.6934\n",
      "21    Topic10    0.031942    attraction   13.158416   0.9694  -5.6897\n",
      "144   Topic10    0.032162         learn   18.653319   0.6273  -5.6829\n",
      "42    Topic10    0.033896     cathedral  334.467885  -2.2067  -5.6304\n",
      "187   Topic10    0.032816       outside   76.835391  -0.7682  -5.6627\n",
      "108   Topic10    0.032539         giant   44.076729  -0.2210  -5.6712\n",
      "23    Topic10    0.032276      basement   24.014518   0.3782  -5.6793\n",
      "76    Topic10    0.032176         early   21.673683   0.4777  -5.6824\n",
      "119   Topic10    0.031929        highly   13.694156   0.9291  -5.6901\n",
      "211   Topic10    0.032172     recommend   32.665971   0.0673  -5.6826\n",
      "267   Topic10    0.032422          town   76.613677  -0.7774  -5.6748\n",
      "279   Topic10    0.032262         visit  213.198234  -1.8058  -5.6798\n",
      "284   Topic10    0.032237       walking   44.191461  -0.2329  -5.6806\n",
      "235   Topic10    0.032178         small   54.690362  -0.4478  -5.6824\n",
      "142   Topic10    0.032123         large   29.538105   0.1664  -5.6841\n",
      "208   Topic10    0.032115         quite   35.372023  -0.0140  -5.6843\n",
      "150   Topic10    0.032066        little   52.909521  -0.4182  -5.6859\n",
      "264   Topic10    0.032064          took   30.678059   0.1267  -5.6859\n",
      "160   Topic10    0.032025         loved   31.970653   0.0842  -5.6871\n",
      "37    Topic10    0.032025         built   22.369236   0.4414  -5.6871\n",
      "165   Topic10    0.032002          main   36.486024  -0.0486  -5.6878\n",
      "\n",
      "[515 rows x 6 columns], token_table=      Topic      Freq           Term\n",
      "term                                \n",
      "0         1  0.794443             00\n",
      "0         6  0.158889             00\n",
      "2         1  0.946701             12\n",
      "5         1  0.655170     absolutely\n",
      "5         6  0.327585     absolutely\n",
      "6         1  0.148820     accessible\n",
      "6         2  0.148820     accessible\n",
      "6         3  0.074410     accessible\n",
      "6         4  0.148820     accessible\n",
      "6         5  0.446461     accessible\n",
      "7         1  0.777600      admission\n",
      "8         1  0.032756            age\n",
      "8         2  0.589607            age\n",
      "8         3  0.360315            age\n",
      "9         2  0.551394           ages\n",
      "9         3  0.315082           ages\n",
      "9         4  0.078771           ages\n",
      "10        6  0.969007            air\n",
      "11        1  0.628736        amazing\n",
      "11        2  0.115820        amazing\n",
      "11        3  0.066183        amazing\n",
      "11        4  0.148911        amazing\n",
      "11        7  0.016546        amazing\n",
      "11        8  0.016546        amazing\n",
      "12        4  0.571012          april\n",
      "12        5  0.285506          april\n",
      "12        9  0.095169          april\n",
      "13        1  0.352584  architectural\n",
      "13        4  0.440730  architectural\n",
      "13        6  0.176292  architectural\n",
      "...     ...       ...            ...\n",
      "289       1  0.222078            way\n",
      "289       2  0.380705            way\n",
      "289       3  0.222078            way\n",
      "289       6  0.158627            way\n",
      "290       1  0.070712        weather\n",
      "290       4  0.282847        weather\n",
      "290       5  0.565694        weather\n",
      "291       1  0.062716           went\n",
      "291       2  0.564448           went\n",
      "291       3  0.334487           went\n",
      "292       2  0.596553         winter\n",
      "292       3  0.298277         winter\n",
      "294       1  0.587511           work\n",
      "294       4  0.293756           work\n",
      "295       1  0.679804        working\n",
      "295       6  0.291344        working\n",
      "296       2  0.107232          world\n",
      "296       3  0.053616          world\n",
      "296       4  0.482544          world\n",
      "296       5  0.107232          world\n",
      "296       6  0.160848          world\n",
      "297       1  0.840102          worth\n",
      "297       2  0.084010          worth\n",
      "297       3  0.056007          worth\n",
      "297       6  0.009334          worth\n",
      "298       1  0.139506           year\n",
      "298       2  0.167407           year\n",
      "298       3  0.111605           year\n",
      "298       4  0.530123           year\n",
      "298       5  0.055802           year\n",
      "\n",
      "[741 rows x 3 columns], R=30, lambda_step=0.01, plot_opts={'xlab': 'PC1', 'ylab': 'PC2'}, topic_order=[10, 6, 1, 8, 4, 9, 7, 2, 3, 5])\n"
     ]
    }
   ],
   "source": [
    "print(lda_prepared)"
   ]
  },
  {
   "cell_type": "code",
   "execution_count": 253,
   "metadata": {},
   "outputs": [
    {
     "name": "stdout",
     "output_type": "stream",
     "text": [
      "30\n",
      "0.01\n",
      "{'xlab': 'PC1', 'ylab': 'PC2'}\n",
      "[10, 6, 1, 8, 4, 9, 7, 2, 3, 5]\n"
     ]
    }
   ],
   "source": [
    "N=10\n",
    "for i in lda_prepared[3:]:\n",
    "    #i.shape()\n",
    "    print(i)\n",
    "    N+=1\n",
    "    #i.to_csv(\"output\"+ str(N) +'.csv')"
   ]
  },
  {
   "cell_type": "code",
   "execution_count": 237,
   "metadata": {},
   "outputs": [
    {
     "name": "stdout",
     "output_type": "stream",
     "text": [
      "Topic #0:\n",
      "[279 126 122 258  73 257 174 182  36]\n",
      "Topic #1:\n",
      "[ 30 277 105 210 193 149  52 201 197]\n",
      "Topic #2:\n",
      "[169  76  68  13  52  12 194  16  17]\n",
      "Topic #3:\n",
      "[ 39  80 283  57 205  59 197 111 179]\n",
      "Topic #4:\n",
      "[216 187 262 209  55  19  42 133 129]\n",
      "Topic #5:\n",
      "[279 126 122 258  73 257 174 182  36]\n",
      "Topic #6:\n",
      "[ 30 277 105 210 193 149  52 201 197]\n",
      "Topic #7:\n",
      "[ 57 133 137  42 274  35 197 179  24]\n",
      "Topic #8:\n",
      "[237 163  36 122 241 124 257  10 184]\n",
      "Topic #9:\n",
      "[135  19  24  66 297 163 279  55  58]\n"
     ]
    }
   ],
   "source": [
    "for topic_idx, topic in enumerate(lda.components_):\n",
    "    print(\"Topic #%d:\" % topic_idx)\n",
    "    #print(topic)\n",
    "    print(topic.argsort()[-10:-1])\n",
    "    #print(topic.argsort()[:-n_top_words - 1:-1])\n",
    "    #print(tf_feature_names)\n",
    "    "
   ]
  },
  {
   "cell_type": "code",
   "execution_count": 183,
   "metadata": {},
   "outputs": [
    {
     "name": "stdout",
     "output_type": "stream",
     "text": [
      "['00', '000', '10', '1000', '1080', '1085', '10th', '11', '1100', '1145', '11th', '12', '12th', '14th', '15', '15th', '17th', '19th', '1st', '20', '20th', '30', '3pm', '900', 'able', 'absolute', 'absolutely', 'access', 'accessible', 'according', 'acoustics', 'action', 'activities', 'actually', 'addition', 'adjacent', 'admire', 'admission', 'adults', 'afternoon', 'age', 'ages', 'ago', 'air', 'alike', 'alive', 'allow', 'allowed', 'altar', 'alter', 'amazing', 'amazingly', 'ambience', 'ancient', 'anytime', 'app', 'appreciate', 'april', 'arch', 'architectural', 'architecture', 'area', 'areas', 'array', 'arrived', 'art', 'artifacts', 'ask', 'asked', 'aspects', 'assembled', 'astrological', 'astronomic', 'astronomical', 'atmosphere', 'attached', 'attended', 'attraction', 'attractions', 'attractive', 'august', 'aula', 'austere', 'authentic', 'autumn', 'available', 'away', 'awe', 'awesome', 'baby', 'bar', 'basement', 'basic', 'basis', 'bathrooms', 'beatiful', 'beautiful', 'beautifull', 'beautifully', 'beauty', 'beds', 'believe', 'belonged', 'bench', 'benches', 'best', 'better', 'big', 'bigger', 'biggest', 'bird', 'birds', 'bit', 'blocks', 'bloom', 'blooming', 'blooms', 'boasts', 'book', 'boring', 'born', 'botan', 'botanic', 'botanical', 'break', 'bright', 'bring', 'brought', 'build', 'building', 'buildings', 'built', 'bushes', 'business', 'busy', 'buy', 'caf', 'cafe', 'cafes', 'calculate', 'calendar', 'called', 'calm', 'calming', 'came', 'campus', 'candle', 'candles', 'care', 'cared', 'carved', 'carvings', 'catacombs', 'catch', 'cathedral', 'cathedrals', 'catholic', 'caught', 'celebrate', 'celebrating', 'celebrations', 'cellar', 'center', 'central', 'centre', 'centuries', 'century', 'ceramics', 'certainly', 'chance', 'characters', 'charge', 'charming', 'check', 'child', 'children', 'chimes', 'choir', 'chose', 'christian', 'christianity', 'christmas', 'church', 'churches', 'city', 'classes', 'clean', 'clear', 'climate', 'climates', 'climbing', 'clock', 'close', 'closed', 'closes', 'cobbled', 'coffee', 'cold', 'collected', 'collection', 'color', 'colorful', 'colours', 'come', 'comes', 'compared', 'complete', 'concert', 'concerts', 'conservatory', 'constructed', 'contain', 'contains', 'cool', 'copenhagen', 'corner', 'cost', 'cosy', 'cottages', 'couldn', 'countryside', 'couple', 'couples', 'course', 'creepy', 'crowd', 'crowded', 'crypt', 'crypts', 'cultural', 'culture', 'cup', 'curious', 'cute', 'daily', 'danish', 'dark', 'date', 'dates', 'dating', 'day', 'days', 'decided', 'decorated', 'decoration', 'decorations', 'definitely', 'delightful', 'denmark', 'design', 'designed', 'details', 'detour', 'did', 'didn', 'different', 'disappointed', 'discover', 'display', 'displayed', 'displays', 'distance', 'diverse', 'does', 'doesn', 'doing', 'dominates', 'dominating', 'domkyrkan', 'don', 'door', 'doors', 'downstairs', 'downtown', 'drink', 'drinking', 'drinks', 'ducks', 'dwellings', 'early', 'earth', 'easily', 'east', 'easy', 'eat', 'eating', 'elements', 'end', 'ended', 'english', 'enjoy', 'enjoyable', 'enjoyed', 'enjoying', 'enormous', 'enter', 'entering', 'entire', 'entrance', 'entry', 'environment', 'equipment', 'era', 'especially', 'europe', 'european', 'evening', 'event', 'events', 'everybody', 'example', 'excellent', 'exception', 'exercise', 'exhibit', 'exhibition', 'exhibitions', 'exhibits', 'exotic', 'expect', 'expected', 'expensive', 'experience', 'experiencing', 'explanation', 'explanations', 'explore', 'exploring', 'extensive', 'exterior', 'externally', 'extremely', 'eyes', 'fabulous', 'facing', 'fact', 'facts', 'fairly', 'fall', 'families', 'family', 'famous', 'fantastic', 'far', 'fascinating', 'favorite', 'features', 'fee', 'feed', 'feel', 'feeling', 'feels', 'felt', 'festival', 'figure', 'figures', 'fika', 'filled', 'final', 'fine', 'finest', 'finn', 'floor', 'flower', 'flowers', 'focal', 'follow', 'food', 'forest', 'forget', 'form', 'formal', 'forum', 'founded', 'fountain', 'free', 'friendly', 'friends', 'fully', 'fun', 'furnished', 'furniture', 'gallery', 'garden', 'gardeners', 'gardens', 'gem', 'getting', 'giant', 'given', 'gives', 'giving', 'glass', 'glasshouse', 'glasshouses', 'goes', 'going', 'gone', 'good', 'gorgeous', 'got', 'gothic', 'grand', 'grandchildren', 'grass', 'graves', 'graveyard', 'great', 'green', 'greenery', 'greenhouse', 'greenhouses', 'grounds', 'group', 'groups', 'grown', 'guide', 'guided', 'gym', 'half', 'hall', 'hand', 'hang', 'hanging', 'happen', 'happened', 'hard', 'having', 'head', 'hear', 'heart', 'help', 'helps', 'high', 'highlight', 'highlights', 'highly', 'historic', 'historical', 'historically', 'history', 'holding', 'home', 'homes', 'horologium', 'hosts', 'hot', 'hothouses', 'hour', 'hours', 'house', 'houses', 'huge', 'husband', 'idea', 'ideal', 'important', 'imposing', 'impressed', 'impressive', 'included', 'includes', 'including', 'incredible', 'indoor', 'indoors', 'info', 'information', 'informative', 'inside', 'insight', 'inspiring', 'interactive', 'interested', 'interesting', 'interior', 'intriguing', 'introduction', 'inviting', 'isn', 'items', 'joined', 'journey', 'joy', 'joyful', 'june', 'just', 'kept', 'kids', 'kind', 'kinds', 'knights', 'know', 'kulturen', 'lady', 'laid', 'lake', 'landmark', 'large', 'late', 'lawns', 'leaflet', 'learn', 'learning', 'leave', 'left', 'legend', 'let', 'level', 'life', 'light', 'like', 'liked', 'listen', 'little', 'live', 'lived', 'living', 'll', 'loads', 'local', 'locals', 'located', 'location', 'long', 'look', 'looked', 'looking', 'looks', 'lot', 'lots', 'love', 'loved', 'lovely', 'lower', 'lucky', 'lunch', 'lunches', 'lund', 'lundag', 'lundense', 'lunds', 'lush', 'lutheran', 'magical', 'magnificent', 'main', 'maintained', 'majestic', 'major', 'make', 'makes', 'malm', 'malmo', 'managed', 'mary', 'mass', 'massive', 'masterpiece', 'matter', 'maybe', 'medieval', 'meet', 'meeting', 'men', 'meter', 'mid', 'midday', 'middle', 'mighty', 'mind', 'minutes', 'miss', 'missed', 'mixture', 'model', 'modern', 'moment', 'mon', 'money', 'months', 'monument', 'moon', 'morning', 'mornings', 'moved', 'moving', 'museum', 'museums', 'music', 'musical', 'natural', 'nature', 'ne', 'near', 'nearby', 'need', 'new', 'nice', 'night', 'noon', 'nordic', 'north', 'northern', 'note', 'notice', 'number', 'oasis', 'object', 'objects', 'october', 'offer', 'offers', 'office', 'old', 'older', 'oldest', 'ones', 'open', 'orchids', 'organ', 'organized', 'original', 'ornate', 'outdoor', 'outdoors', 'outside', 'outstanding', 'overall', 'painted', 'park', 'particular', 'particularly', 'partly', 'parts', 'party', 'passed', 'passing', 'past', 'pastor', 'paths', 'pay', 'peace', 'peaceful', 'pedestrian', 'people', 'perfect', 'perfectly', 'period', 'periods', 'permanent', 'person', 'photograph', 'photos', 'pick', 'picknick', 'picnic', 'picnics', 'picture', 'piece', 'pillar', 'pillars', 'place', 'places', 'plain', 'plant', 'plants', 'play', 'playground', 'playing', 'plays', 'pleasant', 'pleasure', 'plenty', 'plus', 'pm', 'point', 'pond', 'poor', 'pop', 'pope', 'popular', 'possible', 'power', 'prague', 'present', 'presentation', 'preserved', 'pretty', 'price', 'prices', 'probably', 'procession', 'provided', 'provides', 'public', 'purposes', 'quail', 'quails', 'quick', 'quiet', 'quirky', 'quite', 'rain', 'rainy', 'range', 'rare', 'rd', 'read', 'reading', 'real', 'really', 'reason', 'rebuilt', 'recently', 'recommend', 'recommended', 'region', 'regular', 'relatively', 'relax', 'relaxed', 'relaxing', 'religious', 'remains', 'remember', 'represented', 'research', 'rest', 'restaurant', 'restaurants', 'restored', 'rich', 'right', 'roam', 'rock', 'role', 'roman', 'romanesque', 'roof', 'room', 'rooms', 'round', 'run', 'running', 'sadly', 'said', 'sandstone', 'sat', 'saturday', 'saw', 'say', 'says', 'scandinavia', 'scandinavian', 'scania', 'scenery', 'school', 'season', 'seat', 'seating', 'seats', 'second', 'sections', 'seeing', 'seen', 'selection', 'sense', 'september', 'serenity', 'served', 'serves', 'service', 'services', 'set', 'setting', 'shop', 'shops', 'short', 'shouldn', 'showing', 'shows', 'shrubs', 'sight', 'sights', 'signs', 'silence', 'similar', 'simple', 'simply', 'singing', 'sit', 'site', 'sites', 'sitting', 'situated', 'size', 'sk', 'skane', 'skansen', 'slightly', 'small', 'smaller', 'smells', 'snacks', 'solo', 'somewhat', 'son', 'sorts', 'sound', 'south', 'southern', 'space', 'spacious', 'special', 'specially', 'species', 'spectacular', 'spend', 'spending', 'spent', 'spiritual', 'spot', 'spread', 'spring', 'square', 'stadsparken', 'staff', 'stalls', 'standing', 'stands', 'start', 'started', 'starting', 'starts', 'station', 'statue', 'stay', 'stayed', 'staying', 'stocked', 'stockholm', 'stone', 'stones', 'stop', 'stopped', 'stops', 'stories', 'story', 'strange', 'street', 'streets', 'strike', 'striking', 'stroll', 'strolling', 'structure', 'student', 'students', 'study', 'stuff', 'stunning', 'style', 'summer', 'sun', 'sunday', 'sunny', 'super', 'sure', 'surprised', 'surrounded', 'surrounding', 'surroundings', 'sweden', 'swedes', 'swedish', 'sweet', 'taken', 'taking', 'tale', 'talk', 'tea', 'tell', 'temperature', 'temporary', 'text', 'thing', 'things', 'think', 'thought', 'thousand', 'thousands', 'till', 'time', 'times', 'timing', 'tiny', 'today', 'told', 'tombs', 'took', 'totally', 'touching', 'tour', 'tourist', 'tourists', 'tours', 'towers', 'town', 'traditional', 'train', 'tranquility', 'travel', 'traveling', 'treat', 'tree', 'trees', 'trip', 'tropical', 'true', 'truly', 'try', 'trying', 'twice', 'type', 'types', 'typical', 'underground', 'understand', 'understanding', 'unexpected', 'unfortunately', 'unique', 'university', 'unlike', 'unusual', 'use', 'used', 'usually', 'varieties', 'variety', 'various', 've', 'view', 'vikings', 'village', 'visit', 'visited', 'visiting', 'visitor', 'visitors', 'visually', 'wait', 'walk', 'walked', 'walking', 'wall', 'wander', 'wandering', 'want', 'warm', 'warmth', 'wasn', 'watch', 'watching', 'way', 'ways', 'weather', 'week', 'welcome', 'welcoming', 'went', 'white', 'wich', 'wide', 'wife', 'wild', 'windows', 'wine', 'winter', 'wish', 'witness', 'woman', 'wonder', 'wonderful', 'wood', 'wooden', 'word', 'work', 'working', 'works', 'world', 'worth', 'wow', 'year', 'years', 'yes', 'young', 'youngsters', 'zones']\n"
     ]
    }
   ],
   "source": [
    "print(tf_feature_names)"
   ]
  },
  {
   "cell_type": "code",
   "execution_count": 239,
   "metadata": {},
   "outputs": [
    {
     "name": "stdout",
     "output_type": "stream",
     "text": [
      "Topic #0:\n",
      "lund buildings old museum sweden different swedish history houses visit time place interesting kulturen day trip really cathedral people outside went house exhibits times life culture small visited lived exhibitions\n",
      "Topic #1:\n",
      "kids place playground children liked peaceful really fun various bit enjoyed exhibits denmark great area going especially love caf outdoor old set fantastic perfect took season beauty summer amazing way\n",
      "Topic #2:\n",
      "exhibition art areas people april children architectural dating early medieval religious noon different lund day crypt visited huge beautiful visit nice center church old fascinating cathedral interesting museum small century\n",
      "Topic #3:\n",
      "park nice good place close pond city walk enjoy cafe recommended people lund children little birds relax students coffee located miss day town outdoor play weather stadsparken look easily sunny\n",
      "Topic #4:\n",
      "clock impressive inside cathedral astronomical church read time outside religious giant town basement visit walking want small early recommend learn sun large quite little took loved built main attraction highly\n",
      "Topic #5:\n",
      "lund buildings old museum sweden different swedish history houses visit time place interesting kulturen day trip really cathedral people outside went house exhibits times life culture small visited lived exhibitions\n",
      "Topic #6:\n",
      "kids place playground children liked peaceful really fun various bit enjoyed exhibits denmark great area going especially love caf outdoor old set fantastic perfect took season beauty summer amazing way\n",
      "Topic #7:\n",
      "lund beautiful nice place building university cathedral just inside city year day recommend quiet famous spring walk town walking main great look center want garden students area like time huge\n",
      "Topic #8:\n",
      "museum open air sweden hours spent history buildings lund southern people houses enjoyed great building kulturen city entrance exhibitions culture really way showing walking fantastic interested nice swedish friendly visiting\n",
      "Topic #9:\n",
      "cathedral clock church visit lund worth crypt beautiful astronomical interesting inside history old impressive time giant miss amazing don free tour architecture visiting finn english building century town sweden visited\n",
      "\n"
     ]
    }
   ],
   "source": [
    "def print_top_words(model, feature_names, n_top_words):\n",
    "    for topic_idx, topic in enumerate(model.components_):\n",
    "        print(\"Topic #%d:\" % topic_idx)\n",
    "        print(\" \".join([feature_names[i]\n",
    "                        for i in topic.argsort()[:-30 - 1:-1]]))\n",
    "    print()\n",
    "print_top_words(lda, tf_feature_names, n_top_words)"
   ]
  },
  {
   "cell_type": "code",
   "execution_count": null,
   "metadata": {},
   "outputs": [],
   "source": []
  },
  {
   "cell_type": "code",
   "execution_count": null,
   "metadata": {},
   "outputs": [],
   "source": []
  }
 ],
 "metadata": {
  "kernelspec": {
   "display_name": "Python 3",
   "language": "python",
   "name": "python3"
  },
  "language_info": {
   "codemirror_mode": {
    "name": "ipython",
    "version": 3
   },
   "file_extension": ".py",
   "mimetype": "text/x-python",
   "name": "python",
   "nbconvert_exporter": "python",
   "pygments_lexer": "ipython3",
   "version": "3.6.6"
  }
 },
 "nbformat": 4,
 "nbformat_minor": 2
}
