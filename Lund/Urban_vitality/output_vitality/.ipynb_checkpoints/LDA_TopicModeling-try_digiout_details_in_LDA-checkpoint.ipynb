{
 "cells": [
  {
   "cell_type": "code",
   "execution_count": 1,
   "metadata": {},
   "outputs": [],
   "source": [
    "from sklearn.feature_extraction.text import TfidfVectorizer, CountVectorizer\n",
    "from sklearn.decomposition import NMF, LatentDirichletAllocation\n",
    "import pyLDAvis\n",
    "import pyLDAvis.sklearn\n",
    "import pyLDAvis.gensim\n",
    "import numpy as np\n",
    "from datetime import datetime, date, time\n",
    "import csv\n",
    "import sys\n",
    "import importlib\n",
    "import pandas as pd"
   ]
  },
  {
   "cell_type": "code",
   "execution_count": 2,
   "metadata": {},
   "outputs": [],
   "source": [
    "LANGUAGE = '[English]'"
   ]
  },
  {
   "cell_type": "code",
   "execution_count": 3,
   "metadata": {},
   "outputs": [],
   "source": [
    "def tf_vctorize(n_max_features, text):\n",
    "    #n_features = 1000\n",
    "    tf_vectorizer = CountVectorizer(strip_accents = 'unicode',\n",
    "                                max_features=n_max_features,\n",
    "                                stop_words='english',\n",
    "                                max_df = 0.95,\n",
    "                                min_df = 2)\n",
    "    tf = tf_vectorizer.fit_transform(text)\n",
    "    tf_feature_names = tf_vectorizer.get_feature_names()\n",
    "    return tf, tf_vectorizer, tf_feature_names\n",
    "    \n",
    "\n",
    "def LDA_analyze(tf_vector, n_topics):\n",
    "    lda = LatentDirichletAllocation(n_topics=n_topics,doc_topic_prior =1/(n_topics*10), max_iter=50,\n",
    "                                learning_method='online',\n",
    "                                learning_offset=50.,\n",
    "                                evaluate_every = 1,\n",
    "                                random_state=0)\n",
    "    lda.fit(tf_vector)\n",
    "    print(lda)\n",
    "    return lda\n",
    "\n",
    "def tf_idf(n_max_features, text):\n",
    "    tfidf_vectorizer = TfidfVectorizer(max_df=0.95,\n",
    "                                       min_df=2,\n",
    "                                       max_features=n_max_features,\n",
    "                                       stop_words='english')\n",
    "    tfidf = tfidf_vectorizer.fit_transform(text)\n",
    "    tfidf_feature_names = tfidf_vectorizer.get_feature_names()\n",
    "    return tfidf, tfidf_feature_names\n"
   ]
  },
  {
   "cell_type": "code",
   "execution_count": 8,
   "metadata": {},
   "outputs": [],
   "source": [
    "data = pd.read_csv('sort_by_group.csv')"
   ]
  },
  {
   "cell_type": "code",
   "execution_count": null,
   "metadata": {},
   "outputs": [],
   "source": []
  },
  {
   "cell_type": "code",
   "execution_count": 4,
   "metadata": {},
   "outputs": [
    {
     "name": "stderr",
     "output_type": "stream",
     "text": [
      "/Library/Frameworks/Python.framework/Versions/3.6/lib/python3.6/site-packages/sklearn/decomposition/online_lda.py:314: DeprecationWarning: n_topics has been renamed to n_components in version 0.19 and will be removed in 0.21\n",
      "  DeprecationWarning)\n"
     ]
    },
    {
     "name": "stdout",
     "output_type": "stream",
     "text": [
      "LatentDirichletAllocation(batch_size=128, doc_topic_prior=0.01,\n",
      "             evaluate_every=1, learning_decay=0.7,\n",
      "             learning_method='online', learning_offset=50.0,\n",
      "             max_doc_update_iter=100, max_iter=50, mean_change_tol=0.001,\n",
      "             n_components=10, n_jobs=None, n_topics=10, perp_tol=0.1,\n",
      "             random_state=0, topic_word_prior=None,\n",
      "             total_samples=1000000.0, verbose=0)\n"
     ]
    }
   ],
   "source": [
    "data = pd.read_csv('sort_by_group.csv')\n",
    "data_language = data[data['a'] == LANGUAGE]\n",
    "text_all = data_language['eng'].tolist()\n",
    "\n",
    "n_max_features=300\n",
    "n_topics = 10\n",
    "n_top_words = 10\n",
    "\n",
    "tf_vector, tf_vectorizer, tf_feature_names = tf_vctorize(n_max_features, text_all)\n",
    "lda = LDA_analyze(tf_vector, n_topics)"
   ]
  },
  {
   "cell_type": "code",
   "execution_count": 5,
   "metadata": {},
   "outputs": [
    {
     "name": "stdout",
     "output_type": "stream",
     "text": [
      "CountVectorizer(analyzer='word', binary=False, decode_error='strict',\n",
      "        dtype=<class 'numpy.int64'>, encoding='utf-8', input='content',\n",
      "        lowercase=True, max_df=0.95, max_features=300, min_df=2,\n",
      "        ngram_range=(1, 1), preprocessor=None, stop_words='english',\n",
      "        strip_accents='unicode', token_pattern='(?u)\\\\b\\\\w\\\\w+\\\\b',\n",
      "        tokenizer=None, vocabulary=None)\n"
     ]
    }
   ],
   "source": [
    "print(tf_vectorizer)"
   ]
  },
  {
   "cell_type": "code",
   "execution_count": 6,
   "metadata": {},
   "outputs": [
    {
     "name": "stdout",
     "output_type": "stream",
     "text": [
      "(955, 300)\n"
     ]
    }
   ],
   "source": [
    "print(tf_vector.toarray().shape)"
   ]
  },
  {
   "cell_type": "code",
   "execution_count": 7,
   "metadata": {},
   "outputs": [
    {
     "name": "stdout",
     "output_type": "stream",
     "text": [
      "16\n"
     ]
    }
   ],
   "source": [
    "print(lda.n_iter_ )"
   ]
  },
  {
   "cell_type": "code",
   "execution_count": 215,
   "metadata": {},
   "outputs": [
    {
     "name": "stdout",
     "output_type": "stream",
     "text": [
      "[ 0.25229479  0.10611968  0.10802895  0.10658163  1.13063786  0.11222749\n",
      "  1.03152832  0.10467487 10.69552992  8.23991477  0.11222707  4.0640955\n",
      "  0.11180876  0.10482432  0.10599107 10.89540027  0.99984214  0.28842371\n",
      "  0.10406079  0.10415238  0.11083578  0.10697244  4.9279203   0.10403927\n",
      "  2.5093174   0.15135305  0.10538081  0.10560459  1.5254327   0.10585154\n",
      "  1.69136956  0.10849445  2.48784085  0.22893444  0.10497163  0.10577029\n",
      " 59.17845883  0.23588046  1.32030484  1.91318294  0.10469423  2.32842909\n",
      " 19.16949072  0.1064584   0.87363293  0.10930749  6.37277768  8.53336925\n",
      "  0.10670548  0.11199607  9.26145883  0.75115567  1.30184683  0.10572675\n",
      "  6.81215956  5.85259871  1.07321099  8.45929585  0.10784698  0.11173398\n",
      "  1.1222021   9.18573506  5.71059232  2.586606   12.15406011  7.91124294\n",
      "  0.1239152  13.38824263  0.10583545 23.37840157  1.39562947  1.86046083\n",
      "  4.23108981 41.69535558  5.13739566  1.54444737  5.2212446   3.00404494\n",
      "  0.66346878  0.11194305  1.69237518  4.97686898  3.30826237  0.19100499\n",
      "  0.11069183  0.10891149  4.46950462  2.01308133 12.47679972 15.08208763\n",
      "  3.71037024  9.19659821  0.1040261   0.30066691  0.10630942  5.45133106\n",
      "  1.07951787  0.10800299  4.21245579  0.10684759  0.13125626  0.1629811\n",
      "  0.18363696  0.10927934  1.22975272  0.76255904  0.1360477   3.08805728\n",
      "  0.15340406  0.12284632  2.86008946 11.84080302 11.22438975  0.77674569\n",
      "  0.14648542  0.12794386  6.0598406   0.10429027  0.10522339  1.77381052\n",
      "  4.83188336  8.89170521 38.02105663  0.10806562 10.38146931 15.69847046\n",
      " 35.69656513  0.10508271  1.10245641  0.64517442  5.6808759   3.86836723\n",
      "  7.30479607  6.39726714  0.11047441 28.18700429  0.14003126  3.57359542\n",
      "  1.22338531  0.73642788  0.10611127 25.75773138  7.62489024  0.11386164\n",
      "  2.70535842  0.10490479 13.84360908  2.47573259  0.15901104  3.6260193\n",
      " 10.67936369  3.53197635 12.53780167  0.10462569  0.62109423  0.10552413\n",
      "  3.62910184  8.26986219  0.1084198   9.01258473  9.44257999  0.13004084\n",
      "  2.25272676 61.28602209  0.10838764  0.11321949  0.12572029  1.56590234\n",
      "  0.33207101  2.22214203  7.73918691  0.10591539  0.34711763  0.10415798\n",
      " 47.60443595  0.10711675  4.25402588  4.37311276  2.98011255  5.38810262\n",
      "  0.10430041  0.10453838 47.92061277  0.11554197  0.11845565  0.10422026\n",
      "  7.18265539 17.0620197   0.1054894   3.35475617  4.12116629  7.41247878\n",
      "  0.10561675  0.10649325 18.10315593  0.10667701  0.10486008 29.8442526\n",
      "  1.06344721  0.39941411  2.1046606   0.10844087  0.104118    3.77489429\n",
      "  3.4975676   0.1076685   0.10809248  0.10480736  3.50173952  0.39975437\n",
      " 19.36351099  3.97084928  0.17272741  0.97060606  0.10492307  0.10436668\n",
      "  0.10696324  7.36650505  1.33930164  2.74563692  0.10718942  0.10551921\n",
      "  3.52876515  1.04139462  0.10606635  1.2792289   0.11214072  0.10583464\n",
      "  8.44163728  2.63695278  5.33466525  0.11515099  0.15510685  0.10496633\n",
      "  3.3531141  12.69998462  1.6921179   3.73459289  8.35151292  0.25332586\n",
      "  5.8879313   5.40779452  0.12037785  0.1125838   2.954581    0.10547126\n",
      "  0.5980262   0.1048835   0.10873219  1.30203069  0.10472059  0.1078195\n",
      "  0.11564478  0.11008286  0.10417734  0.11259413  0.12981292 43.56659019\n",
      " 40.69505045  0.10365524  4.53519666  3.12798431 30.00204824 15.03615967\n",
      "  7.49009086  0.10498524  0.10477909  9.88153923  5.62439766  0.13046922\n",
      " 22.01754189  0.10824233  0.104937    0.10343757  1.35305033 10.01880135\n",
      "  2.77649382  7.39530493  7.09046436 32.45253311 12.63112996  0.14501195\n",
      "  1.04085627 10.44920304  6.50699756  0.11243311  0.1042353   0.10378188\n",
      "  2.69401225  7.09741308  0.10617185 16.39175473  2.20495295  5.72759444\n",
      "  0.10989864  0.10521848  1.43184513  5.49321016  3.63872837  9.27082672]\n"
     ]
    }
   ],
   "source": [
    "print(lda.components_[0])"
   ]
  },
  {
   "cell_type": "code",
   "execution_count": 228,
   "metadata": {},
   "outputs": [],
   "source": [
    "t = lda.components_[1][:]"
   ]
  },
  {
   "cell_type": "code",
   "execution_count": 229,
   "metadata": {},
   "outputs": [
    {
     "name": "stdout",
     "output_type": "stream",
     "text": [
      "[ 0.10512812  0.10772766  0.1043607   0.10439981  0.10459786  0.10391019\n",
      "  0.10430052  0.10427174  0.1051046   0.10425774  0.10760246  0.95014404\n",
      "  0.104159    0.10516775  0.10384635  1.63917649  0.10458853  0.10365161\n",
      "  0.10413468  0.10790595  0.10449468  0.10730397  0.1045451   0.1048842\n",
      "  0.106761    0.99513535  0.10363917  0.10416767  0.10401546  0.10493999\n",
      "  2.60565264  0.10471637  0.10476695  0.1047131   0.10487507  0.10473145\n",
      "  0.10681146  0.10443353  1.25607765  0.1049334   0.10446904  0.10463691\n",
      "  0.10755176  0.1043032   0.10480871  0.10495439  0.10460311  0.10465698\n",
      "  0.10488201  0.10430181  0.10430515  0.10390209  6.87153386  0.10448967\n",
      "  0.10472707  0.10692883  0.10404533  0.10465747  0.10758113  0.10529181\n",
      "  0.10502558  0.10400869  0.10502266  0.10445431  0.10463518  0.10341776\n",
      "  0.10715222  0.10471859  0.10430732  0.10415465  0.10404194  1.77617994\n",
      "  0.10426964  0.10420207  0.10435834  0.10468116  0.10359229  0.10425245\n",
      "  0.10403549  0.10505871  0.10421449  1.92580464  0.10416931  0.10321186\n",
      "  1.37075453  0.10577774  0.10397219  0.10367155  0.10457238  1.8823898\n",
      "  0.10458999  0.10506823  0.10410636  1.05681027  0.10497333  0.10447284\n",
      "  0.10414617  0.10483809  0.10415027  0.10434658  0.10410427  0.10438293\n",
      "  0.1043022   0.10423957  0.10391624  5.04354401  0.10491603  0.10481344\n",
      "  0.10424195  0.10409573  1.57816519  0.1035054   1.73662901  0.10406753\n",
      "  0.10392496  0.10394175  0.10412297  0.10477342  0.10363275  0.1049078\n",
      "  0.10492033  0.1053873   0.10743197  0.10414954  0.10457912  0.10634995\n",
      "  0.1116772   0.10451546  0.10443969  0.10452267  0.10424502  0.10453821\n",
      "  0.10411857  0.1046276   0.10446113  0.10743835  0.10527444  0.10476245\n",
      "  0.10475676 23.63092279  0.10638641  0.10447932  0.10412098  0.10446537\n",
      "  0.10405502  0.10517571  0.10459134  0.10400903  0.10844127  6.38891252\n",
      "  0.10514148  0.10534176  0.10372195  0.10443435  0.10501352  0.10515054\n",
      "  0.10416393  0.10794284  0.10704263  1.36086632  0.10455802  0.10462224\n",
      "  0.1052507   0.10422707  0.10465719  0.10823345  0.10472453  0.10500565\n",
      "  0.10452727  0.10493664  0.10473717  0.1046477   0.10499648  0.105635\n",
      "  0.10759517  0.104331    0.10419243  0.10450679  0.10434802  0.10392001\n",
      "  0.1037132   0.10429991  1.08575206  0.10457711  0.10712575  0.10460636\n",
      "  1.19590407  0.10464632  0.10508599  0.10418132  0.10739372  0.1040311\n",
      "  0.10451588  5.90918835  0.10458675  1.00142231  0.10516223 12.27258327\n",
      "  0.10423817  0.10474371  0.10428877  9.19792599  0.10407426  0.10630411\n",
      "  0.10394834  0.10417325  0.10467811  0.10715299  0.10430705  0.10404344\n",
      "  5.51948534  0.10383549  0.1039683   0.10501486  0.10475259  0.10441437\n",
      "  0.10386884  0.10515591  0.10451296  0.10575381  0.10467481  0.10530267\n",
      "  0.10537421  0.10577623  0.99551948  0.10408194  0.10406812  0.10537915\n",
      "  1.07817243  0.10422928  0.10485414  0.1077132   0.10445313  0.10465116\n",
      "  0.10474828  0.10443508  0.10522426  0.10429274  0.10493465  0.10409874\n",
      "  0.10435661  0.10497421  0.10424642  0.10470496  0.10484356  0.10489935\n",
      "  0.10714947  0.10521758  0.10443637  0.10407073  0.1046805   0.10441844\n",
      "  0.10405122  0.95304178  0.10432064  0.10507294  0.10471412  0.10459192\n",
      "  0.10733371  0.10477155  0.10459244  0.10438306  0.10703631  0.10456079\n",
      "  0.99578872  0.10461452  0.10476564  0.10872642  0.10400677  0.10567955\n",
      "  0.10410548  0.10405418  0.10714408  0.10453913  0.10428454  0.10504514\n",
      "  0.10653116  3.79214691  0.10416355  0.10733379  0.10488888  0.10504648\n",
      "  0.10469438  0.10373319  0.10480063  0.10539707  0.1047113   0.10419674\n",
      "  0.10413901  0.11275931  0.10441277  0.1050883   0.10384612  0.1052306\n",
      "  0.10459602  0.10389545  0.10453971  0.10484988  0.10463386  0.10470094]\n"
     ]
    }
   ],
   "source": [
    "print(t)"
   ]
  },
  {
   "cell_type": "code",
   "execution_count": 230,
   "metadata": {},
   "outputs": [],
   "source": [
    "lda.components_[6][:] = t"
   ]
  },
  {
   "cell_type": "code",
   "execution_count": 231,
   "metadata": {},
   "outputs": [],
   "source": [
    "#lda.components_[5:10] = lda.components_[0:5]"
   ]
  },
  {
   "cell_type": "code",
   "execution_count": null,
   "metadata": {},
   "outputs": [],
   "source": []
  },
  {
   "cell_type": "code",
   "execution_count": 232,
   "metadata": {},
   "outputs": [
    {
     "name": "stdout",
     "output_type": "stream",
     "text": [
      "[[ 0.25229479  0.10611968  0.10802895 ...  5.49321016  3.63872837\n",
      "   9.27082672]\n",
      " [ 0.10512812  0.10772766  0.1043607  ...  0.10484988  0.10463386\n",
      "   0.10470094]\n",
      " [ 0.10445961  0.10380779  0.10453425 ...  0.10900421  0.10395251\n",
      "   0.1044825 ]\n",
      " ...\n",
      " [ 0.10493901  0.11793021  0.10398154 ...  0.10637042 19.79748271\n",
      "   2.39224454]\n",
      " [ 2.63976113  0.10440386  0.10541207 ...  1.38864505  0.10482602\n",
      "   0.10511297]\n",
      " [14.9848316  10.01607521 14.91140177 ... 90.54413046  4.64406957\n",
      "  16.22703553]]\n"
     ]
    }
   ],
   "source": [
    "print(lda.components_)"
   ]
  },
  {
   "cell_type": "code",
   "execution_count": 233,
   "metadata": {},
   "outputs": [],
   "source": [
    "#print(lda.components_[0:1][0:10])"
   ]
  },
  {
   "cell_type": "code",
   "execution_count": 234,
   "metadata": {},
   "outputs": [],
   "source": [
    "#print(lda.transform())"
   ]
  },
  {
   "cell_type": "code",
   "execution_count": 235,
   "metadata": {},
   "outputs": [
    {
     "name": "stdout",
     "output_type": "stream",
     "text": [
      "  (0, 35)\t1\n",
      "  (0, 120)\t1\n",
      "  (0, 179)\t1\n",
      "  (0, 57)\t1\n",
      "  (0, 274)\t1\n",
      "  (0, 279)\t3\n",
      "  (0, 163)\t1\n"
     ]
    }
   ],
   "source": [
    "print(tf_vector[2])"
   ]
  },
  {
   "cell_type": "code",
   "execution_count": 236,
   "metadata": {},
   "outputs": [
    {
     "name": "stdout",
     "output_type": "stream",
     "text": [
      "\n",
      "Note: if you're in the IPython notebook, pyLDAvis.show() is not the best command\n",
      "      to use. Consider using pyLDAvis.display(), or pyLDAvis.enable_notebook().\n",
      "      See more information at http://pyLDAvis.github.io/quickstart.html .\n",
      "\n",
      "You must interrupt the kernel to end this command\n",
      "\n",
      "Serving to http://127.0.0.1:8889/    [Ctrl-C to exit]\n"
     ]
    },
    {
     "name": "stderr",
     "output_type": "stream",
     "text": [
      "127.0.0.1 - - [27/Jan/2019 07:10:51] \"GET / HTTP/1.1\" 200 -\n",
      "127.0.0.1 - - [27/Jan/2019 07:10:51] \"GET /LDAvis.css HTTP/1.1\" 200 -\n",
      "127.0.0.1 - - [27/Jan/2019 07:10:51] \"GET /d3.js HTTP/1.1\" 200 -\n",
      "127.0.0.1 - - [27/Jan/2019 07:10:51] \"GET /LDAvis.js HTTP/1.1\" 200 -\n"
     ]
    },
    {
     "name": "stdout",
     "output_type": "stream",
     "text": [
      "\n",
      "stopping Server...\n"
     ]
    }
   ],
   "source": [
    "tfidf, tfidf_feature_names = tf_idf(n_max_features, text_all)\n",
    "pyLDAvis.enable_notebook()\n",
    "lda_prepared = pyLDAvis.sklearn.prepare(lda, tf_vector, tf_vectorizer)\n",
    "pyLDAvis.show(lda_prepared)"
   ]
  },
  {
   "cell_type": "code",
   "execution_count": 240,
   "metadata": {},
   "outputs": [
    {
     "name": "stdout",
     "output_type": "stream",
     "text": [
      "PreparedData(topic_coordinates=            Freq  cluster  topics         x         y\n",
      "topic                                                \n",
      "9      34.416216        1       1  0.107060  0.036155\n",
      "5      23.640975        1       2  0.141462 -0.072641\n",
      "0      14.211574        1       3  0.141462 -0.072641\n",
      "7      12.682552        1       4  0.015045  0.172638\n",
      "3       6.937734        1       5 -0.097264  0.237869\n",
      "8       4.700521        1       6  0.173647 -0.107607\n",
      "6       1.688222        1       7 -0.231094 -0.121963\n",
      "1       1.270062        1       8 -0.231094 -0.121963\n",
      "2       0.360067        1       9 -0.019476  0.024162\n",
      "4       0.092077        1      10  0.000250  0.025989, topic_info=     Category        Freq          Term       Total  loglift  logprob\n",
      "term                                                                 \n",
      "197   Default  205.000000         place  205.000000  30.0000  30.0000\n",
      "174   Default  185.000000        museum  185.000000  29.0000  29.0000\n",
      "139   Default   60.000000          kids   60.000000  28.0000  28.0000\n",
      "58    Default  216.000000         clock  216.000000  27.0000  27.0000\n",
      "210   Default   95.000000        really   95.000000  26.0000  26.0000\n",
      "188   Default   71.000000          park   71.000000  25.0000  25.0000\n",
      "36    Default  167.000000     buildings  167.000000  24.0000  24.0000\n",
      "24    Default  166.000000     beautiful  166.000000  23.0000  23.0000\n",
      "179   Default  133.000000          nice  133.000000  22.0000  22.0000\n",
      "184   Default   49.000000          open   49.000000  21.0000  21.0000\n",
      "257   Default  157.000000        sweden  157.000000  20.0000  20.0000\n",
      "35    Default   90.000000      building   90.000000  19.0000  19.0000\n",
      "73    Default  112.000000     different  112.000000  18.0000  18.0000\n",
      "194   Default   73.000000        people   73.000000  17.0000  17.0000\n",
      "111   Default   78.000000          good   78.000000  16.0000  16.0000\n",
      "19    Default   82.000000  astronomical   82.000000  15.0000  15.0000\n",
      "66    Default   83.000000         crypt   83.000000  14.0000  14.0000\n",
      "182   Default  183.000000           old  183.000000  13.0000  13.0000\n",
      "42    Default  334.000000     cathedral  334.000000  12.0000  12.0000\n",
      "10    Default   34.000000           air   34.000000  11.0000  11.0000\n",
      "52    Default   34.000000      children   34.000000  10.0000  10.0000\n",
      "126   Default  107.000000        houses  107.000000   9.0000   9.0000\n",
      "55    Default  145.000000        church  145.000000   8.0000   8.0000\n",
      "201   Default   28.000000    playground   28.000000   7.0000   7.0000\n",
      "274   Default   53.000000    university   53.000000   6.0000   6.0000\n",
      "163   Default  395.000000          lund  395.000000   5.0000   5.0000\n",
      "279   Default  213.000000         visit  213.000000   4.0000   4.0000\n",
      "258   Default  132.000000       swedish  132.000000   3.0000   3.0000\n",
      "277   Default   31.000000       various   31.000000   2.0000   2.0000\n",
      "141   Default   75.000000      kulturen   75.000000   1.0000   1.0000\n",
      "...       ...         ...           ...         ...      ...      ...\n",
      "254   Topic10    0.032126           sun    9.842488   1.2655  -5.6840\n",
      "216   Topic10    0.032677     religious   12.626397   1.0334  -5.6670\n",
      "129   Topic10    0.035122    impressive   57.296682  -0.4069  -5.5948\n",
      "58    Topic10    0.036105         clock  216.370844  -1.7080  -5.5672\n",
      "286   Topic10    0.032226          want   14.201418   0.9020  -5.6809\n",
      "133   Topic10    0.034038        inside  103.916997  -1.0336  -5.6262\n",
      "19    Topic10    0.033702  astronomical   82.452141  -0.8121  -5.6361\n",
      "55    Topic10    0.033670        church  145.225361  -1.3791  -5.6370\n",
      "262   Topic10    0.033549          time  135.947490  -1.3167  -5.6407\n",
      "113   Topic10    0.031826         green   10.115657   1.2287  -5.6934\n",
      "21    Topic10    0.031942    attraction   13.158416   0.9694  -5.6897\n",
      "144   Topic10    0.032162         learn   18.653319   0.6273  -5.6829\n",
      "42    Topic10    0.033896     cathedral  334.467885  -2.2067  -5.6304\n",
      "187   Topic10    0.032816       outside   76.835391  -0.7682  -5.6627\n",
      "108   Topic10    0.032539         giant   44.076729  -0.2210  -5.6712\n",
      "23    Topic10    0.032276      basement   24.014518   0.3782  -5.6793\n",
      "76    Topic10    0.032176         early   21.673683   0.4777  -5.6824\n",
      "119   Topic10    0.031929        highly   13.694156   0.9291  -5.6901\n",
      "211   Topic10    0.032172     recommend   32.665971   0.0673  -5.6826\n",
      "267   Topic10    0.032422          town   76.613677  -0.7774  -5.6748\n",
      "279   Topic10    0.032262         visit  213.198234  -1.8058  -5.6798\n",
      "284   Topic10    0.032237       walking   44.191461  -0.2329  -5.6806\n",
      "235   Topic10    0.032178         small   54.690362  -0.4478  -5.6824\n",
      "142   Topic10    0.032123         large   29.538105   0.1664  -5.6841\n",
      "208   Topic10    0.032115         quite   35.372023  -0.0140  -5.6843\n",
      "150   Topic10    0.032066        little   52.909521  -0.4182  -5.6859\n",
      "264   Topic10    0.032064          took   30.678059   0.1267  -5.6859\n",
      "160   Topic10    0.032025         loved   31.970653   0.0842  -5.6871\n",
      "37    Topic10    0.032025         built   22.369236   0.4414  -5.6871\n",
      "165   Topic10    0.032002          main   36.486024  -0.0486  -5.6878\n",
      "\n",
      "[515 rows x 6 columns], token_table=      Topic      Freq           Term\n",
      "term                                \n",
      "0         1  0.794443             00\n",
      "0         6  0.158889             00\n",
      "2         1  0.946701             12\n",
      "5         1  0.655170     absolutely\n",
      "5         6  0.327585     absolutely\n",
      "6         1  0.148820     accessible\n",
      "6         2  0.148820     accessible\n",
      "6         3  0.074410     accessible\n",
      "6         4  0.148820     accessible\n",
      "6         5  0.446461     accessible\n",
      "7         1  0.777600      admission\n",
      "8         1  0.032756            age\n",
      "8         2  0.589607            age\n",
      "8         3  0.360315            age\n",
      "9         2  0.551394           ages\n",
      "9         3  0.315082           ages\n",
      "9         4  0.078771           ages\n",
      "10        6  0.969007            air\n",
      "11        1  0.628736        amazing\n",
      "11        2  0.115820        amazing\n",
      "11        3  0.066183        amazing\n",
      "11        4  0.148911        amazing\n",
      "11        7  0.016546        amazing\n",
      "11        8  0.016546        amazing\n",
      "12        4  0.571012          april\n",
      "12        5  0.285506          april\n",
      "12        9  0.095169          april\n",
      "13        1  0.352584  architectural\n",
      "13        4  0.440730  architectural\n",
      "13        6  0.176292  architectural\n",
      "...     ...       ...            ...\n",
      "289       1  0.222078            way\n",
      "289       2  0.380705            way\n",
      "289       3  0.222078            way\n",
      "289       6  0.158627            way\n",
      "290       1  0.070712        weather\n",
      "290       4  0.282847        weather\n",
      "290       5  0.565694        weather\n",
      "291       1  0.062716           went\n",
      "291       2  0.564448           went\n",
      "291       3  0.334487           went\n",
      "292       2  0.596553         winter\n",
      "292       3  0.298277         winter\n",
      "294       1  0.587511           work\n",
      "294       4  0.293756           work\n",
      "295       1  0.679804        working\n",
      "295       6  0.291344        working\n",
      "296       2  0.107232          world\n",
      "296       3  0.053616          world\n",
      "296       4  0.482544          world\n",
      "296       5  0.107232          world\n",
      "296       6  0.160848          world\n",
      "297       1  0.840102          worth\n",
      "297       2  0.084010          worth\n",
      "297       3  0.056007          worth\n",
      "297       6  0.009334          worth\n",
      "298       1  0.139506           year\n",
      "298       2  0.167407           year\n",
      "298       3  0.111605           year\n",
      "298       4  0.530123           year\n",
      "298       5  0.055802           year\n",
      "\n",
      "[741 rows x 3 columns], R=30, lambda_step=0.01, plot_opts={'xlab': 'PC1', 'ylab': 'PC2'}, topic_order=[10, 6, 1, 8, 4, 9, 7, 2, 3, 5])\n"
     ]
    }
   ],
   "source": [
    "print(lda_prepared)"
   ]
  },
  {
   "cell_type": "code",
   "execution_count": 253,
   "metadata": {},
   "outputs": [
    {
     "name": "stdout",
     "output_type": "stream",
     "text": [
      "30\n",
      "0.01\n",
      "{'xlab': 'PC1', 'ylab': 'PC2'}\n",
      "[10, 6, 1, 8, 4, 9, 7, 2, 3, 5]\n"
     ]
    }
   ],
   "source": [
    "N=10\n",
    "for i in lda_prepared[3:]:\n",
    "    #i.shape()\n",
    "    print(i)\n",
    "    N+=1\n",
    "    #i.to_csv(\"output\"+ str(N) +'.csv')"
   ]
  },
  {
   "cell_type": "code",
   "execution_count": 237,
   "metadata": {},
   "outputs": [
    {
     "name": "stdout",
     "output_type": "stream",
     "text": [
      "Topic #0:\n",
      "[279 126 122 258  73 257 174 182  36]\n",
      "Topic #1:\n",
      "[ 30 277 105 210 193 149  52 201 197]\n",
      "Topic #2:\n",
      "[169  76  68  13  52  12 194  16  17]\n",
      "Topic #3:\n",
      "[ 39  80 283  57 205  59 197 111 179]\n",
      "Topic #4:\n",
      "[216 187 262 209  55  19  42 133 129]\n",
      "Topic #5:\n",
      "[279 126 122 258  73 257 174 182  36]\n",
      "Topic #6:\n",
      "[ 30 277 105 210 193 149  52 201 197]\n",
      "Topic #7:\n",
      "[ 57 133 137  42 274  35 197 179  24]\n",
      "Topic #8:\n",
      "[237 163  36 122 241 124 257  10 184]\n",
      "Topic #9:\n",
      "[135  19  24  66 297 163 279  55  58]\n"
     ]
    }
   ],
   "source": [
    "for topic_idx, topic in enumerate(lda.components_):\n",
    "    print(\"Topic #%d:\" % topic_idx)\n",
    "    #print(topic)\n",
    "    print(topic.argsort()[-10:-1])\n",
    "    #print(topic.argsort()[:-n_top_words - 1:-1])\n",
    "    #print(tf_feature_names)\n",
    "    "
   ]
  },
  {
   "cell_type": "code",
   "execution_count": 183,
   "metadata": {},
   "outputs": [
    {
     "name": "stdout",
     "output_type": "stream",
     "text": [
      "['00', '000', '10', '1000', '1080', '1085', '10th', '11', '1100', '1145', '11th', '12', '12th', '14th', '15', '15th', '17th', '19th', '1st', '20', '20th', '30', '3pm', '900', 'able', 'absolute', 'absolutely', 'access', 'accessible', 'according', 'acoustics', 'action', 'activities', 'actually', 'addition', 'adjacent', 'admire', 'admission', 'adults', 'afternoon', 'age', 'ages', 'ago', 'air', 'alike', 'alive', 'allow', 'allowed', 'altar', 'alter', 'amazing', 'amazingly', 'ambience', 'ancient', 'anytime', 'app', 'appreciate', 'april', 'arch', 'architectural', 'architecture', 'area', 'areas', 'array', 'arrived', 'art', 'artifacts', 'ask', 'asked', 'aspects', 'assembled', 'astrological', 'astronomic', 'astronomical', 'atmosphere', 'attached', 'attended', 'attraction', 'attractions', 'attractive', 'august', 'aula', 'austere', 'authentic', 'autumn', 'available', 'away', 'awe', 'awesome', 'baby', 'bar', 'basement', 'basic', 'basis', 'bathrooms', 'beatiful', 'beautiful', 'beautifull', 'beautifully', 'beauty', 'beds', 'believe', 'belonged', 'bench', 'benches', 'best', 'better', 'big', 'bigger', 'biggest', 'bird', 'birds', 'bit', 'blocks', 'bloom', 'blooming', 'blooms', 'boasts', 'book', 'boring', 'born', 'botan', 'botanic', 'botanical', 'break', 'bright', 'bring', 'brought', 'build', 'building', 'buildings', 'built', 'bushes', 'business', 'busy', 'buy', 'caf', 'cafe', 'cafes', 'calculate', 'calendar', 'called', 'calm', 'calming', 'came', 'campus', 'candle', 'candles', 'care', 'cared', 'carved', 'carvings', 'catacombs', 'catch', 'cathedral', 'cathedrals', 'catholic', 'caught', 'celebrate', 'celebrating', 'celebrations', 'cellar', 'center', 'central', 'centre', 'centuries', 'century', 'ceramics', 'certainly', 'chance', 'characters', 'charge', 'charming', 'check', 'child', 'children', 'chimes', 'choir', 'chose', 'christian', 'christianity', 'christmas', 'church', 'churches', 'city', 'classes', 'clean', 'clear', 'climate', 'climates', 'climbing', 'clock', 'close', 'closed', 'closes', 'cobbled', 'coffee', 'cold', 'collected', 'collection', 'color', 'colorful', 'colours', 'come', 'comes', 'compared', 'complete', 'concert', 'concerts', 'conservatory', 'constructed', 'contain', 'contains', 'cool', 'copenhagen', 'corner', 'cost', 'cosy', 'cottages', 'couldn', 'countryside', 'couple', 'couples', 'course', 'creepy', 'crowd', 'crowded', 'crypt', 'crypts', 'cultural', 'culture', 'cup', 'curious', 'cute', 'daily', 'danish', 'dark', 'date', 'dates', 'dating', 'day', 'days', 'decided', 'decorated', 'decoration', 'decorations', 'definitely', 'delightful', 'denmark', 'design', 'designed', 'details', 'detour', 'did', 'didn', 'different', 'disappointed', 'discover', 'display', 'displayed', 'displays', 'distance', 'diverse', 'does', 'doesn', 'doing', 'dominates', 'dominating', 'domkyrkan', 'don', 'door', 'doors', 'downstairs', 'downtown', 'drink', 'drinking', 'drinks', 'ducks', 'dwellings', 'early', 'earth', 'easily', 'east', 'easy', 'eat', 'eating', 'elements', 'end', 'ended', 'english', 'enjoy', 'enjoyable', 'enjoyed', 'enjoying', 'enormous', 'enter', 'entering', 'entire', 'entrance', 'entry', 'environment', 'equipment', 'era', 'especially', 'europe', 'european', 'evening', 'event', 'events', 'everybody', 'example', 'excellent', 'exception', 'exercise', 'exhibit', 'exhibition', 'exhibitions', 'exhibits', 'exotic', 'expect', 'expected', 'expensive', 'experience', 'experiencing', 'explanation', 'explanations', 'explore', 'exploring', 'extensive', 'exterior', 'externally', 'extremely', 'eyes', 'fabulous', 'facing', 'fact', 'facts', 'fairly', 'fall', 'families', 'family', 'famous', 'fantastic', 'far', 'fascinating', 'favorite', 'features', 'fee', 'feed', 'feel', 'feeling', 'feels', 'felt', 'festival', 'figure', 'figures', 'fika', 'filled', 'final', 'fine', 'finest', 'finn', 'floor', 'flower', 'flowers', 'focal', 'follow', 'food', 'forest', 'forget', 'form', 'formal', 'forum', 'founded', 'fountain', 'free', 'friendly', 'friends', 'fully', 'fun', 'furnished', 'furniture', 'gallery', 'garden', 'gardeners', 'gardens', 'gem', 'getting', 'giant', 'given', 'gives', 'giving', 'glass', 'glasshouse', 'glasshouses', 'goes', 'going', 'gone', 'good', 'gorgeous', 'got', 'gothic', 'grand', 'grandchildren', 'grass', 'graves', 'graveyard', 'great', 'green', 'greenery', 'greenhouse', 'greenhouses', 'grounds', 'group', 'groups', 'grown', 'guide', 'guided', 'gym', 'half', 'hall', 'hand', 'hang', 'hanging', 'happen', 'happened', 'hard', 'having', 'head', 'hear', 'heart', 'help', 'helps', 'high', 'highlight', 'highlights', 'highly', 'historic', 'historical', 'historically', 'history', 'holding', 'home', 'homes', 'horologium', 'hosts', 'hot', 'hothouses', 'hour', 'hours', 'house', 'houses', 'huge', 'husband', 'idea', 'ideal', 'important', 'imposing', 'impressed', 'impressive', 'included', 'includes', 'including', 'incredible', 'indoor', 'indoors', 'info', 'information', 'informative', 'inside', 'insight', 'inspiring', 'interactive', 'interested', 'interesting', 'interior', 'intriguing', 'introduction', 'inviting', 'isn', 'items', 'joined', 'journey', 'joy', 'joyful', 'june', 'just', 'kept', 'kids', 'kind', 'kinds', 'knights', 'know', 'kulturen', 'lady', 'laid', 'lake', 'landmark', 'large', 'late', 'lawns', 'leaflet', 'learn', 'learning', 'leave', 'left', 'legend', 'let', 'level', 'life', 'light', 'like', 'liked', 'listen', 'little', 'live', 'lived', 'living', 'll', 'loads', 'local', 'locals', 'located', 'location', 'long', 'look', 'looked', 'looking', 'looks', 'lot', 'lots', 'love', 'loved', 'lovely', 'lower', 'lucky', 'lunch', 'lunches', 'lund', 'lundag', 'lundense', 'lunds', 'lush', 'lutheran', 'magical', 'magnificent', 'main', 'maintained', 'majestic', 'major', 'make', 'makes', 'malm', 'malmo', 'managed', 'mary', 'mass', 'massive', 'masterpiece', 'matter', 'maybe', 'medieval', 'meet', 'meeting', 'men', 'meter', 'mid', 'midday', 'middle', 'mighty', 'mind', 'minutes', 'miss', 'missed', 'mixture', 'model', 'modern', 'moment', 'mon', 'money', 'months', 'monument', 'moon', 'morning', 'mornings', 'moved', 'moving', 'museum', 'museums', 'music', 'musical', 'natural', 'nature', 'ne', 'near', 'nearby', 'need', 'new', 'nice', 'night', 'noon', 'nordic', 'north', 'northern', 'note', 'notice', 'number', 'oasis', 'object', 'objects', 'october', 'offer', 'offers', 'office', 'old', 'older', 'oldest', 'ones', 'open', 'orchids', 'organ', 'organized', 'original', 'ornate', 'outdoor', 'outdoors', 'outside', 'outstanding', 'overall', 'painted', 'park', 'particular', 'particularly', 'partly', 'parts', 'party', 'passed', 'passing', 'past', 'pastor', 'paths', 'pay', 'peace', 'peaceful', 'pedestrian', 'people', 'perfect', 'perfectly', 'period', 'periods', 'permanent', 'person', 'photograph', 'photos', 'pick', 'picknick', 'picnic', 'picnics', 'picture', 'piece', 'pillar', 'pillars', 'place', 'places', 'plain', 'plant', 'plants', 'play', 'playground', 'playing', 'plays', 'pleasant', 'pleasure', 'plenty', 'plus', 'pm', 'point', 'pond', 'poor', 'pop', 'pope', 'popular', 'possible', 'power', 'prague', 'present', 'presentation', 'preserved', 'pretty', 'price', 'prices', 'probably', 'procession', 'provided', 'provides', 'public', 'purposes', 'quail', 'quails', 'quick', 'quiet', 'quirky', 'quite', 'rain', 'rainy', 'range', 'rare', 'rd', 'read', 'reading', 'real', 'really', 'reason', 'rebuilt', 'recently', 'recommend', 'recommended', 'region', 'regular', 'relatively', 'relax', 'relaxed', 'relaxing', 'religious', 'remains', 'remember', 'represented', 'research', 'rest', 'restaurant', 'restaurants', 'restored', 'rich', 'right', 'roam', 'rock', 'role', 'roman', 'romanesque', 'roof', 'room', 'rooms', 'round', 'run', 'running', 'sadly', 'said', 'sandstone', 'sat', 'saturday', 'saw', 'say', 'says', 'scandinavia', 'scandinavian', 'scania', 'scenery', 'school', 'season', 'seat', 'seating', 'seats', 'second', 'sections', 'seeing', 'seen', 'selection', 'sense', 'september', 'serenity', 'served', 'serves', 'service', 'services', 'set', 'setting', 'shop', 'shops', 'short', 'shouldn', 'showing', 'shows', 'shrubs', 'sight', 'sights', 'signs', 'silence', 'similar', 'simple', 'simply', 'singing', 'sit', 'site', 'sites', 'sitting', 'situated', 'size', 'sk', 'skane', 'skansen', 'slightly', 'small', 'smaller', 'smells', 'snacks', 'solo', 'somewhat', 'son', 'sorts', 'sound', 'south', 'southern', 'space', 'spacious', 'special', 'specially', 'species', 'spectacular', 'spend', 'spending', 'spent', 'spiritual', 'spot', 'spread', 'spring', 'square', 'stadsparken', 'staff', 'stalls', 'standing', 'stands', 'start', 'started', 'starting', 'starts', 'station', 'statue', 'stay', 'stayed', 'staying', 'stocked', 'stockholm', 'stone', 'stones', 'stop', 'stopped', 'stops', 'stories', 'story', 'strange', 'street', 'streets', 'strike', 'striking', 'stroll', 'strolling', 'structure', 'student', 'students', 'study', 'stuff', 'stunning', 'style', 'summer', 'sun', 'sunday', 'sunny', 'super', 'sure', 'surprised', 'surrounded', 'surrounding', 'surroundings', 'sweden', 'swedes', 'swedish', 'sweet', 'taken', 'taking', 'tale', 'talk', 'tea', 'tell', 'temperature', 'temporary', 'text', 'thing', 'things', 'think', 'thought', 'thousand', 'thousands', 'till', 'time', 'times', 'timing', 'tiny', 'today', 'told', 'tombs', 'took', 'totally', 'touching', 'tour', 'tourist', 'tourists', 'tours', 'towers', 'town', 'traditional', 'train', 'tranquility', 'travel', 'traveling', 'treat', 'tree', 'trees', 'trip', 'tropical', 'true', 'truly', 'try', 'trying', 'twice', 'type', 'types', 'typical', 'underground', 'understand', 'understanding', 'unexpected', 'unfortunately', 'unique', 'university', 'unlike', 'unusual', 'use', 'used', 'usually', 'varieties', 'variety', 'various', 've', 'view', 'vikings', 'village', 'visit', 'visited', 'visiting', 'visitor', 'visitors', 'visually', 'wait', 'walk', 'walked', 'walking', 'wall', 'wander', 'wandering', 'want', 'warm', 'warmth', 'wasn', 'watch', 'watching', 'way', 'ways', 'weather', 'week', 'welcome', 'welcoming', 'went', 'white', 'wich', 'wide', 'wife', 'wild', 'windows', 'wine', 'winter', 'wish', 'witness', 'woman', 'wonder', 'wonderful', 'wood', 'wooden', 'word', 'work', 'working', 'works', 'world', 'worth', 'wow', 'year', 'years', 'yes', 'young', 'youngsters', 'zones']\n"
     ]
    }
   ],
   "source": [
    "print(tf_feature_names)"
   ]
  },
  {
   "cell_type": "code",
   "execution_count": 239,
   "metadata": {},
   "outputs": [
    {
     "name": "stdout",
     "output_type": "stream",
     "text": [
      "Topic #0:\n",
      "lund buildings old museum sweden different swedish history houses visit time place interesting kulturen day trip really cathedral people outside went house exhibits times life culture small visited lived exhibitions\n",
      "Topic #1:\n",
      "kids place playground children liked peaceful really fun various bit enjoyed exhibits denmark great area going especially love caf outdoor old set fantastic perfect took season beauty summer amazing way\n",
      "Topic #2:\n",
      "exhibition art areas people april children architectural dating early medieval religious noon different lund day crypt visited huge beautiful visit nice center church old fascinating cathedral interesting museum small century\n",
      "Topic #3:\n",
      "park nice good place close pond city walk enjoy cafe recommended people lund children little birds relax students coffee located miss day town outdoor play weather stadsparken look easily sunny\n",
      "Topic #4:\n",
      "clock impressive inside cathedral astronomical church read time outside religious giant town basement visit walking want small early recommend learn sun large quite little took loved built main attraction highly\n",
      "Topic #5:\n",
      "lund buildings old museum sweden different swedish history houses visit time place interesting kulturen day trip really cathedral people outside went house exhibits times life culture small visited lived exhibitions\n",
      "Topic #6:\n",
      "kids place playground children liked peaceful really fun various bit enjoyed exhibits denmark great area going especially love caf outdoor old set fantastic perfect took season beauty summer amazing way\n",
      "Topic #7:\n",
      "lund beautiful nice place building university cathedral just inside city year day recommend quiet famous spring walk town walking main great look center want garden students area like time huge\n",
      "Topic #8:\n",
      "museum open air sweden hours spent history buildings lund southern people houses enjoyed great building kulturen city entrance exhibitions culture really way showing walking fantastic interested nice swedish friendly visiting\n",
      "Topic #9:\n",
      "cathedral clock church visit lund worth crypt beautiful astronomical interesting inside history old impressive time giant miss amazing don free tour architecture visiting finn english building century town sweden visited\n",
      "\n"
     ]
    }
   ],
   "source": [
    "def print_top_words(model, feature_names, n_top_words):\n",
    "    for topic_idx, topic in enumerate(model.components_):\n",
    "        print(\"Topic #%d:\" % topic_idx)\n",
    "        print(\" \".join([feature_names[i]\n",
    "                        for i in topic.argsort()[:-30 - 1:-1]]))\n",
    "    print()\n",
    "print_top_words(lda, tf_feature_names, n_top_words)"
   ]
  },
  {
   "cell_type": "code",
   "execution_count": null,
   "metadata": {},
   "outputs": [],
   "source": []
  },
  {
   "cell_type": "code",
   "execution_count": null,
   "metadata": {},
   "outputs": [],
   "source": []
  }
 ],
 "metadata": {
  "kernelspec": {
   "display_name": "Python 3",
   "language": "python",
   "name": "python3"
  },
  "language_info": {
   "codemirror_mode": {
    "name": "ipython",
    "version": 3
   },
   "file_extension": ".py",
   "mimetype": "text/x-python",
   "name": "python",
   "nbconvert_exporter": "python",
   "pygments_lexer": "ipython3",
   "version": "3.6.6"
  }
 },
 "nbformat": 4,
 "nbformat_minor": 2
}
