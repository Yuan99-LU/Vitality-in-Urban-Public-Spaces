{
 "cells": [
  {
   "cell_type": "code",
   "execution_count": 1,
   "metadata": {},
   "outputs": [],
   "source": [
    "from sklearn.feature_extraction.text import TfidfVectorizer, CountVectorizer\n",
    "from sklearn.decomposition import NMF, LatentDirichletAllocation\n",
    "import pyLDAvis\n",
    "import pyLDAvis.sklearn\n",
    "import pyLDAvis.gensim\n",
    "import numpy as np\n",
    "from datetime import datetime, date, time\n",
    "import csv\n",
    "import sys\n",
    "import importlib\n",
    "import pandas as pd"
   ]
  },
  {
   "cell_type": "code",
   "execution_count": 2,
   "metadata": {},
   "outputs": [],
   "source": [
    "def tf_vctorize(n_max_features, text):\n",
    "    #n_features = 1000\n",
    "    tf_vectorizer = CountVectorizer(strip_accents = 'unicode',\n",
    "                                max_features=n_max_features,\n",
    "                                stop_words='english',\n",
    "                                max_df = 0.95,\n",
    "                                min_df = 2)\n",
    "    tf = tf_vectorizer.fit_transform(text)\n",
    "    tf_feature_names = tf_vectorizer.get_feature_names()\n",
    "    return tf, tf_vectorizer, tf_feature_names\n",
    "    \n",
    "\n",
    "def LDA_analyze(tf_vector, n_topics):\n",
    "    lda = LatentDirichletAllocation(n_topics=n_topics,doc_topic_prior =1/(n_topics*10), max_iter=50,\n",
    "                                learning_method='online',\n",
    "                                learning_offset=50.,\n",
    "                                evaluate_every = 1,\n",
    "                                random_state=0)\n",
    "    lda.fit(tf_vector)\n",
    "    print(lda)\n",
    "    return lda\n",
    "\n",
    "def tf_idf(n_max_features, text):\n",
    "    tfidf_vectorizer = TfidfVectorizer(max_df=0.95,\n",
    "                                       min_df=2,\n",
    "                                       max_features=n_max_features,\n",
    "                                       stop_words='english')\n",
    "    tfidf = tfidf_vectorizer.fit_transform(text)\n",
    "    tfidf_feature_names = tfidf_vectorizer.get_feature_names()\n",
    "    return tfidf, tfidf_feature_names\n"
   ]
  },
  {
   "cell_type": "code",
   "execution_count": 3,
   "metadata": {},
   "outputs": [],
   "source": [
    "data = pd.read_csv('urban vitality.csv', names = 'abcdef')"
   ]
  },
  {
   "cell_type": "code",
   "execution_count": 4,
   "metadata": {},
   "outputs": [],
   "source": [
    "#data['e'].head(20)"
   ]
  },
  {
   "cell_type": "code",
   "execution_count": 5,
   "metadata": {},
   "outputs": [],
   "source": [
    "#from nltk.corpus import wordnet"
   ]
  },
  {
   "cell_type": "code",
   "execution_count": 6,
   "metadata": {},
   "outputs": [
    {
     "name": "stdout",
     "output_type": "stream",
     "text": [
      "3773\n"
     ]
    }
   ],
   "source": [
    "data['e'] = data['e'].replace(r'http\\S+|http', '', regex=True).replace(r'www\\S+|WWW\\S+|www', '', regex=True)\n",
    "data['e'] = data['e'].str.lower().str.replace('skip to main content|skip to article|skip to content|main menu|page', '')\n",
    "data['e'] = data['e'].str.replace(r'[\\W_]+',' ')\n",
    "data['e'] = data['e'].str.replace(r'\\d+',' ')\n",
    "data['e'] = data['e'].str.replace(r'\\b(\\w)\\b', '')\n",
    "data['e'] = data['e'].replace(np.nan, '', regex=True)\n",
    "data['e'] = data['e'].apply(str)\n",
    "#print(data['e'])\n",
    "\n",
    "\n",
    "Len = len(data['e'])\n",
    "print(Len)\n",
    "#print(data.iloc[0:5,4:5])\n",
    "index_group = []\n",
    "for index, row in data.iterrows():\n",
    "    s =row[4]\n",
    "    try:\n",
    "        s.encode(encoding='utf-8').decode('ascii')\n",
    "    except UnicodeDecodeError:\n",
    "        index_group.append(index)\n",
    "    else:\n",
    "        continue\n",
    "    #print(data['e'][1])\n",
    "    #s =data.iloc[j]['e']\n",
    "    #isEnglish = s.encode(encoding='utf-8').decode('ascii')\n",
    "    #print(isEnglish)\n",
    "    #if not wordnet.synsets(data.iloc[j]['e']):#Comparing if word is non-English\n",
    "        #print(data.iloc[j]['e'])\n",
    "        #data.drop(j, inplace=True)"
   ]
  },
  {
   "cell_type": "code",
   "execution_count": 7,
   "metadata": {},
   "outputs": [],
   "source": [
    "data.drop(index_group, inplace=True)"
   ]
  },
  {
   "cell_type": "code",
   "execution_count": 8,
   "metadata": {},
   "outputs": [
    {
     "data": {
      "text/plain": [
       "3443"
      ]
     },
     "execution_count": 8,
     "metadata": {},
     "output_type": "execute_result"
    }
   ],
   "source": [
    "len(data['e'])"
   ]
  },
  {
   "cell_type": "code",
   "execution_count": 9,
   "metadata": {},
   "outputs": [
    {
     "name": "stdout",
     "output_type": "stream",
     "text": [
      "[13, 73, 111, 132, 141, 160, 234, 248, 270, 299, 309, 332, 382, 396, 457, 516, 550, 612, 622, 636, 660, 689, 701, 710, 742, 790, 792, 794, 810, 816, 817, 818, 827, 828, 862, 898, 909, 913, 914, 930, 933, 948, 957, 964, 971, 982, 987, 996, 1010, 1029, 1080, 1103, 1104, 1109, 1121, 1132, 1133, 1147, 1155, 1195, 1227, 1287, 1326, 1351, 1368, 1384, 1390, 1402, 1414, 1417, 1427, 1453, 1456, 1457, 1458, 1461, 1462, 1470, 1473, 1482, 1483, 1498, 1534, 1535, 1536, 1548, 1594, 1654, 1660, 1674, 1693, 1694, 1696, 1703, 1708, 1715, 1720, 1732, 1737, 1754, 1774, 1785, 1794, 1827, 1857, 1858, 1904, 1906, 1923, 1969, 1974, 1982, 1985, 1987, 1998, 1999, 2002, 2010, 2013, 2021, 2025, 2036, 2064, 2066, 2167, 2170, 2171, 2174, 2176, 2181, 2184, 2188, 2197, 2203, 2206, 2208, 2231, 2232, 2233, 2243, 2245, 2246, 2247, 2289, 2322, 2366, 2393, 2396, 2407, 2410, 2412, 2416, 2419, 2425, 2436, 2438, 2461, 2464, 2472, 2476, 2477, 2478, 2481, 2484, 2489, 2495, 2497, 2502, 2509, 2510, 2527, 2545, 2614, 2629, 2644, 2665, 2669, 2670, 2678, 2690, 2693, 2694, 2702, 2703, 2704, 2708, 2709, 2711, 2715, 2731, 2732, 2736, 2737, 2738, 2739, 2740, 2743, 2750, 2754, 2757, 2760, 2765, 2782, 2784, 2787, 2789, 2792, 2804, 2808, 2824, 2826, 2837, 2839, 2840, 2842, 2847, 2869, 2880, 2884, 2919, 2950, 2960, 2961, 2990, 3022, 3038, 3041, 3062, 3087, 3091, 3092, 3093, 3100, 3101, 3102, 3104, 3105, 3106, 3108, 3123, 3125, 3133, 3134, 3140, 3149, 3157, 3158, 3163, 3171, 3174, 3182, 3183, 3191, 3195, 3198, 3200, 3208, 3241, 3247, 3251, 3253, 3290, 3291, 3307, 3316, 3327, 3330, 3331, 3342, 3343, 3346, 3418, 3430, 3435, 3438, 3443, 3446, 3450, 3454, 3457, 3458, 3470, 3473, 3478, 3479, 3481, 3484, 3490, 3492, 3494, 3505, 3511, 3515, 3521, 3522, 3527, 3532, 3533, 3534, 3538, 3546, 3550, 3551, 3562, 3563, 3564, 3567, 3570, 3571, 3572, 3573, 3574, 3599, 3614, 3634, 3654, 3655, 3668, 3700, 3703, 3716, 3725, 3735, 3753, 3754, 3758, 3763, 3768, 3770, 3771]\n"
     ]
    }
   ],
   "source": [
    "print(index_group)"
   ]
  },
  {
   "cell_type": "code",
   "execution_count": 10,
   "metadata": {},
   "outputs": [],
   "source": [
    "data['e'].to_csv('after_clean7.csv')"
   ]
  },
  {
   "cell_type": "code",
   "execution_count": 11,
   "metadata": {},
   "outputs": [],
   "source": [
    "#data_language = data['e']\n",
    "#text_all = data_language.tolist()\n",
    "#print(text_all[0:2])"
   ]
  },
  {
   "cell_type": "code",
   "execution_count": 12,
   "metadata": {},
   "outputs": [],
   "source": [
    "data_new = data['e']"
   ]
  },
  {
   "cell_type": "code",
   "execution_count": 13,
   "metadata": {},
   "outputs": [
    {
     "name": "stdout",
     "output_type": "stream",
     "text": [
      "['   the story of civilization the renaissance durant   duch    ay    xs wtf vr turin tkt cremcnm manhuv uty duc hi   cc rr       tmr modena fistvut    tu  central italy in hit xtarij  jnturks   ', 'learning knowledge research insight welcome to the world of ubc library the second largest academic research library in canada ', '   systems of urban growth by nicholas negroponte submitted in partial fulfillment of the requirements for the degree of bachelor of architecture at the massachusetts institute of technology september    signature of author ']\n"
     ]
    }
   ],
   "source": [
    "text_all = data_new.tolist()\n",
    "print(text_all[0:3])"
   ]
  },
  {
   "cell_type": "code",
   "execution_count": 18,
   "metadata": {},
   "outputs": [
    {
     "name": "stderr",
     "output_type": "stream",
     "text": [
      "/Library/Frameworks/Python.framework/Versions/3.6/lib/python3.6/site-packages/sklearn/decomposition/online_lda.py:314: DeprecationWarning: n_topics has been renamed to n_components in version 0.19 and will be removed in 0.21\n",
      "  DeprecationWarning)\n"
     ]
    },
    {
     "name": "stdout",
     "output_type": "stream",
     "text": [
      "LatentDirichletAllocation(batch_size=128, doc_topic_prior=0.01,\n",
      "             evaluate_every=1, learning_decay=0.7,\n",
      "             learning_method='online', learning_offset=50.0,\n",
      "             max_doc_update_iter=100, max_iter=50, mean_change_tol=0.001,\n",
      "             n_components=10, n_jobs=None, n_topics=10, perp_tol=0.1,\n",
      "             random_state=0, topic_word_prior=None,\n",
      "             total_samples=1000000.0, verbose=0)\n"
     ]
    }
   ],
   "source": [
    "n_max_features=3000\n",
    "n_topics = 10\n",
    "n_top_words = 10\n",
    "\n",
    "tf_vector, tf_vectorizer, tf_feature_names = tf_vctorize(n_max_features, text_all)\n",
    "lda = LDA_analyze(tf_vector, n_topics)"
   ]
  },
  {
   "cell_type": "code",
   "execution_count": null,
   "metadata": {},
   "outputs": [
    {
     "name": "stdout",
     "output_type": "stream",
     "text": [
      "\n",
      "Note: if you're in the IPython notebook, pyLDAvis.show() is not the best command\n",
      "      to use. Consider using pyLDAvis.display(), or pyLDAvis.enable_notebook().\n",
      "      See more information at http://pyLDAvis.github.io/quickstart.html .\n",
      "\n",
      "You must interrupt the kernel to end this command\n",
      "\n",
      "Serving to http://127.0.0.1:8889/    [Ctrl-C to exit]\n"
     ]
    },
    {
     "name": "stderr",
     "output_type": "stream",
     "text": [
      "127.0.0.1 - - [18/Jul/2019 11:03:22] \"GET / HTTP/1.1\" 200 -\n",
      "127.0.0.1 - - [18/Jul/2019 11:03:22] \"GET /LDAvis.css HTTP/1.1\" 200 -\n",
      "127.0.0.1 - - [18/Jul/2019 11:03:22] \"GET /d3.js HTTP/1.1\" 200 -\n",
      "127.0.0.1 - - [18/Jul/2019 11:03:22] \"GET /LDAvis.js HTTP/1.1\" 200 -\n"
     ]
    }
   ],
   "source": [
    "#tfidf, tfidf_feature_names = tf_idf(n_max_features, text_all)\n",
    "pyLDAvis.enable_notebook()\n",
    "lda_prepared = pyLDAvis.sklearn.prepare(lda, tf_vector, tf_vectorizer, R=20)\n",
    "pyLDAvis.show(lda_prepared)"
   ]
  },
  {
   "cell_type": "code",
   "execution_count": 240,
   "metadata": {},
   "outputs": [
    {
     "name": "stdout",
     "output_type": "stream",
     "text": [
      "PreparedData(topic_coordinates=            Freq  cluster  topics         x         y\n",
      "topic                                                \n",
      "9      34.416216        1       1  0.107060  0.036155\n",
      "5      23.640975        1       2  0.141462 -0.072641\n",
      "0      14.211574        1       3  0.141462 -0.072641\n",
      "7      12.682552        1       4  0.015045  0.172638\n",
      "3       6.937734        1       5 -0.097264  0.237869\n",
      "8       4.700521        1       6  0.173647 -0.107607\n",
      "6       1.688222        1       7 -0.231094 -0.121963\n",
      "1       1.270062        1       8 -0.231094 -0.121963\n",
      "2       0.360067        1       9 -0.019476  0.024162\n",
      "4       0.092077        1      10  0.000250  0.025989, topic_info=     Category        Freq          Term       Total  loglift  logprob\n",
      "term                                                                 \n",
      "197   Default  205.000000         place  205.000000  30.0000  30.0000\n",
      "174   Default  185.000000        museum  185.000000  29.0000  29.0000\n",
      "139   Default   60.000000          kids   60.000000  28.0000  28.0000\n",
      "58    Default  216.000000         clock  216.000000  27.0000  27.0000\n",
      "210   Default   95.000000        really   95.000000  26.0000  26.0000\n",
      "188   Default   71.000000          park   71.000000  25.0000  25.0000\n",
      "36    Default  167.000000     buildings  167.000000  24.0000  24.0000\n",
      "24    Default  166.000000     beautiful  166.000000  23.0000  23.0000\n",
      "179   Default  133.000000          nice  133.000000  22.0000  22.0000\n",
      "184   Default   49.000000          open   49.000000  21.0000  21.0000\n",
      "257   Default  157.000000        sweden  157.000000  20.0000  20.0000\n",
      "35    Default   90.000000      building   90.000000  19.0000  19.0000\n",
      "73    Default  112.000000     different  112.000000  18.0000  18.0000\n",
      "194   Default   73.000000        people   73.000000  17.0000  17.0000\n",
      "111   Default   78.000000          good   78.000000  16.0000  16.0000\n",
      "19    Default   82.000000  astronomical   82.000000  15.0000  15.0000\n",
      "66    Default   83.000000         crypt   83.000000  14.0000  14.0000\n",
      "182   Default  183.000000           old  183.000000  13.0000  13.0000\n",
      "42    Default  334.000000     cathedral  334.000000  12.0000  12.0000\n",
      "10    Default   34.000000           air   34.000000  11.0000  11.0000\n",
      "52    Default   34.000000      children   34.000000  10.0000  10.0000\n",
      "126   Default  107.000000        houses  107.000000   9.0000   9.0000\n",
      "55    Default  145.000000        church  145.000000   8.0000   8.0000\n",
      "201   Default   28.000000    playground   28.000000   7.0000   7.0000\n",
      "274   Default   53.000000    university   53.000000   6.0000   6.0000\n",
      "163   Default  395.000000          lund  395.000000   5.0000   5.0000\n",
      "279   Default  213.000000         visit  213.000000   4.0000   4.0000\n",
      "258   Default  132.000000       swedish  132.000000   3.0000   3.0000\n",
      "277   Default   31.000000       various   31.000000   2.0000   2.0000\n",
      "141   Default   75.000000      kulturen   75.000000   1.0000   1.0000\n",
      "...       ...         ...           ...         ...      ...      ...\n",
      "254   Topic10    0.032126           sun    9.842488   1.2655  -5.6840\n",
      "216   Topic10    0.032677     religious   12.626397   1.0334  -5.6670\n",
      "129   Topic10    0.035122    impressive   57.296682  -0.4069  -5.5948\n",
      "58    Topic10    0.036105         clock  216.370844  -1.7080  -5.5672\n",
      "286   Topic10    0.032226          want   14.201418   0.9020  -5.6809\n",
      "133   Topic10    0.034038        inside  103.916997  -1.0336  -5.6262\n",
      "19    Topic10    0.033702  astronomical   82.452141  -0.8121  -5.6361\n",
      "55    Topic10    0.033670        church  145.225361  -1.3791  -5.6370\n",
      "262   Topic10    0.033549          time  135.947490  -1.3167  -5.6407\n",
      "113   Topic10    0.031826         green   10.115657   1.2287  -5.6934\n",
      "21    Topic10    0.031942    attraction   13.158416   0.9694  -5.6897\n",
      "144   Topic10    0.032162         learn   18.653319   0.6273  -5.6829\n",
      "42    Topic10    0.033896     cathedral  334.467885  -2.2067  -5.6304\n",
      "187   Topic10    0.032816       outside   76.835391  -0.7682  -5.6627\n",
      "108   Topic10    0.032539         giant   44.076729  -0.2210  -5.6712\n",
      "23    Topic10    0.032276      basement   24.014518   0.3782  -5.6793\n",
      "76    Topic10    0.032176         early   21.673683   0.4777  -5.6824\n",
      "119   Topic10    0.031929        highly   13.694156   0.9291  -5.6901\n",
      "211   Topic10    0.032172     recommend   32.665971   0.0673  -5.6826\n",
      "267   Topic10    0.032422          town   76.613677  -0.7774  -5.6748\n",
      "279   Topic10    0.032262         visit  213.198234  -1.8058  -5.6798\n",
      "284   Topic10    0.032237       walking   44.191461  -0.2329  -5.6806\n",
      "235   Topic10    0.032178         small   54.690362  -0.4478  -5.6824\n",
      "142   Topic10    0.032123         large   29.538105   0.1664  -5.6841\n",
      "208   Topic10    0.032115         quite   35.372023  -0.0140  -5.6843\n",
      "150   Topic10    0.032066        little   52.909521  -0.4182  -5.6859\n",
      "264   Topic10    0.032064          took   30.678059   0.1267  -5.6859\n",
      "160   Topic10    0.032025         loved   31.970653   0.0842  -5.6871\n",
      "37    Topic10    0.032025         built   22.369236   0.4414  -5.6871\n",
      "165   Topic10    0.032002          main   36.486024  -0.0486  -5.6878\n",
      "\n",
      "[515 rows x 6 columns], token_table=      Topic      Freq           Term\n",
      "term                                \n",
      "0         1  0.794443             00\n",
      "0         6  0.158889             00\n",
      "2         1  0.946701             12\n",
      "5         1  0.655170     absolutely\n",
      "5         6  0.327585     absolutely\n",
      "6         1  0.148820     accessible\n",
      "6         2  0.148820     accessible\n",
      "6         3  0.074410     accessible\n",
      "6         4  0.148820     accessible\n",
      "6         5  0.446461     accessible\n",
      "7         1  0.777600      admission\n",
      "8         1  0.032756            age\n",
      "8         2  0.589607            age\n",
      "8         3  0.360315            age\n",
      "9         2  0.551394           ages\n",
      "9         3  0.315082           ages\n",
      "9         4  0.078771           ages\n",
      "10        6  0.969007            air\n",
      "11        1  0.628736        amazing\n",
      "11        2  0.115820        amazing\n",
      "11        3  0.066183        amazing\n",
      "11        4  0.148911        amazing\n",
      "11        7  0.016546        amazing\n",
      "11        8  0.016546        amazing\n",
      "12        4  0.571012          april\n",
      "12        5  0.285506          april\n",
      "12        9  0.095169          april\n",
      "13        1  0.352584  architectural\n",
      "13        4  0.440730  architectural\n",
      "13        6  0.176292  architectural\n",
      "...     ...       ...            ...\n",
      "289       1  0.222078            way\n",
      "289       2  0.380705            way\n",
      "289       3  0.222078            way\n",
      "289       6  0.158627            way\n",
      "290       1  0.070712        weather\n",
      "290       4  0.282847        weather\n",
      "290       5  0.565694        weather\n",
      "291       1  0.062716           went\n",
      "291       2  0.564448           went\n",
      "291       3  0.334487           went\n",
      "292       2  0.596553         winter\n",
      "292       3  0.298277         winter\n",
      "294       1  0.587511           work\n",
      "294       4  0.293756           work\n",
      "295       1  0.679804        working\n",
      "295       6  0.291344        working\n",
      "296       2  0.107232          world\n",
      "296       3  0.053616          world\n",
      "296       4  0.482544          world\n",
      "296       5  0.107232          world\n",
      "296       6  0.160848          world\n",
      "297       1  0.840102          worth\n",
      "297       2  0.084010          worth\n",
      "297       3  0.056007          worth\n",
      "297       6  0.009334          worth\n",
      "298       1  0.139506           year\n",
      "298       2  0.167407           year\n",
      "298       3  0.111605           year\n",
      "298       4  0.530123           year\n",
      "298       5  0.055802           year\n",
      "\n",
      "[741 rows x 3 columns], R=30, lambda_step=0.01, plot_opts={'xlab': 'PC1', 'ylab': 'PC2'}, topic_order=[10, 6, 1, 8, 4, 9, 7, 2, 3, 5])\n"
     ]
    }
   ],
   "source": [
    "print(lda_prepared)"
   ]
  },
  {
   "cell_type": "code",
   "execution_count": 253,
   "metadata": {},
   "outputs": [
    {
     "name": "stdout",
     "output_type": "stream",
     "text": [
      "30\n",
      "0.01\n",
      "{'xlab': 'PC1', 'ylab': 'PC2'}\n",
      "[10, 6, 1, 8, 4, 9, 7, 2, 3, 5]\n"
     ]
    }
   ],
   "source": [
    "N=10\n",
    "for i in lda_prepared[3:]:\n",
    "    #i.shape()\n",
    "    print(i)\n",
    "    N+=1\n",
    "    #i.to_csv(\"output\"+ str(N) +'.csv')"
   ]
  },
  {
   "cell_type": "code",
   "execution_count": 237,
   "metadata": {},
   "outputs": [
    {
     "name": "stdout",
     "output_type": "stream",
     "text": [
      "Topic #0:\n",
      "[279 126 122 258  73 257 174 182  36]\n",
      "Topic #1:\n",
      "[ 30 277 105 210 193 149  52 201 197]\n",
      "Topic #2:\n",
      "[169  76  68  13  52  12 194  16  17]\n",
      "Topic #3:\n",
      "[ 39  80 283  57 205  59 197 111 179]\n",
      "Topic #4:\n",
      "[216 187 262 209  55  19  42 133 129]\n",
      "Topic #5:\n",
      "[279 126 122 258  73 257 174 182  36]\n",
      "Topic #6:\n",
      "[ 30 277 105 210 193 149  52 201 197]\n",
      "Topic #7:\n",
      "[ 57 133 137  42 274  35 197 179  24]\n",
      "Topic #8:\n",
      "[237 163  36 122 241 124 257  10 184]\n",
      "Topic #9:\n",
      "[135  19  24  66 297 163 279  55  58]\n"
     ]
    }
   ],
   "source": [
    "for topic_idx, topic in enumerate(lda.components_):\n",
    "    print(\"Topic #%d:\" % topic_idx)\n",
    "    #print(topic)\n",
    "    print(topic.argsort()[-10:-1])\n",
    "    #print(topic.argsort()[:-n_top_words - 1:-1])\n",
    "    #print(tf_feature_names)\n",
    "    "
   ]
  },
  {
   "cell_type": "code",
   "execution_count": 183,
   "metadata": {},
   "outputs": [
    {
     "name": "stdout",
     "output_type": "stream",
     "text": [
      "['00', '000', '10', '1000', '1080', '1085', '10th', '11', '1100', '1145', '11th', '12', '12th', '14th', '15', '15th', '17th', '19th', '1st', '20', '20th', '30', '3pm', '900', 'able', 'absolute', 'absolutely', 'access', 'accessible', 'according', 'acoustics', 'action', 'activities', 'actually', 'addition', 'adjacent', 'admire', 'admission', 'adults', 'afternoon', 'age', 'ages', 'ago', 'air', 'alike', 'alive', 'allow', 'allowed', 'altar', 'alter', 'amazing', 'amazingly', 'ambience', 'ancient', 'anytime', 'app', 'appreciate', 'april', 'arch', 'architectural', 'architecture', 'area', 'areas', 'array', 'arrived', 'art', 'artifacts', 'ask', 'asked', 'aspects', 'assembled', 'astrological', 'astronomic', 'astronomical', 'atmosphere', 'attached', 'attended', 'attraction', 'attractions', 'attractive', 'august', 'aula', 'austere', 'authentic', 'autumn', 'available', 'away', 'awe', 'awesome', 'baby', 'bar', 'basement', 'basic', 'basis', 'bathrooms', 'beatiful', 'beautiful', 'beautifull', 'beautifully', 'beauty', 'beds', 'believe', 'belonged', 'bench', 'benches', 'best', 'better', 'big', 'bigger', 'biggest', 'bird', 'birds', 'bit', 'blocks', 'bloom', 'blooming', 'blooms', 'boasts', 'book', 'boring', 'born', 'botan', 'botanic', 'botanical', 'break', 'bright', 'bring', 'brought', 'build', 'building', 'buildings', 'built', 'bushes', 'business', 'busy', 'buy', 'caf', 'cafe', 'cafes', 'calculate', 'calendar', 'called', 'calm', 'calming', 'came', 'campus', 'candle', 'candles', 'care', 'cared', 'carved', 'carvings', 'catacombs', 'catch', 'cathedral', 'cathedrals', 'catholic', 'caught', 'celebrate', 'celebrating', 'celebrations', 'cellar', 'center', 'central', 'centre', 'centuries', 'century', 'ceramics', 'certainly', 'chance', 'characters', 'charge', 'charming', 'check', 'child', 'children', 'chimes', 'choir', 'chose', 'christian', 'christianity', 'christmas', 'church', 'churches', 'city', 'classes', 'clean', 'clear', 'climate', 'climates', 'climbing', 'clock', 'close', 'closed', 'closes', 'cobbled', 'coffee', 'cold', 'collected', 'collection', 'color', 'colorful', 'colours', 'come', 'comes', 'compared', 'complete', 'concert', 'concerts', 'conservatory', 'constructed', 'contain', 'contains', 'cool', 'copenhagen', 'corner', 'cost', 'cosy', 'cottages', 'couldn', 'countryside', 'couple', 'couples', 'course', 'creepy', 'crowd', 'crowded', 'crypt', 'crypts', 'cultural', 'culture', 'cup', 'curious', 'cute', 'daily', 'danish', 'dark', 'date', 'dates', 'dating', 'day', 'days', 'decided', 'decorated', 'decoration', 'decorations', 'definitely', 'delightful', 'denmark', 'design', 'designed', 'details', 'detour', 'did', 'didn', 'different', 'disappointed', 'discover', 'display', 'displayed', 'displays', 'distance', 'diverse', 'does', 'doesn', 'doing', 'dominates', 'dominating', 'domkyrkan', 'don', 'door', 'doors', 'downstairs', 'downtown', 'drink', 'drinking', 'drinks', 'ducks', 'dwellings', 'early', 'earth', 'easily', 'east', 'easy', 'eat', 'eating', 'elements', 'end', 'ended', 'english', 'enjoy', 'enjoyable', 'enjoyed', 'enjoying', 'enormous', 'enter', 'entering', 'entire', 'entrance', 'entry', 'environment', 'equipment', 'era', 'especially', 'europe', 'european', 'evening', 'event', 'events', 'everybody', 'example', 'excellent', 'exception', 'exercise', 'exhibit', 'exhibition', 'exhibitions', 'exhibits', 'exotic', 'expect', 'expected', 'expensive', 'experience', 'experiencing', 'explanation', 'explanations', 'explore', 'exploring', 'extensive', 'exterior', 'externally', 'extremely', 'eyes', 'fabulous', 'facing', 'fact', 'facts', 'fairly', 'fall', 'families', 'family', 'famous', 'fantastic', 'far', 'fascinating', 'favorite', 'features', 'fee', 'feed', 'feel', 'feeling', 'feels', 'felt', 'festival', 'figure', 'figures', 'fika', 'filled', 'final', 'fine', 'finest', 'finn', 'floor', 'flower', 'flowers', 'focal', 'follow', 'food', 'forest', 'forget', 'form', 'formal', 'forum', 'founded', 'fountain', 'free', 'friendly', 'friends', 'fully', 'fun', 'furnished', 'furniture', 'gallery', 'garden', 'gardeners', 'gardens', 'gem', 'getting', 'giant', 'given', 'gives', 'giving', 'glass', 'glasshouse', 'glasshouses', 'goes', 'going', 'gone', 'good', 'gorgeous', 'got', 'gothic', 'grand', 'grandchildren', 'grass', 'graves', 'graveyard', 'great', 'green', 'greenery', 'greenhouse', 'greenhouses', 'grounds', 'group', 'groups', 'grown', 'guide', 'guided', 'gym', 'half', 'hall', 'hand', 'hang', 'hanging', 'happen', 'happened', 'hard', 'having', 'head', 'hear', 'heart', 'help', 'helps', 'high', 'highlight', 'highlights', 'highly', 'historic', 'historical', 'historically', 'history', 'holding', 'home', 'homes', 'horologium', 'hosts', 'hot', 'hothouses', 'hour', 'hours', 'house', 'houses', 'huge', 'husband', 'idea', 'ideal', 'important', 'imposing', 'impressed', 'impressive', 'included', 'includes', 'including', 'incredible', 'indoor', 'indoors', 'info', 'information', 'informative', 'inside', 'insight', 'inspiring', 'interactive', 'interested', 'interesting', 'interior', 'intriguing', 'introduction', 'inviting', 'isn', 'items', 'joined', 'journey', 'joy', 'joyful', 'june', 'just', 'kept', 'kids', 'kind', 'kinds', 'knights', 'know', 'kulturen', 'lady', 'laid', 'lake', 'landmark', 'large', 'late', 'lawns', 'leaflet', 'learn', 'learning', 'leave', 'left', 'legend', 'let', 'level', 'life', 'light', 'like', 'liked', 'listen', 'little', 'live', 'lived', 'living', 'll', 'loads', 'local', 'locals', 'located', 'location', 'long', 'look', 'looked', 'looking', 'looks', 'lot', 'lots', 'love', 'loved', 'lovely', 'lower', 'lucky', 'lunch', 'lunches', 'lund', 'lundag', 'lundense', 'lunds', 'lush', 'lutheran', 'magical', 'magnificent', 'main', 'maintained', 'majestic', 'major', 'make', 'makes', 'malm', 'malmo', 'managed', 'mary', 'mass', 'massive', 'masterpiece', 'matter', 'maybe', 'medieval', 'meet', 'meeting', 'men', 'meter', 'mid', 'midday', 'middle', 'mighty', 'mind', 'minutes', 'miss', 'missed', 'mixture', 'model', 'modern', 'moment', 'mon', 'money', 'months', 'monument', 'moon', 'morning', 'mornings', 'moved', 'moving', 'museum', 'museums', 'music', 'musical', 'natural', 'nature', 'ne', 'near', 'nearby', 'need', 'new', 'nice', 'night', 'noon', 'nordic', 'north', 'northern', 'note', 'notice', 'number', 'oasis', 'object', 'objects', 'october', 'offer', 'offers', 'office', 'old', 'older', 'oldest', 'ones', 'open', 'orchids', 'organ', 'organized', 'original', 'ornate', 'outdoor', 'outdoors', 'outside', 'outstanding', 'overall', 'painted', 'park', 'particular', 'particularly', 'partly', 'parts', 'party', 'passed', 'passing', 'past', 'pastor', 'paths', 'pay', 'peace', 'peaceful', 'pedestrian', 'people', 'perfect', 'perfectly', 'period', 'periods', 'permanent', 'person', 'photograph', 'photos', 'pick', 'picknick', 'picnic', 'picnics', 'picture', 'piece', 'pillar', 'pillars', 'place', 'places', 'plain', 'plant', 'plants', 'play', 'playground', 'playing', 'plays', 'pleasant', 'pleasure', 'plenty', 'plus', 'pm', 'point', 'pond', 'poor', 'pop', 'pope', 'popular', 'possible', 'power', 'prague', 'present', 'presentation', 'preserved', 'pretty', 'price', 'prices', 'probably', 'procession', 'provided', 'provides', 'public', 'purposes', 'quail', 'quails', 'quick', 'quiet', 'quirky', 'quite', 'rain', 'rainy', 'range', 'rare', 'rd', 'read', 'reading', 'real', 'really', 'reason', 'rebuilt', 'recently', 'recommend', 'recommended', 'region', 'regular', 'relatively', 'relax', 'relaxed', 'relaxing', 'religious', 'remains', 'remember', 'represented', 'research', 'rest', 'restaurant', 'restaurants', 'restored', 'rich', 'right', 'roam', 'rock', 'role', 'roman', 'romanesque', 'roof', 'room', 'rooms', 'round', 'run', 'running', 'sadly', 'said', 'sandstone', 'sat', 'saturday', 'saw', 'say', 'says', 'scandinavia', 'scandinavian', 'scania', 'scenery', 'school', 'season', 'seat', 'seating', 'seats', 'second', 'sections', 'seeing', 'seen', 'selection', 'sense', 'september', 'serenity', 'served', 'serves', 'service', 'services', 'set', 'setting', 'shop', 'shops', 'short', 'shouldn', 'showing', 'shows', 'shrubs', 'sight', 'sights', 'signs', 'silence', 'similar', 'simple', 'simply', 'singing', 'sit', 'site', 'sites', 'sitting', 'situated', 'size', 'sk', 'skane', 'skansen', 'slightly', 'small', 'smaller', 'smells', 'snacks', 'solo', 'somewhat', 'son', 'sorts', 'sound', 'south', 'southern', 'space', 'spacious', 'special', 'specially', 'species', 'spectacular', 'spend', 'spending', 'spent', 'spiritual', 'spot', 'spread', 'spring', 'square', 'stadsparken', 'staff', 'stalls', 'standing', 'stands', 'start', 'started', 'starting', 'starts', 'station', 'statue', 'stay', 'stayed', 'staying', 'stocked', 'stockholm', 'stone', 'stones', 'stop', 'stopped', 'stops', 'stories', 'story', 'strange', 'street', 'streets', 'strike', 'striking', 'stroll', 'strolling', 'structure', 'student', 'students', 'study', 'stuff', 'stunning', 'style', 'summer', 'sun', 'sunday', 'sunny', 'super', 'sure', 'surprised', 'surrounded', 'surrounding', 'surroundings', 'sweden', 'swedes', 'swedish', 'sweet', 'taken', 'taking', 'tale', 'talk', 'tea', 'tell', 'temperature', 'temporary', 'text', 'thing', 'things', 'think', 'thought', 'thousand', 'thousands', 'till', 'time', 'times', 'timing', 'tiny', 'today', 'told', 'tombs', 'took', 'totally', 'touching', 'tour', 'tourist', 'tourists', 'tours', 'towers', 'town', 'traditional', 'train', 'tranquility', 'travel', 'traveling', 'treat', 'tree', 'trees', 'trip', 'tropical', 'true', 'truly', 'try', 'trying', 'twice', 'type', 'types', 'typical', 'underground', 'understand', 'understanding', 'unexpected', 'unfortunately', 'unique', 'university', 'unlike', 'unusual', 'use', 'used', 'usually', 'varieties', 'variety', 'various', 've', 'view', 'vikings', 'village', 'visit', 'visited', 'visiting', 'visitor', 'visitors', 'visually', 'wait', 'walk', 'walked', 'walking', 'wall', 'wander', 'wandering', 'want', 'warm', 'warmth', 'wasn', 'watch', 'watching', 'way', 'ways', 'weather', 'week', 'welcome', 'welcoming', 'went', 'white', 'wich', 'wide', 'wife', 'wild', 'windows', 'wine', 'winter', 'wish', 'witness', 'woman', 'wonder', 'wonderful', 'wood', 'wooden', 'word', 'work', 'working', 'works', 'world', 'worth', 'wow', 'year', 'years', 'yes', 'young', 'youngsters', 'zones']\n"
     ]
    }
   ],
   "source": [
    "print(tf_feature_names)"
   ]
  },
  {
   "cell_type": "code",
   "execution_count": 239,
   "metadata": {},
   "outputs": [
    {
     "name": "stdout",
     "output_type": "stream",
     "text": [
      "Topic #0:\n",
      "lund buildings old museum sweden different swedish history houses visit time place interesting kulturen day trip really cathedral people outside went house exhibits times life culture small visited lived exhibitions\n",
      "Topic #1:\n",
      "kids place playground children liked peaceful really fun various bit enjoyed exhibits denmark great area going especially love caf outdoor old set fantastic perfect took season beauty summer amazing way\n",
      "Topic #2:\n",
      "exhibition art areas people april children architectural dating early medieval religious noon different lund day crypt visited huge beautiful visit nice center church old fascinating cathedral interesting museum small century\n",
      "Topic #3:\n",
      "park nice good place close pond city walk enjoy cafe recommended people lund children little birds relax students coffee located miss day town outdoor play weather stadsparken look easily sunny\n",
      "Topic #4:\n",
      "clock impressive inside cathedral astronomical church read time outside religious giant town basement visit walking want small early recommend learn sun large quite little took loved built main attraction highly\n",
      "Topic #5:\n",
      "lund buildings old museum sweden different swedish history houses visit time place interesting kulturen day trip really cathedral people outside went house exhibits times life culture small visited lived exhibitions\n",
      "Topic #6:\n",
      "kids place playground children liked peaceful really fun various bit enjoyed exhibits denmark great area going especially love caf outdoor old set fantastic perfect took season beauty summer amazing way\n",
      "Topic #7:\n",
      "lund beautiful nice place building university cathedral just inside city year day recommend quiet famous spring walk town walking main great look center want garden students area like time huge\n",
      "Topic #8:\n",
      "museum open air sweden hours spent history buildings lund southern people houses enjoyed great building kulturen city entrance exhibitions culture really way showing walking fantastic interested nice swedish friendly visiting\n",
      "Topic #9:\n",
      "cathedral clock church visit lund worth crypt beautiful astronomical interesting inside history old impressive time giant miss amazing don free tour architecture visiting finn english building century town sweden visited\n",
      "\n"
     ]
    }
   ],
   "source": [
    "def print_top_words(model, feature_names, n_top_words):\n",
    "    for topic_idx, topic in enumerate(model.components_):\n",
    "        print(\"Topic #%d:\" % topic_idx)\n",
    "        print(\" \".join([feature_names[i]\n",
    "                        for i in topic.argsort()[:-30 - 1:-1]]))\n",
    "    print()\n",
    "print_top_words(lda, tf_feature_names, n_top_words)"
   ]
  },
  {
   "cell_type": "code",
   "execution_count": null,
   "metadata": {},
   "outputs": [],
   "source": []
  },
  {
   "cell_type": "code",
   "execution_count": null,
   "metadata": {},
   "outputs": [],
   "source": []
  }
 ],
 "metadata": {
  "kernelspec": {
   "display_name": "Python 3",
   "language": "python",
   "name": "python3"
  },
  "language_info": {
   "codemirror_mode": {
    "name": "ipython",
    "version": 3
   },
   "file_extension": ".py",
   "mimetype": "text/x-python",
   "name": "python",
   "nbconvert_exporter": "python",
   "pygments_lexer": "ipython3",
   "version": "3.6.6"
  }
 },
 "nbformat": 4,
 "nbformat_minor": 2
}
