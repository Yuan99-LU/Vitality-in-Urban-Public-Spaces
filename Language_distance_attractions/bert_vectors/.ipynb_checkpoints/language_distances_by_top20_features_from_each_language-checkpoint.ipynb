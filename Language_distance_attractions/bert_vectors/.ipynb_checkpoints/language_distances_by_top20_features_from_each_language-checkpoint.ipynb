{
 "cells": [
  {
   "cell_type": "code",
   "execution_count": 19,
   "metadata": {},
   "outputs": [],
   "source": [
    "import pandas as pd\n",
    "import numpy as np"
   ]
  },
  {
   "cell_type": "code",
   "execution_count": 20,
   "metadata": {},
   "outputs": [],
   "source": [
    "N = 1\n",
    "Category = 'attractions'\n",
    "N_features = 'top50'"
   ]
  },
  {
   "cell_type": "code",
   "execution_count": 21,
   "metadata": {},
   "outputs": [],
   "source": [
    "def cos_similar(a,b):  \n",
    "# manually compute cosine similarity\n",
    "    dot = np.dot(a, b)\n",
    "    norma = np.linalg.norm(a)\n",
    "    normb = np.linalg.norm(b)\n",
    "    cos = dot / (norma * normb)\n",
    "    \n",
    "    return cos"
   ]
  },
  {
   "cell_type": "code",
   "execution_count": 22,
   "metadata": {},
   "outputs": [
    {
     "ename": "TypeError",
     "evalue": "must be str, not int",
     "output_type": "error",
     "traceback": [
      "\u001b[0;31m---------------------------------------------------------------------------\u001b[0m",
      "\u001b[0;31mTypeError\u001b[0m                                 Traceback (most recent call last)",
      "\u001b[0;32m<ipython-input-22-ada4cab282d4>\u001b[0m in \u001b[0;36m<module>\u001b[0;34m()\u001b[0m\n\u001b[1;32m      1\u001b[0m \u001b[0;32mfor\u001b[0m \u001b[0mN\u001b[0m \u001b[0;32min\u001b[0m \u001b[0mrange\u001b[0m\u001b[0;34m(\u001b[0m\u001b[0;36m1\u001b[0m\u001b[0;34m,\u001b[0m \u001b[0;36m2\u001b[0m\u001b[0;34m)\u001b[0m\u001b[0;34m:\u001b[0m\u001b[0;34m\u001b[0m\u001b[0m\n\u001b[0;32m----> 2\u001b[0;31m     \u001b[0mdata\u001b[0m \u001b[0;34m=\u001b[0m \u001b[0mpd\u001b[0m\u001b[0;34m.\u001b[0m\u001b[0mread_csv\u001b[0m\u001b[0;34m(\u001b[0m\u001b[0;34m'input_data_from_BERT/'\u001b[0m\u001b[0;34m+\u001b[0m\u001b[0mCategory\u001b[0m\u001b[0;34m+\u001b[0m\u001b[0;34m'/bert_verctors_for_Topic_'\u001b[0m\u001b[0;34m+\u001b[0m \u001b[0mN\u001b[0m \u001b[0;34m+\u001b[0m \u001b[0mN_features\u001b[0m \u001b[0;34m+\u001b[0m\u001b[0;34m'_words.csv'\u001b[0m\u001b[0;34m)\u001b[0m\u001b[0;34m\u001b[0m\u001b[0m\n\u001b[0m\u001b[1;32m      3\u001b[0m     \u001b[0mlanguages\u001b[0m \u001b[0;34m=\u001b[0m \u001b[0mdata\u001b[0m\u001b[0;34m.\u001b[0m\u001b[0mcolumns\u001b[0m\u001b[0;34m.\u001b[0m\u001b[0mtolist\u001b[0m\u001b[0;34m(\u001b[0m\u001b[0;34m)\u001b[0m\u001b[0;34m[\u001b[0m\u001b[0;36m1\u001b[0m\u001b[0;34m:\u001b[0m\u001b[0;34m]\u001b[0m\u001b[0;34m\u001b[0m\u001b[0m\n\u001b[1;32m      4\u001b[0m     \u001b[0mpd_data\u001b[0m \u001b[0;34m=\u001b[0m \u001b[0mpd\u001b[0m\u001b[0;34m.\u001b[0m\u001b[0mDataFrame\u001b[0m\u001b[0;34m(\u001b[0m\u001b[0;34m{\u001b[0m\u001b[0;34m\"languages\"\u001b[0m\u001b[0;34m:\u001b[0m \u001b[0mlanguages\u001b[0m\u001b[0;34m}\u001b[0m\u001b[0;34m)\u001b[0m\u001b[0;34m\u001b[0m\u001b[0m\n\u001b[1;32m      5\u001b[0m     \u001b[0;32mfor\u001b[0m \u001b[0mlang\u001b[0m \u001b[0;32min\u001b[0m \u001b[0mlanguages\u001b[0m\u001b[0;34m:\u001b[0m\u001b[0;34m\u001b[0m\u001b[0m\n",
      "\u001b[0;31mTypeError\u001b[0m: must be str, not int"
     ]
    }
   ],
   "source": [
    "for N in range(1, 2):\n",
    "    data = pd.read_csv('input_data_from_BERT/'+Category+'/bert_verctors_for_Topic_'+ str(N) + N_features +'_words.csv')\n",
    "    languages = data.columns.tolist()[1:]\n",
    "    pd_data = pd.DataFrame({\"languages\": languages})\n",
    "    for lang in languages:\n",
    "        lang_cos = []\n",
    "        for lang_another in languages:\n",
    "            freq1 = np.array(data[lang])\n",
    "            freq2 = np.array(data[lang_another])\n",
    "            result = cos_similar(freq1, freq2)\n",
    "            print('%s vs %s: %f' %(lang, lang_another,result))\n",
    "            #print(result)\n",
    "            lang_cos.append(result)\n",
    "        pd_data[lang] = lang_cos\n",
    "    pd_data.to_csv('output_data_language_distance/'+ Category + '/Topic_'+ str(N) + N_features +'_words_distance.csv')"
   ]
  },
  {
   "cell_type": "code",
   "execution_count": 16,
   "metadata": {},
   "outputs": [],
   "source": []
  },
  {
   "cell_type": "code",
   "execution_count": 17,
   "metadata": {},
   "outputs": [
    {
     "name": "stdout",
     "output_type": "stream",
     "text": [
      "                  languages  [Chinese, (Sim.)]_Term  [Chinese, (Trad.)]_Term  \\\n",
      "0    [Chinese, (Sim.)]_Term                1.000000                 0.940287   \n",
      "1   [Chinese, (Trad.)]_Term                0.940287                 1.000000   \n",
      "2             [Danish]_Term                0.967290                 0.917224   \n",
      "3              [Dutch]_Term                0.965498                 0.907195   \n",
      "4            [English]_Term                0.954048                 0.915859   \n",
      "5             [French]_Term                0.965784                 0.920416   \n",
      "6             [German]_Term                0.964073                 0.917756   \n",
      "7            [Italian]_Term                0.961248                 0.931071   \n",
      "8           [Japanese]_Term                0.970522                 0.923034   \n",
      "9          [Norwegian]_Term                0.965118                 0.906671   \n",
      "10            [Polish]_Term                0.965832                 0.918599   \n",
      "11        [Portuguese]_Term                0.967520                 0.916908   \n",
      "12           [Russian]_Term                0.963029                 0.935512   \n",
      "13           [Spanish]_Term                0.967198                 0.932287   \n",
      "14           [Swedish]_Term                0.950488                 0.909371   \n",
      "15           [Turkish]_Term                0.922686                 0.901103   \n",
      "\n",
      "    [Danish]_Term  [Dutch]_Term  [English]_Term  [French]_Term  [German]_Term  \\\n",
      "0        0.967290      0.965498        0.954048       0.965784       0.964073   \n",
      "1        0.917224      0.907195        0.915859       0.920416       0.917756   \n",
      "2        1.000000      0.956539        0.957066       0.965970       0.966612   \n",
      "3        0.956539      1.000000        0.945275       0.955566       0.961099   \n",
      "4        0.957066      0.945275        1.000000       0.970403       0.946189   \n",
      "5        0.965970      0.955566        0.970403       1.000000       0.957850   \n",
      "6        0.966612      0.961099        0.946189       0.957850       1.000000   \n",
      "7        0.960195      0.955262        0.956540       0.964911       0.965331   \n",
      "8        0.977205      0.958306        0.968745       0.968280       0.964871   \n",
      "9        0.968283      0.965481        0.946632       0.958669       0.961547   \n",
      "10       0.961380      0.959257        0.953673       0.962365       0.963819   \n",
      "11       0.967131      0.947325        0.959374       0.974930       0.953272   \n",
      "12       0.974078      0.958913        0.955284       0.960624       0.962890   \n",
      "13       0.968631      0.953782        0.956265       0.970948       0.964989   \n",
      "14       0.948146      0.934825        0.951959       0.954503       0.924084   \n",
      "15       0.930696      0.925751        0.914491       0.922847       0.938203   \n",
      "\n",
      "    [Italian]_Term  [Japanese]_Term  [Norwegian]_Term  [Polish]_Term  \\\n",
      "0         0.961248         0.970522          0.965118       0.965832   \n",
      "1         0.931071         0.923034          0.906671       0.918599   \n",
      "2         0.960195         0.977205          0.968283       0.961380   \n",
      "3         0.955262         0.958306          0.965481       0.959257   \n",
      "4         0.956540         0.968745          0.946632       0.953673   \n",
      "5         0.964911         0.968280          0.958669       0.962365   \n",
      "6         0.965331         0.964871          0.961547       0.963819   \n",
      "7         1.000000         0.960277          0.947585       0.955068   \n",
      "8         0.960277         1.000000          0.964661       0.962984   \n",
      "9         0.947585         0.964661          1.000000       0.968588   \n",
      "10        0.955068         0.962984          0.968588       1.000000   \n",
      "11        0.955422         0.965387          0.956975       0.951814   \n",
      "12        0.968102         0.969938          0.958913       0.957830   \n",
      "13        0.955368         0.967160          0.967244       0.962979   \n",
      "14        0.933462         0.953490          0.938837       0.938547   \n",
      "15        0.932523         0.918547          0.929664       0.927456   \n",
      "\n",
      "    [Portuguese]_Term  [Russian]_Term  [Spanish]_Term  [Swedish]_Term  \\\n",
      "0            0.967520        0.963029        0.967198        0.950488   \n",
      "1            0.916908        0.935512        0.932287        0.909371   \n",
      "2            0.967131        0.974078        0.968631        0.948146   \n",
      "3            0.947325        0.958913        0.953782        0.934825   \n",
      "4            0.959374        0.955284        0.956265        0.951959   \n",
      "5            0.974930        0.960624        0.970948        0.954503   \n",
      "6            0.953272        0.962890        0.964989        0.924084   \n",
      "7            0.955422        0.968102        0.955368        0.933462   \n",
      "8            0.965387        0.969938        0.967160        0.953490   \n",
      "9            0.956975        0.958913        0.967244        0.938837   \n",
      "10           0.951814        0.957830        0.962979        0.938547   \n",
      "11           1.000000        0.952026        0.974497        0.958047   \n",
      "12           0.952026        1.000000        0.959187        0.932300   \n",
      "13           0.974497        0.959187        1.000000        0.949038   \n",
      "14           0.958047        0.932300        0.949038        1.000000   \n",
      "15           0.920955        0.925720        0.933558        0.892581   \n",
      "\n",
      "    [Turkish]_Term  \n",
      "0         0.922686  \n",
      "1         0.901103  \n",
      "2         0.930696  \n",
      "3         0.925751  \n",
      "4         0.914491  \n",
      "5         0.922847  \n",
      "6         0.938203  \n",
      "7         0.932523  \n",
      "8         0.918547  \n",
      "9         0.929664  \n",
      "10        0.927456  \n",
      "11        0.920955  \n",
      "12        0.925720  \n",
      "13        0.933558  \n",
      "14        0.892581  \n",
      "15        1.000000  \n"
     ]
    }
   ],
   "source": [
    "print(pd_data)"
   ]
  },
  {
   "cell_type": "code",
   "execution_count": null,
   "metadata": {},
   "outputs": [],
   "source": []
  },
  {
   "cell_type": "code",
   "execution_count": null,
   "metadata": {},
   "outputs": [],
   "source": []
  }
 ],
 "metadata": {
  "kernelspec": {
   "display_name": "Python 3",
   "language": "python",
   "name": "python3"
  },
  "language_info": {
   "codemirror_mode": {
    "name": "ipython",
    "version": 3
   },
   "file_extension": ".py",
   "mimetype": "text/x-python",
   "name": "python",
   "nbconvert_exporter": "python",
   "pygments_lexer": "ipython3",
   "version": "3.6.6"
  }
 },
 "nbformat": 4,
 "nbformat_minor": 2
}
