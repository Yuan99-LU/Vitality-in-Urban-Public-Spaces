{
 "cells": [
  {
   "cell_type": "code",
   "execution_count": 1,
   "metadata": {},
   "outputs": [],
   "source": [
    "import pandas as pd"
   ]
  },
  {
   "cell_type": "code",
   "execution_count": 3,
   "metadata": {},
   "outputs": [],
   "source": [
    "N=1"
   ]
  },
  {
   "cell_type": "code",
   "execution_count": 4,
   "metadata": {},
   "outputs": [],
   "source": [
    "data = pd.read_csv('vectors_topic_by_months_top20_features_each_month_all_top3_topics/vectors_topic_'+str(N)+'_by_months.csv')"
   ]
  },
  {
   "cell_type": "code",
   "execution_count": 5,
   "metadata": {},
   "outputs": [],
   "source": [
    "import numpy as np"
   ]
  },
  {
   "cell_type": "code",
   "execution_count": 6,
   "metadata": {},
   "outputs": [],
   "source": [
    "Jan_Freq = np.array(data['Jan_Freq'])"
   ]
  },
  {
   "cell_type": "code",
   "execution_count": 7,
   "metadata": {},
   "outputs": [
    {
     "name": "stdout",
     "output_type": "stream",
     "text": [
      "[29.88811769 23.16352631 26.84149255 19.33990119 20.29966324 81.36051972\n",
      " 17.40485132 16.41543079 12.64724219 12.61608802 12.62565684 11.66432654\n",
      " 49.60777331  8.79881165  7.85121051  7.84431413  6.8381214   6.84581695\n",
      "  6.82737214  5.92516258  0.          0.          0.          0.\n",
      "  0.          0.          0.          0.          0.          0.\n",
      "  0.          0.          0.          0.          0.          0.\n",
      "  0.          0.          0.          0.          0.          0.\n",
      "  0.          0.          0.          0.          0.          0.\n",
      "  0.          0.          0.          0.          0.          0.\n",
      "  0.          0.          0.          0.          0.          0.\n",
      "  0.          0.          0.          0.          0.          0.\n",
      "  0.          0.          0.          0.          0.          0.\n",
      "  0.          0.          0.          0.          0.          0.\n",
      "  0.          0.          0.          0.          0.          0.\n",
      "  0.          0.          0.          0.          0.          0.\n",
      "  0.          0.          0.          0.          0.          0.\n",
      "  0.          0.          0.          0.          0.          0.\n",
      "  0.          0.          0.          0.          0.          0.\n",
      "  0.          0.          0.          0.          0.          0.\n",
      "  0.          0.          0.          0.          0.          0.\n",
      "  0.          0.          0.          0.          0.          0.\n",
      "  0.          0.          0.          0.          0.          0.\n",
      "  0.          0.          0.          0.          0.          0.\n",
      "  0.          0.          0.          0.          0.          0.\n",
      "  0.          0.          0.          0.          0.          0.\n",
      "  0.          0.          0.          0.          0.          0.\n",
      "  0.          0.          0.          0.          0.          0.\n",
      "  0.          0.          0.          0.          0.          0.\n",
      "  0.          0.          0.          0.          0.          0.\n",
      "  0.          0.          0.          0.          0.          0.\n",
      "  0.          0.          0.          0.        ]\n"
     ]
    }
   ],
   "source": [
    "print(Jan_Freq)"
   ]
  },
  {
   "cell_type": "code",
   "execution_count": 8,
   "metadata": {},
   "outputs": [],
   "source": [
    "Feb_Freq = np.array(data['Feb_Freq'])"
   ]
  },
  {
   "cell_type": "code",
   "execution_count": 9,
   "metadata": {},
   "outputs": [],
   "source": [
    "d1 = np.linalg.norm(Jan_Freq - Feb_Freq)"
   ]
  },
  {
   "cell_type": "code",
   "execution_count": 10,
   "metadata": {},
   "outputs": [
    {
     "name": "stdout",
     "output_type": "stream",
     "text": [
      "79.08370411703706\n"
     ]
    }
   ],
   "source": [
    "print(d1)"
   ]
  },
  {
   "cell_type": "code",
   "execution_count": 11,
   "metadata": {},
   "outputs": [],
   "source": [
    "months = ['Jan', 'Feb', 'Mar', 'Apr', 'May', 'Jun','Jul','Aug','Sep','Oct','Nov','Dec']"
   ]
  },
  {
   "cell_type": "code",
   "execution_count": 12,
   "metadata": {},
   "outputs": [
    {
     "name": "stdout",
     "output_type": "stream",
     "text": [
      "0.0\n",
      "79.08370411703706\n",
      "123.89908369201157\n",
      "110.68616022855088\n",
      "187.1496219533212\n",
      "250.30010028802607\n",
      "181.8989505367924\n",
      "360.15333988714247\n",
      "241.31412326057082\n",
      "154.52778182454088\n",
      "78.18800484982624\n",
      "65.2910270604149\n"
     ]
    }
   ],
   "source": [
    "for month in months:\n",
    "    freq = np.array(data[month + '_Freq'])\n",
    "    print(np.linalg.norm(Jan_Freq - freq))\n",
    "    #print(np.linalg.norm(Feb_Freq - freq))"
   ]
  },
  {
   "cell_type": "code",
   "execution_count": 13,
   "metadata": {},
   "outputs": [
    {
     "name": "stdout",
     "output_type": "stream",
     "text": [
      "79.08370411703706\n",
      "0.0\n",
      "99.41329708806269\n",
      "93.28525310941987\n",
      "178.75084364514447\n",
      "252.68569938740123\n",
      "158.15140404866008\n",
      "372.2132149470382\n",
      "245.17529812952688\n",
      "199.64065670203055\n",
      "15.650521424484909\n",
      "41.66150721295662\n"
     ]
    }
   ],
   "source": [
    "for month in months:\n",
    "    freq = np.array(data[month + '_Freq'])\n",
    "    print(np.linalg.norm(Feb_Freq - freq))\n",
    "    #print(np.linalg.norm(Feb_Freq - freq))"
   ]
  },
  {
   "cell_type": "code",
   "execution_count": 14,
   "metadata": {},
   "outputs": [],
   "source": [
    "Aug_Freq = np.array(data['Aug_Freq'])"
   ]
  },
  {
   "cell_type": "code",
   "execution_count": 15,
   "metadata": {},
   "outputs": [
    {
     "data": {
      "text/plain": [
       "360.15333988714247"
      ]
     },
     "execution_count": 15,
     "metadata": {},
     "output_type": "execute_result"
    }
   ],
   "source": [
    "np.linalg.norm(Jan_Freq - Aug_Freq)"
   ]
  },
  {
   "cell_type": "code",
   "execution_count": 16,
   "metadata": {},
   "outputs": [],
   "source": [
    "def cos_similar(a,b):  \n",
    "# manually compute cosine similarity\n",
    "    dot = np.dot(a, b)\n",
    "    norma = np.linalg.norm(a)\n",
    "    normb = np.linalg.norm(b)\n",
    "    cos = dot / (norma * normb)\n",
    "    \n",
    "    return cos\n",
    " "
   ]
  },
  {
   "cell_type": "code",
   "execution_count": 17,
   "metadata": {},
   "outputs": [
    {
     "name": "stdout",
     "output_type": "stream",
     "text": [
      "1.0\n",
      "0.9395455333156569\n",
      "0.42825140256925387\n",
      "0.5382444069155798\n",
      "0.3768850580992615\n",
      "0.3938474088691312\n",
      "0.11833559259979137\n",
      "0.4118431277083456\n",
      "0.4083761691877005\n",
      "0.8151652937378395\n",
      "0.9423048578787383\n",
      "0.8872076559241994\n"
     ]
    }
   ],
   "source": [
    "for month in months:\n",
    "    freq = np.array(data[month + '_Freq'])\n",
    "    print(cos_similar(Jan_Freq, freq))"
   ]
  },
  {
   "cell_type": "code",
   "execution_count": 18,
   "metadata": {},
   "outputs": [
    {
     "name": "stdout",
     "output_type": "stream",
     "text": [
      "0.9395455333156569\n",
      "1.0\n",
      "0.5354411933279961\n",
      "0.6334449223084834\n",
      "0.5227147976253078\n",
      "0.5304545340661766\n",
      "0.035017302753829915\n",
      "0.5237061833561707\n",
      "0.5228812791563606\n",
      "0.8606084953340861\n",
      "0.9295238107593983\n",
      "0.7981122520768823\n"
     ]
    }
   ],
   "source": [
    "for month in months:\n",
    "    freq = np.array(data[month + '_Freq'])\n",
    "    print(cos_similar(Feb_Freq, freq))"
   ]
  },
  {
   "cell_type": "code",
   "execution_count": 19,
   "metadata": {},
   "outputs": [],
   "source": [
    "Mar_Freq = np.array(data['Mar_Freq'])"
   ]
  },
  {
   "cell_type": "code",
   "execution_count": 20,
   "metadata": {},
   "outputs": [
    {
     "name": "stdout",
     "output_type": "stream",
     "text": [
      "0.42825140256925387\n",
      "0.5354411933279961\n",
      "1.0000000000000002\n",
      "0.8262297185904168\n",
      "0.9036839222440389\n",
      "0.9484652832506945\n",
      "0.009619046234210997\n",
      "0.9552055741576614\n",
      "0.9368232471421983\n",
      "0.4010241021525672\n",
      "0.35715749972365923\n",
      "0.17104131835576902\n"
     ]
    }
   ],
   "source": [
    "for month in months:\n",
    "    freq = np.array(data[month + '_Freq'])\n",
    "    print(cos_similar(Mar_Freq, freq))"
   ]
  },
  {
   "cell_type": "code",
   "execution_count": 21,
   "metadata": {},
   "outputs": [],
   "source": [
    "N = 2 \n",
    "data_topic2 = pd.read_csv('vectors_topic_by_months_top20_features_each_month_all_top3_topics/vectors_topic_'+str(N)+'_by_months.csv')"
   ]
  },
  {
   "cell_type": "code",
   "execution_count": 25,
   "metadata": {},
   "outputs": [
    {
     "name": "stdout",
     "output_type": "stream",
     "text": [
      "0.0\n",
      "0.0\n",
      "0.008126951510203413\n",
      "0.11613958881012841\n",
      "0.0\n",
      "0.10532901650345282\n",
      "0.528763528506701\n",
      "0.056115708498993486\n",
      "0.04330244284601897\n",
      "0.0\n",
      "0.0\n",
      "0.0008649734532673219\n"
     ]
    }
   ],
   "source": [
    "for month in months:\n",
    "    freq_topic2 = np.array(data_topic2[month + '_Freq'])\n",
    "    print(cos_similar(Feb_Freq, freq_topic2))"
   ]
  },
  {
   "cell_type": "code",
   "execution_count": null,
   "metadata": {},
   "outputs": [],
   "source": []
  }
 ],
 "metadata": {
  "kernelspec": {
   "display_name": "Python 3",
   "language": "python",
   "name": "python3"
  },
  "language_info": {
   "codemirror_mode": {
    "name": "ipython",
    "version": 3
   },
   "file_extension": ".py",
   "mimetype": "text/x-python",
   "name": "python",
   "nbconvert_exporter": "python",
   "pygments_lexer": "ipython3",
   "version": "3.6.6"
  }
 },
 "nbformat": 4,
 "nbformat_minor": 2
}
