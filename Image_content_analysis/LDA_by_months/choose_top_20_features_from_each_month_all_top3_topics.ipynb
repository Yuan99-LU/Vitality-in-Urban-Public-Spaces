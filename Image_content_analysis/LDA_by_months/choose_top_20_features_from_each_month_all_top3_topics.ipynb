{
 "cells": [
  {
   "cell_type": "code",
   "execution_count": 1,
   "metadata": {},
   "outputs": [],
   "source": [
    "import pandas as pd"
   ]
  },
  {
   "cell_type": "code",
   "execution_count": 2,
   "metadata": {},
   "outputs": [],
   "source": [
    "months = ['Jan', 'Feb', 'Mar', 'Apr', 'May', 'Jun','Jul','Aug','Sep','Oct','Nov','Dec']"
   ]
  },
  {
   "cell_type": "code",
   "execution_count": 3,
   "metadata": {},
   "outputs": [
    {
     "name": "stdout",
     "output_type": "stream",
     "text": [
      "Jan\n",
      "Feb\n",
      "Mar\n",
      "Apr\n",
      "May\n",
      "Jun\n",
      "Jul\n",
      "Aug\n",
      "Sep\n",
      "Oct\n",
      "Nov\n",
      "Dec\n",
      "Jan\n",
      "Feb\n",
      "Mar\n",
      "Apr\n",
      "May\n",
      "Jun\n",
      "Jul\n",
      "Aug\n",
      "Sep\n",
      "Oct\n",
      "Nov\n",
      "Dec\n",
      "Jan\n",
      "Feb\n",
      "Mar\n",
      "Apr\n",
      "May\n",
      "Jun\n",
      "Jul\n",
      "Aug\n",
      "Sep\n",
      "Oct\n",
      "Nov\n",
      "Dec\n"
     ]
    }
   ],
   "source": [
    "N1 = 1\n",
    "N2 = 2\n",
    "\n",
    "features_pre = []\n",
    "for N in range(1, 4):  \n",
    "    for month in months:\n",
    "        print(month)\n",
    "        data2 = pd.read_csv('LDA_PyLDAvis/output_'+month+'_'+str(N2)+\".csv\")\n",
    "        data2 = data2[data2['Category']=='Topic'+str(N)][0:20]\n",
    "        #data2 = data2.reset_index(drop = True, inplace = True)\n",
    "        features_pre.append(data2['Term'])\n",
    "        #print(features_pre)\n",
    "features = pd.concat(features_pre).drop_duplicates().reset_index(drop=True)\n",
    "#print(features)\n",
    "features.to_csv('top20_each_month_features_all_top3_topics/Topic_'+'all_top3'+'_features.csv')\n",
    "   "
   ]
  },
  {
   "cell_type": "code",
   "execution_count": null,
   "metadata": {},
   "outputs": [],
   "source": []
  },
  {
   "cell_type": "code",
   "execution_count": 50,
   "metadata": {},
   "outputs": [],
   "source": [
    "combined = pd.concat(top1_group, axis =1)"
   ]
  },
  {
   "cell_type": "code",
   "execution_count": 51,
   "metadata": {},
   "outputs": [],
   "source": [
    "combined.to_csv(\"combined_Topic1_all_months.csv\")"
   ]
  },
  {
   "cell_type": "code",
   "execution_count": 30,
   "metadata": {},
   "outputs": [],
   "source": [
    "#print(data2)"
   ]
  },
  {
   "cell_type": "code",
   "execution_count": 27,
   "metadata": {},
   "outputs": [],
   "source": [
    "top1_group = data2[data2['Category']=='Topic1']"
   ]
  },
  {
   "cell_type": "code",
   "execution_count": 33,
   "metadata": {},
   "outputs": [
    {
     "name": "stdout",
     "output_type": "stream",
     "text": [
      "    term Category       Freq           Term      Total  loglift  logprob\n",
      "30    41   Topic1  29.888118       landmark  30.345109   0.2443  -2.9738\n",
      "31    25   Topic1  23.163526         estate  23.614441   0.2402  -3.2286\n",
      "32    37   Topic1  26.841493          house  27.420451   0.2381  -3.0813\n",
      "33    64   Topic1  19.339901       property  19.771260   0.2374  -3.4090\n",
      "34    36   Topic1  20.299663           home  20.758493   0.2371  -3.3606\n",
      "35     1   Topic1  81.360520   architecture  83.281414   0.2361  -1.9723\n",
      "36    49   Topic1  17.404851       medieval  17.850313   0.2342  -3.5145\n",
      "37    26   Topic1  16.415431         facade  16.878453   0.2317  -3.5730\n",
      "38    47   Topic1  12.647242        mansion  13.092311   0.2249  -3.8338\n",
      "39    83   Topic1  12.616088        stately  13.075627   0.2237  -3.8362\n",
      "40    57   Topic1  12.625657         palace  13.089148   0.2234  -3.8355\n",
      "41    16   Topic1  11.664327      classical  12.127465   0.2205  -3.9147\n",
      "42     6   Topic1  49.607773       building  51.619368   0.2197  -2.4671\n",
      "43    66   Topic1   8.798812           real   9.238819   0.2107  -4.1966\n",
      "44    99   Topic1   7.851211        worship   8.283610   0.2059  -4.3105\n",
      "45    62   Topic1   7.844314          place   8.279573   0.2055  -4.3114\n",
      "46    38   Topic1   6.838121          human   7.286476   0.1960  -4.4487\n",
      "47    91   Topic1   6.845817          urban   7.297564   0.1956  -4.4476\n",
      "48    74   Topic1   6.827372     settlement   7.278526   0.1955  -4.4503\n",
      "49    35   Topic1   5.925163       historic   6.359286   0.1888  -4.5920\n",
      "50    13   Topic1   5.934279        chateau   6.377925   0.1874  -4.5905\n",
      "51    14   Topic1   5.934488         church   6.381718   0.1868  -4.5904\n",
      "52    54   Topic1   4.916863  neighbourhood   5.347955   0.1754  -4.7785\n",
      "53    75   Topic1   4.956605           site   5.399379   0.1739  -4.7705\n",
      "54    10   Topic1   4.958751      cathedral   5.402154   0.1738  -4.7701\n",
      "55    96   Topic1   4.005208           wall   4.438872   0.1567  -4.9836\n",
      "56    46   Topic1   4.006260          manor   4.445654   0.1554  -4.9834\n",
      "57    51   Topic1   3.974542          mixed   4.412929   0.1548  -4.9913\n",
      "58    92   Topic1   3.965243            use   4.414059   0.1522  -4.9936\n",
      "59    15   Topic1  18.655626           city  20.810786   0.1501  -3.4451\n",
      "60    88   Topic1  13.791251           town  16.639322   0.0717  -3.7472\n",
      "61    76   Topic1  12.506377            sky  16.027149   0.0114  -3.8450\n",
      "62     2   Topic1  13.235783           area  17.294197  -0.0080  -3.7883\n",
      "63    90   Topic1  13.479408           tree  20.639056  -0.1666  -3.7700\n"
     ]
    }
   ],
   "source": [
    "print(top1_group)#"
   ]
  },
  {
   "cell_type": "code",
   "execution_count": null,
   "metadata": {},
   "outputs": [],
   "source": []
  }
 ],
 "metadata": {
  "kernelspec": {
   "display_name": "Python 3",
   "language": "python",
   "name": "python3"
  },
  "language_info": {
   "codemirror_mode": {
    "name": "ipython",
    "version": 3
   },
   "file_extension": ".py",
   "mimetype": "text/x-python",
   "name": "python",
   "nbconvert_exporter": "python",
   "pygments_lexer": "ipython3",
   "version": "3.6.6"
  }
 },
 "nbformat": 4,
 "nbformat_minor": 2
}
