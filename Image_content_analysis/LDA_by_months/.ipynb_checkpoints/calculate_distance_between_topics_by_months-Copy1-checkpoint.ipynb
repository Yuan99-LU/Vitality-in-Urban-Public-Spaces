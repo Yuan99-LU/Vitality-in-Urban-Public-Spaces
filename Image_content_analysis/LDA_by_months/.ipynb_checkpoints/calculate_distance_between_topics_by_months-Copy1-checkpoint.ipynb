{
 "cells": [
  {
   "cell_type": "code",
   "execution_count": 1,
   "metadata": {},
   "outputs": [],
   "source": [
    "import pandas as pd"
   ]
  },
  {
   "cell_type": "code",
   "execution_count": 2,
   "metadata": {},
   "outputs": [],
   "source": [
    "months = ['Jan', 'Feb', 'Mar', 'Apr', 'May', 'Jun','Jul','Aug','Sep','Oct','Nov','Dec']"
   ]
  },
  {
   "cell_type": "code",
   "execution_count": 4,
   "metadata": {},
   "outputs": [],
   "source": [
    "topic1 = pd.read_csv('Combine_all_months_by_Topic/combined_Topic_1_all_months.csv')"
   ]
  },
  {
   "cell_type": "code",
   "execution_count": 5,
   "metadata": {},
   "outputs": [
    {
     "name": "stdout",
     "output_type": "stream",
     "text": [
      "    Unnamed: 0   Jan_Freq       Jan_Term   Feb_Freq       Feb_Term  \\\n",
      "0            0  29.888118       landmark  25.088083   architecture   \n",
      "1            1  23.163526         estate  14.082913       landmark   \n",
      "2            2  26.841493          house   9.438045        mansion   \n",
      "3            3  19.339901       property   9.440395         estate   \n",
      "4            4  20.299663           home   9.445350          house   \n",
      "5            5  81.360520   architecture   7.602860           home   \n",
      "6            6  17.404851       medieval   7.588155         palace   \n",
      "7            7  16.415431         facade   6.629662         facade   \n",
      "8            8  12.647242        mansion   6.665034      classical   \n",
      "9            9  12.616088        stately   6.668809        stately   \n",
      "10          10  12.625657         palace   5.727215       official   \n",
      "11          11  11.664327      classical   5.728462      residence   \n",
      "12          12  49.607773       building  15.797558       building   \n",
      "13          13   8.798812           real   3.884588       property   \n",
      "14          14   7.851211        worship   2.026948        chateau   \n",
      "15          15   7.844314          place   2.016702          human   \n",
      "16          16   6.838121          human   2.014852       medieval   \n",
      "17          17   6.845817          urban   2.023981        worship   \n",
      "18          18   6.827372     settlement   2.026641  neighbourhood   \n",
      "19          19   5.925163       historic   2.023964     settlement   \n",
      "20          20   5.934279        chateau   2.024433         church   \n",
      "21          21   5.934488         church   2.005392          place   \n",
      "22          22   4.916863  neighbourhood   2.013356         parish   \n",
      "23          23   4.956605           site   4.475111           city   \n",
      "24          24   4.958751      cathedral   2.488543           town   \n",
      "25          25   4.005208           wall   2.977026          grass   \n",
      "26          26   4.006260          manor   4.898769           tree   \n",
      "27          27   3.974542          mixed   1.097266       waterway   \n",
      "28          28   3.965243            use   0.502019         street   \n",
      "29          29  18.655626           city   2.025590            sky   \n",
      "30          30  13.791251           town   1.030572           area   \n",
      "31          31  12.506377            sky        NaN            NaN   \n",
      "32          32  13.235783           area        NaN            NaN   \n",
      "33          33  13.479408           tree        NaN            NaN   \n",
      "34          34        NaN            NaN        NaN            NaN   \n",
      "35          35        NaN            NaN        NaN            NaN   \n",
      "36          36        NaN            NaN        NaN            NaN   \n",
      "37          37        NaN            NaN        NaN            NaN   \n",
      "38          38        NaN            NaN        NaN            NaN   \n",
      "39          39        NaN            NaN        NaN            NaN   \n",
      "40          40        NaN            NaN        NaN            NaN   \n",
      "41          41        NaN            NaN        NaN            NaN   \n",
      "42          42        NaN            NaN        NaN            NaN   \n",
      "43          43        NaN            NaN        NaN            NaN   \n",
      "44          44        NaN            NaN        NaN            NaN   \n",
      "45          45        NaN            NaN        NaN            NaN   \n",
      "46          46        NaN            NaN        NaN            NaN   \n",
      "\n",
      "      Mar_Freq      Mar_Term   Apr_Freq       Apr_Term    May_Freq  \\\n",
      "0    60.434555         house  52.793495         estate   69.280703   \n",
      "1    53.838452        estate  41.499443           home   67.522300   \n",
      "2    34.109852       mansion  37.078566        stately   48.521655   \n",
      "3    32.168961          home  33.459436        mansion   75.449412   \n",
      "4    23.704516       stately  18.694514        chateau   30.476590   \n",
      "5    36.738739        palace  16.534654       official   26.573494   \n",
      "6    34.925737      property  16.530091      residence   26.573448   \n",
      "7    16.096166       chateau  12.063165          manor   11.185293   \n",
      "8     9.602799     residence   7.600906           real   10.989053   \n",
      "9     9.599173      official   4.261226         campus    9.319094   \n",
      "10    6.780380         manor  28.519968       property   88.072960   \n",
      "11    4.875341    courthouse   3.746201        college    5.515006   \n",
      "12    4.869416    attraction   3.452754         castle    5.303622   \n",
      "13    4.859811       tourist  24.478379         palace  103.917900   \n",
      "14    4.877859        castle   1.774341   presidential    2.562501   \n",
      "15   27.137405     classical  32.815917          house    2.561623   \n",
      "16    3.931666      monument   1.928129  neighbourhood    2.565482   \n",
      "17    3.913989     almshouse  47.802502       building    2.559509   \n",
      "18    4.529782          real   2.274182           roof    2.561492   \n",
      "19    3.910738       daytime   3.122638    residential    2.293013   \n",
      "20   11.457972         grass  14.604783      classical   11.304946   \n",
      "21   26.194509        facade  27.370914       landmark   46.769613   \n",
      "22    3.000475         brick   4.347603         spring   12.536973   \n",
      "23   53.136425      landmark   3.743720           lawn    1.722991   \n",
      "24    2.881149          roof  61.446746   architecture    1.741426   \n",
      "25    5.837146        spring   0.686404       monument   15.673578   \n",
      "26   76.041990      building  16.425766          grass    7.959155   \n",
      "27    2.050376      basilica  14.162868           tree   79.467673   \n",
      "28    2.042390         white  11.705516            sky  119.731873   \n",
      "29    2.070162  presidential   1.719941       historic   10.062464   \n",
      "30  108.587608  architecture   4.424793         facade  140.042298   \n",
      "31   32.810606           sky   2.202502           area   17.891524   \n",
      "32   25.051652          city        NaN            NaN   38.350884   \n",
      "33   21.744789          tree        NaN            NaN   33.551785   \n",
      "34   20.087502          town        NaN            NaN   16.405068   \n",
      "35    7.727563      historic        NaN            NaN   13.939507   \n",
      "36    7.102202      medieval        NaN            NaN    6.054249   \n",
      "37    5.820735          area        NaN            NaN   12.285902   \n",
      "38         NaN           NaN        NaN            NaN   18.040826   \n",
      "39         NaN           NaN        NaN            NaN    7.113957   \n",
      "40         NaN           NaN        NaN            NaN    9.421861   \n",
      "41         NaN           NaN        NaN            NaN         NaN   \n",
      "42         NaN           NaN        NaN            NaN         NaN   \n",
      "43         NaN           NaN        NaN            NaN         NaN   \n",
      "44         NaN           NaN        NaN            NaN         NaN   \n",
      "45         NaN           NaN        NaN            NaN         NaN   \n",
      "46         NaN           NaN        NaN            NaN         NaN   \n",
      "\n",
      "        ...          Aug_Freq       Aug_Term    Sep_Freq       Sep_Term  \\\n",
      "0       ...        130.975397           home   84.317088        mansion   \n",
      "1       ...        122.081089        mansion   72.772708        stately   \n",
      "2       ...        123.359402         palace   93.972790           home   \n",
      "3       ...         92.761719        stately   82.708024         palace   \n",
      "4       ...         61.539988      residence   43.116999      residence   \n",
      "5       ...         61.545753       official   43.112361       official   \n",
      "6       ...         38.931185          manor   17.605256          manor   \n",
      "7       ...         27.971378           real  100.026375       property   \n",
      "8       ...         58.863613        chateau   12.416895         square   \n",
      "9       ...        186.273927         estate    8.998016          plaza   \n",
      "10      ...         15.186479         castle  108.615489          house   \n",
      "11      ...         15.128806   presidential    6.818116   presidential   \n",
      "12      ...        173.996134          house  115.791639         estate   \n",
      "13      ...          7.586057        tourist   33.566603        chateau   \n",
      "14      ...          7.575205     attraction   21.308088          space   \n",
      "15      ...          5.153239     courthouse   21.301926         public   \n",
      "16      ...        137.439402       property   11.856698           real   \n",
      "17      ...          7.956071        cottage    3.433354      almshouse   \n",
      "18      ...          3.556815      farmhouse    2.735445      brickwork   \n",
      "19      ...          3.520115  fortification    2.717203        college   \n",
      "20      ...          3.424040      apartment   52.184814           town   \n",
      "21      ...          4.304497      almshouse   25.143875     settlement   \n",
      "22      ...          1.766894         window   25.144781          human   \n",
      "23      ...         53.677006      classical   11.678118    residential   \n",
      "24      ...        184.362000       building   14.104268  neighbourhood   \n",
      "25      ...          1.876454      sculpture    3.858516          light   \n",
      "26      ...        100.867962       landmark    5.711836            use   \n",
      "27      ...        221.003616   architecture    5.711689          mixed   \n",
      "28      ...          1.846826        college    1.612223        cottage   \n",
      "29      ...         15.069165       historic    1.588408       downtown   \n",
      "30      ...         11.952930    residential  134.206379       building   \n",
      "31      ...         37.276911           tree   39.791028           city   \n",
      "32      ...         28.762424         facade  151.978838   architecture   \n",
      "33      ...         37.370888            sky   28.583601      classical   \n",
      "34      ...          8.728945           roof   58.345269       landmark   \n",
      "35      ...         13.766097          grass   24.858272           tree   \n",
      "36      ...         12.977310           city   27.590116            sky   \n",
      "37      ...         12.001345           area   17.873076         facade   \n",
      "38      ...          9.946734           town   11.150682           area   \n",
      "39      ...               NaN            NaN    9.184025       historic   \n",
      "40      ...               NaN            NaN         NaN            NaN   \n",
      "41      ...               NaN            NaN         NaN            NaN   \n",
      "42      ...               NaN            NaN         NaN            NaN   \n",
      "43      ...               NaN            NaN         NaN            NaN   \n",
      "44      ...               NaN            NaN         NaN            NaN   \n",
      "45      ...               NaN            NaN         NaN            NaN   \n",
      "46      ...               NaN            NaN         NaN            NaN   \n",
      "\n",
      "      Oct_Freq      Oct_Term   Nov_Freq      Nov_Term   Dec_Freq  \\\n",
      "0    56.380985        palace  30.264759  architecture  45.344915   \n",
      "1    45.092010       mansion  16.147613      building  28.030053   \n",
      "2    44.036220          home  10.506687      landmark  18.416059   \n",
      "3    49.627047         house   7.716671        facade  14.579048   \n",
      "4    37.335707       stately   7.667065         house  11.701491   \n",
      "5    33.827839     classical   6.754034        palace  11.692728   \n",
      "6    29.619986      medieval   6.768593     classical  10.743824   \n",
      "7    84.370012      landmark   6.730475        estate  10.756905   \n",
      "8    28.360238        facade   5.813268      medieval  10.740887   \n",
      "9    25.853612      official   4.876495         place   9.826251   \n",
      "10   25.858958     residence   4.882973        church   5.950368   \n",
      "11   25.634690       chateau   4.861658       mansion   5.931131   \n",
      "12   21.462472        church   4.885159       worship   5.940433   \n",
      "13   17.689669     cathedral   4.848130          home   5.938065   \n",
      "14   14.978417         place   3.941007          city   5.942035   \n",
      "15   14.977893       worship   3.942093          town   4.953423   \n",
      "16   13.688415         tower   3.924904       stately   4.964396   \n",
      "17   13.501156         spire   2.995543     residence   4.979247   \n",
      "18  173.509119  architecture   3.007063          wall   4.959010   \n",
      "19   10.574416         manor   2.991554      official   4.034245   \n",
      "20    9.527267       steeple   2.987292       chateau   4.027666   \n",
      "21    9.308991        gothic   2.887743      property   4.028196   \n",
      "22  107.952557      building   8.600490           sky   4.017309   \n",
      "23    7.646335  presidential   2.049283      historic  11.690123   \n",
      "24    6.598219      historic   2.063619         tower   3.040158   \n",
      "25   61.745631        estate   2.059451          site   3.079738   \n",
      "26   37.989485      property   2.056636       steeple   3.053380   \n",
      "27    4.300541          site   2.062436     cathedral   3.052080   \n",
      "28    3.891541         brick   2.069100        gothic   3.053579   \n",
      "29    3.669479        castle   2.053967          area   3.055801   \n",
      "30   49.869659           sky   2.985561          tree  11.681705   \n",
      "31   26.027414          town        NaN           NaN  11.684458   \n",
      "32   14.818718          city        NaN           NaN   3.055189   \n",
      "33   22.158088          tree        NaN           NaN        NaN   \n",
      "34         NaN           NaN        NaN           NaN        NaN   \n",
      "35         NaN           NaN        NaN           NaN        NaN   \n",
      "36         NaN           NaN        NaN           NaN        NaN   \n",
      "37         NaN           NaN        NaN           NaN        NaN   \n",
      "38         NaN           NaN        NaN           NaN        NaN   \n",
      "39         NaN           NaN        NaN           NaN        NaN   \n",
      "40         NaN           NaN        NaN           NaN        NaN   \n",
      "41         NaN           NaN        NaN           NaN        NaN   \n",
      "42         NaN           NaN        NaN           NaN        NaN   \n",
      "43         NaN           NaN        NaN           NaN        NaN   \n",
      "44         NaN           NaN        NaN           NaN        NaN   \n",
      "45         NaN           NaN        NaN           NaN        NaN   \n",
      "46         NaN           NaN        NaN           NaN        NaN   \n",
      "\n",
      "         Dec_Term  \n",
      "0    architecture  \n",
      "1        building  \n",
      "2        landmark  \n",
      "3            town  \n",
      "4        medieval  \n",
      "5           urban  \n",
      "6          church  \n",
      "7           house  \n",
      "8            city  \n",
      "9          facade  \n",
      "10      cathedral  \n",
      "11          place  \n",
      "12        worship  \n",
      "13         estate  \n",
      "14       property  \n",
      "15          human  \n",
      "16  neighbourhood  \n",
      "17          spire  \n",
      "18     settlement  \n",
      "19           home  \n",
      "20      classical  \n",
      "21        steeple  \n",
      "22          brick  \n",
      "23           area  \n",
      "24       historic  \n",
      "25         gothic  \n",
      "26         public  \n",
      "27          tower  \n",
      "28         street  \n",
      "29           site  \n",
      "30            sky  \n",
      "31           tree  \n",
      "32          space  \n",
      "33            NaN  \n",
      "34            NaN  \n",
      "35            NaN  \n",
      "36            NaN  \n",
      "37            NaN  \n",
      "38            NaN  \n",
      "39            NaN  \n",
      "40            NaN  \n",
      "41            NaN  \n",
      "42            NaN  \n",
      "43            NaN  \n",
      "44            NaN  \n",
      "45            NaN  \n",
      "46            NaN  \n",
      "\n",
      "[47 rows x 25 columns]\n"
     ]
    }
   ],
   "source": [
    "#print(topic1)"
   ]
  },
  {
   "cell_type": "code",
   "execution_count": 10,
   "metadata": {},
   "outputs": [],
   "source": [
    "features_topic1 = pd.read_csv('features_by_topics/Topic_1_features.csv', names = ['index_original','features'])"
   ]
  },
  {
   "cell_type": "code",
   "execution_count": null,
   "metadata": {},
   "outputs": [],
   "source": [
    "features_topic1['index_original'].apply(lambda x: )"
   ]
  },
  {
   "cell_type": "code",
   "execution_count": 31,
   "metadata": {},
   "outputs": [
    {
     "name": "stdout",
     "output_type": "stream",
     "text": [
      "4\n"
     ]
    }
   ],
   "source": [
    "print(topic1['Jan_Term'][topic1['Jan_Term'] == 'home'].index[0])"
   ]
  },
  {
   "cell_type": "code",
   "execution_count": 32,
   "metadata": {},
   "outputs": [
    {
     "data": {
      "text/plain": [
       "'home'"
      ]
     },
     "execution_count": 32,
     "metadata": {},
     "output_type": "execute_result"
    }
   ],
   "source": [
    "topic1['Jan_Term'][4]"
   ]
  },
  {
   "cell_type": "code",
   "execution_count": 28,
   "metadata": {},
   "outputs": [],
   "source": [
    "#print(topic1['Jan_Term'])"
   ]
  },
  {
   "cell_type": "code",
   "execution_count": 37,
   "metadata": {},
   "outputs": [
    {
     "name": "stdout",
     "output_type": "stream",
     "text": [
      "[29.88811768523016, 23.16352630689085, 26.841492546916108, 19.339901194562547, 20.299663239882435, 81.36051971808281, 17.404851318954307, 16.415430792819564, 12.647242185141947, 12.616088020728176, 12.625656843503934, 11.664326542441973, 49.607773312796276, 8.798811653939726, 7.851210513219758, 7.8443141342457, 6.838121399238032, 6.845816950134318, 6.827372135786952, 5.925162581982899, 5.9342791642252015, 5.9344876643922015, 4.916862874269457, 4.956605058625504, 4.958750788190713, 4.005208107616355, 4.006259623473018, 3.9745424801578015, 3.965243364864691, 18.655625868606734, 13.791251259919536, 12.506377022216704, 13.235783156598911, 13.479407960091347, 0, 0, 0, 0, 0, 0, 0, 0, 0, 0, 0, 0, 0, 0, 0, 0, 0, 0, 0, 0, 0, 0, 0, 0, 0, 0, 0, 0, 0, 0, 0, 0, 0, 0, 0, 0, 0, 0, 0, 0, 0, 0, 0, 0, 0, 0, 0, 0, 0, 0, 0, 0, 0, 0, 0]\n"
     ]
    }
   ],
   "source": [
    "freq = []\n",
    "for term in features_topic1['features']:\n",
    "    #print(term)\n",
    "    if term in topic1['Jan_Term'].tolist():\n",
    "        index = topic1['Jan_Term'][topic1['Jan_Term'] == term].index[0]\n",
    "        freq.append(topic1['Jan_Freq'][index])\n",
    "    else:\n",
    "        freq.append(0)\n",
    "print(freq)"
   ]
  },
  {
   "cell_type": "code",
   "execution_count": 13,
   "metadata": {},
   "outputs": [],
   "source": [
    "#print(features_topic1['features'])"
   ]
  },
  {
   "cell_type": "code",
   "execution_count": 38,
   "metadata": {},
   "outputs": [],
   "source": [
    "features_topic1['Jan_Freq'] = freq"
   ]
  },
  {
   "cell_type": "code",
   "execution_count": null,
   "metadata": {},
   "outputs": [],
   "source": [
    "#features_topic['Jan_Freq2'] = topic1['']"
   ]
  },
  {
   "cell_type": "code",
   "execution_count": null,
   "metadata": {},
   "outputs": [],
   "source": [
    "#feature_topic1.apply(lambda x['Jan_Freq']: x[''])"
   ]
  },
  {
   "cell_type": "code",
   "execution_count": 39,
   "metadata": {},
   "outputs": [
    {
     "name": "stdout",
     "output_type": "stream",
     "text": [
      "    index_original       features   Jan_Freq\n",
      "0                0       landmark  29.888118\n",
      "1                1         estate  23.163526\n",
      "2                2          house  26.841493\n",
      "3                3       property  19.339901\n",
      "4                4           home  20.299663\n",
      "5                5   architecture  81.360520\n",
      "6                6       medieval  17.404851\n",
      "7                7         facade  16.415431\n",
      "8                8        mansion  12.647242\n",
      "9                9        stately  12.616088\n",
      "10              10         palace  12.625657\n",
      "11              11      classical  11.664327\n",
      "12              12       building  49.607773\n",
      "13              13           real   8.798812\n",
      "14              14        worship   7.851211\n",
      "15              15          place   7.844314\n",
      "16              16          human   6.838121\n",
      "17              17          urban   6.845817\n",
      "18              18     settlement   6.827372\n",
      "19              19       historic   5.925163\n",
      "20              20        chateau   5.934279\n",
      "21              21         church   5.934488\n",
      "22              22  neighbourhood   4.916863\n",
      "23              23           site   4.956605\n",
      "24              24      cathedral   4.958751\n",
      "25              25           wall   4.005208\n",
      "26              26          manor   4.006260\n",
      "27              27          mixed   3.974542\n",
      "28              28            use   3.965243\n",
      "29              29           city  18.655626\n",
      "..             ...            ...        ...\n",
      "59              59     government   0.000000\n",
      "60              60          local   0.000000\n",
      "61              61           seat   0.000000\n",
      "62              62  fortification   0.000000\n",
      "63              63        steeple   0.000000\n",
      "64              64         chapel   0.000000\n",
      "65              65       national   0.000000\n",
      "66              66          tower   0.000000\n",
      "67              67        tourism   0.000000\n",
      "68              68         column   0.000000\n",
      "69              69         statue   0.000000\n",
      "70              70        fixture   0.000000\n",
      "71              71          villa   0.000000\n",
      "72              72     university   0.000000\n",
      "73              73          light   0.000000\n",
      "74              74          cloud   0.000000\n",
      "75              75       downtown   0.000000\n",
      "76              76         gothic   0.000000\n",
      "77              77         square   0.000000\n",
      "78              78           arch   0.000000\n",
      "79              79         public   0.000000\n",
      "80              80          space   0.000000\n",
      "81              81         siding   0.000000\n",
      "82              82      farmhouse   0.000000\n",
      "83              83      byzantine   0.000000\n",
      "84              84      apartment   0.000000\n",
      "85              85         window   0.000000\n",
      "86              86      sculpture   0.000000\n",
      "87              87          plaza   0.000000\n",
      "88              88      brickwork   0.000000\n",
      "\n",
      "[89 rows x 3 columns]\n"
     ]
    }
   ],
   "source": [
    "print(features_topic1)"
   ]
  },
  {
   "cell_type": "code",
   "execution_count": null,
   "metadata": {},
   "outputs": [],
   "source": []
  }
 ],
 "metadata": {
  "kernelspec": {
   "display_name": "Python 3",
   "language": "python",
   "name": "python3"
  },
  "language_info": {
   "codemirror_mode": {
    "name": "ipython",
    "version": 3
   },
   "file_extension": ".py",
   "mimetype": "text/x-python",
   "name": "python",
   "nbconvert_exporter": "python",
   "pygments_lexer": "ipython3",
   "version": "3.6.6"
  }
 },
 "nbformat": 4,
 "nbformat_minor": 2
}
