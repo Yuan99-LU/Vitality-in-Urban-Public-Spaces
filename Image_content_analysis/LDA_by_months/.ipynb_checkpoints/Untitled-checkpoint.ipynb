{
 "cells": [
  {
   "cell_type": "code",
   "execution_count": 1,
   "metadata": {},
   "outputs": [],
   "source": [
    "import pandas as pd"
   ]
  },
  {
   "cell_type": "code",
   "execution_count": 2,
   "metadata": {},
   "outputs": [],
   "source": [
    "N=1"
   ]
  },
  {
   "cell_type": "code",
   "execution_count": 6,
   "metadata": {},
   "outputs": [],
   "source": [
    "data = pd.read_csv('vectors_topic_by_months/vectors_topic_'+str(N)+'_by_months.csv')"
   ]
  },
  {
   "cell_type": "code",
   "execution_count": 5,
   "metadata": {},
   "outputs": [],
   "source": [
    "import numpy as np"
   ]
  },
  {
   "cell_type": "code",
   "execution_count": 7,
   "metadata": {},
   "outputs": [],
   "source": [
    "Jan_Freq = np.array(data['Jan_Freq'])"
   ]
  },
  {
   "cell_type": "code",
   "execution_count": 8,
   "metadata": {},
   "outputs": [
    {
     "name": "stdout",
     "output_type": "stream",
     "text": [
      "[29.88811769 23.16352631 26.84149255 19.33990119 20.29966324 81.36051972\n",
      " 17.40485132 16.41543079 12.64724219 12.61608802 12.62565684 11.66432654\n",
      " 49.60777331  8.79881165  7.85121051  7.84431413  6.8381214   6.84581695\n",
      "  6.82737214  5.92516258  5.93427916  5.93448766  4.91686287  4.95660506\n",
      "  4.95875079  4.00520811  4.00625962  3.97454248  3.96524336 18.65562587\n",
      " 13.79125126 12.50637702 13.23578316 13.47940796  0.          0.\n",
      "  0.          0.          0.          0.          0.          0.\n",
      "  0.          0.          0.          0.          0.          0.\n",
      "  0.          0.          0.          0.          0.          0.\n",
      "  0.          0.          0.          0.          0.          0.\n",
      "  0.          0.          0.          0.          0.          0.\n",
      "  0.          0.          0.          0.          0.          0.\n",
      "  0.          0.          0.          0.          0.          0.\n",
      "  0.          0.          0.          0.          0.          0.\n",
      "  0.          0.          0.          0.          0.        ]\n"
     ]
    }
   ],
   "source": [
    "print(Jan_Freq)"
   ]
  },
  {
   "cell_type": "code",
   "execution_count": 9,
   "metadata": {},
   "outputs": [],
   "source": [
    "Feb_Freq = np.array(data['Feb_Freq'])"
   ]
  },
  {
   "cell_type": "code",
   "execution_count": 10,
   "metadata": {},
   "outputs": [],
   "source": [
    "d1 = np.linalg.norm(Jan_Freq - Feb_Freq)"
   ]
  },
  {
   "cell_type": "code",
   "execution_count": 11,
   "metadata": {},
   "outputs": [
    {
     "name": "stdout",
     "output_type": "stream",
     "text": [
      "83.93989775046192\n"
     ]
    }
   ],
   "source": [
    "print(d1)"
   ]
  },
  {
   "cell_type": "code",
   "execution_count": 13,
   "metadata": {},
   "outputs": [],
   "source": [
    "months = ['Jan', 'Feb', 'Mar', 'Apr', 'May', 'Jun','Jul','Aug','Sep','Oct','Nov','Dec']"
   ]
  },
  {
   "cell_type": "code",
   "execution_count": 14,
   "metadata": {},
   "outputs": [
    {
     "name": "stdout",
     "output_type": "stream",
     "text": [
      "0.0\n",
      "83.93989775046192\n",
      "87.91332320164673\n",
      "75.53220132425842\n",
      "192.7839735978321\n",
      "272.25997440001817\n",
      "280.9388416285307\n",
      "406.0455641543904\n",
      "252.5653736097951\n",
      "164.7808468675236\n",
      "81.25258778377922\n",
      "62.69175605310244\n"
     ]
    }
   ],
   "source": [
    "for month in months:\n",
    "    freq = np.array(data[month + '_Freq'])\n",
    "    print(np.linalg.norm(Jan_Freq - freq))\n",
    "    #print(np.linalg.norm(Feb_Freq - freq))"
   ]
  },
  {
   "cell_type": "code",
   "execution_count": 15,
   "metadata": {},
   "outputs": [
    {
     "name": "stdout",
     "output_type": "stream",
     "text": [
      "83.93989775046192\n",
      "0.0\n",
      "153.2643758076846\n",
      "98.94649750532751\n",
      "254.21011189439477\n",
      "331.9056064172843\n",
      "356.949847231147\n",
      "466.4417290514064\n",
      "313.1069215945714\n",
      "235.25574252999007\n",
      "15.98583279119162\n",
      "43.11051087233223\n"
     ]
    }
   ],
   "source": [
    "for month in months:\n",
    "    freq = np.array(data[month + '_Freq'])\n",
    "    print(np.linalg.norm(Feb_Freq - freq))\n",
    "    #print(np.linalg.norm(Feb_Freq - freq))"
   ]
  },
  {
   "cell_type": "code",
   "execution_count": 16,
   "metadata": {},
   "outputs": [],
   "source": [
    "Aug_Freq = np.array(data['Aug_Freq'])"
   ]
  },
  {
   "cell_type": "code",
   "execution_count": 17,
   "metadata": {},
   "outputs": [
    {
     "data": {
      "text/plain": [
       "406.0455641543904"
      ]
     },
     "execution_count": 17,
     "metadata": {},
     "output_type": "execute_result"
    }
   ],
   "source": [
    "np.linalg.norm(Jan_Freq - Aug_Freq)"
   ]
  },
  {
   "cell_type": "code",
   "execution_count": null,
   "metadata": {},
   "outputs": [],
   "source": [
    "def cos_similar(a,b):\n",
    "   \n",
    "# manually compute cosine similarity\n",
    "    dot = np.dot(a, b)\n",
    "    norma = np.linalg.norm(a)\n",
    "    normb = np.linalg.norm(b)\n",
    "    cos = dot / (norma * normb)\n",
    "    \n",
    "return cos\n",
    " "
   ]
  },
  {
   "cell_type": "code",
   "execution_count": null,
   "metadata": {},
   "outputs": [],
   "source": []
  }
 ],
 "metadata": {
  "kernelspec": {
   "display_name": "Python 3",
   "language": "python",
   "name": "python3"
  },
  "language_info": {
   "codemirror_mode": {
    "name": "ipython",
    "version": 3
   },
   "file_extension": ".py",
   "mimetype": "text/x-python",
   "name": "python",
   "nbconvert_exporter": "python",
   "pygments_lexer": "ipython3",
   "version": "3.6.6"
  }
 },
 "nbformat": 4,
 "nbformat_minor": 2
}
