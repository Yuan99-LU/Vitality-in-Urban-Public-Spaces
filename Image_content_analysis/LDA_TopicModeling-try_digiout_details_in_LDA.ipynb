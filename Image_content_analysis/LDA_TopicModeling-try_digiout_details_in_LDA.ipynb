{
 "cells": [
  {
   "cell_type": "code",
   "execution_count": 1,
   "metadata": {},
   "outputs": [],
   "source": [
    "from sklearn.feature_extraction.text import TfidfVectorizer, CountVectorizer\n",
    "from sklearn.decomposition import NMF, LatentDirichletAllocation\n",
    "import pyLDAvis\n",
    "import pyLDAvis.sklearn\n",
    "import pyLDAvis.gensim\n",
    "import numpy as np\n",
    "from datetime import datetime, date, time\n",
    "import csv\n",
    "import sys\n",
    "import importlib\n",
    "import pandas as pd"
   ]
  },
  {
   "cell_type": "code",
   "execution_count": null,
   "metadata": {},
   "outputs": [],
   "source": []
  },
  {
   "cell_type": "code",
   "execution_count": 2,
   "metadata": {},
   "outputs": [],
   "source": [
    "LANGUAGE = '[English]'"
   ]
  },
  {
   "cell_type": "code",
   "execution_count": 3,
   "metadata": {},
   "outputs": [],
   "source": [
    "def tf_vctorize(n_max_features, text):\n",
    "    #n_features = 1000\n",
    "    tf_vectorizer = CountVectorizer(strip_accents = 'unicode',\n",
    "                                max_features=n_max_features,\n",
    "                                stop_words='english',\n",
    "                                max_df = 0.95,\n",
    "                                min_df = 2)\n",
    "    tf = tf_vectorizer.fit_transform(text)\n",
    "    tf_feature_names = tf_vectorizer.get_feature_names()\n",
    "    return tf, tf_vectorizer, tf_feature_names\n",
    "    \n",
    "\n",
    "def LDA_analyze(tf_vector, n_topics):\n",
    "    lda = LatentDirichletAllocation(n_topics=n_topics,doc_topic_prior =1/(n_topics*10), max_iter=50,\n",
    "                                learning_method='online',\n",
    "                                learning_offset=50.,\n",
    "                                evaluate_every = 1,\n",
    "                                random_state=0)\n",
    "    lda.fit(tf_vector)\n",
    "    print(lda)\n",
    "    return lda\n",
    "\n",
    "def tf_idf(n_max_features, text):\n",
    "    tfidf_vectorizer = TfidfVectorizer(max_df=0.95,\n",
    "                                       min_df=2,\n",
    "                                       max_features=n_max_features,\n",
    "                                       stop_words='english')\n",
    "    tfidf = tfidf_vectorizer.fit_transform(text)\n",
    "    tfidf_feature_names = tfidf_vectorizer.get_feature_names()\n",
    "    return tfidf, tfidf_feature_names\n"
   ]
  },
  {
   "cell_type": "code",
   "execution_count": 14,
   "metadata": {},
   "outputs": [],
   "source": [
    "data = pd.read_csv('by_months/to_string/Jul_combine_strings.csv')"
   ]
  },
  {
   "cell_type": "code",
   "execution_count": 15,
   "metadata": {},
   "outputs": [
    {
     "name": "stdout",
     "output_type": "stream",
     "text": [
      "0    Property,House,Cottage,Building,Roof,Home,Farm...\n",
      "Name: string, dtype: object\n"
     ]
    }
   ],
   "source": [
    "print(data['string'].head(1))"
   ]
  },
  {
   "cell_type": "code",
   "execution_count": 16,
   "metadata": {},
   "outputs": [],
   "source": [
    "data['string'] = data['string'].replace(np.nan, '', regex=True)"
   ]
  },
  {
   "cell_type": "code",
   "execution_count": 17,
   "metadata": {},
   "outputs": [],
   "source": [
    "data['string'] = data['string'].apply(str)"
   ]
  },
  {
   "cell_type": "code",
   "execution_count": 18,
   "metadata": {},
   "outputs": [
    {
     "name": "stdout",
     "output_type": "stream",
     "text": [
      "0      Property,House,Cottage,Building,Roof,Home,Farm...\n",
      "1      Building,Estate,Property,Mansion,Stately home,...\n",
      "2      Nature reserve,Land lot,Cottage,Rural area,Roo...\n",
      "3      Castle,Medieval architecture,Building,Property...\n",
      "4      Landmark,Architecture,Building,Sky,Steeple,Pla...\n",
      "5                                                       \n",
      "6      Building,Landmark,Architecture,Estate,Classica...\n",
      "7      Road,Lane,Vehicle,Building,Car,Infrastructure,...\n",
      "8      Natural landscape,Natural environment,Vegetati...\n",
      "9      Landmark,Architecture,Sky,Building,Town,City,F...\n",
      "10                                                      \n",
      "11     Landmark,Steeple,Architecture,Building,Tree,To...\n",
      "12     Water,Water resources,Fountain,Watercourse,Wat...\n",
      "13     Sky,Landmark,Blue,Natural landscape,Estate,Bui...\n",
      "14     Landmark,Architecture,Building,Daytime,City,Sk...\n",
      "15     Garden,Botanical garden,Estate,Botany,Park,Tre...\n",
      "16     Water,Botany,Tree,Garden,Botanical garden,Park...\n",
      "17     Water,Reflection,Pond,Bank,Water resources,Bot...\n",
      "18     Body of water,Water,Pond,Natural landscape,Nat...\n",
      "19     Classical architecture,Building,Landmark,Archi...\n",
      "20     Estate,Property,Garden,Building,House,Botany,M...\n",
      "21     Property,House,Home,Estate,Building,Real estat...\n",
      "22     Classical architecture,Building,Landmark,Archi...\n",
      "23     Town,Building,Human settlement,Public space,Pl...\n",
      "24     Landmark,Architecture,Sky,Building,Town,City,T...\n",
      "25     Estate,Building,Landmark,Sky,Mansion,Palace,Ar...\n",
      "26     Water,Water resources,Pond,Natural landscape,B...\n",
      "27     Landmark,Garden,Botany,Tree,Park,Botanical gar...\n",
      "28     Landmark,Architecture,Building,Medieval archit...\n",
      "29     Building,Landmark,Architecture,Town,City,Facad...\n",
      "                             ...                        \n",
      "462    Natural landscape,Sky,Field,Road,Morning,Rural...\n",
      "463    Medieval architecture,Building,Landmark,Town,C...\n",
      "464    House,Property,Residential area,Home,Building,...\n",
      "465    Estate,Property,Garden,Building,House,Botany,M...\n",
      "466    Natural landscape,Freshwater marsh,Natural env...\n",
      "467    Fountain,Water,Water resources,Water feature,P...\n",
      "468    Landmark,Architecture,Building,Town,Tree,City,...\n",
      "469    Landmark,Architecture,Building,Estate,Water,St...\n",
      "470    Sky,Property,Town,Road,Estate,Cloud,Residentia...\n",
      "471    Estate,Building,Property,Mansion,Palace,Statel...\n",
      "472    Body of water,Water resources,Stream,Riparian ...\n",
      "473    Building,Landmark,Estate,Architecture,Mansion,...\n",
      "474    Public space,Urban design,Residential area,Gar...\n",
      "475    Property,Estate,Tree,House,Building,Real estat...\n",
      "476    Natural landscape,Natural environment,Water,Na...\n",
      "477    Landmark,Classical architecture,Architecture,B...\n",
      "478    Water,Fountain,Landmark,Tree,Sky,Botany,Archit...\n",
      "479    Landmark,Classical architecture,Architecture,B...\n",
      "480    Building,Estate,Property,Mansion,Landmark,Pala...\n",
      "481    Building,Transport,Vehicle,Gas,Gasoline,Fillin...\n",
      "482    Shack,House,Building,Rural area,Shed,Log cabin...\n",
      "483    Garden,Botanical garden,Flower,Plant,Natural l...\n",
      "484    Architecture,Building,Landmark,Classical archi...\n",
      "485    Estate,Château,Mansion,Building,Palace,Propert...\n",
      "486    Sky,Cloud,Natural landscape,Nature,Tree,Vegeta...\n",
      "487    Building,Landmark,Palace,Architecture,Mansion,...\n",
      "488    Tree,Building,Estate,Grass,Sky,Architecture,Ch...\n",
      "489    Wall,Castle,Property,Architecture,Building,For...\n",
      "490    Garden,Botanical garden,Lawn,Natural landscape...\n",
      "491    Building,Landmark,Mansion,Estate,Palace,Archit...\n",
      "Name: string, Length: 492, dtype: object\n"
     ]
    }
   ],
   "source": [
    "print(data['string'])"
   ]
  },
  {
   "cell_type": "code",
   "execution_count": 19,
   "metadata": {},
   "outputs": [],
   "source": [
    "text_all = (data['string']).tolist()"
   ]
  },
  {
   "cell_type": "code",
   "execution_count": 20,
   "metadata": {},
   "outputs": [
    {
     "name": "stdout",
     "output_type": "stream",
     "text": [
      "492\n"
     ]
    }
   ],
   "source": [
    "print(len(text_all))"
   ]
  },
  {
   "cell_type": "code",
   "execution_count": 21,
   "metadata": {},
   "outputs": [
    {
     "name": "stderr",
     "output_type": "stream",
     "text": [
      "/Library/Frameworks/Python.framework/Versions/3.6/lib/python3.6/site-packages/sklearn/decomposition/online_lda.py:314: DeprecationWarning: n_topics has been renamed to n_components in version 0.19 and will be removed in 0.21\n",
      "  DeprecationWarning)\n"
     ]
    },
    {
     "name": "stdout",
     "output_type": "stream",
     "text": [
      "LatentDirichletAllocation(batch_size=128, doc_topic_prior=0.01,\n",
      "             evaluate_every=1, learning_decay=0.7,\n",
      "             learning_method='online', learning_offset=50.0,\n",
      "             max_doc_update_iter=100, max_iter=50, mean_change_tol=0.001,\n",
      "             n_components=10, n_jobs=None, n_topics=10, perp_tol=0.1,\n",
      "             random_state=0, topic_word_prior=None,\n",
      "             total_samples=1000000.0, verbose=0)\n"
     ]
    }
   ],
   "source": [
    "n_max_features=3000\n",
    "n_topics = 10\n",
    "n_top_words = 10\n",
    "\n",
    "tf_vector, tf_vectorizer, tf_feature_names = tf_vctorize(n_max_features, text_all)\n",
    "lda = LDA_analyze(tf_vector, n_topics)"
   ]
  },
  {
   "cell_type": "code",
   "execution_count": null,
   "metadata": {},
   "outputs": [
    {
     "name": "stdout",
     "output_type": "stream",
     "text": [
      "\n",
      "Note: if you're in the IPython notebook, pyLDAvis.show() is not the best command\n",
      "      to use. Consider using pyLDAvis.display(), or pyLDAvis.enable_notebook().\n",
      "      See more information at http://pyLDAvis.github.io/quickstart.html .\n",
      "\n",
      "You must interrupt the kernel to end this command\n",
      "\n",
      "Serving to http://127.0.0.1:8889/    [Ctrl-C to exit]\n"
     ]
    },
    {
     "name": "stderr",
     "output_type": "stream",
     "text": [
      "127.0.0.1 - - [29/May/2019 19:45:02] \"GET / HTTP/1.1\" 200 -\n",
      "127.0.0.1 - - [29/May/2019 19:45:02] \"GET /LDAvis.css HTTP/1.1\" 200 -\n",
      "127.0.0.1 - - [29/May/2019 19:45:02] \"GET /d3.js HTTP/1.1\" 200 -\n",
      "127.0.0.1 - - [29/May/2019 19:45:02] \"GET /LDAvis.js HTTP/1.1\" 200 -\n"
     ]
    }
   ],
   "source": [
    "#tfidf, tfidf_feature_names = tf_idf(n_max_features, text_all)\n",
    "pyLDAvis.enable_notebook()\n",
    "lda_prepared = pyLDAvis.sklearn.prepare(lda, tf_vector, tf_vectorizer,R=20)\n",
    "pyLDAvis.show(lda_prepared)"
   ]
  },
  {
   "cell_type": "code",
   "execution_count": 52,
   "metadata": {},
   "outputs": [
    {
     "name": "stdout",
     "output_type": "stream",
     "text": [
      "PreparedData(topic_coordinates=            Freq  cluster  topics         x         y\n",
      "topic                                                \n",
      "0      57.775999        1       1  0.304212 -0.118978\n",
      "9      21.997965        1       2 -0.188753 -0.005915\n",
      "6      13.942636        1       3 -0.178576 -0.198191\n",
      "3       5.019783        1       4 -0.002614  0.281333\n",
      "7       0.845409        1       5  0.057550  0.006807\n",
      "8       0.083642        1       6 -0.001767  0.008760\n",
      "5       0.083642        1       7  0.000712  0.006478\n",
      "4       0.083642        1       8  0.003076  0.006541\n",
      "2       0.083642        1       9  0.008455  0.004700\n",
      "1       0.083642        1      10 -0.002293  0.008465, topic_info=     Category        Freq          Term       Total  loglift  logprob\n",
      "term                                                                 \n",
      "14    Default  114.000000      building  114.000000  30.0000  30.0000\n",
      "3     Default  181.000000  architecture  181.000000  29.0000  29.0000\n",
      "53    Default   86.000000      landmark   86.000000  28.0000  28.0000\n",
      "71    Default   56.000000        palace   56.000000  27.0000  27.0000\n",
      "47    Default   50.000000         house   50.000000  26.0000  26.0000\n",
      "61    Default   45.000000       mansion   45.000000  25.0000  25.0000\n",
      "46    Default   44.000000          home   44.000000  24.0000  24.0000\n",
      "27    Default   68.000000        estate   68.000000  23.0000  23.0000\n",
      "104   Default   37.000000       stately   37.000000  22.0000  22.0000\n",
      "20    Default   34.000000     classical   34.000000  21.0000  21.0000\n",
      "4     Default   32.000000          area   32.000000  20.0000  20.0000\n",
      "83    Default   42.000000      property   42.000000  19.0000  19.0000\n",
      "63    Default   30.000000      medieval   30.000000  18.0000  18.0000\n",
      "114   Default   65.000000          tree   65.000000  17.0000  17.0000\n",
      "29    Default   28.000000        facade   28.000000  16.0000  16.0000\n",
      "70    Default   26.000000      official   26.000000  15.0000  15.0000\n",
      "17    Default   26.000000       chateau   26.000000  14.0000  14.0000\n",
      "67    Default   49.000000       natural   49.000000  13.0000  13.0000\n",
      "89    Default   26.000000     residence   26.000000  12.0000  12.0000\n",
      "113   Default   40.000000          town   40.000000  11.0000  11.0000\n",
      "99    Default   71.000000           sky   71.000000  10.0000  10.0000\n",
      "18    Default   22.000000        church   22.000000   9.0000   9.0000\n",
      "19    Default   32.000000          city   32.000000   8.0000   8.0000\n",
      "54    Default   39.000000     landscape   39.000000   7.0000   7.0000\n",
      "36    Default   27.000000        garden   27.000000   6.0000   6.0000\n",
      "122   Default   35.000000         water   35.000000   5.0000   5.0000\n",
      "68    Default   31.000000        nature   31.000000   4.0000   4.0000\n",
      "16    Default   18.000000     cathedral   18.000000   3.0000   3.0000\n",
      "39    Default   34.000000         grass   34.000000   2.0000   2.0000\n",
      "128   Default   15.000000       worship   15.000000   1.0000   1.0000\n",
      "...       ...         ...           ...         ...      ...      ...\n",
      "8     Topic10    0.013256         biome    3.014225   1.6598  -4.8683\n",
      "62    Topic10    0.013208        meadow    3.003789   1.6596  -4.8720\n",
      "100   Topic10    0.013184         slope    3.006530   1.6568  -4.8738\n",
      "92    Topic10    0.013135      riparian    3.006790   1.6531  -4.8775\n",
      "107   Topic10    0.013490        street    3.236361   1.6061  -4.8508\n",
      "95    Topic10    0.013313          rock    3.128838   1.6267  -4.8641\n",
      "121   Topic10    0.013553          wall    3.815163   1.4462  -4.8462\n",
      "35    Topic10    0.013945      fountain    5.122685   1.1801  -4.8177\n",
      "32    Topic10    0.013407       feature    3.717068   1.4614  -4.8571\n",
      "23    Topic10    0.014081       daytime    9.542897   0.5677  -4.8080\n",
      "13    Topic10    0.013505         brick    4.437249   1.2916  -4.8498\n",
      "117   Topic10    0.013773    vegetation   10.938824   0.4091  -4.8301\n",
      "6     Topic10    0.013736        autumn   12.269826   0.2915  -4.8328\n",
      "78    Topic10    0.013650         plant   10.199888   0.4700  -4.8391\n",
      "91    Topic10    0.013525     resources    7.519618   0.7657  -4.8482\n",
      "114   Topic10    0.014102          tree   65.392139  -1.3555  -4.8065\n",
      "105   Topic10    0.013549       steeple   10.078062   0.4746  -4.8465\n",
      "56    Topic10    0.013723          leaf   21.436719  -0.2674  -4.8337\n",
      "101   Topic10    0.013537         space   14.146995   0.1345  -4.8474\n",
      "96    Topic10    0.013388         rural    5.959761   0.9880  -4.8585\n",
      "125   Topic10    0.013446    wilderness    9.279091   0.5495  -4.8541\n",
      "10    Topic10    0.013372          body    6.886073   0.8423  -4.8597\n",
      "83    Topic10    0.013544      property   42.550969  -0.9661  -4.8469\n",
      "14    Topic10    0.013505      building  114.921156  -1.9625  -4.8497\n",
      "39    Topic10    0.013467         grass   34.332238  -0.7572  -4.8526\n",
      "67    Topic10    0.013457       natural   49.385485  -1.1215  -4.8533\n",
      "88    Topic10    0.013427       reserve   11.995576   0.2913  -4.8556\n",
      "53    Topic10    0.013398      landmark   86.001719  -1.6806  -4.8577\n",
      "48    Topic10    0.013371         human   15.823563   0.0102  -4.8597\n",
      "63    Topic10    0.013369      medieval   30.178527  -0.6356  -4.8599\n",
      "\n",
      "[541 rows x 6 columns], token_table=      Topic      Freq          Term\n",
      "term                               \n",
      "0         4  0.884788        aerial\n",
      "1         4  0.899611     apartment\n",
      "3         1  0.956265  architecture\n",
      "3         2  0.027479  architecture\n",
      "3         3  0.016487  architecture\n",
      "3         5  0.005496  architecture\n",
      "4         1  0.152262          area\n",
      "4         2  0.152262          area\n",
      "4         4  0.669953          area\n",
      "5         1  0.948145    attraction\n",
      "6         2  0.081501        autumn\n",
      "6         3  0.896508        autumn\n",
      "7         2  0.960844          bank\n",
      "8         2  0.663520         biome\n",
      "9         4  0.887943          bird\n",
      "10        2  0.871324          body\n",
      "11        3  0.969120     botanical\n",
      "12        3  0.988010        botany\n",
      "13        1  0.901459         brick\n",
      "14        1  0.939775      building\n",
      "14        2  0.043508      building\n",
      "14        5  0.008702      building\n",
      "15        1  0.950175        castle\n",
      "16        1  0.986851     cathedral\n",
      "17        1  0.992704       chateau\n",
      "18        1  0.954084        church\n",
      "19        1  0.459574          city\n",
      "19        2  0.275744          city\n",
      "19        4  0.245106          city\n",
      "20        1  0.988886     classical\n",
      "...     ...       ...           ...\n",
      "110       1  0.233608       tourism\n",
      "110       2  0.700823       tourism\n",
      "112       1  0.984033         tower\n",
      "113       1  0.644951          town\n",
      "113       2  0.347281          town\n",
      "114       1  0.336432          tree\n",
      "114       2  0.259970          tree\n",
      "114       3  0.397601          tree\n",
      "115       1  0.176454         urban\n",
      "115       2  0.058818         urban\n",
      "115       4  0.764635         urban\n",
      "116       2  0.903832           use\n",
      "117       2  0.914175    vegetation\n",
      "118       1  0.519142       vehicle\n",
      "118       2  0.519142       vehicle\n",
      "119       4  0.889318          view\n",
      "120       3  0.947654       walkway\n",
      "121       1  0.786336          wall\n",
      "122       2  0.758856         water\n",
      "122       3  0.224846         water\n",
      "123       2  0.933083   watercourse\n",
      "124       2  0.911187      waterway\n",
      "125       2  0.646615    wilderness\n",
      "125       3  0.323308    wilderness\n",
      "126       1  0.520540        window\n",
      "127       3  0.812372         woody\n",
      "128       1  0.965869       worship\n",
      "129       1  0.484462          yard\n",
      "129       3  0.484462          yard\n",
      "130       2  0.667196          zone\n",
      "\n",
      "[186 rows x 3 columns], R=30, lambda_step=0.01, plot_opts={'xlab': 'PC1', 'ylab': 'PC2'}, topic_order=[1, 10, 7, 4, 8, 9, 6, 5, 3, 2])\n"
     ]
    }
   ],
   "source": [
    "print(lda_prepared)"
   ]
  },
  {
   "cell_type": "code",
   "execution_count": 59,
   "metadata": {},
   "outputs": [
    {
     "name": "stdout",
     "output_type": "stream",
     "text": [
      "            Freq  cluster  topics         x         y\n",
      "topic                                                \n",
      "0      57.775999        1       1  0.304212 -0.118978\n",
      "9      21.997965        1       2 -0.188753 -0.005915\n",
      "6      13.942636        1       3 -0.178576 -0.198191\n",
      "3       5.019783        1       4 -0.002614  0.281333\n",
      "7       0.845409        1       5  0.057550  0.006807\n",
      "8       0.083642        1       6 -0.001767  0.008760\n",
      "5       0.083642        1       7  0.000712  0.006478\n",
      "4       0.083642        1       8  0.003076  0.006541\n",
      "2       0.083642        1       9  0.008455  0.004700\n",
      "1       0.083642        1      10 -0.002293  0.008465\n"
     ]
    }
   ],
   "source": [
    "N=10\n",
    "for i in lda_prepared[0:1]:\n",
    "    #i.shape()\n",
    "    print(i)\n",
    "    N+=1\n",
    "    #i.to_csv(\"output\"+ str(N) +'.csv')"
   ]
  },
  {
   "cell_type": "code",
   "execution_count": 237,
   "metadata": {},
   "outputs": [
    {
     "name": "stdout",
     "output_type": "stream",
     "text": [
      "Topic #0:\n",
      "[279 126 122 258  73 257 174 182  36]\n",
      "Topic #1:\n",
      "[ 30 277 105 210 193 149  52 201 197]\n",
      "Topic #2:\n",
      "[169  76  68  13  52  12 194  16  17]\n",
      "Topic #3:\n",
      "[ 39  80 283  57 205  59 197 111 179]\n",
      "Topic #4:\n",
      "[216 187 262 209  55  19  42 133 129]\n",
      "Topic #5:\n",
      "[279 126 122 258  73 257 174 182  36]\n",
      "Topic #6:\n",
      "[ 30 277 105 210 193 149  52 201 197]\n",
      "Topic #7:\n",
      "[ 57 133 137  42 274  35 197 179  24]\n",
      "Topic #8:\n",
      "[237 163  36 122 241 124 257  10 184]\n",
      "Topic #9:\n",
      "[135  19  24  66 297 163 279  55  58]\n"
     ]
    }
   ],
   "source": [
    "for topic_idx, topic in enumerate(lda.components_):\n",
    "    print(\"Topic #%d:\" % topic_idx)\n",
    "    #print(topic)\n",
    "    print(topic.argsort()[-10:-1])\n",
    "    #print(topic.argsort()[:-n_top_words - 1:-1])\n",
    "    #print(tf_feature_names)\n",
    "    "
   ]
  },
  {
   "cell_type": "code",
   "execution_count": 183,
   "metadata": {},
   "outputs": [
    {
     "name": "stdout",
     "output_type": "stream",
     "text": [
      "['00', '000', '10', '1000', '1080', '1085', '10th', '11', '1100', '1145', '11th', '12', '12th', '14th', '15', '15th', '17th', '19th', '1st', '20', '20th', '30', '3pm', '900', 'able', 'absolute', 'absolutely', 'access', 'accessible', 'according', 'acoustics', 'action', 'activities', 'actually', 'addition', 'adjacent', 'admire', 'admission', 'adults', 'afternoon', 'age', 'ages', 'ago', 'air', 'alike', 'alive', 'allow', 'allowed', 'altar', 'alter', 'amazing', 'amazingly', 'ambience', 'ancient', 'anytime', 'app', 'appreciate', 'april', 'arch', 'architectural', 'architecture', 'area', 'areas', 'array', 'arrived', 'art', 'artifacts', 'ask', 'asked', 'aspects', 'assembled', 'astrological', 'astronomic', 'astronomical', 'atmosphere', 'attached', 'attended', 'attraction', 'attractions', 'attractive', 'august', 'aula', 'austere', 'authentic', 'autumn', 'available', 'away', 'awe', 'awesome', 'baby', 'bar', 'basement', 'basic', 'basis', 'bathrooms', 'beatiful', 'beautiful', 'beautifull', 'beautifully', 'beauty', 'beds', 'believe', 'belonged', 'bench', 'benches', 'best', 'better', 'big', 'bigger', 'biggest', 'bird', 'birds', 'bit', 'blocks', 'bloom', 'blooming', 'blooms', 'boasts', 'book', 'boring', 'born', 'botan', 'botanic', 'botanical', 'break', 'bright', 'bring', 'brought', 'build', 'building', 'buildings', 'built', 'bushes', 'business', 'busy', 'buy', 'caf', 'cafe', 'cafes', 'calculate', 'calendar', 'called', 'calm', 'calming', 'came', 'campus', 'candle', 'candles', 'care', 'cared', 'carved', 'carvings', 'catacombs', 'catch', 'cathedral', 'cathedrals', 'catholic', 'caught', 'celebrate', 'celebrating', 'celebrations', 'cellar', 'center', 'central', 'centre', 'centuries', 'century', 'ceramics', 'certainly', 'chance', 'characters', 'charge', 'charming', 'check', 'child', 'children', 'chimes', 'choir', 'chose', 'christian', 'christianity', 'christmas', 'church', 'churches', 'city', 'classes', 'clean', 'clear', 'climate', 'climates', 'climbing', 'clock', 'close', 'closed', 'closes', 'cobbled', 'coffee', 'cold', 'collected', 'collection', 'color', 'colorful', 'colours', 'come', 'comes', 'compared', 'complete', 'concert', 'concerts', 'conservatory', 'constructed', 'contain', 'contains', 'cool', 'copenhagen', 'corner', 'cost', 'cosy', 'cottages', 'couldn', 'countryside', 'couple', 'couples', 'course', 'creepy', 'crowd', 'crowded', 'crypt', 'crypts', 'cultural', 'culture', 'cup', 'curious', 'cute', 'daily', 'danish', 'dark', 'date', 'dates', 'dating', 'day', 'days', 'decided', 'decorated', 'decoration', 'decorations', 'definitely', 'delightful', 'denmark', 'design', 'designed', 'details', 'detour', 'did', 'didn', 'different', 'disappointed', 'discover', 'display', 'displayed', 'displays', 'distance', 'diverse', 'does', 'doesn', 'doing', 'dominates', 'dominating', 'domkyrkan', 'don', 'door', 'doors', 'downstairs', 'downtown', 'drink', 'drinking', 'drinks', 'ducks', 'dwellings', 'early', 'earth', 'easily', 'east', 'easy', 'eat', 'eating', 'elements', 'end', 'ended', 'english', 'enjoy', 'enjoyable', 'enjoyed', 'enjoying', 'enormous', 'enter', 'entering', 'entire', 'entrance', 'entry', 'environment', 'equipment', 'era', 'especially', 'europe', 'european', 'evening', 'event', 'events', 'everybody', 'example', 'excellent', 'exception', 'exercise', 'exhibit', 'exhibition', 'exhibitions', 'exhibits', 'exotic', 'expect', 'expected', 'expensive', 'experience', 'experiencing', 'explanation', 'explanations', 'explore', 'exploring', 'extensive', 'exterior', 'externally', 'extremely', 'eyes', 'fabulous', 'facing', 'fact', 'facts', 'fairly', 'fall', 'families', 'family', 'famous', 'fantastic', 'far', 'fascinating', 'favorite', 'features', 'fee', 'feed', 'feel', 'feeling', 'feels', 'felt', 'festival', 'figure', 'figures', 'fika', 'filled', 'final', 'fine', 'finest', 'finn', 'floor', 'flower', 'flowers', 'focal', 'follow', 'food', 'forest', 'forget', 'form', 'formal', 'forum', 'founded', 'fountain', 'free', 'friendly', 'friends', 'fully', 'fun', 'furnished', 'furniture', 'gallery', 'garden', 'gardeners', 'gardens', 'gem', 'getting', 'giant', 'given', 'gives', 'giving', 'glass', 'glasshouse', 'glasshouses', 'goes', 'going', 'gone', 'good', 'gorgeous', 'got', 'gothic', 'grand', 'grandchildren', 'grass', 'graves', 'graveyard', 'great', 'green', 'greenery', 'greenhouse', 'greenhouses', 'grounds', 'group', 'groups', 'grown', 'guide', 'guided', 'gym', 'half', 'hall', 'hand', 'hang', 'hanging', 'happen', 'happened', 'hard', 'having', 'head', 'hear', 'heart', 'help', 'helps', 'high', 'highlight', 'highlights', 'highly', 'historic', 'historical', 'historically', 'history', 'holding', 'home', 'homes', 'horologium', 'hosts', 'hot', 'hothouses', 'hour', 'hours', 'house', 'houses', 'huge', 'husband', 'idea', 'ideal', 'important', 'imposing', 'impressed', 'impressive', 'included', 'includes', 'including', 'incredible', 'indoor', 'indoors', 'info', 'information', 'informative', 'inside', 'insight', 'inspiring', 'interactive', 'interested', 'interesting', 'interior', 'intriguing', 'introduction', 'inviting', 'isn', 'items', 'joined', 'journey', 'joy', 'joyful', 'june', 'just', 'kept', 'kids', 'kind', 'kinds', 'knights', 'know', 'kulturen', 'lady', 'laid', 'lake', 'landmark', 'large', 'late', 'lawns', 'leaflet', 'learn', 'learning', 'leave', 'left', 'legend', 'let', 'level', 'life', 'light', 'like', 'liked', 'listen', 'little', 'live', 'lived', 'living', 'll', 'loads', 'local', 'locals', 'located', 'location', 'long', 'look', 'looked', 'looking', 'looks', 'lot', 'lots', 'love', 'loved', 'lovely', 'lower', 'lucky', 'lunch', 'lunches', 'lund', 'lundag', 'lundense', 'lunds', 'lush', 'lutheran', 'magical', 'magnificent', 'main', 'maintained', 'majestic', 'major', 'make', 'makes', 'malm', 'malmo', 'managed', 'mary', 'mass', 'massive', 'masterpiece', 'matter', 'maybe', 'medieval', 'meet', 'meeting', 'men', 'meter', 'mid', 'midday', 'middle', 'mighty', 'mind', 'minutes', 'miss', 'missed', 'mixture', 'model', 'modern', 'moment', 'mon', 'money', 'months', 'monument', 'moon', 'morning', 'mornings', 'moved', 'moving', 'museum', 'museums', 'music', 'musical', 'natural', 'nature', 'ne', 'near', 'nearby', 'need', 'new', 'nice', 'night', 'noon', 'nordic', 'north', 'northern', 'note', 'notice', 'number', 'oasis', 'object', 'objects', 'october', 'offer', 'offers', 'office', 'old', 'older', 'oldest', 'ones', 'open', 'orchids', 'organ', 'organized', 'original', 'ornate', 'outdoor', 'outdoors', 'outside', 'outstanding', 'overall', 'painted', 'park', 'particular', 'particularly', 'partly', 'parts', 'party', 'passed', 'passing', 'past', 'pastor', 'paths', 'pay', 'peace', 'peaceful', 'pedestrian', 'people', 'perfect', 'perfectly', 'period', 'periods', 'permanent', 'person', 'photograph', 'photos', 'pick', 'picknick', 'picnic', 'picnics', 'picture', 'piece', 'pillar', 'pillars', 'place', 'places', 'plain', 'plant', 'plants', 'play', 'playground', 'playing', 'plays', 'pleasant', 'pleasure', 'plenty', 'plus', 'pm', 'point', 'pond', 'poor', 'pop', 'pope', 'popular', 'possible', 'power', 'prague', 'present', 'presentation', 'preserved', 'pretty', 'price', 'prices', 'probably', 'procession', 'provided', 'provides', 'public', 'purposes', 'quail', 'quails', 'quick', 'quiet', 'quirky', 'quite', 'rain', 'rainy', 'range', 'rare', 'rd', 'read', 'reading', 'real', 'really', 'reason', 'rebuilt', 'recently', 'recommend', 'recommended', 'region', 'regular', 'relatively', 'relax', 'relaxed', 'relaxing', 'religious', 'remains', 'remember', 'represented', 'research', 'rest', 'restaurant', 'restaurants', 'restored', 'rich', 'right', 'roam', 'rock', 'role', 'roman', 'romanesque', 'roof', 'room', 'rooms', 'round', 'run', 'running', 'sadly', 'said', 'sandstone', 'sat', 'saturday', 'saw', 'say', 'says', 'scandinavia', 'scandinavian', 'scania', 'scenery', 'school', 'season', 'seat', 'seating', 'seats', 'second', 'sections', 'seeing', 'seen', 'selection', 'sense', 'september', 'serenity', 'served', 'serves', 'service', 'services', 'set', 'setting', 'shop', 'shops', 'short', 'shouldn', 'showing', 'shows', 'shrubs', 'sight', 'sights', 'signs', 'silence', 'similar', 'simple', 'simply', 'singing', 'sit', 'site', 'sites', 'sitting', 'situated', 'size', 'sk', 'skane', 'skansen', 'slightly', 'small', 'smaller', 'smells', 'snacks', 'solo', 'somewhat', 'son', 'sorts', 'sound', 'south', 'southern', 'space', 'spacious', 'special', 'specially', 'species', 'spectacular', 'spend', 'spending', 'spent', 'spiritual', 'spot', 'spread', 'spring', 'square', 'stadsparken', 'staff', 'stalls', 'standing', 'stands', 'start', 'started', 'starting', 'starts', 'station', 'statue', 'stay', 'stayed', 'staying', 'stocked', 'stockholm', 'stone', 'stones', 'stop', 'stopped', 'stops', 'stories', 'story', 'strange', 'street', 'streets', 'strike', 'striking', 'stroll', 'strolling', 'structure', 'student', 'students', 'study', 'stuff', 'stunning', 'style', 'summer', 'sun', 'sunday', 'sunny', 'super', 'sure', 'surprised', 'surrounded', 'surrounding', 'surroundings', 'sweden', 'swedes', 'swedish', 'sweet', 'taken', 'taking', 'tale', 'talk', 'tea', 'tell', 'temperature', 'temporary', 'text', 'thing', 'things', 'think', 'thought', 'thousand', 'thousands', 'till', 'time', 'times', 'timing', 'tiny', 'today', 'told', 'tombs', 'took', 'totally', 'touching', 'tour', 'tourist', 'tourists', 'tours', 'towers', 'town', 'traditional', 'train', 'tranquility', 'travel', 'traveling', 'treat', 'tree', 'trees', 'trip', 'tropical', 'true', 'truly', 'try', 'trying', 'twice', 'type', 'types', 'typical', 'underground', 'understand', 'understanding', 'unexpected', 'unfortunately', 'unique', 'university', 'unlike', 'unusual', 'use', 'used', 'usually', 'varieties', 'variety', 'various', 've', 'view', 'vikings', 'village', 'visit', 'visited', 'visiting', 'visitor', 'visitors', 'visually', 'wait', 'walk', 'walked', 'walking', 'wall', 'wander', 'wandering', 'want', 'warm', 'warmth', 'wasn', 'watch', 'watching', 'way', 'ways', 'weather', 'week', 'welcome', 'welcoming', 'went', 'white', 'wich', 'wide', 'wife', 'wild', 'windows', 'wine', 'winter', 'wish', 'witness', 'woman', 'wonder', 'wonderful', 'wood', 'wooden', 'word', 'work', 'working', 'works', 'world', 'worth', 'wow', 'year', 'years', 'yes', 'young', 'youngsters', 'zones']\n"
     ]
    }
   ],
   "source": [
    "print(tf_feature_names)"
   ]
  },
  {
   "cell_type": "code",
   "execution_count": 239,
   "metadata": {},
   "outputs": [
    {
     "name": "stdout",
     "output_type": "stream",
     "text": [
      "Topic #0:\n",
      "lund buildings old museum sweden different swedish history houses visit time place interesting kulturen day trip really cathedral people outside went house exhibits times life culture small visited lived exhibitions\n",
      "Topic #1:\n",
      "kids place playground children liked peaceful really fun various bit enjoyed exhibits denmark great area going especially love caf outdoor old set fantastic perfect took season beauty summer amazing way\n",
      "Topic #2:\n",
      "exhibition art areas people april children architectural dating early medieval religious noon different lund day crypt visited huge beautiful visit nice center church old fascinating cathedral interesting museum small century\n",
      "Topic #3:\n",
      "park nice good place close pond city walk enjoy cafe recommended people lund children little birds relax students coffee located miss day town outdoor play weather stadsparken look easily sunny\n",
      "Topic #4:\n",
      "clock impressive inside cathedral astronomical church read time outside religious giant town basement visit walking want small early recommend learn sun large quite little took loved built main attraction highly\n",
      "Topic #5:\n",
      "lund buildings old museum sweden different swedish history houses visit time place interesting kulturen day trip really cathedral people outside went house exhibits times life culture small visited lived exhibitions\n",
      "Topic #6:\n",
      "kids place playground children liked peaceful really fun various bit enjoyed exhibits denmark great area going especially love caf outdoor old set fantastic perfect took season beauty summer amazing way\n",
      "Topic #7:\n",
      "lund beautiful nice place building university cathedral just inside city year day recommend quiet famous spring walk town walking main great look center want garden students area like time huge\n",
      "Topic #8:\n",
      "museum open air sweden hours spent history buildings lund southern people houses enjoyed great building kulturen city entrance exhibitions culture really way showing walking fantastic interested nice swedish friendly visiting\n",
      "Topic #9:\n",
      "cathedral clock church visit lund worth crypt beautiful astronomical interesting inside history old impressive time giant miss amazing don free tour architecture visiting finn english building century town sweden visited\n",
      "\n"
     ]
    }
   ],
   "source": [
    "def print_top_words(model, feature_names, n_top_words):\n",
    "    for topic_idx, topic in enumerate(model.components_):\n",
    "        print(\"Topic #%d:\" % topic_idx)\n",
    "        print(\" \".join([feature_names[i]\n",
    "                        for i in topic.argsort()[:-30 - 1:-1]]))\n",
    "    print()\n",
    "print_top_words(lda, tf_feature_names, n_top_words)"
   ]
  },
  {
   "cell_type": "code",
   "execution_count": null,
   "metadata": {},
   "outputs": [],
   "source": []
  },
  {
   "cell_type": "code",
   "execution_count": null,
   "metadata": {},
   "outputs": [],
   "source": []
  }
 ],
 "metadata": {
  "kernelspec": {
   "display_name": "Python 3",
   "language": "python",
   "name": "python3"
  },
  "language_info": {
   "codemirror_mode": {
    "name": "ipython",
    "version": 3
   },
   "file_extension": ".py",
   "mimetype": "text/x-python",
   "name": "python",
   "nbconvert_exporter": "python",
   "pygments_lexer": "ipython3",
   "version": "3.6.6"
  }
 },
 "nbformat": 4,
 "nbformat_minor": 2
}
