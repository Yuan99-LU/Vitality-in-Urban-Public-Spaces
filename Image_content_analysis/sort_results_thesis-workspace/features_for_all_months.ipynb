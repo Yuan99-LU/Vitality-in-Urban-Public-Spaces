{
 "cells": [
  {
   "cell_type": "code",
   "execution_count": 1,
   "metadata": {},
   "outputs": [],
   "source": [
    "import pandas as pd\n",
    "import os"
   ]
  },
  {
   "cell_type": "code",
   "execution_count": 2,
   "metadata": {},
   "outputs": [],
   "source": [
    "months = ['Jan', 'Feb', 'Mar', 'Apr', 'May', 'Jun','Jul','Aug','Sep','Oct','Nov','Dec']"
   ]
  },
  {
   "cell_type": "code",
   "execution_count": null,
   "metadata": {},
   "outputs": [],
   "source": [
    "filenames = [x for x in os.listdir('by_months')\n",
    "             if x.endswith('.csv')] "
   ]
  },
  {
   "cell_type": "code",
   "execution_count": 4,
   "metadata": {},
   "outputs": [],
   "source": [
    "#features_months = pd.read_csv('by_months/'+filename)"
   ]
  },
  {
   "cell_type": "code",
   "execution_count": 7,
   "metadata": {},
   "outputs": [
    {
     "name": "stdout",
     "output_type": "stream",
     "text": [
      "by_months_counting/Jan_counting_Lund_Photos.csv\n",
      "by_months_counting/Feb_counting_Lund_Photos.csv\n",
      "by_months_counting/Mar_counting_Lund_Photos.csv\n",
      "by_months_counting/Apr_counting_Lund_Photos.csv\n",
      "by_months_counting/May_counting_Lund_Photos.csv\n",
      "by_months_counting/Jun_counting_Lund_Photos.csv\n",
      "by_months_counting/Jul_counting_Lund_Photos.csv\n",
      "by_months_counting/Aug_counting_Lund_Photos.csv\n",
      "by_months_counting/Sep_counting_Lund_Photos.csv\n",
      "by_months_counting/Oct_counting_Lund_Photos.csv\n",
      "by_months_counting/Nov_counting_Lund_Photos.csv\n",
      "by_months_counting/Dec_counting_Lund_Photos.csv\n"
     ]
    }
   ],
   "source": [
    "features_pre = []\n",
    "for month in months:  \n",
    "    file_name = 'by_months_counting/'+month+'_counting_Lund_Photos'+\".csv\"\n",
    "    print(file_name)\n",
    "    data2 = pd.read_csv(file_name, names='ab')\n",
    "        #data2 = data2.reset_index(drop = True, inplace = True)\n",
    "    features_pre.append(data2['a'])\n",
    "        #print(features_pre)\n",
    "features = pd.concat(features_pre).drop_duplicates().reset_index(drop=True)\n",
    "#print(features)\n",
    "features.to_csv('all_months'+'_features.csv')"
   ]
  },
  {
   "cell_type": "code",
   "execution_count": null,
   "metadata": {},
   "outputs": [],
   "source": []
  }
 ],
 "metadata": {
  "kernelspec": {
   "display_name": "Python 3",
   "language": "python",
   "name": "python3"
  },
  "language_info": {
   "codemirror_mode": {
    "name": "ipython",
    "version": 3
   },
   "file_extension": ".py",
   "mimetype": "text/x-python",
   "name": "python",
   "nbconvert_exporter": "python",
   "pygments_lexer": "ipython3",
   "version": "3.6.5"
  }
 },
 "nbformat": 4,
 "nbformat_minor": 4
}
