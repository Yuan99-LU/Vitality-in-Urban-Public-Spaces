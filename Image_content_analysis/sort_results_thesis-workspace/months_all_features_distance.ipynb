{
 "cells": [
  {
   "cell_type": "code",
   "execution_count": 1,
   "metadata": {},
   "outputs": [],
   "source": [
    "import pandas as pd"
   ]
  },
  {
   "cell_type": "code",
   "execution_count": 2,
   "metadata": {},
   "outputs": [],
   "source": [
    "#N = 1"
   ]
  },
  {
   "cell_type": "code",
   "execution_count": 3,
   "metadata": {},
   "outputs": [],
   "source": [
    "data = pd.read_csv('all_months_features_all_month_vectors.csv')"
   ]
  },
  {
   "cell_type": "code",
   "execution_count": 5,
   "metadata": {},
   "outputs": [
    {
     "name": "stdout",
     "output_type": "stream",
     "text": [
      "       features  Jan_freq  Feb_freq  Mar_freq  Apr_freq  May_freq  Jun_freq  \\\n",
      "0      Building        55        18       108       110       212       234   \n",
      "1  Architecture        53        18       104       104       202       225   \n",
      "\n",
      "   Jul_freq  Aug_freq  Sep_freq  Oct_freq  Nov_freq  Dec_freq  \n",
      "0       350       342       249       124        18        28  \n",
      "1       324       320       233       116        18        28  \n"
     ]
    }
   ],
   "source": [
    "print(data.head(2))"
   ]
  },
  {
   "cell_type": "code",
   "execution_count": 10,
   "metadata": {},
   "outputs": [],
   "source": [
    "data = data.drop(['features'], axis=1)"
   ]
  },
  {
   "cell_type": "code",
   "execution_count": 11,
   "metadata": {},
   "outputs": [
    {
     "name": "stdout",
     "output_type": "stream",
     "text": [
      "   Jan_freq  Feb_freq  Mar_freq  Apr_freq  May_freq  Jun_freq  Jul_freq  \\\n",
      "0        55        18       108       110       212       234       350   \n",
      "1        53        18       104       104       202       225       324   \n",
      "\n",
      "   Aug_freq  Sep_freq  Oct_freq  Nov_freq  Dec_freq  \n",
      "0       342       249       124        18        28  \n",
      "1       320       233       116        18        28  \n"
     ]
    }
   ],
   "source": [
    "print(data.head(2))"
   ]
  },
  {
   "cell_type": "code",
   "execution_count": 12,
   "metadata": {},
   "outputs": [],
   "source": [
    "import numpy as np"
   ]
  },
  {
   "cell_type": "code",
   "execution_count": 13,
   "metadata": {},
   "outputs": [
    {
     "name": "stdout",
     "output_type": "stream",
     "text": [
      "Index(['Jan_freq', 'Feb_freq', 'Mar_freq', 'Apr_freq', 'May_freq', 'Jun_freq',\n",
      "       'Jul_freq', 'Aug_freq', 'Sep_freq', 'Oct_freq', 'Nov_freq', 'Dec_freq'],\n",
      "      dtype='object')\n"
     ]
    }
   ],
   "source": [
    "print(data.columns)"
   ]
  },
  {
   "cell_type": "code",
   "execution_count": 20,
   "metadata": {},
   "outputs": [],
   "source": [
    "#months = data.columns.tolist()"
   ]
  },
  {
   "cell_type": "code",
   "execution_count": 21,
   "metadata": {},
   "outputs": [],
   "source": [
    "months = ['Jan', 'Feb', 'Mar', 'Apr', 'May', 'Jun','Jul','Aug','Sep','Oct','Nov','Dec']"
   ]
  },
  {
   "cell_type": "code",
   "execution_count": 22,
   "metadata": {},
   "outputs": [
    {
     "name": "stdout",
     "output_type": "stream",
     "text": [
      "['Jan', 'Feb', 'Mar', 'Apr', 'May', 'Jun', 'Jul', 'Aug', 'Sep', 'Oct', 'Nov', 'Dec']\n"
     ]
    }
   ],
   "source": [
    "print(months)"
   ]
  },
  {
   "cell_type": "code",
   "execution_count": 23,
   "metadata": {},
   "outputs": [],
   "source": [
    "#Chinese_Freq = np.array(data['[Chinese, (Sim.)]_Freq'])"
   ]
  },
  {
   "cell_type": "code",
   "execution_count": 24,
   "metadata": {},
   "outputs": [],
   "source": [
    "#print(Chinese_Freq)"
   ]
  },
  {
   "cell_type": "code",
   "execution_count": 25,
   "metadata": {},
   "outputs": [],
   "source": [
    "def cos_similar(a,b):  \n",
    "# manually compute cosine similarity\n",
    "    dot = np.dot(a, b)\n",
    "    norma = np.linalg.norm(a)\n",
    "    normb = np.linalg.norm(b)\n",
    "    cos = dot / (norma * normb)\n",
    "    \n",
    "    return cos"
   ]
  },
  {
   "cell_type": "code",
   "execution_count": 26,
   "metadata": {},
   "outputs": [],
   "source": [
    "pd_data = pd.DataFrame({\"month\": months})"
   ]
  },
  {
   "cell_type": "code",
   "execution_count": 28,
   "metadata": {},
   "outputs": [
    {
     "name": "stdout",
     "output_type": "stream",
     "text": [
      "Jan vs Jan: 1.000000\n",
      "Jan vs Feb: 0.883942\n",
      "Jan vs Mar: 0.961504\n",
      "Jan vs Apr: 0.957693\n",
      "Jan vs May: 0.924127\n",
      "Jan vs Jun: 0.947094\n",
      "Jan vs Jul: 0.954387\n",
      "Jan vs Aug: 0.964951\n",
      "Jan vs Sep: 0.958212\n",
      "Jan vs Oct: 0.937647\n",
      "Jan vs Nov: 0.857722\n",
      "Jan vs Dec: 0.915574\n",
      "Feb vs Jan: 0.883942\n",
      "Feb vs Feb: 1.000000\n",
      "Feb vs Mar: 0.889590\n",
      "Feb vs Apr: 0.933880\n",
      "Feb vs May: 0.918441\n",
      "Feb vs Jun: 0.927513\n",
      "Feb vs Jul: 0.921856\n",
      "Feb vs Aug: 0.912587\n",
      "Feb vs Sep: 0.909024\n",
      "Feb vs Oct: 0.927005\n",
      "Feb vs Nov: 0.860940\n",
      "Feb vs Dec: 0.820649\n",
      "Mar vs Jan: 0.961504\n",
      "Mar vs Feb: 0.889590\n",
      "Mar vs Mar: 1.000000\n",
      "Mar vs Apr: 0.964929\n",
      "Mar vs May: 0.918509\n",
      "Mar vs Jun: 0.959447\n",
      "Mar vs Jul: 0.963265\n",
      "Mar vs Aug: 0.976438\n",
      "Mar vs Sep: 0.974386\n",
      "Mar vs Oct: 0.948056\n",
      "Mar vs Nov: 0.851236\n",
      "Mar vs Dec: 0.882435\n",
      "Apr vs Jan: 0.957693\n",
      "Apr vs Feb: 0.933880\n",
      "Apr vs Mar: 0.964929\n",
      "Apr vs Apr: 1.000000\n",
      "Apr vs May: 0.966945\n",
      "Apr vs Jun: 0.983239\n",
      "Apr vs Jul: 0.982214\n",
      "Apr vs Aug: 0.983680\n",
      "Apr vs Sep: 0.982241\n",
      "Apr vs Oct: 0.974556\n",
      "Apr vs Nov: 0.896671\n",
      "Apr vs Dec: 0.902024\n",
      "May vs Jan: 0.924127\n",
      "May vs Feb: 0.918441\n",
      "May vs Mar: 0.918509\n",
      "May vs Apr: 0.966945\n",
      "May vs May: 1.000000\n",
      "May vs Jun: 0.965874\n",
      "May vs Jul: 0.970754\n",
      "May vs Aug: 0.957753\n",
      "May vs Sep: 0.953590\n",
      "May vs Oct: 0.965777\n",
      "May vs Nov: 0.897381\n",
      "May vs Dec: 0.881218\n",
      "Jun vs Jan: 0.947094\n",
      "Jun vs Feb: 0.927513\n",
      "Jun vs Mar: 0.959447\n",
      "Jun vs Apr: 0.983239\n",
      "Jun vs May: 0.965874\n",
      "Jun vs Jun: 1.000000\n",
      "Jun vs Jul: 0.990665\n",
      "Jun vs Aug: 0.987534\n",
      "Jun vs Sep: 0.986664\n",
      "Jun vs Oct: 0.976502\n",
      "Jun vs Nov: 0.901662\n",
      "Jun vs Dec: 0.867644\n",
      "Jul vs Jan: 0.954387\n",
      "Jul vs Feb: 0.921856\n",
      "Jul vs Mar: 0.963265\n",
      "Jul vs Apr: 0.982214\n",
      "Jul vs May: 0.970754\n",
      "Jul vs Jun: 0.990665\n",
      "Jul vs Jul: 1.000000\n",
      "Jul vs Aug: 0.992174\n",
      "Jul vs Sep: 0.987940\n",
      "Jul vs Oct: 0.978620\n",
      "Jul vs Nov: 0.888858\n",
      "Jul vs Dec: 0.883945\n",
      "Aug vs Jan: 0.964951\n",
      "Aug vs Feb: 0.912587\n",
      "Aug vs Mar: 0.976438\n",
      "Aug vs Apr: 0.983680\n",
      "Aug vs May: 0.957753\n",
      "Aug vs Jun: 0.987534\n",
      "Aug vs Jul: 0.992174\n",
      "Aug vs Aug: 1.000000\n",
      "Aug vs Sep: 0.994222\n",
      "Aug vs Oct: 0.973846\n",
      "Aug vs Nov: 0.880624\n",
      "Aug vs Dec: 0.889657\n",
      "Sep vs Jan: 0.958212\n",
      "Sep vs Feb: 0.909024\n",
      "Sep vs Mar: 0.974386\n",
      "Sep vs Apr: 0.982241\n",
      "Sep vs May: 0.953590\n",
      "Sep vs Jun: 0.986664\n",
      "Sep vs Jul: 0.987940\n",
      "Sep vs Aug: 0.994222\n",
      "Sep vs Sep: 1.000000\n",
      "Sep vs Oct: 0.973506\n",
      "Sep vs Nov: 0.881973\n",
      "Sep vs Dec: 0.878931\n",
      "Oct vs Jan: 0.937647\n",
      "Oct vs Feb: 0.927005\n",
      "Oct vs Mar: 0.948056\n",
      "Oct vs Apr: 0.974556\n",
      "Oct vs May: 0.965777\n",
      "Oct vs Jun: 0.976502\n",
      "Oct vs Jul: 0.978620\n",
      "Oct vs Aug: 0.973846\n",
      "Oct vs Sep: 0.973506\n",
      "Oct vs Oct: 1.000000\n",
      "Oct vs Nov: 0.905313\n",
      "Oct vs Dec: 0.891825\n",
      "Nov vs Jan: 0.857722\n",
      "Nov vs Feb: 0.860940\n",
      "Nov vs Mar: 0.851236\n",
      "Nov vs Apr: 0.896671\n",
      "Nov vs May: 0.897381\n",
      "Nov vs Jun: 0.901662\n",
      "Nov vs Jul: 0.888858\n",
      "Nov vs Aug: 0.880624\n",
      "Nov vs Sep: 0.881973\n",
      "Nov vs Oct: 0.905313\n",
      "Nov vs Nov: 1.000000\n",
      "Nov vs Dec: 0.808805\n",
      "Dec vs Jan: 0.915574\n",
      "Dec vs Feb: 0.820649\n",
      "Dec vs Mar: 0.882435\n",
      "Dec vs Apr: 0.902024\n",
      "Dec vs May: 0.881218\n",
      "Dec vs Jun: 0.867644\n",
      "Dec vs Jul: 0.883945\n",
      "Dec vs Aug: 0.889657\n",
      "Dec vs Sep: 0.878931\n",
      "Dec vs Oct: 0.891825\n",
      "Dec vs Nov: 0.808805\n",
      "Dec vs Dec: 1.000000\n"
     ]
    }
   ],
   "source": [
    "for month in months:\n",
    "    month_cos = []\n",
    "    for month_another in months:\n",
    "        freq1 = np.array(data[month+'_freq'])\n",
    "        freq2 = np.array(data[month_another+'_freq'])\n",
    "        result = cos_similar(freq1, freq2)\n",
    "        print('%s vs %s: %f' %(month, month_another,result))\n",
    "        #print(result)\n",
    "        month_cos.append(result)\n",
    "    pd_data[month] = month_cos"
   ]
  },
  {
   "cell_type": "code",
   "execution_count": 31,
   "metadata": {},
   "outputs": [],
   "source": [
    "pd_data.to_csv('months_all_features_each_month_compare.csv', index=False)"
   ]
  },
  {
   "cell_type": "code",
   "execution_count": 32,
   "metadata": {},
   "outputs": [
    {
     "name": "stdout",
     "output_type": "stream",
     "text": [
      "   month       Jan       Feb       Mar       Apr       May       Jun  \\\n",
      "0    Jan  1.000000  0.883942  0.961504  0.957693  0.924127  0.947094   \n",
      "1    Feb  0.883942  1.000000  0.889590  0.933880  0.918441  0.927513   \n",
      "2    Mar  0.961504  0.889590  1.000000  0.964929  0.918509  0.959447   \n",
      "3    Apr  0.957693  0.933880  0.964929  1.000000  0.966945  0.983239   \n",
      "4    May  0.924127  0.918441  0.918509  0.966945  1.000000  0.965874   \n",
      "5    Jun  0.947094  0.927513  0.959447  0.983239  0.965874  1.000000   \n",
      "6    Jul  0.954387  0.921856  0.963265  0.982214  0.970754  0.990665   \n",
      "7    Aug  0.964951  0.912587  0.976438  0.983680  0.957753  0.987534   \n",
      "8    Sep  0.958212  0.909024  0.974386  0.982241  0.953590  0.986664   \n",
      "9    Oct  0.937647  0.927005  0.948056  0.974556  0.965777  0.976502   \n",
      "10   Nov  0.857722  0.860940  0.851236  0.896671  0.897381  0.901662   \n",
      "11   Dec  0.915574  0.820649  0.882435  0.902024  0.881218  0.867644   \n",
      "\n",
      "         Jul       Aug       Sep       Oct       Nov       Dec  \n",
      "0   0.954387  0.964951  0.958212  0.937647  0.857722  0.915574  \n",
      "1   0.921856  0.912587  0.909024  0.927005  0.860940  0.820649  \n",
      "2   0.963265  0.976438  0.974386  0.948056  0.851236  0.882435  \n",
      "3   0.982214  0.983680  0.982241  0.974556  0.896671  0.902024  \n",
      "4   0.970754  0.957753  0.953590  0.965777  0.897381  0.881218  \n",
      "5   0.990665  0.987534  0.986664  0.976502  0.901662  0.867644  \n",
      "6   1.000000  0.992174  0.987940  0.978620  0.888858  0.883945  \n",
      "7   0.992174  1.000000  0.994222  0.973846  0.880624  0.889657  \n",
      "8   0.987940  0.994222  1.000000  0.973506  0.881973  0.878931  \n",
      "9   0.978620  0.973846  0.973506  1.000000  0.905313  0.891825  \n",
      "10  0.888858  0.880624  0.881973  0.905313  1.000000  0.808805  \n",
      "11  0.883945  0.889657  0.878931  0.891825  0.808805  1.000000  \n"
     ]
    }
   ],
   "source": [
    "print(pd_data)"
   ]
  },
  {
   "cell_type": "code",
   "execution_count": null,
   "metadata": {},
   "outputs": [],
   "source": []
  }
 ],
 "metadata": {
  "kernelspec": {
   "display_name": "Python 3",
   "language": "python",
   "name": "python3"
  },
  "language_info": {
   "codemirror_mode": {
    "name": "ipython",
    "version": 3
   },
   "file_extension": ".py",
   "mimetype": "text/x-python",
   "name": "python",
   "nbconvert_exporter": "python",
   "pygments_lexer": "ipython3",
   "version": "3.6.5"
  }
 },
 "nbformat": 4,
 "nbformat_minor": 4
}
