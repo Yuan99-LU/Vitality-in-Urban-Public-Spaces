{
 "cells": [
  {
   "cell_type": "code",
   "execution_count": 1,
   "metadata": {},
   "outputs": [],
   "source": [
    "import pandas as pd\n",
    "import os"
   ]
  },
  {
   "cell_type": "code",
   "execution_count": 2,
   "metadata": {},
   "outputs": [],
   "source": [
    "LANGUAGES = ['[Chinese, (Sim.)]','[Chinese, (Trad.)]','[Czech]','[Danish]','[Dutch]','[English]', '[Finnish]',\n",
    "'[French]',\n",
    "'[German]',\n",
    "'[Greek]',\n",
    "'[Hungarian]',\n",
    "'[Indonesian]',\n",
    "'[Italian]',\n",
    "'[Japanese]',\n",
    "'[Norwegian]',\n",
    "'[Polish]',\n",
    "'[Portuguese]',\n",
    "'[Russian]',\n",
    "'[Serbian]',\n",
    "'[Spanish]',\n",
    "'[Swedish]',\n",
    "'[Thai]',\n",
    "'[Turkish]']"
   ]
  },
  {
   "cell_type": "code",
   "execution_count": 3,
   "metadata": {},
   "outputs": [],
   "source": [
    "filenames = os.listdir('LDA_by_languages/attractions_lda_after_pyLDAvis')"
   ]
  },
  {
   "cell_type": "code",
   "execution_count": 4,
   "metadata": {},
   "outputs": [
    {
     "name": "stdout",
     "output_type": "stream",
     "text": [
      "['output_[Polish]_3.csv', 'output_[Polish]_2.csv', 'output_[Portuguese]_1.csv', 'output_[Portuguese]_3.csv', 'output_[Portuguese]_2.csv', 'output_[Polish]_1.csv', 'output_[Chinese, (Sim.)]_2.csv', 'output_[Russian]_1.csv', 'output_[Chinese, (Sim.)]_3.csv', 'output_[Chinese, (Sim.)]_1.csv', 'output_[Russian]_2.csv', 'output_[Russian]_3.csv', 'output_[Turkish]_2.csv', 'output_[Japanese]_2.csv', 'output_[Japanese]_3.csv', 'output_[Dutch]_1.csv', 'output_[Turkish]_3.csv', 'output_[Turkish]_1.csv', 'output_[Dutch]_3.csv', 'output_[Japanese]_1.csv', 'output_[Dutch]_2.csv', 'output_[Norwegian]_1.csv', 'output_[Italian]_1.csv', 'output_[Italian]_3.csv', 'output_[Norwegian]_2.csv', 'output_[Norwegian]_3.csv', 'output_[Italian]_2.csv', 'output_[Danish]_2.csv', 'output_[Swedish]_1.csv', 'output_[Spanish]_3.csv', 'output_[Chinese, (Trad.)]_2.csv', 'output_[Chinese, (Trad.)]_3.csv', 'output_[Spanish]_2.csv', 'output_[Danish]_3.csv', 'output_[Danish]_1.csv', 'output_[Swedish]_2.csv', 'output_[Chinese, (Trad.)]_1.csv', 'output_[Spanish]_1.csv', 'output_[Swedish]_3.csv', 'output_[French]_1.csv', 'output_[French]_3.csv', 'output_[French]_2.csv', 'output_[German]_2.csv', 'output_[English]_3.csv', 'output_[English]_2.csv', 'output_[German]_3.csv', 'output_[German]_1.csv', 'output_[English]_1.csv']\n"
     ]
    }
   ],
   "source": [
    "print(filenames)"
   ]
  },
  {
   "cell_type": "code",
   "execution_count": 5,
   "metadata": {},
   "outputs": [
    {
     "name": "stdout",
     "output_type": "stream",
     "text": [
      "output_[Chinese, (Sim.)]_2.csv\n",
      "output_[Chinese, (Trad.)]_2.csv\n",
      "output_[Czech]_2.csv\n",
      "output_[Danish]_2.csv\n",
      "output_[Dutch]_2.csv\n",
      "output_[English]_2.csv\n",
      "output_[Finnish]_2.csv\n",
      "output_[French]_2.csv\n",
      "output_[German]_2.csv\n",
      "output_[Greek]_2.csv\n",
      "output_[Hungarian]_2.csv\n",
      "output_[Indonesian]_2.csv\n",
      "output_[Italian]_2.csv\n",
      "output_[Japanese]_2.csv\n",
      "output_[Norwegian]_2.csv\n",
      "output_[Polish]_2.csv\n",
      "output_[Portuguese]_2.csv\n",
      "output_[Russian]_2.csv\n",
      "output_[Serbian]_2.csv\n",
      "output_[Spanish]_2.csv\n",
      "output_[Swedish]_2.csv\n",
      "output_[Thai]_2.csv\n",
      "output_[Turkish]_2.csv\n",
      "output_[Chinese, (Sim.)]_2.csv\n",
      "output_[Chinese, (Trad.)]_2.csv\n",
      "output_[Czech]_2.csv\n",
      "output_[Danish]_2.csv\n",
      "output_[Dutch]_2.csv\n",
      "output_[English]_2.csv\n",
      "output_[Finnish]_2.csv\n",
      "output_[French]_2.csv\n",
      "output_[German]_2.csv\n",
      "output_[Greek]_2.csv\n",
      "output_[Hungarian]_2.csv\n",
      "output_[Indonesian]_2.csv\n",
      "output_[Italian]_2.csv\n",
      "output_[Japanese]_2.csv\n",
      "output_[Norwegian]_2.csv\n",
      "output_[Polish]_2.csv\n",
      "output_[Portuguese]_2.csv\n",
      "output_[Russian]_2.csv\n",
      "output_[Serbian]_2.csv\n",
      "output_[Spanish]_2.csv\n",
      "output_[Swedish]_2.csv\n",
      "output_[Thai]_2.csv\n",
      "output_[Turkish]_2.csv\n",
      "output_[Chinese, (Sim.)]_2.csv\n",
      "output_[Chinese, (Trad.)]_2.csv\n",
      "output_[Czech]_2.csv\n",
      "output_[Danish]_2.csv\n",
      "output_[Dutch]_2.csv\n",
      "output_[English]_2.csv\n",
      "output_[Finnish]_2.csv\n",
      "output_[French]_2.csv\n",
      "output_[German]_2.csv\n",
      "output_[Greek]_2.csv\n",
      "output_[Hungarian]_2.csv\n",
      "output_[Indonesian]_2.csv\n",
      "output_[Italian]_2.csv\n",
      "output_[Japanese]_2.csv\n",
      "output_[Norwegian]_2.csv\n",
      "output_[Polish]_2.csv\n",
      "output_[Portuguese]_2.csv\n",
      "output_[Russian]_2.csv\n",
      "output_[Serbian]_2.csv\n",
      "output_[Spanish]_2.csv\n",
      "output_[Swedish]_2.csv\n",
      "output_[Thai]_2.csv\n",
      "output_[Turkish]_2.csv\n",
      "output_[Chinese, (Sim.)]_2.csv\n",
      "output_[Chinese, (Trad.)]_2.csv\n",
      "output_[Czech]_2.csv\n",
      "output_[Danish]_2.csv\n",
      "output_[Dutch]_2.csv\n",
      "output_[English]_2.csv\n",
      "output_[Finnish]_2.csv\n",
      "output_[French]_2.csv\n",
      "output_[German]_2.csv\n",
      "output_[Greek]_2.csv\n",
      "output_[Hungarian]_2.csv\n",
      "output_[Indonesian]_2.csv\n",
      "output_[Italian]_2.csv\n",
      "output_[Japanese]_2.csv\n",
      "output_[Norwegian]_2.csv\n",
      "output_[Polish]_2.csv\n",
      "output_[Portuguese]_2.csv\n",
      "output_[Russian]_2.csv\n",
      "output_[Serbian]_2.csv\n",
      "output_[Spanish]_2.csv\n",
      "output_[Swedish]_2.csv\n",
      "output_[Thai]_2.csv\n",
      "output_[Turkish]_2.csv\n",
      "output_[Chinese, (Sim.)]_2.csv\n",
      "output_[Chinese, (Trad.)]_2.csv\n",
      "output_[Czech]_2.csv\n",
      "output_[Danish]_2.csv\n",
      "output_[Dutch]_2.csv\n",
      "output_[English]_2.csv\n",
      "output_[Finnish]_2.csv\n",
      "output_[French]_2.csv\n",
      "output_[German]_2.csv\n",
      "output_[Greek]_2.csv\n",
      "output_[Hungarian]_2.csv\n",
      "output_[Indonesian]_2.csv\n",
      "output_[Italian]_2.csv\n",
      "output_[Japanese]_2.csv\n",
      "output_[Norwegian]_2.csv\n",
      "output_[Polish]_2.csv\n",
      "output_[Portuguese]_2.csv\n",
      "output_[Russian]_2.csv\n",
      "output_[Serbian]_2.csv\n",
      "output_[Spanish]_2.csv\n",
      "output_[Swedish]_2.csv\n",
      "output_[Thai]_2.csv\n",
      "output_[Turkish]_2.csv\n"
     ]
    }
   ],
   "source": [
    "N1 = 1\n",
    "N2 = 2\n",
    "\n",
    "features_pre = []\n",
    "for N in range(1, 6):  \n",
    "    for lang in LANGUAGES:\n",
    "        file_name = 'output_'+lang+'_'+str(N2)+\".csv\"\n",
    "        print(file_name)\n",
    "        if file_name in filenames:\n",
    "            data2 = pd.read_csv('LDA_by_languages/attractions_lda_after_pyLDAvis/output_'+lang+'_'+str(N2)+\".csv\")\n",
    "            data2 = data2[data2['Category']=='Topic'+str(N)][0:20]\n",
    "            #data2 = data2.reset_index(drop = True, inplace = True)\n",
    "            features_pre.append(data2['Term'])\n",
    "        #print(features_pre)\n",
    "features = pd.concat(features_pre).drop_duplicates().reset_index(drop=True)\n",
    "#print(features)\n",
    "features.to_csv('top20_each_language_features_all_top5_topics/Topic_'+'all_top5'+'_features.csv')\n",
    "   "
   ]
  },
  {
   "cell_type": "code",
   "execution_count": null,
   "metadata": {},
   "outputs": [],
   "source": []
  },
  {
   "cell_type": "code",
   "execution_count": 6,
   "metadata": {},
   "outputs": [],
   "source": [
    "features.to_csv('top20_each_language_features_all_top5_topics/Topic_'+'all_top5'+'_features.csv')"
   ]
  },
  {
   "cell_type": "code",
   "execution_count": null,
   "metadata": {},
   "outputs": [],
   "source": []
  }
 ],
 "metadata": {
  "kernelspec": {
   "display_name": "Python 3",
   "language": "python",
   "name": "python3"
  },
  "language_info": {
   "codemirror_mode": {
    "name": "ipython",
    "version": 3
   },
   "file_extension": ".py",
   "mimetype": "text/x-python",
   "name": "python",
   "nbconvert_exporter": "python",
   "pygments_lexer": "ipython3",
   "version": "3.6.5"
  }
 },
 "nbformat": 4,
 "nbformat_minor": 4
}
