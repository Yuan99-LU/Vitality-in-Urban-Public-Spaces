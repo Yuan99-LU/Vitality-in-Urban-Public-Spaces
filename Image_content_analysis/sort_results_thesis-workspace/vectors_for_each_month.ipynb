{
 "cells": [
  {
   "cell_type": "code",
   "execution_count": 1,
   "metadata": {},
   "outputs": [],
   "source": [
    "import pandas as pd\n",
    "import os"
   ]
  },
  {
   "cell_type": "code",
   "execution_count": 2,
   "metadata": {},
   "outputs": [],
   "source": [
    "months = ['Jan', 'Feb', 'Mar', 'Apr', 'May', 'Jun','Jul','Aug','Sep','Oct','Nov','Dec']"
   ]
  },
  {
   "cell_type": "code",
   "execution_count": 7,
   "metadata": {},
   "outputs": [],
   "source": [
    "features_all_months = pd.read_csv('all_months_features.csv', names = ['features'])"
   ]
  },
  {
   "cell_type": "code",
   "execution_count": 8,
   "metadata": {},
   "outputs": [
    {
     "data": {
      "text/html": [
       "<div>\n",
       "<style scoped>\n",
       "    .dataframe tbody tr th:only-of-type {\n",
       "        vertical-align: middle;\n",
       "    }\n",
       "\n",
       "    .dataframe tbody tr th {\n",
       "        vertical-align: top;\n",
       "    }\n",
       "\n",
       "    .dataframe thead th {\n",
       "        text-align: right;\n",
       "    }\n",
       "</style>\n",
       "<table border=\"1\" class=\"dataframe\">\n",
       "  <thead>\n",
       "    <tr style=\"text-align: right;\">\n",
       "      <th></th>\n",
       "      <th>features</th>\n",
       "    </tr>\n",
       "  </thead>\n",
       "  <tbody>\n",
       "    <tr>\n",
       "      <th>0</th>\n",
       "      <td>Building</td>\n",
       "    </tr>\n",
       "    <tr>\n",
       "      <th>1</th>\n",
       "      <td>Architecture</td>\n",
       "    </tr>\n",
       "  </tbody>\n",
       "</table>\n",
       "</div>"
      ],
      "text/plain": [
       "       features\n",
       "0      Building\n",
       "1  Architecture"
      ]
     },
     "execution_count": 8,
     "metadata": {},
     "output_type": "execute_result"
    }
   ],
   "source": [
    "features_all_months.head(2)"
   ]
  },
  {
   "cell_type": "code",
   "execution_count": 22,
   "metadata": {},
   "outputs": [
    {
     "name": "stdout",
     "output_type": "stream",
     "text": [
      "Jan\n",
      "Feb\n",
      "Mar\n",
      "Apr\n",
      "May\n",
      "Jun\n",
      "Jul\n",
      "Aug\n",
      "Sep\n",
      "Oct\n",
      "Nov\n",
      "Dec\n"
     ]
    }
   ],
   "source": [
    "for mon in months:\n",
    "    print(mon)\n",
    "    mon_counting = pd.read_csv('by_months_counting/'+ mon +'_counting_Lund_Photos'+'.csv', \n",
    "                              names =['features', 'counts'])\n",
    "\n",
    "    freq = []\n",
    "    for term in features_all_months['features']:\n",
    "        #print(term)\n",
    "        if term in mon_counting['features'].tolist():\n",
    "            #print(term)\n",
    "            index = mon_counting['features'][mon_counting['features'] == term].index[0]\n",
    "            #print(index)\n",
    "            freq.append(mon_counting['counts'][index])\n",
    "        else:\n",
    "            freq.append(0)\n",
    "        #print(freq)\n",
    "    features_all_months[mon+'_freq'] = freq\n"
   ]
  },
  {
   "cell_type": "code",
   "execution_count": 23,
   "metadata": {},
   "outputs": [
    {
     "data": {
      "text/html": [
       "<div>\n",
       "<style scoped>\n",
       "    .dataframe tbody tr th:only-of-type {\n",
       "        vertical-align: middle;\n",
       "    }\n",
       "\n",
       "    .dataframe tbody tr th {\n",
       "        vertical-align: top;\n",
       "    }\n",
       "\n",
       "    .dataframe thead th {\n",
       "        text-align: right;\n",
       "    }\n",
       "</style>\n",
       "<table border=\"1\" class=\"dataframe\">\n",
       "  <thead>\n",
       "    <tr style=\"text-align: right;\">\n",
       "      <th></th>\n",
       "      <th>features</th>\n",
       "      <th>Jan_freq</th>\n",
       "      <th>Feb_freq</th>\n",
       "      <th>Mar_freq</th>\n",
       "      <th>Apr_freq</th>\n",
       "      <th>May_freq</th>\n",
       "      <th>Jun_freq</th>\n",
       "      <th>Jul_freq</th>\n",
       "      <th>Aug_freq</th>\n",
       "      <th>Sep_freq</th>\n",
       "      <th>Oct_freq</th>\n",
       "      <th>Nov_freq</th>\n",
       "      <th>Dec_freq</th>\n",
       "    </tr>\n",
       "  </thead>\n",
       "  <tbody>\n",
       "    <tr>\n",
       "      <th>0</th>\n",
       "      <td>Building</td>\n",
       "      <td>55</td>\n",
       "      <td>18</td>\n",
       "      <td>108</td>\n",
       "      <td>110</td>\n",
       "      <td>212</td>\n",
       "      <td>234</td>\n",
       "      <td>350</td>\n",
       "      <td>342</td>\n",
       "      <td>249</td>\n",
       "      <td>124</td>\n",
       "      <td>18</td>\n",
       "      <td>28</td>\n",
       "    </tr>\n",
       "  </tbody>\n",
       "</table>\n",
       "</div>"
      ],
      "text/plain": [
       "   features  Jan_freq  Feb_freq  Mar_freq  Apr_freq  May_freq  Jun_freq  \\\n",
       "0  Building        55        18       108       110       212       234   \n",
       "\n",
       "   Jul_freq  Aug_freq  Sep_freq  Oct_freq  Nov_freq  Dec_freq  \n",
       "0       350       342       249       124        18        28  "
      ]
     },
     "execution_count": 23,
     "metadata": {},
     "output_type": "execute_result"
    }
   ],
   "source": [
    "features_all_months.head(1)"
   ]
  },
  {
   "cell_type": "code",
   "execution_count": 30,
   "metadata": {},
   "outputs": [],
   "source": [
    "features_all_months.to_csv('all_months_features_all_month_vectors.csv', index= False)"
   ]
  },
  {
   "cell_type": "code",
   "execution_count": null,
   "metadata": {},
   "outputs": [],
   "source": []
  }
 ],
 "metadata": {
  "kernelspec": {
   "display_name": "Python 3",
   "language": "python",
   "name": "python3"
  },
  "language_info": {
   "codemirror_mode": {
    "name": "ipython",
    "version": 3
   },
   "file_extension": ".py",
   "mimetype": "text/x-python",
   "name": "python",
   "nbconvert_exporter": "python",
   "pygments_lexer": "ipython3",
   "version": "3.6.5"
  }
 },
 "nbformat": 4,
 "nbformat_minor": 4
}
