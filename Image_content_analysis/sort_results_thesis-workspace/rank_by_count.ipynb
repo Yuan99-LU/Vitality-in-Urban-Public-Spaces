{
 "cells": [
  {
   "cell_type": "code",
   "execution_count": 1,
   "metadata": {},
   "outputs": [],
   "source": [
    "import pandas as pd"
   ]
  },
  {
   "cell_type": "code",
   "execution_count": 3,
   "metadata": {},
   "outputs": [],
   "source": [
    "data = pd.read_csv(\"label_annotations_lund_medium_size.csv\", names = 'abcdefghijk')"
   ]
  },
  {
   "cell_type": "code",
   "execution_count": 7,
   "metadata": {},
   "outputs": [],
   "source": [
    "data2= data.drop(['a'], axis =1)"
   ]
  },
  {
   "cell_type": "code",
   "execution_count": 8,
   "metadata": {},
   "outputs": [
    {
     "name": "stdout",
     "output_type": "stream",
     "text": [
      "          b                      c             d                 e  \\\n",
      "0      Town               Landmark          City          Building   \n",
      "1  Landmark  Medieval architecture  Architecture          Building   \n",
      "2  Property                  House       Cottage          Building   \n",
      "3      Tree                  Green      Property  Residential area   \n",
      "4  Building                 Estate      Property           Mansion   \n",
      "\n",
      "                  f                 g             h            i  \\\n",
      "0  Human settlement            Street  Architecture         Road   \n",
      "1               Sky  Place of worship        Church       Facade   \n",
      "2              Roof              Home     Farmhouse   Rural area   \n",
      "3              Road      Public space       Daytime        Grass   \n",
      "4      Stately home           Château  Architecture  Manor house   \n",
      "\n",
      "                        j                      k  \n",
      "0           Neighbourhood                  Plaza  \n",
      "1  Classical architecture          Historic site  \n",
      "2            Architecture            Real estate  \n",
      "3                 Asphalt            Woody plant  \n",
      "4          Historic house  Medieval architecture  \n"
     ]
    }
   ],
   "source": [
    "print(data2.head(5))"
   ]
  },
  {
   "cell_type": "code",
   "execution_count": 9,
   "metadata": {},
   "outputs": [],
   "source": [
    "cout = pd.value_counts(data2.values.flatten())"
   ]
  },
  {
   "cell_type": "code",
   "execution_count": 10,
   "metadata": {},
   "outputs": [
    {
     "name": "stdout",
     "output_type": "stream",
     "text": [
      "Building                   2043\n",
      "Architecture               1930\n",
      "Landmark                   1249\n",
      "Sky                        1010\n",
      "Estate                      991\n",
      "House                       856\n",
      "Property                    832\n",
      "Tree                        824\n",
      "Mansion                     722\n",
      "Palace                      680\n",
      "City                        641\n",
      "Facade                      618\n",
      "Stately home                544\n",
      "Classical architecture      512\n",
      "Grass                       495\n",
      "Town                        487\n",
      "Medieval architecture       461\n",
      "Natural landscape           394\n",
      "Château                     367\n",
      "Church                      363\n",
      "Official residence          338\n",
      "Water                       310\n",
      "Place of worship            305\n",
      "Cathedral                   249\n",
      "Natural environment         246\n",
      "Human settlement            227\n",
      "Garden                      225\n",
      "Botany                      223\n",
      "Home                        217\n",
      "Neighbourhood               187\n",
      "                           ... \n",
      "Deciduous                     1\n",
      "Yurt                          1\n",
      "Train station                 1\n",
      "Calm                          1\n",
      "Automotive wheel system       1\n",
      "Play                          1\n",
      "Brutalist architecture        1\n",
      "Forest                        1\n",
      "Streetball                    1\n",
      "Closet                        1\n",
      "Bicycle wheel                 1\n",
      "Bell tower                    1\n",
      "Logo                          1\n",
      "Playground slide              1\n",
      "Weights                       1\n",
      "Sand                          1\n",
      "Goat                          1\n",
      "Arecales                      1\n",
      "Tunnel                        1\n",
      "Handrail                      1\n",
      "Thermokarst                   1\n",
      "Tall ship                     1\n",
      "Afterglow                     1\n",
      "Italian food                  1\n",
      "Tundra                        1\n",
      "Performance                   1\n",
      "Fog                           1\n",
      "Textile                       1\n",
      "Water castle                  1\n",
      "Stock photography             1\n",
      "Length: 620, dtype: int64\n"
     ]
    }
   ],
   "source": [
    "print(cout)"
   ]
  },
  {
   "cell_type": "code",
   "execution_count": 12,
   "metadata": {},
   "outputs": [],
   "source": [
    "cout.to_csv(\"rank_by_counts.csv\")"
   ]
  },
  {
   "cell_type": "code",
   "execution_count": null,
   "metadata": {},
   "outputs": [],
   "source": []
  }
 ],
 "metadata": {
  "kernelspec": {
   "display_name": "Python 3",
   "language": "python",
   "name": "python3"
  },
  "language_info": {
   "codemirror_mode": {
    "name": "ipython",
    "version": 3
   },
   "file_extension": ".py",
   "mimetype": "text/x-python",
   "name": "python",
   "nbconvert_exporter": "python",
   "pygments_lexer": "ipython3",
   "version": "3.6.5"
  }
 },
 "nbformat": 4,
 "nbformat_minor": 4
}
