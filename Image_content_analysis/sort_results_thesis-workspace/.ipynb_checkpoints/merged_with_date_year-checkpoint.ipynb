{
 "cells": [
  {
   "cell_type": "code",
   "execution_count": 1,
   "metadata": {},
   "outputs": [],
   "source": [
    "import pandas as pd"
   ]
  },
  {
   "cell_type": "code",
   "execution_count": 2,
   "metadata": {},
   "outputs": [],
   "source": [
    "data = pd.read_csv(\"label_annotations_lund_medium_size.csv\", names = 'abcdefghijk')"
   ]
  },
  {
   "cell_type": "code",
   "execution_count": 3,
   "metadata": {},
   "outputs": [],
   "source": [
    "data_ocr = pd.read_csv(\"Lund_OCR_output_shorter.csv\", names = 'abcd')"
   ]
  },
  {
   "cell_type": "code",
   "execution_count": 4,
   "metadata": {},
   "outputs": [],
   "source": [
    "merged_inner = pd.merge(left = data, right = data_ocr, left_on = 'a', right_on = 'a')"
   ]
  },
  {
   "cell_type": "code",
   "execution_count": 5,
   "metadata": {},
   "outputs": [
    {
     "name": "stdout",
     "output_type": "stream",
     "text": [
      "2816\n"
     ]
    }
   ],
   "source": [
    "print(len(merged_inner))"
   ]
  },
  {
   "cell_type": "code",
   "execution_count": 6,
   "metadata": {},
   "outputs": [],
   "source": [
    "merged_inner.to_csv(\"Lund_labes_with_date_prob_better_than_0.8.csv\")"
   ]
  },
  {
   "cell_type": "code",
   "execution_count": 7,
   "metadata": {},
   "outputs": [],
   "source": [
    "months = ['Jan', 'Feb', 'Mar', 'Apr', 'May', 'Jun','Jul','Aug','Sep','Oct','Nov','Dec']"
   ]
  },
  {
   "cell_type": "code",
   "execution_count": 8,
   "metadata": {},
   "outputs": [
    {
     "name": "stdout",
     "output_type": "stream",
     "text": [
      "71\n",
      "29\n",
      "119\n",
      "152\n",
      "338\n",
      "341\n",
      "492\n",
      "448\n",
      "309\n",
      "178\n",
      "28\n",
      "37\n"
     ]
    }
   ],
   "source": [
    "for month in months:\n",
    "    mon = merged_inner[merged_inner['d_y'].str.contains(month)== True]\n",
    "    print(len(mon))\n",
    "    mon.to_csv('by_months_prob_08'+month+\"_Lund_Photos.csv\",index =False)"
   ]
  },
  {
   "cell_type": "code",
   "execution_count": 11,
   "metadata": {},
   "outputs": [
    {
     "name": "stdout",
     "output_type": "stream",
     "text": [
      "37\n"
     ]
    }
   ],
   "source": [
    "print(len(mon))"
   ]
  },
  {
   "cell_type": "code",
   "execution_count": 12,
   "metadata": {},
   "outputs": [
    {
     "name": "stdout",
     "output_type": "stream",
     "text": [
      "               a                     b_x                     c_x  \\\n",
      "12    Lund_02450                Property                   House   \n",
      "17    Lund_00094                   Spire                Landmark   \n",
      "161   Lund_01403                Landmark            Architecture   \n",
      "247   Lund_00837            Architecture                Landmark   \n",
      "250   Lund_02956                  Bridge                     NaN   \n",
      "276   Lund_00053                Landmark            Architecture   \n",
      "508   Lund_00148                Landmark                     Sky   \n",
      "523   Lund_01204                Building   Medieval architecture   \n",
      "561   Lund_00136                   Spire                 Steeple   \n",
      "576   Lund_00021                Building                Landmark   \n",
      "630   Lund_00061                Landmark                Building   \n",
      "688   Lund_01617                     Sky                Landmark   \n",
      "760   Lund_01370      Aerial photography         Bird's-eye view   \n",
      "1030  Lund_00173                    Tree                Property   \n",
      "1102  Lund_00158                    Town                Building   \n",
      "1228  Lund_00066                Landmark                Building   \n",
      "1303  Lund_01821                Landmark                     Sky   \n",
      "1306  Lund_02453               Furniture                   Bench   \n",
      "1397  Lund_02604       Natural landscape                     Sky   \n",
      "1510  Lund_00928                Building            Architecture   \n",
      "1522  Lund_01460                Building            Architecture   \n",
      "1641  Lund_00111                Building            Architecture   \n",
      "1749  Lund_02509                Land lot                     NaN   \n",
      "1828  Lund_00110                     Sky               Transport   \n",
      "1850  Lund_03052                   Water                     NaN   \n",
      "1991  Lund_00081                    Town                  Street   \n",
      "2045  Lund_01496                Building            Architecture   \n",
      "2114  Lund_01202                Building   Medieval architecture   \n",
      "2146  Lund_00167                Landmark                Building   \n",
      "2153  Lund_02732                     Sky       Natural landscape   \n",
      "2158  Lund_01977                    Town                    City   \n",
      "2262  Lund_00015                Building                Property   \n",
      "2274  Lund_00351  Classical architecture                Building   \n",
      "2298  Lund_02477                Building     Commercial building   \n",
      "2451  Lund_02783       Natural landscape  Atmospheric phenomenon   \n",
      "2606  Lund_00156                   Water                    Town   \n",
      "2639  Lund_00177                   Spire                 Steeple   \n",
      "\n",
      "                d_x                      e                       f  \\\n",
      "12         Building                 Chapel                    Roof   \n",
      "17     Architecture               Building                 Steeple   \n",
      "161        Building  Medieval architecture                   Tower   \n",
      "247        Building  Medieval architecture        Place of worship   \n",
      "250             NaN                    NaN                     NaN   \n",
      "276        Building                   Town                  Facade   \n",
      "508    Architecture               Building                    Town   \n",
      "523             NaN                    NaN                     NaN   \n",
      "561        Landmark                 Church            Architecture   \n",
      "576            Town           Architecture                     Sky   \n",
      "630            Town                   Tree                     Sky   \n",
      "688        Building           Architecture   Medieval architecture   \n",
      "760    Architecture                    NaN                     NaN   \n",
      "1030          House                   Town           Neighbourhood   \n",
      "1102       Property                 Street                    Lane   \n",
      "1228           Town           Architecture                   Grass   \n",
      "1303   Architecture               Building                   Spire   \n",
      "1306           Tree                  Table                   Grass   \n",
      "1397      Grassland    Natural environment                 Pasture   \n",
      "1510       Landmark                   Town                  Facade   \n",
      "1522       Landmark  Medieval architecture  Classical architecture   \n",
      "1641           Town               Landmark                    City   \n",
      "1749            NaN                    NaN                     NaN   \n",
      "1828           Town           Public space       Mode of transport   \n",
      "1850            NaN                    NaN                     NaN   \n",
      "1991  Neighbourhood            Cobblestone        Human settlement   \n",
      "2045       Landmark  Medieval architecture  Classical architecture   \n",
      "2114            NaN                    NaN                     NaN   \n",
      "2146   Architecture                   Tree                  Estate   \n",
      "2153        Horizon              Grassland     Natural environment   \n",
      "2158       Landmark       Human settlement            Public space   \n",
      "2262          House           Architecture                    Town   \n",
      "2274       Landmark           Architecture                  Palace   \n",
      "2298   Architecture                    NaN                     NaN   \n",
      "2451            Fog               Land lot                 Pasture   \n",
      "2606            Sky                   City                Landmark   \n",
      "2639           Tree                    Sky                  Church   \n",
      "\n",
      "                        g                       h                       i  \\\n",
      "12                Cottage                     NaN                     NaN   \n",
      "17                 Church        Place of worship   Medieval architecture   \n",
      "161                Church                     Sky        Place of worship   \n",
      "247                Church  Classical architecture               Cathedral   \n",
      "250                   NaN                     NaN                     NaN   \n",
      "276                  City              Urban area                     NaN   \n",
      "508                Church               Cathedral                    City   \n",
      "523                   NaN                     NaN                     NaN   \n",
      "561              Building        Place of worship                    Tree   \n",
      "576                  City              Urban area                     NaN   \n",
      "630          Architecture                   Water                     NaN   \n",
      "688                Church                     NaN                     NaN   \n",
      "760                   NaN                     NaN                     NaN   \n",
      "1030             Building              Urban area                   Brick   \n",
      "1102                 Road            Architecture                   House   \n",
      "1228             Property                    Tree              Urban area   \n",
      "1303              Daytime                  Church   Medieval architecture   \n",
      "1306               Spring                     NaN                     NaN   \n",
      "1397           Rural area                   Grass                    Line   \n",
      "1510                 City        Human settlement   Medieval architecture   \n",
      "1522                  NaN                     NaN                     NaN   \n",
      "1641             Property        Human settlement               Mixed-use   \n",
      "1749                  NaN                     NaN                     NaN   \n",
      "1828           Urban area                     NaN                     NaN   \n",
      "1850                  NaN                     NaN                     NaN   \n",
      "1991               Yellow                    City                Building   \n",
      "2045                  NaN                     NaN                     NaN   \n",
      "2114                  NaN                     NaN                     NaN   \n",
      "2146                  NaN                     NaN                     NaN   \n",
      "2153                Field                   Grass  Atmospheric phenomenon   \n",
      "2158         Architecture                Building                     NaN   \n",
      "2262                  NaN                     NaN                     NaN   \n",
      "2274              Mansion      Official residence            Stately home   \n",
      "2298                  NaN                     NaN                     NaN   \n",
      "2451  Natural environment               Grassland                    Tree   \n",
      "2606           Reflection                Waterway        Human settlement   \n",
      "2639                  NaN                     NaN                     NaN   \n",
      "\n",
      "                     j              k                    b_y  \\\n",
      "12                 NaN            NaN        \\E e L ET T T T   \n",
      "17                 NaN            NaN             ‘ (&1 EY T   \n",
      "161                NaN            NaN         Lund Cathedral   \n",
      "247                NaN            NaN       Lund Cathedral :   \n",
      "250                NaN            NaN              N[ AT T T   \n",
      "276                NaN            NaN             ‘ (&1 EY T   \n",
      "508         Urban area            NaN         @ Mato Bosnjak   \n",
      "523                NaN            NaN              Lundagérd   \n",
      "561                NaN            NaN      ‘ CeBpanuna [lyHi   \n",
      "576                NaN            NaN                   [T 3   \n",
      "630                NaN            NaN             ' (&1 EY T   \n",
      "688                NaN            NaN          [T T o1 T T T   \n",
      "760                NaN            NaN       Stora Raby Kyrka   \n",
      "1030  Residential area   Architecture             ‘ (&1 EY T   \n",
      "1102        Urban area  Neighbourhood             ' (&1 EY T   \n",
      "1228             Brick  Neighbourhood             ‘ (&1 EY T   \n",
      "1303              Wall          Tower          [T T o1 T T T   \n",
      "1306               NaN            NaN      Per Johans Park ¢   \n",
      "1397              Tree          Field        Nobbel6vs mosse   \n",
      "1510        Urban area            NaN         [T TV HTET 0 T   \n",
      "1522               NaN            NaN       Lund Cathedral :   \n",
      "1641        Urban area           Tree             ' (&1 EY T   \n",
      "1749               NaN            NaN   Per Johan's Park pla   \n",
      "1828               NaN            NaN             ' (&1 EY T   \n",
      "1850               NaN            NaN  Per Johan's Park pla\\   \n",
      "1991              Road     Urban area             ‘ (&1 EY T   \n",
      "2045               NaN            NaN       Lund Cathedral :   \n",
      "2114               NaN            NaN              Lundagérd   \n",
      "2146               NaN            NaN      ‘ CeBpanuHa [lyHi   \n",
      "2153             Plain           Line        Nobbel6vs mosse   \n",
      "2158               NaN            NaN    Lund Tourist Center   \n",
      "2262               NaN            NaN             ‘ (&1 EY T   \n",
      "2274               NaN            NaN              Lundagérd   \n",
      "2298               NaN            NaN                    NaN   \n",
      "2451             Grass            Sky                  |G AT   \n",
      "2606           Evening   Public space                   Lund   \n",
      "2639               NaN            NaN       ‘ CeBpanuna [yHi   \n",
      "\n",
      "                      c_y        d_y  \n",
      "12                6 IR DL   Dec 2016  \n",
      "17             ‘ (&1 EY T   Dec 2016  \n",
      "161        Mark Stevenson   Dec 2015  \n",
      "247       ?ﬁ Mads Frimann   Dec 2015  \n",
      "250                  P =]   Dec 2016  \n",
      "276            ‘ (&1 EY T   Dec 2016  \n",
      "508        @ Mato Bosnjak   Dec 2015  \n",
      "523     @ Rasmus Akergret   Dec 2015  \n",
      "561     ‘ CeBpanuna [lyHi   Dec 2016  \n",
      "576      a Sylvia Beatriz   Dec 2017  \n",
      "630            ' (&1 EY T   Dec 2016  \n",
      "688                AtilaK   Dec 2017  \n",
      "760        Kenton Knowles   Dec 2016  \n",
      "1030           ‘ (&1 EY T   Dec 2016  \n",
      "1102           ' (&1 EY T   Dec 2016  \n",
      "1228           ‘ (&1 EY T   Dec 2016  \n",
      "1303     C » David Ekberg   Dec 2016  \n",
      "1306        % Johan Linse   Dec 2017  \n",
      "1397      Nobbel6vs mosse   Dec 2016  \n",
      "1510           Claes Holm   Dec 2012  \n",
      "1522      ?ﬁ Mads Frimann   Dec 2015  \n",
      "1641           ' (&1 EY T   Dec 2016  \n",
      "1749        @ Johan Linse   Dec 2017  \n",
      "1828           ' (&1 EY T   Dec 2016  \n",
      "1850        @ Johan Linse   Dec 2017  \n",
      "1991           ‘ (&1 EY T   Dec 2016  \n",
      "2045      ?ﬁ Mads Frimann   Dec 2015  \n",
      "2114      Rasmus Akergret   Dec 2015  \n",
      "2146    ‘ CeBpanuHa [lyHi   Dec 2016  \n",
      "2153      Nobbel6vs mosse   Dec 2016  \n",
      "2158  Lund Tourist Center   Dec 2016  \n",
      "2262           ‘ (&1 EY T   Dec 2016  \n",
      "2274   @ Jarek Kedzierski   Dec 2016  \n",
      "2298                  NaN   Dec 2016  \n",
      "2451                |G AT   Dec 2016  \n",
      "2606    q} houzan suliman   Dec 2016  \n",
      "2639     ‘ CeBpanuna [yHi   Dec 2016  \n"
     ]
    }
   ],
   "source": [
    "print(mon)"
   ]
  },
  {
   "cell_type": "code",
   "execution_count": null,
   "metadata": {},
   "outputs": [],
   "source": []
  }
 ],
 "metadata": {
  "kernelspec": {
   "display_name": "Python 3",
   "language": "python",
   "name": "python3"
  },
  "language_info": {
   "codemirror_mode": {
    "name": "ipython",
    "version": 3
   },
   "file_extension": ".py",
   "mimetype": "text/x-python",
   "name": "python",
   "nbconvert_exporter": "python",
   "pygments_lexer": "ipython3",
   "version": "3.6.5"
  }
 },
 "nbformat": 4,
 "nbformat_minor": 4
}
