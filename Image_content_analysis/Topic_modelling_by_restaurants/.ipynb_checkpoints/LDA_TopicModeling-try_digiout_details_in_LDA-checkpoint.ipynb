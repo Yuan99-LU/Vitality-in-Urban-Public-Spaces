{
 "cells": [
  {
   "cell_type": "code",
   "execution_count": 1,
   "metadata": {},
   "outputs": [],
   "source": [
    "from sklearn.feature_extraction.text import TfidfVectorizer, CountVectorizer\n",
    "from sklearn.decomposition import NMF, LatentDirichletAllocation\n",
    "import pyLDAvis\n",
    "import pyLDAvis.sklearn\n",
    "import pyLDAvis.gensim\n",
    "import numpy as np\n",
    "from datetime import datetime, date, time\n",
    "import csv\n",
    "import sys\n",
    "import importlib\n",
    "import pandas as pd"
   ]
  },
  {
   "cell_type": "code",
   "execution_count": 2,
   "metadata": {},
   "outputs": [],
   "source": [
    "LANGUAGE = '[English]'"
   ]
  },
  {
   "cell_type": "code",
   "execution_count": 3,
   "metadata": {},
   "outputs": [],
   "source": [
    "def tf_vctorize(n_max_features, text):\n",
    "    #n_features = 1000\n",
    "    tf_vectorizer = CountVectorizer(strip_accents = 'unicode',\n",
    "                                max_features=n_max_features,\n",
    "                                stop_words='english',\n",
    "                                max_df = 0.95,\n",
    "                                min_df = 2)\n",
    "    tf = tf_vectorizer.fit_transform(text)\n",
    "    tf_feature_names = tf_vectorizer.get_feature_names()\n",
    "    return tf, tf_vectorizer, tf_feature_names\n",
    "    \n",
    "\n",
    "def LDA_analyze(tf_vector, n_topics):\n",
    "    lda = LatentDirichletAllocation(n_topics=n_topics,doc_topic_prior =1/(n_topics*10), max_iter=50,\n",
    "                                learning_method='online',\n",
    "                                learning_offset=50.,\n",
    "                                evaluate_every = 1,\n",
    "                                random_state=0)\n",
    "    lda.fit(tf_vector)\n",
    "    print(lda)\n",
    "    return lda\n",
    "\n",
    "def tf_idf(n_max_features, text):\n",
    "    tfidf_vectorizer = TfidfVectorizer(max_df=0.95,\n",
    "                                       min_df=2,\n",
    "                                       max_features=n_max_features,\n",
    "                                       stop_words='english')\n",
    "    tfidf = tfidf_vectorizer.fit_transform(text)\n",
    "    tfidf_feature_names = tfidf_vectorizer.get_feature_names()\n",
    "    return tfidf, tfidf_feature_names\n"
   ]
  },
  {
   "cell_type": "code",
   "execution_count": 4,
   "metadata": {},
   "outputs": [],
   "source": [
    "data = pd.read_csv('all_184_rebasic_senti_analysis.csv')"
   ]
  },
  {
   "cell_type": "code",
   "execution_count": 8,
   "metadata": {},
   "outputs": [
    {
     "name": "stdout",
     "output_type": "stream",
     "text": [
      "0    Really enjoyed the lamb on a skewer, the meat ...\n",
      "1    The restaurant is ok and the food was also goo...\n",
      "2    All meze and main dishes were great, in partic...\n",
      "3    We were taken here by our cousin who lives up ...\n",
      "4    A lovely selection of meze dishes. 6 or 7 for ...\n",
      "Name: eng_text, dtype: object\n"
     ]
    }
   ],
   "source": [
    "print(data['eng_text'].head(5))"
   ]
  },
  {
   "cell_type": "code",
   "execution_count": 5,
   "metadata": {},
   "outputs": [
    {
     "name": "stdout",
     "output_type": "stream",
     "text": [
      "0    Building,Classical architecture,Landmark,Archi...\n",
      "Name: string, dtype: object\n"
     ]
    }
   ],
   "source": [
    "print(data['string'].head(1))"
   ]
  },
  {
   "cell_type": "code",
   "execution_count": 6,
   "metadata": {},
   "outputs": [],
   "source": [
    "data['string'] = data['string'].replace(np.nan, '', regex=True)"
   ]
  },
  {
   "cell_type": "code",
   "execution_count": 7,
   "metadata": {},
   "outputs": [],
   "source": [
    "data['string'] = data['string'].apply(str)"
   ]
  },
  {
   "cell_type": "code",
   "execution_count": 8,
   "metadata": {},
   "outputs": [
    {
     "name": "stdout",
     "output_type": "stream",
     "text": [
      "0      Building,Classical architecture,Landmark,Archi...\n",
      "1      Fountain,Reflecting pool,Water,Garden,Botanica...\n",
      "2      Crowd,Community,Competition event,Spring,Event...\n",
      "3      Landmark,Architecture,Building,Classical archi...\n",
      "4      Neighbourhood,Building,City,Town,Human settlem...\n",
      "5      Landmark,Sky,Architecture,Building,City,Town,D...\n",
      "6      Natural landscape,Nature,Vegetation,Bank,River...\n",
      "7      Architecture,Building,Landmark,Medieval archit...\n",
      "8      Property,Estate,House,Building,Home,Architectu...\n",
      "9      Building,Landmark,Architecture,Town,Stately ho...\n",
      "10     Landmark,Building,Estate,Mansion,Architecture,...\n",
      "11     Landmark,Architecture,Palace,Building,Mansion,...\n",
      "12     Building,Property,Landmark,Architecture,Estate...\n",
      "13     Landmark,Architecture,Building,Church,Sky,Stee...\n",
      "14     Property,House,Estate,Natural landscape,Tree,B...\n",
      "15     Landmark,Medieval architecture,Architecture,Bu...\n",
      "16     Estate,Building,Mansion,Palace,Château,Officia...\n",
      "17     Mansion,Estate,Palace,Building,Architecture,Tr...\n",
      "18     Building,Classical architecture,Palace,Archite...\n",
      "19     Building,Landmark,Architecture,Sky,Town,Touris...\n",
      "20     Building,Estate,Property,Château,Stately home,...\n",
      "21     Classical architecture,Landmark,Architecture,B...\n",
      "22     Building,Estate,Property,Landmark,Mansion,Arch...\n",
      "23     Town,Building,Architecture,Human settlement,Ci...\n",
      "24     Pasture,Grassland,Grazing,Sheep,Sheep,Herd,Mea...\n",
      "25     Building,Property,Architecture,Landmark,Classi...\n",
      "26     Property,Estate,Building,Mansion,Palace,Châtea...\n",
      "27                                                      \n",
      "28     Building,Estate,Mansion,Property,Palace,Landma...\n",
      "29     Estate,House,Property,Landmark,Architecture,Sk...\n",
      "                             ...                        \n",
      "311    Landmark,Building,Architecture,Medieval archit...\n",
      "312    Estate,Building,Mansion,Palace,Official reside...\n",
      "313    Building,Château,Estate,Palace,Mansion,Archite...\n",
      "314    Wall,Town,Medieval architecture,Building,Landm...\n",
      "315    Estate,Building,Property,Mansion,Palace,Landma...\n",
      "316    Classical architecture,Building,Landmark,Archi...\n",
      "317    Property,Home,House,Residential area,Building,...\n",
      "318    Water,Boardwalk,Sky,Deck,Tree,Dock,Wood,Walkwa...\n",
      "319    Classical architecture,Landmark,Medieval archi...\n",
      "320    Sky,Natural landscape,Water,Sunset,River,Refle...\n",
      "321    Building,Medieval architecture,Property,Archit...\n",
      "322    Body of water,Water resources,Nature,Natural l...\n",
      "323    Building,Architecture,Facade,Vehicle,City,Car,...\n",
      "324    Landmark,Architecture,Building,Medieval archit...\n",
      "325    Architecture,Landmark,Building,Classical archi...\n",
      "326    Estate,Property,House,Building,Home,Mansion,Ma...\n",
      "327    Road,Sky,Cloud,Highway,Asphalt,Lane,Daytime,Fr...\n",
      "328    Architecture,Building,Medieval architecture,La...\n",
      "329    Classical architecture,Building,Landmark,Archi...\n",
      "330    Landmark,Medieval architecture,Architecture,Bu...\n",
      "331    Medieval architecture,Landmark,Architecture,Bu...\n",
      "332    Lawn,Grass,Grassland,Park,Leisure,Recreation,S...\n",
      "333    Nature,Green,Water,Grass,Natural landscape,Law...\n",
      "334                                                     \n",
      "335    Pasture,Grassland,Bovine,Natural landscape,Nat...\n",
      "336    Team sport,Sky,Grass,Sport venue,Competition e...\n",
      "337    Property,House,Cottage,Home,Thatching,Building...\n",
      "338    Building,Estate,Landmark,Mansion,Palace,Statel...\n",
      "339    Building,Landmark,Town,Property,Architecture,N...\n",
      "340    Sky,Landmark,Architecture,Building,Medieval ar...\n",
      "Name: string, Length: 341, dtype: object\n"
     ]
    }
   ],
   "source": [
    "print(data['string'])"
   ]
  },
  {
   "cell_type": "code",
   "execution_count": 9,
   "metadata": {},
   "outputs": [],
   "source": [
    "text_all = (data['eng_text']).tolist()"
   ]
  },
  {
   "cell_type": "code",
   "execution_count": 10,
   "metadata": {},
   "outputs": [
    {
     "name": "stdout",
     "output_type": "stream",
     "text": [
      "9858\n"
     ]
    }
   ],
   "source": [
    "print(len(text_all))"
   ]
  },
  {
   "cell_type": "code",
   "execution_count": null,
   "metadata": {},
   "outputs": [
    {
     "name": "stderr",
     "output_type": "stream",
     "text": [
      "/Library/Frameworks/Python.framework/Versions/3.6/lib/python3.6/site-packages/sklearn/decomposition/online_lda.py:314: DeprecationWarning: n_topics has been renamed to n_components in version 0.19 and will be removed in 0.21\n",
      "  DeprecationWarning)\n"
     ]
    }
   ],
   "source": [
    "n_max_features=3000\n",
    "n_topics = 10\n",
    "n_top_words = 10\n",
    "\n",
    "tf_vector, tf_vectorizer, tf_feature_names = tf_vctorize(n_max_features, text_all)\n",
    "lda = LDA_analyze(tf_vector, n_topics)"
   ]
  },
  {
   "cell_type": "code",
   "execution_count": null,
   "metadata": {},
   "outputs": [],
   "source": [
    "#tfidf, tfidf_feature_names = tf_idf(n_max_features, text_all)\n",
    "pyLDAvis.enable_notebook()\n",
    "lda_prepared = pyLDAvis.sklearn.prepare(lda, tf_vector, tf_vectorizer)\n",
    "pyLDAvis.show(lda_prepared)"
   ]
  },
  {
   "cell_type": "code",
   "execution_count": null,
   "metadata": {},
   "outputs": [],
   "source": [
    "#print(lda_prepared)"
   ]
  },
  {
   "cell_type": "code",
   "execution_count": 253,
   "metadata": {},
   "outputs": [
    {
     "name": "stdout",
     "output_type": "stream",
     "text": [
      "30\n",
      "0.01\n",
      "{'xlab': 'PC1', 'ylab': 'PC2'}\n",
      "[10, 6, 1, 8, 4, 9, 7, 2, 3, 5]\n"
     ]
    }
   ],
   "source": [
    "N=10\n",
    "for i in lda_prepared[3:]:\n",
    "    #i.shape()\n",
    "    print(i)\n",
    "    N+=1\n",
    "    #i.to_csv(\"output\"+ str(N) +'.csv')"
   ]
  },
  {
   "cell_type": "code",
   "execution_count": 237,
   "metadata": {},
   "outputs": [
    {
     "name": "stdout",
     "output_type": "stream",
     "text": [
      "Topic #0:\n",
      "[279 126 122 258  73 257 174 182  36]\n",
      "Topic #1:\n",
      "[ 30 277 105 210 193 149  52 201 197]\n",
      "Topic #2:\n",
      "[169  76  68  13  52  12 194  16  17]\n",
      "Topic #3:\n",
      "[ 39  80 283  57 205  59 197 111 179]\n",
      "Topic #4:\n",
      "[216 187 262 209  55  19  42 133 129]\n",
      "Topic #5:\n",
      "[279 126 122 258  73 257 174 182  36]\n",
      "Topic #6:\n",
      "[ 30 277 105 210 193 149  52 201 197]\n",
      "Topic #7:\n",
      "[ 57 133 137  42 274  35 197 179  24]\n",
      "Topic #8:\n",
      "[237 163  36 122 241 124 257  10 184]\n",
      "Topic #9:\n",
      "[135  19  24  66 297 163 279  55  58]\n"
     ]
    }
   ],
   "source": [
    "for topic_idx, topic in enumerate(lda.components_):\n",
    "    print(\"Topic #%d:\" % topic_idx)\n",
    "    #print(topic)\n",
    "    print(topic.argsort()[-10:-1])\n",
    "    #print(topic.argsort()[:-n_top_words - 1:-1])\n",
    "    #print(tf_feature_names)\n",
    "    "
   ]
  },
  {
   "cell_type": "code",
   "execution_count": 183,
   "metadata": {},
   "outputs": [
    {
     "name": "stdout",
     "output_type": "stream",
     "text": [
      "['00', '000', '10', '1000', '1080', '1085', '10th', '11', '1100', '1145', '11th', '12', '12th', '14th', '15', '15th', '17th', '19th', '1st', '20', '20th', '30', '3pm', '900', 'able', 'absolute', 'absolutely', 'access', 'accessible', 'according', 'acoustics', 'action', 'activities', 'actually', 'addition', 'adjacent', 'admire', 'admission', 'adults', 'afternoon', 'age', 'ages', 'ago', 'air', 'alike', 'alive', 'allow', 'allowed', 'altar', 'alter', 'amazing', 'amazingly', 'ambience', 'ancient', 'anytime', 'app', 'appreciate', 'april', 'arch', 'architectural', 'architecture', 'area', 'areas', 'array', 'arrived', 'art', 'artifacts', 'ask', 'asked', 'aspects', 'assembled', 'astrological', 'astronomic', 'astronomical', 'atmosphere', 'attached', 'attended', 'attraction', 'attractions', 'attractive', 'august', 'aula', 'austere', 'authentic', 'autumn', 'available', 'away', 'awe', 'awesome', 'baby', 'bar', 'basement', 'basic', 'basis', 'bathrooms', 'beatiful', 'beautiful', 'beautifull', 'beautifully', 'beauty', 'beds', 'believe', 'belonged', 'bench', 'benches', 'best', 'better', 'big', 'bigger', 'biggest', 'bird', 'birds', 'bit', 'blocks', 'bloom', 'blooming', 'blooms', 'boasts', 'book', 'boring', 'born', 'botan', 'botanic', 'botanical', 'break', 'bright', 'bring', 'brought', 'build', 'building', 'buildings', 'built', 'bushes', 'business', 'busy', 'buy', 'caf', 'cafe', 'cafes', 'calculate', 'calendar', 'called', 'calm', 'calming', 'came', 'campus', 'candle', 'candles', 'care', 'cared', 'carved', 'carvings', 'catacombs', 'catch', 'cathedral', 'cathedrals', 'catholic', 'caught', 'celebrate', 'celebrating', 'celebrations', 'cellar', 'center', 'central', 'centre', 'centuries', 'century', 'ceramics', 'certainly', 'chance', 'characters', 'charge', 'charming', 'check', 'child', 'children', 'chimes', 'choir', 'chose', 'christian', 'christianity', 'christmas', 'church', 'churches', 'city', 'classes', 'clean', 'clear', 'climate', 'climates', 'climbing', 'clock', 'close', 'closed', 'closes', 'cobbled', 'coffee', 'cold', 'collected', 'collection', 'color', 'colorful', 'colours', 'come', 'comes', 'compared', 'complete', 'concert', 'concerts', 'conservatory', 'constructed', 'contain', 'contains', 'cool', 'copenhagen', 'corner', 'cost', 'cosy', 'cottages', 'couldn', 'countryside', 'couple', 'couples', 'course', 'creepy', 'crowd', 'crowded', 'crypt', 'crypts', 'cultural', 'culture', 'cup', 'curious', 'cute', 'daily', 'danish', 'dark', 'date', 'dates', 'dating', 'day', 'days', 'decided', 'decorated', 'decoration', 'decorations', 'definitely', 'delightful', 'denmark', 'design', 'designed', 'details', 'detour', 'did', 'didn', 'different', 'disappointed', 'discover', 'display', 'displayed', 'displays', 'distance', 'diverse', 'does', 'doesn', 'doing', 'dominates', 'dominating', 'domkyrkan', 'don', 'door', 'doors', 'downstairs', 'downtown', 'drink', 'drinking', 'drinks', 'ducks', 'dwellings', 'early', 'earth', 'easily', 'east', 'easy', 'eat', 'eating', 'elements', 'end', 'ended', 'english', 'enjoy', 'enjoyable', 'enjoyed', 'enjoying', 'enormous', 'enter', 'entering', 'entire', 'entrance', 'entry', 'environment', 'equipment', 'era', 'especially', 'europe', 'european', 'evening', 'event', 'events', 'everybody', 'example', 'excellent', 'exception', 'exercise', 'exhibit', 'exhibition', 'exhibitions', 'exhibits', 'exotic', 'expect', 'expected', 'expensive', 'experience', 'experiencing', 'explanation', 'explanations', 'explore', 'exploring', 'extensive', 'exterior', 'externally', 'extremely', 'eyes', 'fabulous', 'facing', 'fact', 'facts', 'fairly', 'fall', 'families', 'family', 'famous', 'fantastic', 'far', 'fascinating', 'favorite', 'features', 'fee', 'feed', 'feel', 'feeling', 'feels', 'felt', 'festival', 'figure', 'figures', 'fika', 'filled', 'final', 'fine', 'finest', 'finn', 'floor', 'flower', 'flowers', 'focal', 'follow', 'food', 'forest', 'forget', 'form', 'formal', 'forum', 'founded', 'fountain', 'free', 'friendly', 'friends', 'fully', 'fun', 'furnished', 'furniture', 'gallery', 'garden', 'gardeners', 'gardens', 'gem', 'getting', 'giant', 'given', 'gives', 'giving', 'glass', 'glasshouse', 'glasshouses', 'goes', 'going', 'gone', 'good', 'gorgeous', 'got', 'gothic', 'grand', 'grandchildren', 'grass', 'graves', 'graveyard', 'great', 'green', 'greenery', 'greenhouse', 'greenhouses', 'grounds', 'group', 'groups', 'grown', 'guide', 'guided', 'gym', 'half', 'hall', 'hand', 'hang', 'hanging', 'happen', 'happened', 'hard', 'having', 'head', 'hear', 'heart', 'help', 'helps', 'high', 'highlight', 'highlights', 'highly', 'historic', 'historical', 'historically', 'history', 'holding', 'home', 'homes', 'horologium', 'hosts', 'hot', 'hothouses', 'hour', 'hours', 'house', 'houses', 'huge', 'husband', 'idea', 'ideal', 'important', 'imposing', 'impressed', 'impressive', 'included', 'includes', 'including', 'incredible', 'indoor', 'indoors', 'info', 'information', 'informative', 'inside', 'insight', 'inspiring', 'interactive', 'interested', 'interesting', 'interior', 'intriguing', 'introduction', 'inviting', 'isn', 'items', 'joined', 'journey', 'joy', 'joyful', 'june', 'just', 'kept', 'kids', 'kind', 'kinds', 'knights', 'know', 'kulturen', 'lady', 'laid', 'lake', 'landmark', 'large', 'late', 'lawns', 'leaflet', 'learn', 'learning', 'leave', 'left', 'legend', 'let', 'level', 'life', 'light', 'like', 'liked', 'listen', 'little', 'live', 'lived', 'living', 'll', 'loads', 'local', 'locals', 'located', 'location', 'long', 'look', 'looked', 'looking', 'looks', 'lot', 'lots', 'love', 'loved', 'lovely', 'lower', 'lucky', 'lunch', 'lunches', 'lund', 'lundag', 'lundense', 'lunds', 'lush', 'lutheran', 'magical', 'magnificent', 'main', 'maintained', 'majestic', 'major', 'make', 'makes', 'malm', 'malmo', 'managed', 'mary', 'mass', 'massive', 'masterpiece', 'matter', 'maybe', 'medieval', 'meet', 'meeting', 'men', 'meter', 'mid', 'midday', 'middle', 'mighty', 'mind', 'minutes', 'miss', 'missed', 'mixture', 'model', 'modern', 'moment', 'mon', 'money', 'months', 'monument', 'moon', 'morning', 'mornings', 'moved', 'moving', 'museum', 'museums', 'music', 'musical', 'natural', 'nature', 'ne', 'near', 'nearby', 'need', 'new', 'nice', 'night', 'noon', 'nordic', 'north', 'northern', 'note', 'notice', 'number', 'oasis', 'object', 'objects', 'october', 'offer', 'offers', 'office', 'old', 'older', 'oldest', 'ones', 'open', 'orchids', 'organ', 'organized', 'original', 'ornate', 'outdoor', 'outdoors', 'outside', 'outstanding', 'overall', 'painted', 'park', 'particular', 'particularly', 'partly', 'parts', 'party', 'passed', 'passing', 'past', 'pastor', 'paths', 'pay', 'peace', 'peaceful', 'pedestrian', 'people', 'perfect', 'perfectly', 'period', 'periods', 'permanent', 'person', 'photograph', 'photos', 'pick', 'picknick', 'picnic', 'picnics', 'picture', 'piece', 'pillar', 'pillars', 'place', 'places', 'plain', 'plant', 'plants', 'play', 'playground', 'playing', 'plays', 'pleasant', 'pleasure', 'plenty', 'plus', 'pm', 'point', 'pond', 'poor', 'pop', 'pope', 'popular', 'possible', 'power', 'prague', 'present', 'presentation', 'preserved', 'pretty', 'price', 'prices', 'probably', 'procession', 'provided', 'provides', 'public', 'purposes', 'quail', 'quails', 'quick', 'quiet', 'quirky', 'quite', 'rain', 'rainy', 'range', 'rare', 'rd', 'read', 'reading', 'real', 'really', 'reason', 'rebuilt', 'recently', 'recommend', 'recommended', 'region', 'regular', 'relatively', 'relax', 'relaxed', 'relaxing', 'religious', 'remains', 'remember', 'represented', 'research', 'rest', 'restaurant', 'restaurants', 'restored', 'rich', 'right', 'roam', 'rock', 'role', 'roman', 'romanesque', 'roof', 'room', 'rooms', 'round', 'run', 'running', 'sadly', 'said', 'sandstone', 'sat', 'saturday', 'saw', 'say', 'says', 'scandinavia', 'scandinavian', 'scania', 'scenery', 'school', 'season', 'seat', 'seating', 'seats', 'second', 'sections', 'seeing', 'seen', 'selection', 'sense', 'september', 'serenity', 'served', 'serves', 'service', 'services', 'set', 'setting', 'shop', 'shops', 'short', 'shouldn', 'showing', 'shows', 'shrubs', 'sight', 'sights', 'signs', 'silence', 'similar', 'simple', 'simply', 'singing', 'sit', 'site', 'sites', 'sitting', 'situated', 'size', 'sk', 'skane', 'skansen', 'slightly', 'small', 'smaller', 'smells', 'snacks', 'solo', 'somewhat', 'son', 'sorts', 'sound', 'south', 'southern', 'space', 'spacious', 'special', 'specially', 'species', 'spectacular', 'spend', 'spending', 'spent', 'spiritual', 'spot', 'spread', 'spring', 'square', 'stadsparken', 'staff', 'stalls', 'standing', 'stands', 'start', 'started', 'starting', 'starts', 'station', 'statue', 'stay', 'stayed', 'staying', 'stocked', 'stockholm', 'stone', 'stones', 'stop', 'stopped', 'stops', 'stories', 'story', 'strange', 'street', 'streets', 'strike', 'striking', 'stroll', 'strolling', 'structure', 'student', 'students', 'study', 'stuff', 'stunning', 'style', 'summer', 'sun', 'sunday', 'sunny', 'super', 'sure', 'surprised', 'surrounded', 'surrounding', 'surroundings', 'sweden', 'swedes', 'swedish', 'sweet', 'taken', 'taking', 'tale', 'talk', 'tea', 'tell', 'temperature', 'temporary', 'text', 'thing', 'things', 'think', 'thought', 'thousand', 'thousands', 'till', 'time', 'times', 'timing', 'tiny', 'today', 'told', 'tombs', 'took', 'totally', 'touching', 'tour', 'tourist', 'tourists', 'tours', 'towers', 'town', 'traditional', 'train', 'tranquility', 'travel', 'traveling', 'treat', 'tree', 'trees', 'trip', 'tropical', 'true', 'truly', 'try', 'trying', 'twice', 'type', 'types', 'typical', 'underground', 'understand', 'understanding', 'unexpected', 'unfortunately', 'unique', 'university', 'unlike', 'unusual', 'use', 'used', 'usually', 'varieties', 'variety', 'various', 've', 'view', 'vikings', 'village', 'visit', 'visited', 'visiting', 'visitor', 'visitors', 'visually', 'wait', 'walk', 'walked', 'walking', 'wall', 'wander', 'wandering', 'want', 'warm', 'warmth', 'wasn', 'watch', 'watching', 'way', 'ways', 'weather', 'week', 'welcome', 'welcoming', 'went', 'white', 'wich', 'wide', 'wife', 'wild', 'windows', 'wine', 'winter', 'wish', 'witness', 'woman', 'wonder', 'wonderful', 'wood', 'wooden', 'word', 'work', 'working', 'works', 'world', 'worth', 'wow', 'year', 'years', 'yes', 'young', 'youngsters', 'zones']\n"
     ]
    }
   ],
   "source": [
    "print(tf_feature_names)"
   ]
  },
  {
   "cell_type": "code",
   "execution_count": 239,
   "metadata": {},
   "outputs": [
    {
     "name": "stdout",
     "output_type": "stream",
     "text": [
      "Topic #0:\n",
      "lund buildings old museum sweden different swedish history houses visit time place interesting kulturen day trip really cathedral people outside went house exhibits times life culture small visited lived exhibitions\n",
      "Topic #1:\n",
      "kids place playground children liked peaceful really fun various bit enjoyed exhibits denmark great area going especially love caf outdoor old set fantastic perfect took season beauty summer amazing way\n",
      "Topic #2:\n",
      "exhibition art areas people april children architectural dating early medieval religious noon different lund day crypt visited huge beautiful visit nice center church old fascinating cathedral interesting museum small century\n",
      "Topic #3:\n",
      "park nice good place close pond city walk enjoy cafe recommended people lund children little birds relax students coffee located miss day town outdoor play weather stadsparken look easily sunny\n",
      "Topic #4:\n",
      "clock impressive inside cathedral astronomical church read time outside religious giant town basement visit walking want small early recommend learn sun large quite little took loved built main attraction highly\n",
      "Topic #5:\n",
      "lund buildings old museum sweden different swedish history houses visit time place interesting kulturen day trip really cathedral people outside went house exhibits times life culture small visited lived exhibitions\n",
      "Topic #6:\n",
      "kids place playground children liked peaceful really fun various bit enjoyed exhibits denmark great area going especially love caf outdoor old set fantastic perfect took season beauty summer amazing way\n",
      "Topic #7:\n",
      "lund beautiful nice place building university cathedral just inside city year day recommend quiet famous spring walk town walking main great look center want garden students area like time huge\n",
      "Topic #8:\n",
      "museum open air sweden hours spent history buildings lund southern people houses enjoyed great building kulturen city entrance exhibitions culture really way showing walking fantastic interested nice swedish friendly visiting\n",
      "Topic #9:\n",
      "cathedral clock church visit lund worth crypt beautiful astronomical interesting inside history old impressive time giant miss amazing don free tour architecture visiting finn english building century town sweden visited\n",
      "\n"
     ]
    }
   ],
   "source": [
    "def print_top_words(model, feature_names, n_top_words):\n",
    "    for topic_idx, topic in enumerate(model.components_):\n",
    "        print(\"Topic #%d:\" % topic_idx)\n",
    "        print(\" \".join([feature_names[i]\n",
    "                        for i in topic.argsort()[:-30 - 1:-1]]))\n",
    "    print()\n",
    "print_top_words(lda, tf_feature_names, n_top_words)"
   ]
  },
  {
   "cell_type": "code",
   "execution_count": null,
   "metadata": {},
   "outputs": [],
   "source": []
  },
  {
   "cell_type": "code",
   "execution_count": null,
   "metadata": {},
   "outputs": [],
   "source": []
  }
 ],
 "metadata": {
  "kernelspec": {
   "display_name": "Python 3",
   "language": "python",
   "name": "python3"
  },
  "language_info": {
   "codemirror_mode": {
    "name": "ipython",
    "version": 3
   },
   "file_extension": ".py",
   "mimetype": "text/x-python",
   "name": "python",
   "nbconvert_exporter": "python",
   "pygments_lexer": "ipython3",
   "version": "3.6.6"
  }
 },
 "nbformat": 4,
 "nbformat_minor": 2
}
